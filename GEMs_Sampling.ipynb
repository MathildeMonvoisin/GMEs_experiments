{
  "nbformat": 4,
  "nbformat_minor": 0,
  "metadata": {
    "colab": {
      "name": "GEMs-Sampling.ipynb",
      "version": "0.3.2",
      "provenance": [],
      "collapsed_sections": [],
      "include_colab_link": true
    },
    "kernelspec": {
      "display_name": "Python 3",
      "language": "python",
      "name": "python3"
    }
  },
  "cells": [
    {
      "cell_type": "markdown",
      "metadata": {
        "id": "view-in-github",
        "colab_type": "text"
      },
      "source": [
        "<a href=\"https://colab.research.google.com/github/mok33/GMEs_experiments/blob/master/GEMs_Sampling.ipynb\" target=\"_parent\"><img src=\"https://colab.research.google.com/assets/colab-badge.svg\" alt=\"Open In Colab\"/></a>"
      ]
    },
    {
      "metadata": {
        "id": "jDDW1t3fXES9",
        "colab_type": "code",
        "colab": {}
      },
      "cell_type": "code",
      "source": [
        "import numpy as np\n",
        "import pandas as pd\n",
        "import matplotlib.pyplot as plt"
      ],
      "execution_count": 0,
      "outputs": []
    },
    {
      "metadata": {
        "id": "QZ8cl4a5XETI",
        "colab_type": "text"
      },
      "cell_type": "markdown",
      "source": [
        "## sampling TGEMs"
      ]
    },
    {
      "metadata": {
        "id": "7nR_2NNLXETL",
        "colab_type": "text"
      },
      "cell_type": "markdown",
      "source": [
        "![alt text](https://i.imgur.com/Q6qUYlf.png)"
      ]
    },
    {
      "metadata": {
        "id": "ZxYL5X2gXETN",
        "colab_type": "text"
      },
      "cell_type": "markdown",
      "source": [
        "On suppose que les evenements ont lieu dans l'interval W = [0, 100]"
      ]
    },
    {
      "metadata": {
        "id": "UKzY4hZcXETQ",
        "colab_type": "code",
        "colab": {}
      },
      "cell_type": "code",
      "source": [
        "W_min, W_max = 0, 100\n",
        "win_len = W_max - W_min"
      ],
      "execution_count": 0,
      "outputs": []
    },
    {
      "metadata": {
        "id": "naTo7wzgXETa",
        "colab_type": "text"
      },
      "cell_type": "markdown",
      "source": [
        "### (A)"
      ]
    },
    {
      "metadata": {
        "id": "NRyt5m50XETc",
        "colab_type": "text"
      },
      "cell_type": "markdown",
      "source": [
        "### description du model "
      ]
    },
    {
      "metadata": {
        "id": "dEClDhBFqakm",
        "colab_type": "text"
      },
      "cell_type": "markdown",
      "source": [
        "$\n",
        "nodes = A \\\\\n",
        "edges = \\emptyset \\\\\n",
        "timescales = \\emptyset \\\\\n",
        "\\lambda_{A}(t \\mid h) = 1/10 \\\\\n",
        "$\n"
      ]
    },
    {
      "metadata": {
        "id": "5F60AVNkXETs",
        "colab_type": "code",
        "colab": {}
      },
      "cell_type": "code",
      "source": [
        "lambda_A = 1/10"
      ],
      "execution_count": 0,
      "outputs": []
    },
    {
      "metadata": {
        "id": "vQsfztKmXETw",
        "colab_type": "text"
      },
      "cell_type": "markdown",
      "source": [
        "lambda_A (rate function) est constant, le noeud A n'a pas de parent, ceci revient donc à échentillonner (?) un processus de Poisson homogene."
      ]
    },
    {
      "metadata": {
        "id": "pnHkW6TkXETy",
        "colab_type": "text"
      },
      "cell_type": "markdown",
      "source": [
        "### Sampling"
      ]
    },
    {
      "metadata": {
        "id": "21BBIjqZXET3",
        "colab_type": "code",
        "colab": {}
      },
      "cell_type": "code",
      "source": [
        "#étape 1: nombre de réalistion de l'évenement A attendu est:\n",
        "espA = lambda_A * (win_len)\n",
        "#étape 2: placement des aléatoire des points de A \n",
        "A_t = np.random.uniform(low=W_min, high=W_max, size=int(espA))\n",
        "#tri\n",
        "A_t = np.sort(A_t)"
      ],
      "execution_count": 0,
      "outputs": []
    },
    {
      "metadata": {
        "id": "qx8eOt3EMFMU",
        "colab_type": "code",
        "colab": {
          "base_uri": "https://localhost:8080/",
          "height": 211
        },
        "outputId": "8cdd4edd-022e-4dc5-c6a9-1703e2ef9af9"
      },
      "cell_type": "code",
      "source": [
        "plt.figure(num=None, figsize=(20, 3))\n",
        "plt.bar(A_t, height=2, width=.1, color='orange')\n",
        "plt.legend('A')\n",
        "plt.xlim(0,100)\n",
        "plt.show()"
      ],
      "execution_count": 464,
      "outputs": [
        {
          "output_type": "display_data",
          "data": {
            "image/png": "[encoded data removed]",
            "text/plain": [
              "<matplotlib.figure.Figure at 0x7f566aa66240>"
            ]
          },
          "metadata": {
            "tags": []
          }
        }
      ]
    },
    {
      "metadata": {
        "id": "Pz32gYzdXET9",
        "colab_type": "text"
      },
      "cell_type": "markdown",
      "source": [
        "### Calcul de vraisemblence"
      ]
    },
    {
      "metadata": {
        "id": "aPAkpGboXEW8",
        "colab_type": "code",
        "colab": {}
      },
      "cell_type": "code",
      "source": [
        "def get_count_duration_df(data, lambda_col='lambda_t', time_col='index'):\n",
        "    lambda_vals = data[lambda_col].unique()\n",
        "    lambda_count_duration_df = pd.DataFrame(data={'lambda_l_t': lambda_vals,\\\n",
        "                                              'count': [0] * len(lambda_vals),\\\n",
        "                                              'duration': [0] * len(lambda_vals)\n",
        "                                             }\n",
        "                                       )\n",
        "    lambda_count_duration_df['duration'] = lambda_count_duration_df['lambda_l_t'].apply(lambda lm: (((data[lambda_col] == lm) * 1.0) * (data[time_col] - data[time_col].shift().fillna(0))).sum())\n",
        "    lambda_count_duration_df['count'] = lambda_count_duration_df['lambda_l_t'].apply(lambda lm: (data[lambda_col] == lm).sum())\n",
        "    \n",
        "    return lambda_count_duration_df"
      ],
      "execution_count": 0,
      "outputs": []
    },
    {
      "metadata": {
        "id": "6HQpKmXiXEXB",
        "colab_type": "code",
        "colab": {}
      },
      "cell_type": "code",
      "source": [
        "def compute_likelihood(count_duration_df, duration_as_time=True):\n",
        "    if duration_as_time:\n",
        "      count_duration_df['duration'] = count_duration_df['duration'].dt.total_seconds()\n",
        "    return ((count_duration_df['lambda_l_t'] ** count_duration_df['count']) * \n",
        "            np.exp(-count_duration_df['lambda_l_t'] * count_duration_df['duration'])).prod()"
      ],
      "execution_count": 0,
      "outputs": []
    },
    {
      "metadata": {
        "id": "GvW2RkefXET-",
        "colab_type": "code",
        "colab": {}
      },
      "cell_type": "code",
      "source": [
        "samplde_data_model_A = pd.DataFrame(data={'time': A_t, 'lambda_A_t': [lambda_A] * len(A_t)})"
      ],
      "execution_count": 0,
      "outputs": []
    },
    {
      "metadata": {
        "id": "wIKscgWgXEUC",
        "colab_type": "code",
        "colab": {}
      },
      "cell_type": "code",
      "source": [
        "model_A_count_drt_df = get_count_duration_df(samplde_data_model_A, 'lambda_A_t', 'time')"
      ],
      "execution_count": 0,
      "outputs": []
    },
    {
      "metadata": {
        "scrolled": true,
        "id": "A2jpR9RFXEUG",
        "colab_type": "code",
        "outputId": "5246a90c-1e54-4806-8d62-a2b5f6d52e68",
        "colab": {
          "base_uri": "https://localhost:8080/",
          "height": 80
        }
      },
      "cell_type": "code",
      "source": [
        "model_A_count_drt_df"
      ],
      "execution_count": 422,
      "outputs": [
        {
          "output_type": "execute_result",
          "data": {
            "text/html": [
              "<div>\n",
              "<style scoped>\n",
              "    .dataframe tbody tr th:only-of-type {\n",
              "        vertical-align: middle;\n",
              "    }\n",
              "\n",
              "    .dataframe tbody tr th {\n",
              "        vertical-align: top;\n",
              "    }\n",
              "\n",
              "    .dataframe thead th {\n",
              "        text-align: right;\n",
              "    }\n",
              "</style>\n",
              "<table border=\"1\" class=\"dataframe\">\n",
              "  <thead>\n",
              "    <tr style=\"text-align: right;\">\n",
              "      <th></th>\n",
              "      <th>count</th>\n",
              "      <th>duration</th>\n",
              "      <th>lambda_l_t</th>\n",
              "    </tr>\n",
              "  </thead>\n",
              "  <tbody>\n",
              "    <tr>\n",
              "      <th>0</th>\n",
              "      <td>10</td>\n",
              "      <td>93.635142</td>\n",
              "      <td>0.1</td>\n",
              "    </tr>\n",
              "  </tbody>\n",
              "</table>\n",
              "</div>"
            ],
            "text/plain": [
              "   count   duration  lambda_l_t\n",
              "0     10  93.635142         0.1"
            ]
          },
          "metadata": {
            "tags": []
          },
          "execution_count": 422
        }
      ]
    },
    {
      "metadata": {
        "id": "yP7lf0r6MvTf",
        "colab_type": "code",
        "colab": {
          "base_uri": "https://localhost:8080/",
          "height": 34
        },
        "outputId": "3005743d-715f-47f8-dffd-82c39237650d"
      },
      "cell_type": "code",
      "source": [
        "A_t[-1] - 0 #(duration)"
      ],
      "execution_count": 437,
      "outputs": [
        {
          "output_type": "execute_result",
          "data": {
            "text/plain": [
              "93.63514197964356"
            ]
          },
          "metadata": {
            "tags": []
          },
          "execution_count": 437
        }
      ]
    },
    {
      "metadata": {
        "id": "Rg9Q7ag_QaNT",
        "colab_type": "text"
      },
      "cell_type": "markdown",
      "source": [
        "$\n",
        "\\begin{align}\n",
        "p(x_{t^{*}} \\mid t^{*}) = \\prod_{l \\in \\mathcal{L}} \\prod_{j \\in \\mathcal{C_{l}}} \\\n",
        "\\lambda_{l,j}^{n_{t^{*}, l, j}(x_{t^{*}})}e^{-\\lambda_{l,j}d_{t^{*},l,j}(x_{t^{*}})}\n",
        "\\end{align}\n",
        "$"
      ]
    },
    {
      "metadata": {
        "id": "5FpQyDVlXEUZ",
        "colab_type": "code",
        "colab": {}
      },
      "cell_type": "code",
      "source": [
        "#likelihood, model 1 y u do dis to me :( fffffffffffffffffffffuuuuuuuuuuuuuuuu\n",
        "compute_likelihood(model_A_count_drt_df)*"
      ],
      "execution_count": 0,
      "outputs": []
    },
    {
      "metadata": {
        "id": "-u14KMXPXEUd",
        "colab_type": "text"
      },
      "cell_type": "markdown",
      "source": [
        "### (A) -> (B)"
      ]
    },
    {
      "metadata": {
        "id": "Np-FljIKq0R6",
        "colab_type": "text"
      },
      "cell_type": "markdown",
      "source": [
        "$\n",
        "nodes = A, B \\\\\n",
        "edges = (A, B) \\\\\n",
        "timescales = T_{A \\rightarrow B} = {(0,5],(5, 20]} \\\\\n",
        "\\lambda_{A}(t \\mid h) = 2.5 \\\\\n",
        "\\lambda_{B \\mid 00}(t \\mid h) = 0.003 \\\\\n",
        "\\lambda_{B \\mid 01}(t \\mid h) = 5 \\\\\n",
        "\\lambda_{B \\mid 10}(t \\mid h) = 2 \\\\\n",
        "\\lambda_{B \\mid 11}(t \\mid h) = 5 \\\\\n",
        "$"
      ]
    },
    {
      "metadata": {
        "id": "3WhYDjvBXEUo",
        "colab_type": "code",
        "colab": {}
      },
      "cell_type": "code",
      "source": [
        "lambda_A = 2.5\n",
        "lambda_B = {\n",
        "            (0,0): 0.003, \\\n",
        "            (0,1): 1.6, \\\n",
        "            (1,0): 3, \\\n",
        "            (1,1) : 1\n",
        "            }\n",
        "timescales_parent_B = [[0,5], [5, 20]]"
      ],
      "execution_count": 0,
      "outputs": []
    },
    {
      "metadata": {
        "id": "xTjpYzGoXEUs",
        "colab_type": "text"
      },
      "cell_type": "markdown",
      "source": [
        "### Sampling"
      ]
    },
    {
      "metadata": {
        "id": "0Ii7I000XEUu",
        "colab_type": "code",
        "colab": {}
      },
      "cell_type": "code",
      "source": [
        "#on commence par A"
      ],
      "execution_count": 0,
      "outputs": []
    },
    {
      "metadata": {
        "id": "dMZZTGBmXEUx",
        "colab_type": "code",
        "colab": {}
      },
      "cell_type": "code",
      "source": [
        "#étape 1: nombre de réalistion de l'évenement A attendu est:\n",
        "espA = lambda_A * (win_len)\n",
        "#étape 2: placement des aléatoire des points de A \n",
        "A_t = np.random.uniform(low=W_min, high=W_max, size=int(espA))\n",
        "#tri\n",
        "A_t = np.sort(A_t)"
      ],
      "execution_count": 0,
      "outputs": []
    },
    {
      "metadata": {
        "id": "VxvSPNAcXEU2",
        "colab_type": "code",
        "outputId": "e81fb76b-7783-4a2f-e79b-745ec2946c6a",
        "colab": {
          "base_uri": "https://localhost:8080/",
          "height": 211
        }
      },
      "cell_type": "code",
      "source": [
        "plt.figure(num=None, figsize=(20, 3))\n",
        "plt.bar(A_t, height=2, width=0.1, color='orange')\n",
        "plt.legend('A')\n",
        "plt.xlim(0,100)\n",
        "plt.show()"
      ],
      "execution_count": 472,
      "outputs": [
        {
          "output_type": "display_data",
          "data": {
            "image/png": "[encoded data removed]",
            "text/plain": [
              "<matplotlib.figure.Figure at 0x7f56674b6b70>"
            ]
          },
          "metadata": {
            "tags": []
          }
        }
      ]
    },
    {
      "metadata": {
        "id": "RgdpwiTfXEXv",
        "colab_type": "code",
        "colab": {}
      },
      "cell_type": "code",
      "source": [
        "def get_parent_count_vector(t, parent_time_serie, timescales):\n",
        "    count_vect = np.repeat(repeats=len(timescales), a=0)\n",
        "    for i, (a, b) in enumerate(timescales):\n",
        "        count_vect[i] = ((parent_time_serie >= t - b) & (parent_time_serie < t - a)).sum()\n",
        "    count_vect = (count_vect >= 1) * 1\n",
        "    return tuple(count_vect)"
      ],
      "execution_count": 0,
      "outputs": []
    },
    {
      "metadata": {
        "id": "xwbloQbis1ON",
        "colab_type": "code",
        "colab": {}
      },
      "cell_type": "code",
      "source": [
        "lambda_b_t = [(t,lambda_B[get_parent_count_vector(t, A_t, timescales_parent_B)]) for t in np.append(np.array([W_min]), A_t)]\n",
        "lambda_b_t_df = pd.DataFrame(data=lambda_b_t).rename(columns={0: 'time', 1: 'lambda_t'})"
      ],
      "execution_count": 0,
      "outputs": []
    },
    {
      "metadata": {
        "id": "ZZf0AEjvzf4I",
        "colab_type": "code",
        "colab": {}
      },
      "cell_type": "code",
      "source": [
        "lambda_b_t_df['time_range'] = (lambda_b_t_df != lambda_b_t_df.shift(1))['lambda_t'].cumsum()\n",
        "lambda_b_t_df = lambda_b_t_df.groupby(['lambda_t', 'time_range'])['time'].agg(['min'])['min'].reset_index().sort_values('min')"
      ],
      "execution_count": 0,
      "outputs": []
    },
    {
      "metadata": {
        "id": "vtubvv7V3RGv",
        "colab_type": "code",
        "colab": {}
      },
      "cell_type": "code",
      "source": [
        "lambda_b_t_df['time_change'] = lambda_b_t_df['min'].shift(-1).fillna(W_max)"
      ],
      "execution_count": 0,
      "outputs": []
    },
    {
      "metadata": {
        "id": "C5klLdLD4T_3",
        "colab_type": "code",
        "colab": {
          "base_uri": "https://localhost:8080/",
          "height": 142
        },
        "outputId": "11cd1120-e226-4c0d-e650-74bbc72ceea5"
      },
      "cell_type": "code",
      "source": [
        "lambda_b_t_df"
      ],
      "execution_count": 477,
      "outputs": [
        {
          "output_type": "execute_result",
          "data": {
            "text/html": [
              "<div>\n",
              "<style scoped>\n",
              "    .dataframe tbody tr th:only-of-type {\n",
              "        vertical-align: middle;\n",
              "    }\n",
              "\n",
              "    .dataframe tbody tr th {\n",
              "        vertical-align: top;\n",
              "    }\n",
              "\n",
              "    .dataframe thead th {\n",
              "        text-align: right;\n",
              "    }\n",
              "</style>\n",
              "<table border=\"1\" class=\"dataframe\">\n",
              "  <thead>\n",
              "    <tr style=\"text-align: right;\">\n",
              "      <th></th>\n",
              "      <th>lambda_t</th>\n",
              "      <th>time_range</th>\n",
              "      <th>min</th>\n",
              "      <th>time_change</th>\n",
              "    </tr>\n",
              "  </thead>\n",
              "  <tbody>\n",
              "    <tr>\n",
              "      <th>0</th>\n",
              "      <td>0.003</td>\n",
              "      <td>1</td>\n",
              "      <td>0.000000</td>\n",
              "      <td>1.068477</td>\n",
              "    </tr>\n",
              "    <tr>\n",
              "      <th>2</th>\n",
              "      <td>3.000</td>\n",
              "      <td>2</td>\n",
              "      <td>1.068477</td>\n",
              "      <td>5.707514</td>\n",
              "    </tr>\n",
              "    <tr>\n",
              "      <th>1</th>\n",
              "      <td>1.000</td>\n",
              "      <td>3</td>\n",
              "      <td>5.707514</td>\n",
              "      <td>100.000000</td>\n",
              "    </tr>\n",
              "  </tbody>\n",
              "</table>\n",
              "</div>"
            ],
            "text/plain": [
              "   lambda_t  time_range       min  time_change\n",
              "0     0.003           1  0.000000     1.068477\n",
              "2     3.000           2  1.068477     5.707514\n",
              "1     1.000           3  5.707514   100.000000"
            ]
          },
          "metadata": {
            "tags": []
          },
          "execution_count": 477
        }
      ]
    },
    {
      "metadata": {
        "scrolled": true,
        "id": "3l0T6MNQXEWH",
        "colab_type": "code",
        "colab": {}
      },
      "cell_type": "code",
      "source": [
        "t = W_min\n",
        "B_t = np.array([])\n",
        "lambda_b_t = np.array([])\n",
        "\n",
        "row_n = 0\n",
        "\n",
        "while t < W_max:\n",
        "    t_lambda_change = lambda_b_t_df.iloc[row_n]['time_change']\n",
        "    lambda_B_t = lambda_b_t_df.iloc[row_n]['lambda_t']\n",
        "    \n",
        "    y = np.random.uniform()\n",
        "    waiting_time = -np.log(1-y) / lambda_B_t\n",
        "    \n",
        "    if t + waiting_time < t_lambda_change: \n",
        "        t += waiting_time\n",
        "        B_t = np.append(B_t, t)\n",
        "        lambda_b_t = np.append(lambda_b_t, lambda_B_t)\n",
        "    else:\n",
        "        t = t_lambda_change\n",
        "        row_n += 1"
      ],
      "execution_count": 0,
      "outputs": []
    },
    {
      "metadata": {
        "scrolled": false,
        "id": "hzmwGARbXEWK",
        "colab_type": "code",
        "colab": {}
      },
      "cell_type": "code",
      "source": [
        "A_t = pd.to_timedelta(A_t, unit='s')\n",
        "B_t = pd.to_timedelta(B_t, unit='s')\n",
        "\n",
        "time = A_t.append(B_t)\n",
        "sampled_data = pd.DataFrame(index=time, data={'event': ['B'] * len(time)})\n",
        "sampled_data.loc[A_t] = 'A'\n",
        "sampled_data.sort_index(inplace=True)"
      ],
      "execution_count": 0,
      "outputs": []
    },
    {
      "metadata": {
        "scrolled": true,
        "id": "BjcTWxYYXEWP",
        "colab_type": "code",
        "outputId": "66a91c42-7d5a-4075-e831-8fa16f6062a4",
        "colab": {
          "base_uri": "https://localhost:8080/",
          "height": 1969
        }
      },
      "cell_type": "code",
      "source": [
        "sampled_data"
      ],
      "execution_count": 480,
      "outputs": [
        {
          "output_type": "execute_result",
          "data": {
            "text/html": [
              "<div>\n",
              "<style scoped>\n",
              "    .dataframe tbody tr th:only-of-type {\n",
              "        vertical-align: middle;\n",
              "    }\n",
              "\n",
              "    .dataframe tbody tr th {\n",
              "        vertical-align: top;\n",
              "    }\n",
              "\n",
              "    .dataframe thead th {\n",
              "        text-align: right;\n",
              "    }\n",
              "</style>\n",
              "<table border=\"1\" class=\"dataframe\">\n",
              "  <thead>\n",
              "    <tr style=\"text-align: right;\">\n",
              "      <th></th>\n",
              "      <th>event</th>\n",
              "    </tr>\n",
              "  </thead>\n",
              "  <tbody>\n",
              "    <tr>\n",
              "      <th>00:00:00.487732</th>\n",
              "      <td>A</td>\n",
              "    </tr>\n",
              "    <tr>\n",
              "      <th>00:00:01.068477</th>\n",
              "      <td>A</td>\n",
              "    </tr>\n",
              "    <tr>\n",
              "      <th>00:00:01.448578</th>\n",
              "      <td>B</td>\n",
              "    </tr>\n",
              "    <tr>\n",
              "      <th>00:00:01.622503</th>\n",
              "      <td>A</td>\n",
              "    </tr>\n",
              "    <tr>\n",
              "      <th>00:00:01.759334</th>\n",
              "      <td>A</td>\n",
              "    </tr>\n",
              "    <tr>\n",
              "      <th>00:00:01.767516</th>\n",
              "      <td>B</td>\n",
              "    </tr>\n",
              "    <tr>\n",
              "      <th>00:00:01.774908</th>\n",
              "      <td>A</td>\n",
              "    </tr>\n",
              "    <tr>\n",
              "      <th>00:00:01.923477</th>\n",
              "      <td>B</td>\n",
              "    </tr>\n",
              "    <tr>\n",
              "      <th>00:00:02.119441</th>\n",
              "      <td>B</td>\n",
              "    </tr>\n",
              "    <tr>\n",
              "      <th>00:00:02.234684</th>\n",
              "      <td>A</td>\n",
              "    </tr>\n",
              "    <tr>\n",
              "      <th>00:00:02.292165</th>\n",
              "      <td>A</td>\n",
              "    </tr>\n",
              "    <tr>\n",
              "      <th>00:00:02.453504</th>\n",
              "      <td>B</td>\n",
              "    </tr>\n",
              "    <tr>\n",
              "      <th>00:00:02.844571</th>\n",
              "      <td>A</td>\n",
              "    </tr>\n",
              "    <tr>\n",
              "      <th>00:00:02.855319</th>\n",
              "      <td>A</td>\n",
              "    </tr>\n",
              "    <tr>\n",
              "      <th>00:00:02.903780</th>\n",
              "      <td>A</td>\n",
              "    </tr>\n",
              "    <tr>\n",
              "      <th>00:00:02.961458</th>\n",
              "      <td>A</td>\n",
              "    </tr>\n",
              "    <tr>\n",
              "      <th>00:00:03.192506</th>\n",
              "      <td>B</td>\n",
              "    </tr>\n",
              "    <tr>\n",
              "      <th>00:00:03.543830</th>\n",
              "      <td>A</td>\n",
              "    </tr>\n",
              "    <tr>\n",
              "      <th>00:00:03.568079</th>\n",
              "      <td>A</td>\n",
              "    </tr>\n",
              "    <tr>\n",
              "      <th>00:00:03.939655</th>\n",
              "      <td>B</td>\n",
              "    </tr>\n",
              "    <tr>\n",
              "      <th>00:00:04.071986</th>\n",
              "      <td>A</td>\n",
              "    </tr>\n",
              "    <tr>\n",
              "      <th>00:00:04.317249</th>\n",
              "      <td>B</td>\n",
              "    </tr>\n",
              "    <tr>\n",
              "      <th>00:00:04.421973</th>\n",
              "      <td>A</td>\n",
              "    </tr>\n",
              "    <tr>\n",
              "      <th>00:00:04.433135</th>\n",
              "      <td>A</td>\n",
              "    </tr>\n",
              "    <tr>\n",
              "      <th>00:00:04.580995</th>\n",
              "      <td>B</td>\n",
              "    </tr>\n",
              "    <tr>\n",
              "      <th>00:00:04.667742</th>\n",
              "      <td>A</td>\n",
              "    </tr>\n",
              "    <tr>\n",
              "      <th>00:00:04.677485</th>\n",
              "      <td>A</td>\n",
              "    </tr>\n",
              "    <tr>\n",
              "      <th>00:00:04.784583</th>\n",
              "      <td>A</td>\n",
              "    </tr>\n",
              "    <tr>\n",
              "      <th>00:00:04.814273</th>\n",
              "      <td>B</td>\n",
              "    </tr>\n",
              "    <tr>\n",
              "      <th>00:00:05.078299</th>\n",
              "      <td>B</td>\n",
              "    </tr>\n",
              "    <tr>\n",
              "      <th>...</th>\n",
              "      <td>...</td>\n",
              "    </tr>\n",
              "    <tr>\n",
              "      <th>00:01:32.063697</th>\n",
              "      <td>A</td>\n",
              "    </tr>\n",
              "    <tr>\n",
              "      <th>00:01:32.792315</th>\n",
              "      <td>B</td>\n",
              "    </tr>\n",
              "    <tr>\n",
              "      <th>00:01:32.890158</th>\n",
              "      <td>A</td>\n",
              "    </tr>\n",
              "    <tr>\n",
              "      <th>00:01:33.189952</th>\n",
              "      <td>A</td>\n",
              "    </tr>\n",
              "    <tr>\n",
              "      <th>00:01:33.331142</th>\n",
              "      <td>A</td>\n",
              "    </tr>\n",
              "    <tr>\n",
              "      <th>00:01:33.960316</th>\n",
              "      <td>A</td>\n",
              "    </tr>\n",
              "    <tr>\n",
              "      <th>00:01:34.069321</th>\n",
              "      <td>A</td>\n",
              "    </tr>\n",
              "    <tr>\n",
              "      <th>00:01:34.098302</th>\n",
              "      <td>B</td>\n",
              "    </tr>\n",
              "    <tr>\n",
              "      <th>00:01:34.465997</th>\n",
              "      <td>A</td>\n",
              "    </tr>\n",
              "    <tr>\n",
              "      <th>00:01:34.860995</th>\n",
              "      <td>B</td>\n",
              "    </tr>\n",
              "    <tr>\n",
              "      <th>00:01:34.917335</th>\n",
              "      <td>A</td>\n",
              "    </tr>\n",
              "    <tr>\n",
              "      <th>00:01:35.023134</th>\n",
              "      <td>A</td>\n",
              "    </tr>\n",
              "    <tr>\n",
              "      <th>00:01:35.239773</th>\n",
              "      <td>A</td>\n",
              "    </tr>\n",
              "    <tr>\n",
              "      <th>00:01:35.712601</th>\n",
              "      <td>A</td>\n",
              "    </tr>\n",
              "    <tr>\n",
              "      <th>00:01:35.764875</th>\n",
              "      <td>B</td>\n",
              "    </tr>\n",
              "    <tr>\n",
              "      <th>00:01:35.903688</th>\n",
              "      <td>B</td>\n",
              "    </tr>\n",
              "    <tr>\n",
              "      <th>00:01:35.908967</th>\n",
              "      <td>A</td>\n",
              "    </tr>\n",
              "    <tr>\n",
              "      <th>00:01:36.001890</th>\n",
              "      <td>A</td>\n",
              "    </tr>\n",
              "    <tr>\n",
              "      <th>00:01:36.602245</th>\n",
              "      <td>A</td>\n",
              "    </tr>\n",
              "    <tr>\n",
              "      <th>00:01:37.021639</th>\n",
              "      <td>B</td>\n",
              "    </tr>\n",
              "    <tr>\n",
              "      <th>00:01:37.726510</th>\n",
              "      <td>A</td>\n",
              "    </tr>\n",
              "    <tr>\n",
              "      <th>00:01:37.780735</th>\n",
              "      <td>A</td>\n",
              "    </tr>\n",
              "    <tr>\n",
              "      <th>00:01:37.914724</th>\n",
              "      <td>B</td>\n",
              "    </tr>\n",
              "    <tr>\n",
              "      <th>00:01:38.584681</th>\n",
              "      <td>A</td>\n",
              "    </tr>\n",
              "    <tr>\n",
              "      <th>00:01:38.865013</th>\n",
              "      <td>A</td>\n",
              "    </tr>\n",
              "    <tr>\n",
              "      <th>00:01:39.425243</th>\n",
              "      <td>B</td>\n",
              "    </tr>\n",
              "    <tr>\n",
              "      <th>00:01:39.640645</th>\n",
              "      <td>A</td>\n",
              "    </tr>\n",
              "    <tr>\n",
              "      <th>00:01:39.675815</th>\n",
              "      <td>A</td>\n",
              "    </tr>\n",
              "    <tr>\n",
              "      <th>00:01:39.953321</th>\n",
              "      <td>A</td>\n",
              "    </tr>\n",
              "    <tr>\n",
              "      <th>00:01:39.973306</th>\n",
              "      <td>A</td>\n",
              "    </tr>\n",
              "  </tbody>\n",
              "</table>\n",
              "<p>351 rows × 1 columns</p>\n",
              "</div>"
            ],
            "text/plain": [
              "                event\n",
              "00:00:00.487732     A\n",
              "00:00:01.068477     A\n",
              "00:00:01.448578     B\n",
              "00:00:01.622503     A\n",
              "00:00:01.759334     A\n",
              "00:00:01.767516     B\n",
              "00:00:01.774908     A\n",
              "00:00:01.923477     B\n",
              "00:00:02.119441     B\n",
              "00:00:02.234684     A\n",
              "00:00:02.292165     A\n",
              "00:00:02.453504     B\n",
              "00:00:02.844571     A\n",
              "00:00:02.855319     A\n",
              "00:00:02.903780     A\n",
              "00:00:02.961458     A\n",
              "00:00:03.192506     B\n",
              "00:00:03.543830     A\n",
              "00:00:03.568079     A\n",
              "00:00:03.939655     B\n",
              "00:00:04.071986     A\n",
              "00:00:04.317249     B\n",
              "00:00:04.421973     A\n",
              "00:00:04.433135     A\n",
              "00:00:04.580995     B\n",
              "00:00:04.667742     A\n",
              "00:00:04.677485     A\n",
              "00:00:04.784583     A\n",
              "00:00:04.814273     B\n",
              "00:00:05.078299     B\n",
              "...               ...\n",
              "00:01:32.063697     A\n",
              "00:01:32.792315     B\n",
              "00:01:32.890158     A\n",
              "00:01:33.189952     A\n",
              "00:01:33.331142     A\n",
              "00:01:33.960316     A\n",
              "00:01:34.069321     A\n",
              "00:01:34.098302     B\n",
              "00:01:34.465997     A\n",
              "00:01:34.860995     B\n",
              "00:01:34.917335     A\n",
              "00:01:35.023134     A\n",
              "00:01:35.239773     A\n",
              "00:01:35.712601     A\n",
              "00:01:35.764875     B\n",
              "00:01:35.903688     B\n",
              "00:01:35.908967     A\n",
              "00:01:36.001890     A\n",
              "00:01:36.602245     A\n",
              "00:01:37.021639     B\n",
              "00:01:37.726510     A\n",
              "00:01:37.780735     A\n",
              "00:01:37.914724     B\n",
              "00:01:38.584681     A\n",
              "00:01:38.865013     A\n",
              "00:01:39.425243     B\n",
              "00:01:39.640645     A\n",
              "00:01:39.675815     A\n",
              "00:01:39.953321     A\n",
              "00:01:39.973306     A\n",
              "\n",
              "[351 rows x 1 columns]"
            ]
          },
          "metadata": {
            "tags": []
          },
          "execution_count": 480
        }
      ]
    },
    {
      "metadata": {
        "scrolled": true,
        "id": "DaXMVRmqXEWT",
        "colab_type": "code",
        "outputId": "2ca4877d-8ee0-4776-8f19-489ada528687",
        "colab": {
          "base_uri": "https://localhost:8080/",
          "height": 320
        }
      },
      "cell_type": "code",
      "source": [
        "plt.figure(num=None, figsize=(20, 5))\n",
        "\n",
        "plt.subplot(2, 1, 1)\n",
        "plt.bar(A_t.total_seconds(), height=2, width=0.1, color='orange')\n",
        "plt.legend('A')\n",
        "plt.xlim(0,100)\n",
        "\n",
        "plt.subplot(2, 1, 2)\n",
        "plt.bar(B_t.total_seconds(), height=2, width=0.1, color='blue')\n",
        "plt.legend('B')\n",
        "plt.xlim(0,100)\n",
        "\n",
        "plt.show()"
      ],
      "execution_count": 483,
      "outputs": [
        {
          "output_type": "display_data",
          "data": {
            "image/png": "[encoded data removed]",
            "text/plain": [
              "<matplotlib.figure.Figure at 0x7f56679f2be0>"
            ]
          },
          "metadata": {
            "tags": []
          }
        }
      ]
    },
    {
      "metadata": {
        "id": "z29FfESsXEWY",
        "colab_type": "text"
      },
      "cell_type": "markdown",
      "source": [
        "## calcul de vraisemblence"
      ]
    },
    {
      "metadata": {
        "id": "UG-w4JpL5I3_",
        "colab_type": "text"
      },
      "cell_type": "markdown",
      "source": [
        "$\n",
        "\\begin{align}\n",
        "p(x_{t^{*}} \\mid t^{*}) = \\prod_{l \\in \\mathcal{L}} \\prod_{j \\in \\mathcal{C_{l}}} \\\n",
        "\\lambda_{l,j}^{n_{t^{*}, l, j}(x_{t^{*}})}e^{-\\lambda_{l,j}d_{t^{*},l,j}(x_{t^{*}})}\n",
        "\\end{align}\n",
        "$"
      ]
    },
    {
      "metadata": {
        "id": "rpFAqmToXEWu",
        "colab_type": "code",
        "colab": {}
      },
      "cell_type": "code",
      "source": [
        "sampled_data['lambda_t'] = lambda_A\n",
        "sampled_data.loc[sampled_data['event'] == 'B', 'lambda_t'] = lambda_b_t\n",
        "sampled_data.reset_index(inplace=True)"
      ],
      "execution_count": 0,
      "outputs": []
    },
    {
      "metadata": {
        "scrolled": false,
        "id": "NQoWf2ZaXEXL",
        "colab_type": "code",
        "outputId": "568a92ed-877d-483a-a9c1-f2ea6679c068",
        "colab": {
          "base_uri": "https://localhost:8080/",
          "height": 51
        }
      },
      "cell_type": "code",
      "source": [
        "%time lambda_count_duration_df = get_count_duration_df(sampled_data)"
      ],
      "execution_count": 485,
      "outputs": [
        {
          "output_type": "stream",
          "text": [
            "CPU times: user 15.4 ms, sys: 1.06 ms, total: 16.4 ms\n",
            "Wall time: 18.9 ms\n"
          ],
          "name": "stdout"
        }
      ]
    },
    {
      "metadata": {
        "id": "1tKshIQp5rZx",
        "colab_type": "code",
        "colab": {
          "base_uri": "https://localhost:8080/",
          "height": 142
        },
        "outputId": "63c50438-6c9f-425a-d809-747017a13aa6"
      },
      "cell_type": "code",
      "source": [
        "lambda_count_duration_df"
      ],
      "execution_count": 486,
      "outputs": [
        {
          "output_type": "execute_result",
          "data": {
            "text/html": [
              "<div>\n",
              "<style scoped>\n",
              "    .dataframe tbody tr th:only-of-type {\n",
              "        vertical-align: middle;\n",
              "    }\n",
              "\n",
              "    .dataframe tbody tr th {\n",
              "        vertical-align: top;\n",
              "    }\n",
              "\n",
              "    .dataframe thead th {\n",
              "        text-align: right;\n",
              "    }\n",
              "</style>\n",
              "<table border=\"1\" class=\"dataframe\">\n",
              "  <thead>\n",
              "    <tr style=\"text-align: right;\">\n",
              "      <th></th>\n",
              "      <th>count</th>\n",
              "      <th>duration</th>\n",
              "      <th>lambda_l_t</th>\n",
              "    </tr>\n",
              "  </thead>\n",
              "  <tbody>\n",
              "    <tr>\n",
              "      <th>0</th>\n",
              "      <td>250</td>\n",
              "      <td>00:01:16.342947</td>\n",
              "      <td>2.5</td>\n",
              "    </tr>\n",
              "    <tr>\n",
              "      <th>1</th>\n",
              "      <td>11</td>\n",
              "      <td>00:00:02.183618</td>\n",
              "      <td>3.0</td>\n",
              "    </tr>\n",
              "    <tr>\n",
              "      <th>2</th>\n",
              "      <td>90</td>\n",
              "      <td>00:00:21.446740</td>\n",
              "      <td>1.0</td>\n",
              "    </tr>\n",
              "  </tbody>\n",
              "</table>\n",
              "</div>"
            ],
            "text/plain": [
              "   count        duration  lambda_l_t\n",
              "0    250 00:01:16.342947         2.5\n",
              "1     11 00:00:02.183618         3.0\n",
              "2     90 00:00:21.446740         1.0"
            ]
          },
          "metadata": {
            "tags": []
          },
          "execution_count": 486
        }
      ]
    },
    {
      "metadata": {
        "id": "MZOeuM5-XEXQ",
        "colab_type": "code",
        "outputId": "578cb164-3f2b-403b-b049-760c84798034",
        "colab": {
          "base_uri": "https://localhost:8080/",
          "height": 34
        }
      },
      "cell_type": "code",
      "source": [
        "#likelihood, model 2 y u do dis to me :( fffffffffffffffffffffuuuuuuuuuuuuuuuu\n",
        "compute_likelihood(lambda_count_duration_df)"
      ],
      "execution_count": 487,
      "outputs": [
        {
          "output_type": "execute_result",
          "data": {
            "text/plain": [
              "4851016683.48349"
            ]
          },
          "metadata": {
            "tags": []
          },
          "execution_count": 487
        }
      ]
    },
    {
      "metadata": {
        "id": "5P7Fap4wXEXV",
        "colab_type": "text"
      },
      "cell_type": "markdown",
      "source": [
        "## (A) - > (B) -> (A)"
      ]
    },
    {
      "metadata": {
        "id": "xZinEHWM6hj8",
        "colab_type": "text"
      },
      "cell_type": "markdown",
      "source": [
        "$\n",
        "\\begin{align}\n",
        "nodes: A, B \\\\\n",
        "edges: (A, B), (B, A) \\\\\n",
        "timescales: T_{A \\rightarrow B} = {(0,5],(6, 13], (30,45]}, T_{B \\rightarrow A} = {(0,3],(5, 13]}\\\\\n",
        "\\lambda_{A \\mid 00}(t \\mid h) = 2.5 \\\\\n",
        "\\lambda_{A \\mid 01}(t \\mid h) = 4 \\\\\n",
        "\\lambda_{A \\mid 11}(t \\mid h) = 0.1 \\\\\n",
        "\\lambda_{A \\mid 10}(t \\mid h) = 0.01 \\\\\n",
        "\\lambda_{B \\mid 000}(t \\mid h) = 0.3 \\\\\n",
        "\\lambda_{B \\mid 001}(t \\mid h) = 5 \\\\\n",
        "\\lambda_{B \\mid 010}(t \\mid h) = 3 \\\\\n",
        "\\lambda_{B \\mid 100}(t \\mid h) = 1.1 \\\\\n",
        "\\lambda_{B \\mid 011}(t \\mid h) = 4.3 \\\\\n",
        "\\lambda_{B \\mid 110}(t \\mid h) = 3 \\\\\n",
        "\\lambda_{B \\mid 101}(t \\mid h) = 1 \\\\\n",
        "\\lambda_{B \\mid 111}(t \\mid h) = 2 \\\\\n",
        "\\end{align}\n",
        "$"
      ]
    },
    {
      "metadata": {
        "id": "u4zZ3SO9XEXd",
        "colab_type": "code",
        "colab": {}
      },
      "cell_type": "code",
      "source": [
        "T_A_pa = [[0,3], [5,6]]\n",
        "T_B_pa = [[0,0.5], [4,4.8], [20,2.7]]"
      ],
      "execution_count": 0,
      "outputs": []
    },
    {
      "metadata": {
        "id": "yn0j4dEeXEXl",
        "colab_type": "code",
        "colab": {}
      },
      "cell_type": "code",
      "source": [
        "lambda_A = {\n",
        "            (0,0): 2.5, \\\n",
        "            (0,1): 4, \\\n",
        "            (1,0): 0.01, \\\n",
        "            (1,1) : 0.1\n",
        "            }\n",
        "lambda_B = {\n",
        "            (0,0,0): 1/6, \\\n",
        "            (0,0,1): 2/6, \\\n",
        "            (0,1,0): 4/6, \\\n",
        "            (1,0,0) : 1, \\\n",
        "            (0,1,1): 1/2, \\\n",
        "            (1,1,0): 2/3, \\\n",
        "            (1,0,1): 3/6, \\\n",
        "            (1,1,1): 1\n",
        "            }"
      ],
      "execution_count": 0,
      "outputs": []
    },
    {
      "metadata": {
        "id": "Lkf74Oc-XEXn",
        "colab_type": "code",
        "colab": {}
      },
      "cell_type": "code",
      "source": [
        "t_until_change_lambda_A = np.random.uniform(W_max, size=np.random.randint(len(lambda_A) * 2) + 1)\n",
        "t_until_change_lambda_A = (np.cumsum(t_until_change_lambda_A) / np.sum(t_until_change_lambda_A)) * 100"
      ],
      "execution_count": 0,
      "outputs": []
    },
    {
      "metadata": {
        "id": "4LtAxzcpXEXr",
        "colab_type": "code",
        "colab": {}
      },
      "cell_type": "code",
      "source": [
        "t_until_change_lambda_B = np.random.uniform(W_max, size=np.random.randint(len(lambda_B) * 2) + 1)\n",
        "t_until_change_lambda_B = (np.cumsum(t_until_change_lambda_B) / np.sum(t_until_change_lambda_B)) * 100"
      ],
      "execution_count": 0,
      "outputs": []
    },
    {
      "metadata": {
        "id": "xGXCCu7SXEX2",
        "colab_type": "code",
        "colab": {}
      },
      "cell_type": "code",
      "source": [
        "time_serie = {\n",
        "              'A_t':  np.array([]), \\\n",
        "              'B_t': np.array([])\n",
        "             }\n",
        "t = W_min\n",
        "lambda_t = np.array([])\n",
        "while t < W_max:\n",
        "    pcv_A = get_parent_count_vector(t, time_serie['A_t'], T_A_pa)\n",
        "    pcv_B = get_parent_count_vector(t, time_serie['B_t'], T_B_pa)\n",
        "    \n",
        "    lambda_t_i = [lambda_A[pcv_A], lambda_B[pcv_B]]\n",
        "    \n",
        "    Y = np.random.uniform(size=2)\n",
        "    taus = -np.log(1-Y) / lambda_t_i\n",
        "    \n",
        "    lambda_unchanged_t = (t_until_change_lambda_A[t_until_change_lambda_A >= t][0], \\\n",
        "                         t_until_change_lambda_B[t_until_change_lambda_B >= t][0])\n",
        "    \n",
        "    min_tau_i = taus.argmin()\n",
        "    if t + taus[min_tau_i] < lambda_unchanged_t[min_tau_i]:\n",
        "        lambda_t = np.append(lambda_t, lambda_t_i[min_tau_i])\n",
        "        t += taus[min_tau_i]\n",
        "        \n",
        "        event_name = list(time_serie.keys())[min_tau_i]\n",
        "        time_serie[event_name] = np.append(time_serie[event_name], t)\n",
        "    else:\n",
        "        t = lambda_unchanged_t[min_tau_i]"
      ],
      "execution_count": 0,
      "outputs": []
    },
    {
      "metadata": {
        "id": "fuf_nvu_XEX4",
        "colab_type": "code",
        "outputId": "59cee076-1a4a-4ff3-c082-71cf27d9d73c",
        "colab": {
          "base_uri": "https://localhost:8080/",
          "height": 320
        }
      },
      "cell_type": "code",
      "source": [
        "plt.figure(num=None, figsize=(20, 5))\n",
        "plt.subplot(2, 1, 1)\n",
        "plt.bar(time_serie['A_t'], height=2, width=0.1, color='orange')\n",
        "plt.legend('A')\n",
        "plt.xlim(0,100)\n",
        "\n",
        "plt.subplot(2, 1, 2)\n",
        "plt.bar(time_serie['B_t'], height=2, width=0.1, color='blue')\n",
        "plt.legend('B')\n",
        "plt.xlim(0,100)\n",
        "\n",
        "plt.show()"
      ],
      "execution_count": 495,
      "outputs": [
        {
          "output_type": "display_data",
          "data": {
            "image/png": "[encoded data removed]",
            "text/plain": [
              "<matplotlib.figure.Figure at 0x7f566770b748>"
            ]
          },
          "metadata": {
            "tags": []
          }
        }
      ]
    },
    {
      "metadata": {
        "id": "FdR7D_PiXEX8",
        "colab_type": "code",
        "colab": {}
      },
      "cell_type": "code",
      "source": [
        "sampled_data_model_cycle = pd.DataFrame(index=np.append(time_serie['A_t'], time_serie['B_t']))"
      ],
      "execution_count": 0,
      "outputs": []
    },
    {
      "metadata": {
        "id": "ZmDhq-07XEX_",
        "colab_type": "code",
        "colab": {}
      },
      "cell_type": "code",
      "source": [
        "sampled_data_model_cycle.loc[time_serie['A_t'], 'event'] = 'A'\n",
        "sampled_data_model_cycle.loc[time_serie['B_t'], 'event'] = 'B'"
      ],
      "execution_count": 0,
      "outputs": []
    },
    {
      "metadata": {
        "id": "F2hIcKkIXEYB",
        "colab_type": "code",
        "colab": {}
      },
      "cell_type": "code",
      "source": [
        "sampled_data_model_cycle.sort_index(inplace=True)"
      ],
      "execution_count": 0,
      "outputs": []
    },
    {
      "metadata": {
        "scrolled": true,
        "id": "j9B6JoE5XEYG",
        "colab_type": "code",
        "colab": {}
      },
      "cell_type": "code",
      "source": [
        "sampled_data_model_cycle['lambda_t'] = lambda_t"
      ],
      "execution_count": 0,
      "outputs": []
    },
    {
      "metadata": {
        "scrolled": true,
        "id": "mmxHKYU4XEYJ",
        "colab_type": "code",
        "outputId": "c85e85ec-1104-433d-e982-87740a2f60a3",
        "colab": {
          "base_uri": "https://localhost:8080/",
          "height": 1969
        }
      },
      "cell_type": "code",
      "source": [
        "sampled_data_model_cycle"
      ],
      "execution_count": 500,
      "outputs": [
        {
          "output_type": "execute_result",
          "data": {
            "text/html": [
              "<div>\n",
              "<style scoped>\n",
              "    .dataframe tbody tr th:only-of-type {\n",
              "        vertical-align: middle;\n",
              "    }\n",
              "\n",
              "    .dataframe tbody tr th {\n",
              "        vertical-align: top;\n",
              "    }\n",
              "\n",
              "    .dataframe thead th {\n",
              "        text-align: right;\n",
              "    }\n",
              "</style>\n",
              "<table border=\"1\" class=\"dataframe\">\n",
              "  <thead>\n",
              "    <tr style=\"text-align: right;\">\n",
              "      <th></th>\n",
              "      <th>event</th>\n",
              "      <th>lambda_t</th>\n",
              "    </tr>\n",
              "  </thead>\n",
              "  <tbody>\n",
              "    <tr>\n",
              "      <th>0.042708</th>\n",
              "      <td>A</td>\n",
              "      <td>2.500000</td>\n",
              "    </tr>\n",
              "    <tr>\n",
              "      <th>0.062664</th>\n",
              "      <td>A</td>\n",
              "      <td>2.500000</td>\n",
              "    </tr>\n",
              "    <tr>\n",
              "      <th>3.790887</th>\n",
              "      <td>B</td>\n",
              "      <td>0.166667</td>\n",
              "    </tr>\n",
              "    <tr>\n",
              "      <th>4.357622</th>\n",
              "      <td>A</td>\n",
              "      <td>2.500000</td>\n",
              "    </tr>\n",
              "    <tr>\n",
              "      <th>4.855193</th>\n",
              "      <td>A</td>\n",
              "      <td>2.500000</td>\n",
              "    </tr>\n",
              "    <tr>\n",
              "      <th>6.063530</th>\n",
              "      <td>A</td>\n",
              "      <td>0.010000</td>\n",
              "    </tr>\n",
              "    <tr>\n",
              "      <th>12.070523</th>\n",
              "      <td>B</td>\n",
              "      <td>0.166667</td>\n",
              "    </tr>\n",
              "    <tr>\n",
              "      <th>12.088941</th>\n",
              "      <td>A</td>\n",
              "      <td>2.500000</td>\n",
              "    </tr>\n",
              "    <tr>\n",
              "      <th>12.294050</th>\n",
              "      <td>A</td>\n",
              "      <td>2.500000</td>\n",
              "    </tr>\n",
              "    <tr>\n",
              "      <th>12.499111</th>\n",
              "      <td>B</td>\n",
              "      <td>1.000000</td>\n",
              "    </tr>\n",
              "    <tr>\n",
              "      <th>13.454211</th>\n",
              "      <td>B</td>\n",
              "      <td>1.000000</td>\n",
              "    </tr>\n",
              "    <tr>\n",
              "      <th>20.963441</th>\n",
              "      <td>A</td>\n",
              "      <td>2.500000</td>\n",
              "    </tr>\n",
              "    <tr>\n",
              "      <th>21.120777</th>\n",
              "      <td>A</td>\n",
              "      <td>2.500000</td>\n",
              "    </tr>\n",
              "    <tr>\n",
              "      <th>27.469020</th>\n",
              "      <td>B</td>\n",
              "      <td>0.166667</td>\n",
              "    </tr>\n",
              "    <tr>\n",
              "      <th>28.363166</th>\n",
              "      <td>A</td>\n",
              "      <td>2.500000</td>\n",
              "    </tr>\n",
              "    <tr>\n",
              "      <th>28.425177</th>\n",
              "      <td>A</td>\n",
              "      <td>2.500000</td>\n",
              "    </tr>\n",
              "    <tr>\n",
              "      <th>32.099221</th>\n",
              "      <td>B</td>\n",
              "      <td>0.166667</td>\n",
              "    </tr>\n",
              "    <tr>\n",
              "      <th>32.101478</th>\n",
              "      <td>A</td>\n",
              "      <td>2.500000</td>\n",
              "    </tr>\n",
              "    <tr>\n",
              "      <th>32.711657</th>\n",
              "      <td>A</td>\n",
              "      <td>2.500000</td>\n",
              "    </tr>\n",
              "    <tr>\n",
              "      <th>33.033110</th>\n",
              "      <td>B</td>\n",
              "      <td>0.166667</td>\n",
              "    </tr>\n",
              "    <tr>\n",
              "      <th>33.252927</th>\n",
              "      <td>B</td>\n",
              "      <td>0.166667</td>\n",
              "    </tr>\n",
              "    <tr>\n",
              "      <th>33.724034</th>\n",
              "      <td>B</td>\n",
              "      <td>1.000000</td>\n",
              "    </tr>\n",
              "    <tr>\n",
              "      <th>34.131929</th>\n",
              "      <td>B</td>\n",
              "      <td>1.000000</td>\n",
              "    </tr>\n",
              "    <tr>\n",
              "      <th>34.254806</th>\n",
              "      <td>B</td>\n",
              "      <td>1.000000</td>\n",
              "    </tr>\n",
              "    <tr>\n",
              "      <th>34.507920</th>\n",
              "      <td>B</td>\n",
              "      <td>1.000000</td>\n",
              "    </tr>\n",
              "    <tr>\n",
              "      <th>35.947418</th>\n",
              "      <td>B</td>\n",
              "      <td>1.000000</td>\n",
              "    </tr>\n",
              "    <tr>\n",
              "      <th>36.269728</th>\n",
              "      <td>A</td>\n",
              "      <td>2.500000</td>\n",
              "    </tr>\n",
              "    <tr>\n",
              "      <th>36.350331</th>\n",
              "      <td>A</td>\n",
              "      <td>2.500000</td>\n",
              "    </tr>\n",
              "    <tr>\n",
              "      <th>38.750889</th>\n",
              "      <td>B</td>\n",
              "      <td>0.666667</td>\n",
              "    </tr>\n",
              "    <tr>\n",
              "      <th>39.758395</th>\n",
              "      <td>B</td>\n",
              "      <td>0.666667</td>\n",
              "    </tr>\n",
              "    <tr>\n",
              "      <th>...</th>\n",
              "      <td>...</td>\n",
              "      <td>...</td>\n",
              "    </tr>\n",
              "    <tr>\n",
              "      <th>44.755556</th>\n",
              "      <td>A</td>\n",
              "      <td>0.010000</td>\n",
              "    </tr>\n",
              "    <tr>\n",
              "      <th>45.282685</th>\n",
              "      <td>A</td>\n",
              "      <td>2.500000</td>\n",
              "    </tr>\n",
              "    <tr>\n",
              "      <th>46.435437</th>\n",
              "      <td>B</td>\n",
              "      <td>0.666667</td>\n",
              "    </tr>\n",
              "    <tr>\n",
              "      <th>47.867558</th>\n",
              "      <td>B</td>\n",
              "      <td>0.666667</td>\n",
              "    </tr>\n",
              "    <tr>\n",
              "      <th>50.488112</th>\n",
              "      <td>B</td>\n",
              "      <td>0.166667</td>\n",
              "    </tr>\n",
              "    <tr>\n",
              "      <th>50.644564</th>\n",
              "      <td>A</td>\n",
              "      <td>4.000000</td>\n",
              "    </tr>\n",
              "    <tr>\n",
              "      <th>51.027151</th>\n",
              "      <td>A</td>\n",
              "      <td>4.000000</td>\n",
              "    </tr>\n",
              "    <tr>\n",
              "      <th>51.696997</th>\n",
              "      <td>A</td>\n",
              "      <td>0.100000</td>\n",
              "    </tr>\n",
              "    <tr>\n",
              "      <th>56.182884</th>\n",
              "      <td>A</td>\n",
              "      <td>4.000000</td>\n",
              "    </tr>\n",
              "    <tr>\n",
              "      <th>56.481282</th>\n",
              "      <td>A</td>\n",
              "      <td>4.000000</td>\n",
              "    </tr>\n",
              "    <tr>\n",
              "      <th>56.773289</th>\n",
              "      <td>B</td>\n",
              "      <td>0.166667</td>\n",
              "    </tr>\n",
              "    <tr>\n",
              "      <th>61.233787</th>\n",
              "      <td>B</td>\n",
              "      <td>0.166667</td>\n",
              "    </tr>\n",
              "    <tr>\n",
              "      <th>61.900448</th>\n",
              "      <td>A</td>\n",
              "      <td>4.000000</td>\n",
              "    </tr>\n",
              "    <tr>\n",
              "      <th>61.921164</th>\n",
              "      <td>A</td>\n",
              "      <td>4.000000</td>\n",
              "    </tr>\n",
              "    <tr>\n",
              "      <th>68.141046</th>\n",
              "      <td>B</td>\n",
              "      <td>0.166667</td>\n",
              "    </tr>\n",
              "    <tr>\n",
              "      <th>68.171979</th>\n",
              "      <td>B</td>\n",
              "      <td>0.166667</td>\n",
              "    </tr>\n",
              "    <tr>\n",
              "      <th>68.187346</th>\n",
              "      <td>A</td>\n",
              "      <td>2.500000</td>\n",
              "    </tr>\n",
              "    <tr>\n",
              "      <th>68.360773</th>\n",
              "      <td>B</td>\n",
              "      <td>1.000000</td>\n",
              "    </tr>\n",
              "    <tr>\n",
              "      <th>68.633929</th>\n",
              "      <td>B</td>\n",
              "      <td>1.000000</td>\n",
              "    </tr>\n",
              "    <tr>\n",
              "      <th>71.439138</th>\n",
              "      <td>B</td>\n",
              "      <td>1.000000</td>\n",
              "    </tr>\n",
              "    <tr>\n",
              "      <th>71.788988</th>\n",
              "      <td>A</td>\n",
              "      <td>2.500000</td>\n",
              "    </tr>\n",
              "    <tr>\n",
              "      <th>71.804775</th>\n",
              "      <td>A</td>\n",
              "      <td>2.500000</td>\n",
              "    </tr>\n",
              "    <tr>\n",
              "      <th>74.205485</th>\n",
              "      <td>B</td>\n",
              "      <td>1.000000</td>\n",
              "    </tr>\n",
              "    <tr>\n",
              "      <th>77.683788</th>\n",
              "      <td>A</td>\n",
              "      <td>4.000000</td>\n",
              "    </tr>\n",
              "    <tr>\n",
              "      <th>78.030659</th>\n",
              "      <td>A</td>\n",
              "      <td>4.000000</td>\n",
              "    </tr>\n",
              "    <tr>\n",
              "      <th>79.051661</th>\n",
              "      <td>B</td>\n",
              "      <td>0.166667</td>\n",
              "    </tr>\n",
              "    <tr>\n",
              "      <th>84.944689</th>\n",
              "      <td>B</td>\n",
              "      <td>0.166667</td>\n",
              "    </tr>\n",
              "    <tr>\n",
              "      <th>85.212639</th>\n",
              "      <td>A</td>\n",
              "      <td>2.500000</td>\n",
              "    </tr>\n",
              "    <tr>\n",
              "      <th>85.565363</th>\n",
              "      <td>B</td>\n",
              "      <td>1.000000</td>\n",
              "    </tr>\n",
              "    <tr>\n",
              "      <th>86.516861</th>\n",
              "      <td>B</td>\n",
              "      <td>0.166667</td>\n",
              "    </tr>\n",
              "  </tbody>\n",
              "</table>\n",
              "<p>67 rows × 2 columns</p>\n",
              "</div>"
            ],
            "text/plain": [
              "          event  lambda_t\n",
              "0.042708      A  2.500000\n",
              "0.062664      A  2.500000\n",
              "3.790887      B  0.166667\n",
              "4.357622      A  2.500000\n",
              "4.855193      A  2.500000\n",
              "6.063530      A  0.010000\n",
              "12.070523     B  0.166667\n",
              "12.088941     A  2.500000\n",
              "12.294050     A  2.500000\n",
              "12.499111     B  1.000000\n",
              "13.454211     B  1.000000\n",
              "20.963441     A  2.500000\n",
              "21.120777     A  2.500000\n",
              "27.469020     B  0.166667\n",
              "28.363166     A  2.500000\n",
              "28.425177     A  2.500000\n",
              "32.099221     B  0.166667\n",
              "32.101478     A  2.500000\n",
              "32.711657     A  2.500000\n",
              "33.033110     B  0.166667\n",
              "33.252927     B  0.166667\n",
              "33.724034     B  1.000000\n",
              "34.131929     B  1.000000\n",
              "34.254806     B  1.000000\n",
              "34.507920     B  1.000000\n",
              "35.947418     B  1.000000\n",
              "36.269728     A  2.500000\n",
              "36.350331     A  2.500000\n",
              "38.750889     B  0.666667\n",
              "39.758395     B  0.666667\n",
              "...         ...       ...\n",
              "44.755556     A  0.010000\n",
              "45.282685     A  2.500000\n",
              "46.435437     B  0.666667\n",
              "47.867558     B  0.666667\n",
              "50.488112     B  0.166667\n",
              "50.644564     A  4.000000\n",
              "51.027151     A  4.000000\n",
              "51.696997     A  0.100000\n",
              "56.182884     A  4.000000\n",
              "56.481282     A  4.000000\n",
              "56.773289     B  0.166667\n",
              "61.233787     B  0.166667\n",
              "61.900448     A  4.000000\n",
              "61.921164     A  4.000000\n",
              "68.141046     B  0.166667\n",
              "68.171979     B  0.166667\n",
              "68.187346     A  2.500000\n",
              "68.360773     B  1.000000\n",
              "68.633929     B  1.000000\n",
              "71.439138     B  1.000000\n",
              "71.788988     A  2.500000\n",
              "71.804775     A  2.500000\n",
              "74.205485     B  1.000000\n",
              "77.683788     A  4.000000\n",
              "78.030659     A  4.000000\n",
              "79.051661     B  0.166667\n",
              "84.944689     B  0.166667\n",
              "85.212639     A  2.500000\n",
              "85.565363     B  1.000000\n",
              "86.516861     B  0.166667\n",
              "\n",
              "[67 rows x 2 columns]"
            ]
          },
          "metadata": {
            "tags": []
          },
          "execution_count": 500
        }
      ]
    },
    {
      "metadata": {
        "scrolled": false,
        "id": "6QTBjfYuXEYQ",
        "colab_type": "code",
        "outputId": "7db6ea0f-9625-4345-dd36-6a12da17e785",
        "colab": {
          "base_uri": "https://localhost:8080/",
          "height": 51
        }
      },
      "cell_type": "code",
      "source": [
        "%time lambda_count_duration_df = get_count_duration_df(sampled_data_model_cycle.reset_index())"
      ],
      "execution_count": 501,
      "outputs": [
        {
          "output_type": "stream",
          "text": [
            "CPU times: user 15.1 ms, sys: 981 µs, total: 16.1 ms\n",
            "Wall time: 16.7 ms\n"
          ],
          "name": "stdout"
        }
      ]
    },
    {
      "metadata": {
        "id": "Ya9SMjZmXEYS",
        "colab_type": "code",
        "outputId": "7412136c-3760-4b66-db05-f4beb31d29f5",
        "colab": {
          "base_uri": "https://localhost:8080/",
          "height": 266
        }
      },
      "cell_type": "code",
      "source": [
        "lambda_count_duration_df"
      ],
      "execution_count": 502,
      "outputs": [
        {
          "output_type": "execute_result",
          "data": {
            "text/html": [
              "<div>\n",
              "<style scoped>\n",
              "    .dataframe tbody tr th:only-of-type {\n",
              "        vertical-align: middle;\n",
              "    }\n",
              "\n",
              "    .dataframe tbody tr th {\n",
              "        vertical-align: top;\n",
              "    }\n",
              "\n",
              "    .dataframe thead th {\n",
              "        text-align: right;\n",
              "    }\n",
              "</style>\n",
              "<table border=\"1\" class=\"dataframe\">\n",
              "  <thead>\n",
              "    <tr style=\"text-align: right;\">\n",
              "      <th></th>\n",
              "      <th>count</th>\n",
              "      <th>duration</th>\n",
              "      <th>lambda_l_t</th>\n",
              "    </tr>\n",
              "  </thead>\n",
              "  <tbody>\n",
              "    <tr>\n",
              "      <th>0</th>\n",
              "      <td>20</td>\n",
              "      <td>12.192849</td>\n",
              "      <td>2.500000</td>\n",
              "    </tr>\n",
              "    <tr>\n",
              "      <th>1</th>\n",
              "      <td>15</td>\n",
              "      <td>42.434995</td>\n",
              "      <td>0.166667</td>\n",
              "    </tr>\n",
              "    <tr>\n",
              "      <th>2</th>\n",
              "      <td>2</td>\n",
              "      <td>3.652616</td>\n",
              "      <td>0.010000</td>\n",
              "    </tr>\n",
              "    <tr>\n",
              "      <th>3</th>\n",
              "      <td>14</td>\n",
              "      <td>10.531514</td>\n",
              "      <td>1.000000</td>\n",
              "    </tr>\n",
              "    <tr>\n",
              "      <th>4</th>\n",
              "      <td>7</td>\n",
              "      <td>7.199166</td>\n",
              "      <td>0.666667</td>\n",
              "    </tr>\n",
              "    <tr>\n",
              "      <th>5</th>\n",
              "      <td>8</td>\n",
              "      <td>9.835875</td>\n",
              "      <td>4.000000</td>\n",
              "    </tr>\n",
              "    <tr>\n",
              "      <th>6</th>\n",
              "      <td>1</td>\n",
              "      <td>0.669846</td>\n",
              "      <td>0.100000</td>\n",
              "    </tr>\n",
              "  </tbody>\n",
              "</table>\n",
              "</div>"
            ],
            "text/plain": [
              "   count   duration  lambda_l_t\n",
              "0     20  12.192849    2.500000\n",
              "1     15  42.434995    0.166667\n",
              "2      2   3.652616    0.010000\n",
              "3     14  10.531514    1.000000\n",
              "4      7   7.199166    0.666667\n",
              "5      8   9.835875    4.000000\n",
              "6      1   0.669846    0.100000"
            ]
          },
          "metadata": {
            "tags": []
          },
          "execution_count": 502
        }
      ]
    },
    {
      "metadata": {
        "id": "hrIRFiFzXEYX",
        "colab_type": "code",
        "outputId": "5d9cd62c-8fed-4bb6-c067-d98e182b2ceb",
        "colab": {
          "base_uri": "https://localhost:8080/",
          "height": 34
        }
      },
      "cell_type": "code",
      "source": [
        "compute_likelihood(lambda_count_duration_df, duration_as_time=False)"
      ],
      "execution_count": 503,
      "outputs": [
        {
          "output_type": "execute_result",
          "data": {
            "text/plain": [
              "5.8998065828447e-46"
            ]
          },
          "metadata": {
            "tags": []
          },
          "execution_count": 503
        }
      ]
    }
  ]
}