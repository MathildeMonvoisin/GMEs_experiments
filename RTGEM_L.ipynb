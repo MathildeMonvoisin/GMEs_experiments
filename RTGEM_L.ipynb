{
 "cells": [
  {
   "cell_type": "code",
   "execution_count": 1,
   "metadata": {
    "scrolled": false
   },
   "outputs": [
    {
     "name": "stderr",
     "output_type": "stream",
     "text": [
      "C:\\Users\\Mathilde\\Anaconda35\\lib\\site-packages\\tqdm\\autonotebook\\__init__.py:14: TqdmExperimentalWarning: Using `tqdm.autonotebook.tqdm` in notebook mode. Use `tqdm.tqdm` instead to force console mode (e.g. in jupyter console)\n",
      "  \" (e.g. in jupyter console)\", TqdmExperimentalWarning)\n"
     ]
    }
   ],
   "source": [
    "from rtgemlib import RTGEM\n",
    "from rtgemlib import sample_from_tgem, LogLikelihood, scoreBic, mle_lambdas, LocaleLogLikelihood, get_count_duration_df, get_node_LogLikelihood, set_pcv_lambda_t, backward_neighbors_gen,\\\n",
    "compute_logLikelihood, set_nodes_timeseries, set_nodes_parents_counts, duration, get_parents_count_vector, forward_neighbors_gen\n",
    "\n",
    "from tqdm.autonotebook import tqdm\n",
    "import pandas as pd\n",
    "import numpy as np\n",
    "import matplotlib.pyplot as plt\n",
    "import networkx as nx"
   ]
  },
  {
   "cell_type": "code",
   "execution_count": 2,
   "metadata": {},
   "outputs": [],
   "source": [
    "def empty_nodes(nodes):\n",
    "    return dict(zip(nodes, [{'timescales': {}, 'lambdas': {(): 1}}] * len(nodes)))"
   ]
  },
  {
   "cell_type": "code",
   "execution_count": 3,
   "metadata": {},
   "outputs": [],
   "source": [
    "model = {'B': \n",
    "            {\n",
    "            'timescales': {'A' : [[1,2], [5, 6]]},\\\n",
    "            'lambdas': {\n",
    "                       (0,0): 10, \\\n",
    "                       (0,1): 1.6, \\\n",
    "                       (1,0): 3, \\\n",
    "                       (1,1) : 1\n",
    "                      }\n",
    "            },\n",
    "            'A': {\n",
    "                'timescales': {'B': [[0,1], [10,15]]},\\\n",
    "                'lambdas': {\n",
    "                       (0,0): 1, \\\n",
    "                       (0,1): 4, \\\n",
    "                       (1,0): 5, \\\n",
    "                       (1,1) : 9\n",
    "                      }\n",
    "            }\n",
    "        }\n",
    "\n"
   ]
  },
  {
   "cell_type": "code",
   "execution_count": 4,
   "metadata": {},
   "outputs": [],
   "source": [
    "rtgem_model = RTGEM(model)"
   ]
  },
  {
   "cell_type": "code",
   "execution_count": 5,
   "metadata": {},
   "outputs": [],
   "source": [
    "t_max = 10000"
   ]
  },
  {
   "cell_type": "markdown",
   "metadata": {},
   "source": [
    "## Sampling"
   ]
  },
  {
   "cell_type": "code",
   "execution_count": 6,
   "metadata": {
    "scrolled": false
   },
   "outputs": [
    {
     "data": {
      "application/vnd.jupyter.widget-view+json": {
       "model_id": "127d01e4954d4d60853515d06f69f6b4",
       "version_major": 2,
       "version_minor": 0
      },
      "text/html": [
       "<p>Failed to display Jupyter Widget of type <code>HBox</code>.</p>\n",
       "<p>\n",
       "  If you're reading this message in the Jupyter Notebook or JupyterLab Notebook, it may mean\n",
       "  that the widgets JavaScript is still loading. If this message persists, it\n",
       "  likely means that the widgets JavaScript library is either not installed or\n",
       "  not enabled. See the <a href=\"https://ipywidgets.readthedocs.io/en/stable/user_install.html\">Jupyter\n",
       "  Widgets Documentation</a> for setup instructions.\n",
       "</p>\n",
       "<p>\n",
       "  If you're reading this message in another frontend (for example, a static\n",
       "  rendering on GitHub or <a href=\"https://nbviewer.jupyter.org/\">NBViewer</a>),\n",
       "  it may mean that your frontend doesn't currently support widgets.\n",
       "</p>\n"
      ],
      "text/plain": [
       "HBox(children=(IntProgress(value=0, description='Sampled Nodes: ', max=1, style=ProgressStyle(description_width='initial')), HTML(value='')))"
      ]
     },
     "metadata": {},
     "output_type": "display_data"
    },
    {
     "data": {
      "application/vnd.jupyter.widget-view+json": {
       "model_id": "f3b8e542ee5a43949c43e517d4736bd4",
       "version_major": 2,
       "version_minor": 0
      },
      "text/html": [
       "<p>Failed to display Jupyter Widget of type <code>HBox</code>.</p>\n",
       "<p>\n",
       "  If you're reading this message in the Jupyter Notebook or JupyterLab Notebook, it may mean\n",
       "  that the widgets JavaScript is still loading. If this message persists, it\n",
       "  likely means that the widgets JavaScript library is either not installed or\n",
       "  not enabled. See the <a href=\"https://ipywidgets.readthedocs.io/en/stable/user_install.html\">Jupyter\n",
       "  Widgets Documentation</a> for setup instructions.\n",
       "</p>\n",
       "<p>\n",
       "  If you're reading this message in another frontend (for example, a static\n",
       "  rendering on GitHub or <a href=\"https://nbviewer.jupyter.org/\">NBViewer</a>),\n",
       "  it may mean that your frontend doesn't currently support widgets.\n",
       "</p>\n"
      ],
      "text/plain": [
       "HBox(children=(IntProgress(value=0, description='Sampling B, A:', style=ProgressStyle(description_width='initial')), HTML(value='')))"
      ]
     },
     "metadata": {},
     "output_type": "display_data"
    },
    {
     "name": "stdout",
     "output_type": "stream",
     "text": [
      "\r"
     ]
    },
    {
     "data": {
      "application/vnd.jupyter.widget-view+json": {
       "model_id": "a2f76a0e5b22457bbe277028ebf981af",
       "version_major": 2,
       "version_minor": 0
      },
      "text/html": [
       "<p>Failed to display Jupyter Widget of type <code>HBox</code>.</p>\n",
       "<p>\n",
       "  If you're reading this message in the Jupyter Notebook or JupyterLab Notebook, it may mean\n",
       "  that the widgets JavaScript is still loading. If this message persists, it\n",
       "  likely means that the widgets JavaScript library is either not installed or\n",
       "  not enabled. See the <a href=\"https://ipywidgets.readthedocs.io/en/stable/user_install.html\">Jupyter\n",
       "  Widgets Documentation</a> for setup instructions.\n",
       "</p>\n",
       "<p>\n",
       "  If you're reading this message in another frontend (for example, a static\n",
       "  rendering on GitHub or <a href=\"https://nbviewer.jupyter.org/\">NBViewer</a>),\n",
       "  it may mean that your frontend doesn't currently support widgets.\n",
       "</p>\n"
      ],
      "text/plain": [
       "HBox(children=(IntProgress(value=0, description='exporting data to DF', max=2, style=ProgressStyle(description_width='initial')), HTML(value='')))"
      ]
     },
     "metadata": {},
     "output_type": "display_data"
    },
    {
     "name": "stdout",
     "output_type": "stream",
     "text": [
      "\r"
     ]
    }
   ],
   "source": [
    "sampled_data = sample_from_tgem(rtgem_model, t_min=0, t_max=t_max)"
   ]
  },
  {
   "cell_type": "code",
   "execution_count": 12,
   "metadata": {
    "scrolled": false
   },
   "outputs": [],
   "source": [
    "set_pcv_lambda_t(model=rtgem_model, data=sampled_data, t_max=t_max)"
   ]
  },
  {
   "cell_type": "code",
   "execution_count": 13,
   "metadata": {},
   "outputs": [
    {
     "data": {
      "text/plain": [
       "((1, 0), 3.8034030950520545)"
      ]
     },
     "execution_count": 13,
     "metadata": {},
     "output_type": "execute_result"
    }
   ],
   "source": [
    "get_parents_count_vector(\n",
    "                rtgem_model.get_parents_count('B'), 1.412222463741663, t_max)"
   ]
  },
  {
   "cell_type": "code",
   "execution_count": 14,
   "metadata": {
    "scrolled": true
   },
   "outputs": [],
   "source": [
    "count_duration_df = get_count_duration_df(model=rtgem_model, data=sampled_data, t_max=t_max)"
   ]
  },
  {
   "cell_type": "code",
   "execution_count": 15,
   "metadata": {
    "scrolled": true
   },
   "outputs": [
    {
     "data": {
      "text/html": [
       "<div>\n",
       "<style scoped>\n",
       "    .dataframe tbody tr th:only-of-type {\n",
       "        vertical-align: middle;\n",
       "    }\n",
       "\n",
       "    .dataframe tbody tr th {\n",
       "        vertical-align: top;\n",
       "    }\n",
       "\n",
       "    .dataframe thead th {\n",
       "        text-align: right;\n",
       "    }\n",
       "</style>\n",
       "<table border=\"1\" class=\"dataframe\">\n",
       "  <thead>\n",
       "    <tr style=\"text-align: right;\">\n",
       "      <th></th>\n",
       "      <th>event</th>\n",
       "      <th>pcv</th>\n",
       "      <th>lambda_t</th>\n",
       "      <th>duration</th>\n",
       "      <th>count</th>\n",
       "    </tr>\n",
       "  </thead>\n",
       "  <tbody>\n",
       "    <tr>\n",
       "      <th>0</th>\n",
       "      <td>B</td>\n",
       "      <td>(0, 0)</td>\n",
       "      <td>10.0</td>\n",
       "      <td>1.372583</td>\n",
       "      <td>21</td>\n",
       "    </tr>\n",
       "    <tr>\n",
       "      <th>1</th>\n",
       "      <td>B</td>\n",
       "      <td>(0, 1)</td>\n",
       "      <td>1.6</td>\n",
       "      <td>31.890831</td>\n",
       "      <td>40</td>\n",
       "    </tr>\n",
       "    <tr>\n",
       "      <th>2</th>\n",
       "      <td>B</td>\n",
       "      <td>(1, 0)</td>\n",
       "      <td>3.0</td>\n",
       "      <td>35.890831</td>\n",
       "      <td>100</td>\n",
       "    </tr>\n",
       "    <tr>\n",
       "      <th>3</th>\n",
       "      <td>B</td>\n",
       "      <td>(1, 1)</td>\n",
       "      <td>1.0</td>\n",
       "      <td>9930.845755</td>\n",
       "      <td>10267</td>\n",
       "    </tr>\n",
       "    <tr>\n",
       "      <th>4</th>\n",
       "      <td>A</td>\n",
       "      <td>(0, 0)</td>\n",
       "      <td>1.0</td>\n",
       "      <td>19.252723</td>\n",
       "      <td>19</td>\n",
       "    </tr>\n",
       "    <tr>\n",
       "      <th>5</th>\n",
       "      <td>A</td>\n",
       "      <td>(0, 1)</td>\n",
       "      <td>4.0</td>\n",
       "      <td>3427.319305</td>\n",
       "      <td>13783</td>\n",
       "    </tr>\n",
       "    <tr>\n",
       "      <th>6</th>\n",
       "      <td>A</td>\n",
       "      <td>(1, 0)</td>\n",
       "      <td>5.0</td>\n",
       "      <td>54.426162</td>\n",
       "      <td>283</td>\n",
       "    </tr>\n",
       "    <tr>\n",
       "      <th>7</th>\n",
       "      <td>A</td>\n",
       "      <td>(1, 1)</td>\n",
       "      <td>9.0</td>\n",
       "      <td>6499.001810</td>\n",
       "      <td>58725</td>\n",
       "    </tr>\n",
       "  </tbody>\n",
       "</table>\n",
       "</div>"
      ],
      "text/plain": [
       "  event     pcv  lambda_t     duration  count\n",
       "0     B  (0, 0)      10.0     1.372583     21\n",
       "1     B  (0, 1)       1.6    31.890831     40\n",
       "2     B  (1, 0)       3.0    35.890831    100\n",
       "3     B  (1, 1)       1.0  9930.845755  10267\n",
       "4     A  (0, 0)       1.0    19.252723     19\n",
       "5     A  (0, 1)       4.0  3427.319305  13783\n",
       "6     A  (1, 0)       5.0    54.426162    283\n",
       "7     A  (1, 1)       9.0  6499.001810  58725"
      ]
     },
     "execution_count": 15,
     "metadata": {},
     "output_type": "execute_result"
    }
   ],
   "source": [
    "count_duration_df"
   ]
  },
  {
   "cell_type": "markdown",
   "metadata": {},
   "source": [
    "## Likelihood"
   ]
  },
  {
   "cell_type": "code",
   "execution_count": 16,
   "metadata": {},
   "outputs": [
    {
     "data": {
      "text/plain": [
       "66176.84862483843"
      ]
     },
     "execution_count": 16,
     "metadata": {},
     "output_type": "execute_result"
    }
   ],
   "source": [
    "compute_logLikelihood(count_duration_df)"
   ]
  },
  {
   "cell_type": "code",
   "execution_count": 17,
   "metadata": {},
   "outputs": [
    {
     "data": {
      "text/plain": [
       "66176.84862483843"
      ]
     },
     "execution_count": 17,
     "metadata": {},
     "output_type": "execute_result"
    }
   ],
   "source": [
    "LogLikelihood(model=rtgem_model, observed_data=sampled_data, t_max=t_max)"
   ]
  },
  {
   "cell_type": "markdown",
   "metadata": {},
   "source": [
    "## Parameters learning (lambdas)"
   ]
  },
  {
   "cell_type": "code",
   "execution_count": 18,
   "metadata": {},
   "outputs": [
    {
     "data": {
      "text/html": [
       "<div>\n",
       "<style scoped>\n",
       "    .dataframe tbody tr th:only-of-type {\n",
       "        vertical-align: middle;\n",
       "    }\n",
       "\n",
       "    .dataframe tbody tr th {\n",
       "        vertical-align: top;\n",
       "    }\n",
       "\n",
       "    .dataframe thead th {\n",
       "        text-align: right;\n",
       "    }\n",
       "</style>\n",
       "<table border=\"1\" class=\"dataframe\">\n",
       "  <thead>\n",
       "    <tr style=\"text-align: right;\">\n",
       "      <th></th>\n",
       "      <th>event</th>\n",
       "      <th>pcv</th>\n",
       "      <th>lambda_t</th>\n",
       "      <th>duration</th>\n",
       "      <th>count</th>\n",
       "    </tr>\n",
       "  </thead>\n",
       "  <tbody>\n",
       "    <tr>\n",
       "      <th>0</th>\n",
       "      <td>B</td>\n",
       "      <td>(0, 0)</td>\n",
       "      <td>15.299620</td>\n",
       "      <td>1.372583</td>\n",
       "      <td>21</td>\n",
       "    </tr>\n",
       "    <tr>\n",
       "      <th>1</th>\n",
       "      <td>B</td>\n",
       "      <td>(0, 1)</td>\n",
       "      <td>1.254279</td>\n",
       "      <td>31.890831</td>\n",
       "      <td>40</td>\n",
       "    </tr>\n",
       "    <tr>\n",
       "      <th>2</th>\n",
       "      <td>B</td>\n",
       "      <td>(1, 0)</td>\n",
       "      <td>2.786227</td>\n",
       "      <td>35.890831</td>\n",
       "      <td>100</td>\n",
       "    </tr>\n",
       "    <tr>\n",
       "      <th>3</th>\n",
       "      <td>B</td>\n",
       "      <td>(1, 1)</td>\n",
       "      <td>1.033850</td>\n",
       "      <td>9930.845755</td>\n",
       "      <td>10267</td>\n",
       "    </tr>\n",
       "    <tr>\n",
       "      <th>4</th>\n",
       "      <td>A</td>\n",
       "      <td>(0, 0)</td>\n",
       "      <td>0.986873</td>\n",
       "      <td>19.252723</td>\n",
       "      <td>19</td>\n",
       "    </tr>\n",
       "    <tr>\n",
       "      <th>5</th>\n",
       "      <td>A</td>\n",
       "      <td>(0, 1)</td>\n",
       "      <td>4.021510</td>\n",
       "      <td>3427.319305</td>\n",
       "      <td>13783</td>\n",
       "    </tr>\n",
       "    <tr>\n",
       "      <th>6</th>\n",
       "      <td>A</td>\n",
       "      <td>(1, 0)</td>\n",
       "      <td>5.199705</td>\n",
       "      <td>54.426162</td>\n",
       "      <td>283</td>\n",
       "    </tr>\n",
       "    <tr>\n",
       "      <th>7</th>\n",
       "      <td>A</td>\n",
       "      <td>(1, 1)</td>\n",
       "      <td>9.036003</td>\n",
       "      <td>6499.001810</td>\n",
       "      <td>58725</td>\n",
       "    </tr>\n",
       "  </tbody>\n",
       "</table>\n",
       "</div>"
      ],
      "text/plain": [
       "  event     pcv   lambda_t     duration  count\n",
       "0     B  (0, 0)  15.299620     1.372583     21\n",
       "1     B  (0, 1)   1.254279    31.890831     40\n",
       "2     B  (1, 0)   2.786227    35.890831    100\n",
       "3     B  (1, 1)   1.033850  9930.845755  10267\n",
       "4     A  (0, 0)   0.986873    19.252723     19\n",
       "5     A  (0, 1)   4.021510  3427.319305  13783\n",
       "6     A  (1, 0)   5.199705    54.426162    283\n",
       "7     A  (1, 1)   9.036003  6499.001810  58725"
      ]
     },
     "execution_count": 18,
     "metadata": {},
     "output_type": "execute_result"
    }
   ],
   "source": [
    "mle_lambdas(data=sampled_data, model=rtgem_model, t_max=t_max)"
   ]
  },
  {
   "cell_type": "markdown",
   "metadata": {},
   "source": [
    "## Structure learning"
   ]
  },
  {
   "cell_type": "markdown",
   "metadata": {},
   "source": [
    "### Modèle de référence"
   ]
  },
  {
   "cell_type": "code",
   "execution_count": 19,
   "metadata": {
    "scrolled": true
   },
   "outputs": [],
   "source": [
    "rtgem_model = RTGEM(empty_nodes(['A', 'B']), default_end_timescale=1)"
   ]
  },
  {
   "cell_type": "code",
   "execution_count": 20,
   "metadata": {},
   "outputs": [],
   "source": [
    "rtgem_model.add_edge_operator(('A', 'A'))\n",
    "rtgem_model.add_edge_operator(('A', 'B'))\n",
    "rtgem_model.add_edge_operator(('B', 'A'))"
   ]
  },
  {
   "cell_type": "code",
   "execution_count": 21,
   "metadata": {},
   "outputs": [],
   "source": [
    "rtgem_model.split_operator(edge=('A', 'A'), timescale=[0,1])"
   ]
  },
  {
   "cell_type": "code",
   "execution_count": 22,
   "metadata": {},
   "outputs": [],
   "source": [
    "rtgem_model.extend_operator(edge=('A', 'B'))"
   ]
  },
  {
   "cell_type": "code",
   "execution_count": 23,
   "metadata": {},
   "outputs": [
    {
     "data": {
      "application/vnd.jupyter.widget-view+json": {
       "model_id": "dce1a08d20d74f8cbd85a1a69fcd2aed",
       "version_major": 2,
       "version_minor": 0
      },
      "text/html": [
       "<p>Failed to display Jupyter Widget of type <code>HBox</code>.</p>\n",
       "<p>\n",
       "  If you're reading this message in the Jupyter Notebook or JupyterLab Notebook, it may mean\n",
       "  that the widgets JavaScript is still loading. If this message persists, it\n",
       "  likely means that the widgets JavaScript library is either not installed or\n",
       "  not enabled. See the <a href=\"https://ipywidgets.readthedocs.io/en/stable/user_install.html\">Jupyter\n",
       "  Widgets Documentation</a> for setup instructions.\n",
       "</p>\n",
       "<p>\n",
       "  If you're reading this message in another frontend (for example, a static\n",
       "  rendering on GitHub or <a href=\"https://nbviewer.jupyter.org/\">NBViewer</a>),\n",
       "  it may mean that your frontend doesn't currently support widgets.\n",
       "</p>\n"
      ],
      "text/plain": [
       "HBox(children=(IntProgress(value=0, description='Sampled Nodes: ', max=1, style=ProgressStyle(description_width='initial')), HTML(value='')))"
      ]
     },
     "metadata": {},
     "output_type": "display_data"
    },
    {
     "data": {
      "application/vnd.jupyter.widget-view+json": {
       "model_id": "3a04b0217ebd48a6a901dfcdeb9f09a3",
       "version_major": 2,
       "version_minor": 0
      },
      "text/html": [
       "<p>Failed to display Jupyter Widget of type <code>HBox</code>.</p>\n",
       "<p>\n",
       "  If you're reading this message in the Jupyter Notebook or JupyterLab Notebook, it may mean\n",
       "  that the widgets JavaScript is still loading. If this message persists, it\n",
       "  likely means that the widgets JavaScript library is either not installed or\n",
       "  not enabled. See the <a href=\"https://ipywidgets.readthedocs.io/en/stable/user_install.html\">Jupyter\n",
       "  Widgets Documentation</a> for setup instructions.\n",
       "</p>\n",
       "<p>\n",
       "  If you're reading this message in another frontend (for example, a static\n",
       "  rendering on GitHub or <a href=\"https://nbviewer.jupyter.org/\">NBViewer</a>),\n",
       "  it may mean that your frontend doesn't currently support widgets.\n",
       "</p>\n"
      ],
      "text/plain": [
       "HBox(children=(IntProgress(value=0, description='Sampling B, A:', style=ProgressStyle(description_width='initial')), HTML(value='')))"
      ]
     },
     "metadata": {},
     "output_type": "display_data"
    },
    {
     "name": "stdout",
     "output_type": "stream",
     "text": [
      "\r"
     ]
    },
    {
     "data": {
      "application/vnd.jupyter.widget-view+json": {
       "model_id": "ec8b63b399da41d0bb0ed3ccf3eb0d24",
       "version_major": 2,
       "version_minor": 0
      },
      "text/html": [
       "<p>Failed to display Jupyter Widget of type <code>HBox</code>.</p>\n",
       "<p>\n",
       "  If you're reading this message in the Jupyter Notebook or JupyterLab Notebook, it may mean\n",
       "  that the widgets JavaScript is still loading. If this message persists, it\n",
       "  likely means that the widgets JavaScript library is either not installed or\n",
       "  not enabled. See the <a href=\"https://ipywidgets.readthedocs.io/en/stable/user_install.html\">Jupyter\n",
       "  Widgets Documentation</a> for setup instructions.\n",
       "</p>\n",
       "<p>\n",
       "  If you're reading this message in another frontend (for example, a static\n",
       "  rendering on GitHub or <a href=\"https://nbviewer.jupyter.org/\">NBViewer</a>),\n",
       "  it may mean that your frontend doesn't currently support widgets.\n",
       "</p>\n"
      ],
      "text/plain": [
       "HBox(children=(IntProgress(value=0, description='exporting data to DF', max=2, style=ProgressStyle(description_width='initial')), HTML(value='')))"
      ]
     },
     "metadata": {},
     "output_type": "display_data"
    },
    {
     "name": "stdout",
     "output_type": "stream",
     "text": [
      "\r"
     ]
    }
   ],
   "source": [
    "sampled_data = sample_from_tgem(rtgem_model, t_min=0, t_max=10000)"
   ]
  },
  {
   "cell_type": "code",
   "execution_count": 24,
   "metadata": {},
   "outputs": [],
   "source": [
    "t_max = 1000\n",
    "data = sampled_data[sampled_data['time'] < t_max]"
   ]
  },
  {
   "cell_type": "code",
   "execution_count": 25,
   "metadata": {},
   "outputs": [
    {
     "data": {
      "text/plain": [
       "5021.226026603065"
      ]
     },
     "execution_count": 25,
     "metadata": {},
     "output_type": "execute_result"
    }
   ],
   "source": [
    "scoreBic(model=rtgem_model, observed_data=data, t_max=t_max)"
   ]
  },
  {
   "cell_type": "markdown",
   "metadata": {},
   "source": [
    "### Forward Search"
   ]
  },
  {
   "cell_type": "code",
   "execution_count": 26,
   "metadata": {},
   "outputs": [],
   "source": [
    "import itertools\n",
    "import random\n",
    "import copy"
   ]
  },
  {
   "cell_type": "code",
   "execution_count": 27,
   "metadata": {},
   "outputs": [],
   "source": [
    "def empty_nodes(nodes):\n",
    "    return dict(zip(nodes, [{'timescales': {}, 'lambdas': {(): 1}}] * len(nodes)))"
   ]
  },
  {
   "cell_type": "code",
   "execution_count": 40,
   "metadata": {},
   "outputs": [],
   "source": [
    "model = RTGEM(empty_nodes(['A', 'B']),  default_end_timescale=1)"
   ]
  },
  {
   "cell_type": "markdown",
   "metadata": {},
   "source": [
    "#### Initialisation "
   ]
  },
  {
   "cell_type": "code",
   "execution_count": 41,
   "metadata": {},
   "outputs": [],
   "source": [
    "model = set_nodes_timeseries(model, data)\n",
    "model = set_nodes_parents_counts(model, model.dpd_graph.nodes, t_max)\n",
    "set_pcv_lambda_t(model, data, t_max)\n",
    "\n",
    "lambdas_count_duration_df = get_count_duration_df(data, model, t_max)\n",
    "\n",
    "LogL = compute_logLikelihood(lambdas_count_duration_df)\n",
    "log_td = np.log(t_max)\n",
    "\n",
    "size_log_td = model.size() * log_td\n",
    "\n",
    "score = LogL - size_log_td\n",
    "local_maximum = False\n",
    "nodes = list(model.dpd_graph.nodes)\n",
    "possible_edges = list(itertools.product(nodes, repeat = 2))\n",
    "\n",
    "random.shuffle(possible_edges)"
   ]
  },
  {
   "cell_type": "code",
   "execution_count": 42,
   "metadata": {
    "scrolled": false
   },
   "outputs": [
    {
     "name": "stdout",
     "output_type": "stream",
     "text": [
      "iteration number: 0: scoreBIC = -2013.8155105579642\n",
      "max ngbr <bound method RTGEM.add_edge_operator of <rtgemlib.rtgem.RTGEM object at 0x00000160EFEF09E8>>, args=[('B', 'B')], max_scoreBIC = 2147.972841126711\n",
      "iteration number: 1: scoreBIC = 2147.972841126711\n",
      "max ngbr <bound method RTGEM.add_edge_operator of <rtgemlib.rtgem.RTGEM object at 0x00000160EFEF09E8>>, args=[('A', 'B')], max_scoreBIC = 5334.614576565169\n",
      "iteration number: 2: scoreBIC = 5334.614576565169\n",
      "max ngbr <bound method RTGEM.add_edge_operator of <rtgemlib.rtgem.RTGEM object at 0x00000160EFEF09E8>>, args=[('B', 'A')], max_scoreBIC = 7251.8095058075405\n",
      "iteration number: 3: scoreBIC = 7251.8095058075405\n",
      "max ngbr <bound method RTGEM.extend_operator of <rtgemlib.rtgem.RTGEM object at 0x00000160EFEF09E8>>, args=[('B', 'A')], max_scoreBIC = 9163.146398433702\n",
      "iteration number: 4: scoreBIC = 9163.146398433702\n",
      "max ngbr <bound method RTGEM.extend_operator of <rtgemlib.rtgem.RTGEM object at 0x00000160EFEF09E8>>, args=[('B', 'A')], max_scoreBIC = 11062.445453552415\n",
      "iteration number: 5: scoreBIC = 11062.445453552415\n",
      "max ngbr <bound method RTGEM.extend_operator of <rtgemlib.rtgem.RTGEM object at 0x00000160EFEF09E8>>, args=[('B', 'A')], max_scoreBIC = 12934.229494262008\n",
      "iteration number: 6: scoreBIC = 12934.229494262008\n",
      "max ngbr <bound method RTGEM.extend_operator of <rtgemlib.rtgem.RTGEM object at 0x00000160EFEF09E8>>, args=[('B', 'A')], max_scoreBIC = 14750.853397904095\n",
      "iteration number: 7: scoreBIC = 14750.853397904095\n",
      "max ngbr <bound method RTGEM.extend_operator of <rtgemlib.rtgem.RTGEM object at 0x00000160EFEF09E8>>, args=[('B', 'A')], max_scoreBIC = 16457.025561249815\n",
      "iteration number: 8: scoreBIC = 16457.025561249815\n",
      "max ngbr <bound method RTGEM.extend_operator of <rtgemlib.rtgem.RTGEM object at 0x00000160EFEF09E8>>, args=[('B', 'A')], max_scoreBIC = 17942.573813761697\n",
      "iteration number: 9: scoreBIC = 17942.573813761697\n",
      "max ngbr <bound method RTGEM.extend_operator of <rtgemlib.rtgem.RTGEM object at 0x00000160EFEF09E8>>, args=[('B', 'A')], max_scoreBIC = 18986.030173543928\n",
      "iteration number: 10: scoreBIC = 18986.030173543928\n",
      "max ngbr <bound method RTGEM.split_operator of <rtgemlib.rtgem.RTGEM object at 0x00000160EFEF09E8>>, args=[('B', 'B'), [0, 1]], max_scoreBIC = 19246.20682205853\n",
      "iteration number: 11: scoreBIC = 19246.20682205853\n",
      "max ngbr <bound method RTGEM.split_operator of <rtgemlib.rtgem.RTGEM object at 0x00000160EFEF09E8>>, args=[('B', 'B'), [0, 0.5]], max_scoreBIC = 20213.41600548078\n",
      "iteration number: 12: scoreBIC = 20213.41600548078\n",
      "max ngbr <bound method RTGEM.split_operator of <rtgemlib.rtgem.RTGEM object at 0x00000160EFEF09E8>>, args=[('B', 'B'), [0, 0.25]], max_scoreBIC = 21992.19630059446\n",
      "iteration number: 13: scoreBIC = 21992.19630059446\n",
      "max ngbr <bound method RTGEM.split_operator of <rtgemlib.rtgem.RTGEM object at 0x00000160EFEF09E8>>, args=[('B', 'B'), [0, 0.125]], max_scoreBIC = 24355.788145673636\n",
      "iteration number: 14: scoreBIC = 24355.788145673636\n",
      "max ngbr <bound method RTGEM.split_operator of <rtgemlib.rtgem.RTGEM object at 0x00000160EFEF09E8>>, args=[('B', 'B'), [0, 0.0625]], max_scoreBIC = 26931.284932876868\n",
      "iteration number: 15: scoreBIC = 26931.284932876868\n",
      "max ngbr <bound method RTGEM.split_operator of <rtgemlib.rtgem.RTGEM object at 0x00000160EFEF09E8>>, args=[('B', 'B'), [0, 0.03125]], max_scoreBIC = 29304.109991383717\n",
      "iteration number: 16: scoreBIC = 29304.109991383717\n",
      "max ngbr <bound method RTGEM.split_operator of <rtgemlib.rtgem.RTGEM object at 0x00000160EFEF09E8>>, args=[('B', 'B'), [0, 0.015625]], max_scoreBIC = 30914.627770671512\n",
      "iteration number: 17: scoreBIC = 30914.627770671512\n"
     ]
    },
    {
     "ename": "KeyboardInterrupt",
     "evalue": "",
     "output_type": "error",
     "traceback": [
      "\u001b[1;31m---------------------------------------------------------------------------\u001b[0m",
      "\u001b[1;31mKeyboardInterrupt\u001b[0m                         Traceback (most recent call last)",
      "\u001b[1;32m<ipython-input-42-60bdceef6a2e>\u001b[0m in \u001b[0;36m<module>\u001b[1;34m()\u001b[0m\n\u001b[0;32m     11\u001b[0m     \u001b[0mmax_LogL_ngbr\u001b[0m \u001b[1;33m=\u001b[0m \u001b[1;32mNone\u001b[0m\u001b[1;33m\u001b[0m\u001b[0m\n\u001b[0;32m     12\u001b[0m     \u001b[0mprint\u001b[0m\u001b[1;33m(\u001b[0m\u001b[1;34m'iteration number: {}: scoreBIC = {}'\u001b[0m\u001b[1;33m.\u001b[0m\u001b[0mformat\u001b[0m\u001b[1;33m(\u001b[0m\u001b[0mit\u001b[0m\u001b[1;33m,\u001b[0m \u001b[0mscore\u001b[0m\u001b[1;33m)\u001b[0m\u001b[1;33m)\u001b[0m\u001b[1;33m\u001b[0m\u001b[0m\n\u001b[1;32m---> 13\u001b[1;33m     \u001b[1;32mfor\u001b[0m \u001b[0mngbr_info\u001b[0m \u001b[1;32min\u001b[0m \u001b[0mforward_neighbors_gen\u001b[0m\u001b[1;33m(\u001b[0m\u001b[0mmodel\u001b[0m\u001b[1;33m,\u001b[0m \u001b[0mdata\u001b[0m\u001b[1;33m,\u001b[0m \u001b[0mt_max\u001b[0m\u001b[1;33m,\u001b[0m \u001b[0mlambdas_count_duration_df\u001b[0m\u001b[1;33m,\u001b[0m\u001b[0mLogL\u001b[0m\u001b[1;33m,\u001b[0m \u001b[0msize_log_td\u001b[0m\u001b[1;33m,\u001b[0m \u001b[0mlog_td\u001b[0m\u001b[1;33m,\u001b[0m                                           \u001b[0mpossible_edges\u001b[0m\u001b[1;33m)\u001b[0m\u001b[1;33m:\u001b[0m\u001b[1;33m\u001b[0m\u001b[0m\n\u001b[0m\u001b[0;32m     14\u001b[0m \u001b[1;33m\u001b[0m\u001b[0m\n\u001b[0;32m     15\u001b[0m         \u001b[0mop\u001b[0m\u001b[1;33m,\u001b[0m \u001b[0margs\u001b[0m\u001b[1;33m,\u001b[0m \u001b[0mLogL_ngbr\u001b[0m\u001b[1;33m,\u001b[0m \u001b[0msize_log_td_ngbr\u001b[0m\u001b[1;33m,\u001b[0m \u001b[0mchanged_node_cnt_drt_df\u001b[0m \u001b[1;33m=\u001b[0m \u001b[0mngbr_info\u001b[0m\u001b[1;33m\u001b[0m\u001b[0m\n",
      "\u001b[1;32m~\\Documents\\COURS\\INFO5_S9\\PRED\\GMEs_experiments\\rtgemlib\\learning.py\u001b[0m in \u001b[0;36mforward_neighbors_gen\u001b[1;34m(rtgem, data, t_max, cnt_drt_df, LogL, size_log_td, log_td, possible_edges)\u001b[0m\n\u001b[0;32m    225\u001b[0m             \u001b[0mrtgem\u001b[0m\u001b[1;33m.\u001b[0m\u001b[0msplit_operator\u001b[0m\u001b[1;33m(\u001b[0m\u001b[0medge\u001b[0m\u001b[1;33m,\u001b[0m \u001b[0mtimescale\u001b[0m\u001b[1;33m)\u001b[0m\u001b[1;33m\u001b[0m\u001b[0m\n\u001b[0;32m    226\u001b[0m             logL_ngr, cnt_drt_df = LocaleLogLikelihood(\n\u001b[1;32m--> 227\u001b[1;33m                 rtgem, data, t_max, LogL, node_LogL, edge[1], optimize_lambdas=True)\n\u001b[0m\u001b[0;32m    228\u001b[0m \u001b[1;33m\u001b[0m\u001b[0m\n\u001b[0;32m    229\u001b[0m             \u001b[0mrtgem\u001b[0m\u001b[1;33m.\u001b[0m\u001b[0minverse_split_operator\u001b[0m\u001b[1;33m(\u001b[0m\u001b[0medge\u001b[0m\u001b[1;33m,\u001b[0m \u001b[0mi_tm\u001b[0m\u001b[1;33m)\u001b[0m\u001b[1;33m\u001b[0m\u001b[0m\n",
      "\u001b[1;32m~\\Documents\\COURS\\INFO5_S9\\PRED\\GMEs_experiments\\rtgemlib\\learning.py\u001b[0m in \u001b[0;36mLocaleLogLikelihood\u001b[1;34m(model, data, t_max, baseLogL, nodeLogL, changed_node, optimize_lambdas)\u001b[0m\n\u001b[0;32m    128\u001b[0m \u001b[1;33m\u001b[0m\u001b[0m\n\u001b[0;32m    129\u001b[0m     changed_node_cnt_drt_df = get_count_duration_df(\n\u001b[1;32m--> 130\u001b[1;33m         changed_node_data, model, t_max, changed_node).reset_index(drop=True)\n\u001b[0m\u001b[0;32m    131\u001b[0m \u001b[1;33m\u001b[0m\u001b[0m\n\u001b[0;32m    132\u001b[0m     \u001b[1;32mif\u001b[0m \u001b[0moptimize_lambdas\u001b[0m\u001b[1;33m:\u001b[0m\u001b[1;33m\u001b[0m\u001b[0m\n",
      "\u001b[1;32m~\\Documents\\COURS\\INFO5_S9\\PRED\\GMEs_experiments\\rtgemlib\\learning.py\u001b[0m in \u001b[0;36mget_count_duration_df\u001b[1;34m(data, model, t_max, node)\u001b[0m\n\u001b[0;32m     53\u001b[0m     \u001b[1;31m# params_df.loc[:, 'duration'] = params_df[['event', 'pcv']].apply(\u001b[0m\u001b[1;33m\u001b[0m\u001b[1;33m\u001b[0m\u001b[0m\n\u001b[0;32m     54\u001b[0m     \u001b[1;31m#     lambda row: duration(ts, model, row['event'], row['pcv']), axis=1)\u001b[0m\u001b[1;33m\u001b[0m\u001b[1;33m\u001b[0m\u001b[0m\n\u001b[1;32m---> 55\u001b[1;33m     \u001b[0mduration\u001b[0m\u001b[1;33m(\u001b[0m\u001b[0mparams_df\u001b[0m\u001b[1;33m,\u001b[0m \u001b[0mmodel\u001b[0m\u001b[1;33m,\u001b[0m \u001b[0mt_max\u001b[0m\u001b[1;33m,\u001b[0m \u001b[0mnode\u001b[0m\u001b[1;33m)\u001b[0m\u001b[1;33m\u001b[0m\u001b[0m\n\u001b[0m\u001b[0;32m     56\u001b[0m     params_df.loc[:, 'count'] = params_df[['event', 'pcv']].apply(\n\u001b[0;32m     57\u001b[0m         lambda row: lambda_counts.get(tuple(row), 0), axis=1)\n",
      "\u001b[1;32m~\\Documents\\COURS\\INFO5_S9\\PRED\\GMEs_experiments\\rtgemlib\\learning.py\u001b[0m in \u001b[0;36mduration\u001b[1;34m(params_df, model, t_max, node)\u001b[0m\n\u001b[0;32m     22\u001b[0m \u001b[1;33m\u001b[0m\u001b[0m\n\u001b[0;32m     23\u001b[0m             pcv, exp_t = get_parents_count_vector(\n\u001b[1;32m---> 24\u001b[1;33m                 model.get_parents_count(n), t_, t_max)\n\u001b[0m\u001b[0;32m     25\u001b[0m \u001b[1;33m\u001b[0m\u001b[0m\n\u001b[0;32m     26\u001b[0m             \u001b[0mparams_df\u001b[0m\u001b[1;33m[\u001b[0m\u001b[1;34m'duration'\u001b[0m\u001b[1;33m]\u001b[0m\u001b[1;33m.\u001b[0m\u001b[0mloc\u001b[0m\u001b[1;33m[\u001b[0m\u001b[1;33m(\u001b[0m\u001b[0mn\u001b[0m\u001b[1;33m,\u001b[0m \u001b[0mpcv\u001b[0m\u001b[1;33m)\u001b[0m\u001b[1;33m]\u001b[0m \u001b[1;33m+=\u001b[0m \u001b[0mmin\u001b[0m\u001b[1;33m(\u001b[0m\u001b[0mexp_t\u001b[0m\u001b[1;33m,\u001b[0m \u001b[0mt_max\u001b[0m\u001b[1;33m)\u001b[0m \u001b[1;33m-\u001b[0m \u001b[0mt_\u001b[0m\u001b[1;33m\u001b[0m\u001b[0m\n",
      "\u001b[1;32m~\\Documents\\COURS\\INFO5_S9\\PRED\\GMEs_experiments\\rtgemlib\\parentCount.py\u001b[0m in \u001b[0;36mget_parents_count_vector\u001b[1;34m(parents_count, t, t_max)\u001b[0m\n\u001b[0;32m     10\u001b[0m     \u001b[1;32mfor\u001b[0m \u001b[0mi\u001b[0m\u001b[1;33m,\u001b[0m \u001b[0mparent_count\u001b[0m \u001b[1;32min\u001b[0m \u001b[0menumerate\u001b[0m\u001b[1;33m(\u001b[0m\u001b[0mparents_count\u001b[0m\u001b[1;33m)\u001b[0m\u001b[1;33m:\u001b[0m\u001b[1;33m\u001b[0m\u001b[0m\n\u001b[0;32m     11\u001b[0m         cv, t_e = get_parent_count_vector(\n\u001b[1;32m---> 12\u001b[1;33m             parent_count, t, t_max)\n\u001b[0m\u001b[0;32m     13\u001b[0m \u001b[1;33m\u001b[0m\u001b[0m\n\u001b[0;32m     14\u001b[0m         \u001b[0mpcv\u001b[0m \u001b[1;33m+=\u001b[0m \u001b[0mcv\u001b[0m\u001b[1;33m\u001b[0m\u001b[0m\n",
      "\u001b[1;32m~\\Documents\\COURS\\INFO5_S9\\PRED\\GMEs_experiments\\rtgemlib\\parentCount.py\u001b[0m in \u001b[0;36mget_parent_count_vector\u001b[1;34m(parent_count, t, t_max)\u001b[0m\n\u001b[0;32m     26\u001b[0m \u001b[1;33m\u001b[0m\u001b[0m\n\u001b[0;32m     27\u001b[0m             res = par_act_expr[(t >= par_act_expr[:, 0]) &\n\u001b[1;32m---> 28\u001b[1;33m                                (t < par_act_expr[:, 1])]\n\u001b[0m\u001b[0;32m     29\u001b[0m             \u001b[1;32mif\u001b[0m \u001b[0mres\u001b[0m\u001b[1;33m.\u001b[0m\u001b[0mshape\u001b[0m\u001b[1;33m[\u001b[0m\u001b[1;36m0\u001b[0m\u001b[1;33m]\u001b[0m \u001b[1;33m>\u001b[0m \u001b[1;36m0\u001b[0m\u001b[1;33m:\u001b[0m\u001b[1;33m\u001b[0m\u001b[0m\n\u001b[0;32m     30\u001b[0m                 \u001b[0mcv\u001b[0m \u001b[1;33m+=\u001b[0m \u001b[1;33m(\u001b[0m\u001b[1;36m1\u001b[0m\u001b[1;33m,\u001b[0m\u001b[1;33m)\u001b[0m\u001b[1;33m\u001b[0m\u001b[0m\n",
      "\u001b[1;31mKeyboardInterrupt\u001b[0m: "
     ]
    }
   ],
   "source": [
    "it = 0\n",
    "forward_logs = []\n",
    "while not local_maximum:\n",
    "    #     max_ngbr_score = -np.inf\n",
    "    local_maximum = True\n",
    "    max_score_ngbr = -np.inf\n",
    "    max_op = None\n",
    "    max_args = None\n",
    "    max_changed_node_cnt_drt_df = None\n",
    "    max_size_log_td_ngbr = None\n",
    "    max_LogL_ngbr = None\n",
    "    print('iteration number: {}: scoreBIC = {}'.format(it, score))\n",
    "    for ngbr_info in forward_neighbors_gen(model, data, t_max, lambdas_count_duration_df,LogL, size_log_td, log_td,\\\n",
    "                                           possible_edges):\n",
    "\n",
    "        op, args, LogL_ngbr, size_log_td_ngbr, changed_node_cnt_drt_df = ngbr_info\n",
    "        score_ngbr = LogL_ngbr - size_log_td_ngbr\n",
    "\n",
    "        if score_ngbr > max_score_ngbr:\n",
    "            max_score_ngbr = score_ngbr\n",
    "            max_op = op\n",
    "            max_args = args\n",
    "            max_changed_node_cnt_drt_df = changed_node_cnt_drt_df\n",
    "            max_size_log_td_ngbr = size_log_td_ngbr\n",
    "            max_LogL_ngbr = LogL_ngbr\n",
    "    print('max ngbr {}, args={}, max_scoreBIC = {}'.format(max_op, max_args, max_score_ngbr))\n",
    " \n",
    "    if max_score_ngbr > score:\n",
    "        max_op(*max_args)\n",
    "        LogL = max_LogL_ngbr\n",
    "        size_log_td = max_size_log_td_ngbr\n",
    "        changed_node = max_changed_node_cnt_drt_df.iloc[0]['event']\n",
    "        lambdas_count_duration_df = lambdas_count_duration_df[lambdas_count_duration_df['event'] != changed_node]\n",
    "        lambdas_count_duration_df = pd.concat([lambdas_count_duration_df, max_changed_node_cnt_drt_df])\n",
    "\n",
    "        local_maximum = False\n",
    "        score = max_score_ngbr\n",
    "        op_name = 'étendreIntervalle'\n",
    "\n",
    "        # removes added edge from possible edges\n",
    "        if max_op == model.add_edge_operator:\n",
    "            possible_edges.remove(max_args[0])\n",
    "        # pd.Dataframe(columns=['it', 'T_A', 'T_B', 'edges', 'max_ngbr', 'scoreBic'])\n",
    "            op_name = 'ajouterArc'\n",
    "        if max_op == model.split_operator:\n",
    "            op_name = 'diviserIntervalle'\n",
    "\n",
    "        forward_logs.append([it, copy.deepcopy(model.get_node_parents_timescales('A')),\\\n",
    "                             copy.deepcopy(model.get_node_parents_timescales('B')),\\\n",
    "                             list(model.dpd_graph.edges()),\\\n",
    "                             op_name,\\\n",
    "                             max_args,\\\n",
    "                             score])\n",
    "    it += 1"
   ]
  },
  {
   "cell_type": "code",
   "execution_count": 43,
   "metadata": {},
   "outputs": [],
   "source": [
    "model = set_nodes_timeseries(model, data)\n",
    "model = set_nodes_parents_counts(model, model.dpd_graph.nodes, t_max)"
   ]
  },
  {
   "cell_type": "code",
   "execution_count": null,
   "metadata": {},
   "outputs": [
    {
     "data": {
      "text/html": [
       "<div>\n",
       "<style scoped>\n",
       "    .dataframe tbody tr th:only-of-type {\n",
       "        vertical-align: middle;\n",
       "    }\n",
       "\n",
       "    .dataframe tbody tr th {\n",
       "        vertical-align: top;\n",
       "    }\n",
       "\n",
       "    .dataframe thead th {\n",
       "        text-align: right;\n",
       "    }\n",
       "</style>\n",
       "<table border=\"1\" class=\"dataframe\">\n",
       "  <thead>\n",
       "    <tr style=\"text-align: right;\">\n",
       "      <th></th>\n",
       "      <th>event</th>\n",
       "      <th>pcv</th>\n",
       "      <th>lambda_t</th>\n",
       "      <th>duration</th>\n",
       "      <th>count</th>\n",
       "    </tr>\n",
       "  </thead>\n",
       "  <tbody>\n",
       "    <tr>\n",
       "      <th>0</th>\n",
       "      <td>A</td>\n",
       "      <td>(0, 0, 0, 0, 0, 0, 0, 0)</td>\n",
       "      <td>9.999023</td>\n",
       "      <td>0.10001</td>\n",
       "      <td>1</td>\n",
       "    </tr>\n",
       "    <tr>\n",
       "      <th>1</th>\n",
       "      <td>A</td>\n",
       "      <td>(0, 0, 0, 0, 0, 0, 0, 1)</td>\n",
       "      <td>0.000000</td>\n",
       "      <td>0.00000</td>\n",
       "      <td>0</td>\n",
       "    </tr>\n",
       "    <tr>\n",
       "      <th>2</th>\n",
       "      <td>A</td>\n",
       "      <td>(0, 0, 0, 0, 0, 0, 1, 0)</td>\n",
       "      <td>0.000000</td>\n",
       "      <td>0.00000</td>\n",
       "      <td>0</td>\n",
       "    </tr>\n",
       "    <tr>\n",
       "      <th>3</th>\n",
       "      <td>A</td>\n",
       "      <td>(0, 0, 0, 0, 0, 0, 1, 1)</td>\n",
       "      <td>0.000000</td>\n",
       "      <td>0.00000</td>\n",
       "      <td>0</td>\n",
       "    </tr>\n",
       "    <tr>\n",
       "      <th>4</th>\n",
       "      <td>A</td>\n",
       "      <td>(0, 0, 0, 0, 0, 1, 0, 0)</td>\n",
       "      <td>0.000000</td>\n",
       "      <td>0.00000</td>\n",
       "      <td>0</td>\n",
       "    </tr>\n",
       "    <tr>\n",
       "      <th>5</th>\n",
       "      <td>A</td>\n",
       "      <td>(0, 0, 0, 0, 0, 1, 0, 1)</td>\n",
       "      <td>0.000000</td>\n",
       "      <td>0.00000</td>\n",
       "      <td>0</td>\n",
       "    </tr>\n",
       "    <tr>\n",
       "      <th>6</th>\n",
       "      <td>A</td>\n",
       "      <td>(0, 0, 0, 0, 0, 1, 1, 0)</td>\n",
       "      <td>0.000000</td>\n",
       "      <td>0.00000</td>\n",
       "      <td>0</td>\n",
       "    </tr>\n",
       "    <tr>\n",
       "      <th>7</th>\n",
       "      <td>A</td>\n",
       "      <td>(0, 0, 0, 0, 0, 1, 1, 1)</td>\n",
       "      <td>0.000000</td>\n",
       "      <td>0.00000</td>\n",
       "      <td>0</td>\n",
       "    </tr>\n",
       "    <tr>\n",
       "      <th>8</th>\n",
       "      <td>A</td>\n",
       "      <td>(0, 0, 0, 0, 1, 0, 0, 0)</td>\n",
       "      <td>0.000000</td>\n",
       "      <td>0.00000</td>\n",
       "      <td>0</td>\n",
       "    </tr>\n",
       "    <tr>\n",
       "      <th>9</th>\n",
       "      <td>A</td>\n",
       "      <td>(0, 0, 0, 0, 1, 0, 0, 1)</td>\n",
       "      <td>0.000000</td>\n",
       "      <td>0.00000</td>\n",
       "      <td>0</td>\n",
       "    </tr>\n",
       "    <tr>\n",
       "      <th>10</th>\n",
       "      <td>A</td>\n",
       "      <td>(0, 0, 0, 0, 1, 0, 1, 0)</td>\n",
       "      <td>0.000000</td>\n",
       "      <td>0.00000</td>\n",
       "      <td>0</td>\n",
       "    </tr>\n",
       "    <tr>\n",
       "      <th>11</th>\n",
       "      <td>A</td>\n",
       "      <td>(0, 0, 0, 0, 1, 0, 1, 1)</td>\n",
       "      <td>0.000000</td>\n",
       "      <td>0.00000</td>\n",
       "      <td>0</td>\n",
       "    </tr>\n",
       "    <tr>\n",
       "      <th>12</th>\n",
       "      <td>A</td>\n",
       "      <td>(0, 0, 0, 0, 1, 1, 0, 0)</td>\n",
       "      <td>0.000000</td>\n",
       "      <td>0.00000</td>\n",
       "      <td>0</td>\n",
       "    </tr>\n",
       "    <tr>\n",
       "      <th>13</th>\n",
       "      <td>A</td>\n",
       "      <td>(0, 0, 0, 0, 1, 1, 0, 1)</td>\n",
       "      <td>0.000000</td>\n",
       "      <td>0.00000</td>\n",
       "      <td>0</td>\n",
       "    </tr>\n",
       "    <tr>\n",
       "      <th>14</th>\n",
       "      <td>A</td>\n",
       "      <td>(0, 0, 0, 0, 1, 1, 1, 0)</td>\n",
       "      <td>0.000000</td>\n",
       "      <td>0.00000</td>\n",
       "      <td>0</td>\n",
       "    </tr>\n",
       "    <tr>\n",
       "      <th>15</th>\n",
       "      <td>A</td>\n",
       "      <td>(0, 0, 0, 0, 1, 1, 1, 1)</td>\n",
       "      <td>0.000000</td>\n",
       "      <td>0.00000</td>\n",
       "      <td>0</td>\n",
       "    </tr>\n",
       "    <tr>\n",
       "      <th>16</th>\n",
       "      <td>A</td>\n",
       "      <td>(0, 0, 0, 1, 0, 0, 0, 0)</td>\n",
       "      <td>0.000000</td>\n",
       "      <td>0.00000</td>\n",
       "      <td>0</td>\n",
       "    </tr>\n",
       "    <tr>\n",
       "      <th>17</th>\n",
       "      <td>A</td>\n",
       "      <td>(0, 0, 0, 1, 0, 0, 0, 1)</td>\n",
       "      <td>0.000000</td>\n",
       "      <td>0.00000</td>\n",
       "      <td>0</td>\n",
       "    </tr>\n",
       "    <tr>\n",
       "      <th>18</th>\n",
       "      <td>A</td>\n",
       "      <td>(0, 0, 0, 1, 0, 0, 1, 0)</td>\n",
       "      <td>0.000000</td>\n",
       "      <td>0.00000</td>\n",
       "      <td>0</td>\n",
       "    </tr>\n",
       "    <tr>\n",
       "      <th>19</th>\n",
       "      <td>A</td>\n",
       "      <td>(0, 0, 0, 1, 0, 0, 1, 1)</td>\n",
       "      <td>0.000000</td>\n",
       "      <td>0.00000</td>\n",
       "      <td>0</td>\n",
       "    </tr>\n",
       "    <tr>\n",
       "      <th>20</th>\n",
       "      <td>A</td>\n",
       "      <td>(0, 0, 0, 1, 0, 1, 0, 0)</td>\n",
       "      <td>0.000000</td>\n",
       "      <td>0.00000</td>\n",
       "      <td>0</td>\n",
       "    </tr>\n",
       "    <tr>\n",
       "      <th>21</th>\n",
       "      <td>A</td>\n",
       "      <td>(0, 0, 0, 1, 0, 1, 0, 1)</td>\n",
       "      <td>0.000000</td>\n",
       "      <td>0.00000</td>\n",
       "      <td>0</td>\n",
       "    </tr>\n",
       "    <tr>\n",
       "      <th>22</th>\n",
       "      <td>A</td>\n",
       "      <td>(0, 0, 0, 1, 0, 1, 1, 0)</td>\n",
       "      <td>0.000000</td>\n",
       "      <td>0.00000</td>\n",
       "      <td>0</td>\n",
       "    </tr>\n",
       "    <tr>\n",
       "      <th>23</th>\n",
       "      <td>A</td>\n",
       "      <td>(0, 0, 0, 1, 0, 1, 1, 1)</td>\n",
       "      <td>0.000000</td>\n",
       "      <td>0.00000</td>\n",
       "      <td>0</td>\n",
       "    </tr>\n",
       "    <tr>\n",
       "      <th>24</th>\n",
       "      <td>A</td>\n",
       "      <td>(0, 0, 0, 1, 1, 0, 0, 0)</td>\n",
       "      <td>0.000000</td>\n",
       "      <td>0.00000</td>\n",
       "      <td>0</td>\n",
       "    </tr>\n",
       "    <tr>\n",
       "      <th>25</th>\n",
       "      <td>A</td>\n",
       "      <td>(0, 0, 0, 1, 1, 0, 0, 1)</td>\n",
       "      <td>0.000000</td>\n",
       "      <td>0.00000</td>\n",
       "      <td>0</td>\n",
       "    </tr>\n",
       "    <tr>\n",
       "      <th>26</th>\n",
       "      <td>A</td>\n",
       "      <td>(0, 0, 0, 1, 1, 0, 1, 0)</td>\n",
       "      <td>0.000000</td>\n",
       "      <td>0.00000</td>\n",
       "      <td>0</td>\n",
       "    </tr>\n",
       "    <tr>\n",
       "      <th>27</th>\n",
       "      <td>A</td>\n",
       "      <td>(0, 0, 0, 1, 1, 0, 1, 1)</td>\n",
       "      <td>0.000000</td>\n",
       "      <td>0.00000</td>\n",
       "      <td>0</td>\n",
       "    </tr>\n",
       "    <tr>\n",
       "      <th>28</th>\n",
       "      <td>A</td>\n",
       "      <td>(0, 0, 0, 1, 1, 1, 0, 0)</td>\n",
       "      <td>0.000000</td>\n",
       "      <td>0.00000</td>\n",
       "      <td>0</td>\n",
       "    </tr>\n",
       "    <tr>\n",
       "      <th>29</th>\n",
       "      <td>A</td>\n",
       "      <td>(0, 0, 0, 1, 1, 1, 0, 1)</td>\n",
       "      <td>0.000000</td>\n",
       "      <td>0.00000</td>\n",
       "      <td>0</td>\n",
       "    </tr>\n",
       "    <tr>\n",
       "      <th>...</th>\n",
       "      <td>...</td>\n",
       "      <td>...</td>\n",
       "      <td>...</td>\n",
       "      <td>...</td>\n",
       "      <td>...</td>\n",
       "    </tr>\n",
       "    <tr>\n",
       "      <th>1250</th>\n",
       "      <td>B</td>\n",
       "      <td>(1, 1, 1, 1, 1, 0, 0, 0, 1, 0)</td>\n",
       "      <td>0.000000</td>\n",
       "      <td>0.00000</td>\n",
       "      <td>0</td>\n",
       "    </tr>\n",
       "    <tr>\n",
       "      <th>1251</th>\n",
       "      <td>B</td>\n",
       "      <td>(1, 1, 1, 1, 1, 0, 0, 0, 1, 1)</td>\n",
       "      <td>0.000000</td>\n",
       "      <td>0.00000</td>\n",
       "      <td>0</td>\n",
       "    </tr>\n",
       "    <tr>\n",
       "      <th>1252</th>\n",
       "      <td>B</td>\n",
       "      <td>(1, 1, 1, 1, 1, 0, 0, 1, 0, 0)</td>\n",
       "      <td>0.000000</td>\n",
       "      <td>0.00000</td>\n",
       "      <td>0</td>\n",
       "    </tr>\n",
       "    <tr>\n",
       "      <th>1253</th>\n",
       "      <td>B</td>\n",
       "      <td>(1, 1, 1, 1, 1, 0, 0, 1, 0, 1)</td>\n",
       "      <td>0.000000</td>\n",
       "      <td>0.00000</td>\n",
       "      <td>0</td>\n",
       "    </tr>\n",
       "    <tr>\n",
       "      <th>1254</th>\n",
       "      <td>B</td>\n",
       "      <td>(1, 1, 1, 1, 1, 0, 0, 1, 1, 0)</td>\n",
       "      <td>0.000000</td>\n",
       "      <td>0.00000</td>\n",
       "      <td>0</td>\n",
       "    </tr>\n",
       "    <tr>\n",
       "      <th>1255</th>\n",
       "      <td>B</td>\n",
       "      <td>(1, 1, 1, 1, 1, 0, 0, 1, 1, 1)</td>\n",
       "      <td>0.000000</td>\n",
       "      <td>0.00000</td>\n",
       "      <td>0</td>\n",
       "    </tr>\n",
       "    <tr>\n",
       "      <th>1256</th>\n",
       "      <td>B</td>\n",
       "      <td>(1, 1, 1, 1, 1, 0, 1, 0, 0, 0)</td>\n",
       "      <td>0.000000</td>\n",
       "      <td>0.00000</td>\n",
       "      <td>0</td>\n",
       "    </tr>\n",
       "    <tr>\n",
       "      <th>1257</th>\n",
       "      <td>B</td>\n",
       "      <td>(1, 1, 1, 1, 1, 0, 1, 0, 0, 1)</td>\n",
       "      <td>0.000000</td>\n",
       "      <td>0.00000</td>\n",
       "      <td>0</td>\n",
       "    </tr>\n",
       "    <tr>\n",
       "      <th>1258</th>\n",
       "      <td>B</td>\n",
       "      <td>(1, 1, 1, 1, 1, 0, 1, 0, 1, 0)</td>\n",
       "      <td>0.000000</td>\n",
       "      <td>0.00000</td>\n",
       "      <td>0</td>\n",
       "    </tr>\n",
       "    <tr>\n",
       "      <th>1259</th>\n",
       "      <td>B</td>\n",
       "      <td>(1, 1, 1, 1, 1, 0, 1, 0, 1, 1)</td>\n",
       "      <td>0.000000</td>\n",
       "      <td>0.00000</td>\n",
       "      <td>0</td>\n",
       "    </tr>\n",
       "    <tr>\n",
       "      <th>1260</th>\n",
       "      <td>B</td>\n",
       "      <td>(1, 1, 1, 1, 1, 0, 1, 1, 0, 0)</td>\n",
       "      <td>0.000000</td>\n",
       "      <td>0.00000</td>\n",
       "      <td>0</td>\n",
       "    </tr>\n",
       "    <tr>\n",
       "      <th>1261</th>\n",
       "      <td>B</td>\n",
       "      <td>(1, 1, 1, 1, 1, 0, 1, 1, 0, 1)</td>\n",
       "      <td>0.000000</td>\n",
       "      <td>0.00000</td>\n",
       "      <td>0</td>\n",
       "    </tr>\n",
       "    <tr>\n",
       "      <th>1262</th>\n",
       "      <td>B</td>\n",
       "      <td>(1, 1, 1, 1, 1, 0, 1, 1, 1, 0)</td>\n",
       "      <td>0.000000</td>\n",
       "      <td>0.00000</td>\n",
       "      <td>0</td>\n",
       "    </tr>\n",
       "    <tr>\n",
       "      <th>1263</th>\n",
       "      <td>B</td>\n",
       "      <td>(1, 1, 1, 1, 1, 0, 1, 1, 1, 1)</td>\n",
       "      <td>0.000000</td>\n",
       "      <td>0.00000</td>\n",
       "      <td>0</td>\n",
       "    </tr>\n",
       "    <tr>\n",
       "      <th>1264</th>\n",
       "      <td>B</td>\n",
       "      <td>(1, 1, 1, 1, 1, 1, 0, 0, 0, 0)</td>\n",
       "      <td>0.000000</td>\n",
       "      <td>0.00000</td>\n",
       "      <td>0</td>\n",
       "    </tr>\n",
       "    <tr>\n",
       "      <th>1265</th>\n",
       "      <td>B</td>\n",
       "      <td>(1, 1, 1, 1, 1, 1, 0, 0, 0, 1)</td>\n",
       "      <td>0.000000</td>\n",
       "      <td>0.00000</td>\n",
       "      <td>0</td>\n",
       "    </tr>\n",
       "    <tr>\n",
       "      <th>1266</th>\n",
       "      <td>B</td>\n",
       "      <td>(1, 1, 1, 1, 1, 1, 0, 0, 1, 0)</td>\n",
       "      <td>0.000000</td>\n",
       "      <td>0.00000</td>\n",
       "      <td>0</td>\n",
       "    </tr>\n",
       "    <tr>\n",
       "      <th>1267</th>\n",
       "      <td>B</td>\n",
       "      <td>(1, 1, 1, 1, 1, 1, 0, 0, 1, 1)</td>\n",
       "      <td>0.000000</td>\n",
       "      <td>0.00000</td>\n",
       "      <td>0</td>\n",
       "    </tr>\n",
       "    <tr>\n",
       "      <th>1268</th>\n",
       "      <td>B</td>\n",
       "      <td>(1, 1, 1, 1, 1, 1, 0, 1, 0, 0)</td>\n",
       "      <td>0.000000</td>\n",
       "      <td>0.00000</td>\n",
       "      <td>0</td>\n",
       "    </tr>\n",
       "    <tr>\n",
       "      <th>1269</th>\n",
       "      <td>B</td>\n",
       "      <td>(1, 1, 1, 1, 1, 1, 0, 1, 0, 1)</td>\n",
       "      <td>0.000000</td>\n",
       "      <td>0.00000</td>\n",
       "      <td>0</td>\n",
       "    </tr>\n",
       "    <tr>\n",
       "      <th>1270</th>\n",
       "      <td>B</td>\n",
       "      <td>(1, 1, 1, 1, 1, 1, 0, 1, 1, 0)</td>\n",
       "      <td>0.000000</td>\n",
       "      <td>0.00000</td>\n",
       "      <td>0</td>\n",
       "    </tr>\n",
       "    <tr>\n",
       "      <th>1271</th>\n",
       "      <td>B</td>\n",
       "      <td>(1, 1, 1, 1, 1, 1, 0, 1, 1, 1)</td>\n",
       "      <td>0.000000</td>\n",
       "      <td>0.00000</td>\n",
       "      <td>0</td>\n",
       "    </tr>\n",
       "    <tr>\n",
       "      <th>1272</th>\n",
       "      <td>B</td>\n",
       "      <td>(1, 1, 1, 1, 1, 1, 1, 0, 0, 0)</td>\n",
       "      <td>0.000000</td>\n",
       "      <td>0.00000</td>\n",
       "      <td>0</td>\n",
       "    </tr>\n",
       "    <tr>\n",
       "      <th>1273</th>\n",
       "      <td>B</td>\n",
       "      <td>(1, 1, 1, 1, 1, 1, 1, 0, 0, 1)</td>\n",
       "      <td>0.000000</td>\n",
       "      <td>0.00000</td>\n",
       "      <td>0</td>\n",
       "    </tr>\n",
       "    <tr>\n",
       "      <th>1274</th>\n",
       "      <td>B</td>\n",
       "      <td>(1, 1, 1, 1, 1, 1, 1, 0, 1, 0)</td>\n",
       "      <td>0.000000</td>\n",
       "      <td>0.00000</td>\n",
       "      <td>0</td>\n",
       "    </tr>\n",
       "    <tr>\n",
       "      <th>1275</th>\n",
       "      <td>B</td>\n",
       "      <td>(1, 1, 1, 1, 1, 1, 1, 0, 1, 1)</td>\n",
       "      <td>0.000000</td>\n",
       "      <td>0.00000</td>\n",
       "      <td>0</td>\n",
       "    </tr>\n",
       "    <tr>\n",
       "      <th>1276</th>\n",
       "      <td>B</td>\n",
       "      <td>(1, 1, 1, 1, 1, 1, 1, 1, 0, 0)</td>\n",
       "      <td>0.000000</td>\n",
       "      <td>0.00000</td>\n",
       "      <td>0</td>\n",
       "    </tr>\n",
       "    <tr>\n",
       "      <th>1277</th>\n",
       "      <td>B</td>\n",
       "      <td>(1, 1, 1, 1, 1, 1, 1, 1, 0, 1)</td>\n",
       "      <td>0.000000</td>\n",
       "      <td>0.00000</td>\n",
       "      <td>0</td>\n",
       "    </tr>\n",
       "    <tr>\n",
       "      <th>1278</th>\n",
       "      <td>B</td>\n",
       "      <td>(1, 1, 1, 1, 1, 1, 1, 1, 1, 0)</td>\n",
       "      <td>0.000000</td>\n",
       "      <td>0.00000</td>\n",
       "      <td>0</td>\n",
       "    </tr>\n",
       "    <tr>\n",
       "      <th>1279</th>\n",
       "      <td>B</td>\n",
       "      <td>(1, 1, 1, 1, 1, 1, 1, 1, 1, 1)</td>\n",
       "      <td>0.000000</td>\n",
       "      <td>0.00000</td>\n",
       "      <td>0</td>\n",
       "    </tr>\n",
       "  </tbody>\n",
       "</table>\n",
       "<p>1280 rows × 5 columns</p>\n",
       "</div>"
      ],
      "text/plain": [
       "     event                             pcv  lambda_t  duration  count\n",
       "0        A        (0, 0, 0, 0, 0, 0, 0, 0)  9.999023   0.10001      1\n",
       "1        A        (0, 0, 0, 0, 0, 0, 0, 1)  0.000000   0.00000      0\n",
       "2        A        (0, 0, 0, 0, 0, 0, 1, 0)  0.000000   0.00000      0\n",
       "3        A        (0, 0, 0, 0, 0, 0, 1, 1)  0.000000   0.00000      0\n",
       "4        A        (0, 0, 0, 0, 0, 1, 0, 0)  0.000000   0.00000      0\n",
       "5        A        (0, 0, 0, 0, 0, 1, 0, 1)  0.000000   0.00000      0\n",
       "6        A        (0, 0, 0, 0, 0, 1, 1, 0)  0.000000   0.00000      0\n",
       "7        A        (0, 0, 0, 0, 0, 1, 1, 1)  0.000000   0.00000      0\n",
       "8        A        (0, 0, 0, 0, 1, 0, 0, 0)  0.000000   0.00000      0\n",
       "9        A        (0, 0, 0, 0, 1, 0, 0, 1)  0.000000   0.00000      0\n",
       "10       A        (0, 0, 0, 0, 1, 0, 1, 0)  0.000000   0.00000      0\n",
       "11       A        (0, 0, 0, 0, 1, 0, 1, 1)  0.000000   0.00000      0\n",
       "12       A        (0, 0, 0, 0, 1, 1, 0, 0)  0.000000   0.00000      0\n",
       "13       A        (0, 0, 0, 0, 1, 1, 0, 1)  0.000000   0.00000      0\n",
       "14       A        (0, 0, 0, 0, 1, 1, 1, 0)  0.000000   0.00000      0\n",
       "15       A        (0, 0, 0, 0, 1, 1, 1, 1)  0.000000   0.00000      0\n",
       "16       A        (0, 0, 0, 1, 0, 0, 0, 0)  0.000000   0.00000      0\n",
       "17       A        (0, 0, 0, 1, 0, 0, 0, 1)  0.000000   0.00000      0\n",
       "18       A        (0, 0, 0, 1, 0, 0, 1, 0)  0.000000   0.00000      0\n",
       "19       A        (0, 0, 0, 1, 0, 0, 1, 1)  0.000000   0.00000      0\n",
       "20       A        (0, 0, 0, 1, 0, 1, 0, 0)  0.000000   0.00000      0\n",
       "21       A        (0, 0, 0, 1, 0, 1, 0, 1)  0.000000   0.00000      0\n",
       "22       A        (0, 0, 0, 1, 0, 1, 1, 0)  0.000000   0.00000      0\n",
       "23       A        (0, 0, 0, 1, 0, 1, 1, 1)  0.000000   0.00000      0\n",
       "24       A        (0, 0, 0, 1, 1, 0, 0, 0)  0.000000   0.00000      0\n",
       "25       A        (0, 0, 0, 1, 1, 0, 0, 1)  0.000000   0.00000      0\n",
       "26       A        (0, 0, 0, 1, 1, 0, 1, 0)  0.000000   0.00000      0\n",
       "27       A        (0, 0, 0, 1, 1, 0, 1, 1)  0.000000   0.00000      0\n",
       "28       A        (0, 0, 0, 1, 1, 1, 0, 0)  0.000000   0.00000      0\n",
       "29       A        (0, 0, 0, 1, 1, 1, 0, 1)  0.000000   0.00000      0\n",
       "...    ...                             ...       ...       ...    ...\n",
       "1250     B  (1, 1, 1, 1, 1, 0, 0, 0, 1, 0)  0.000000   0.00000      0\n",
       "1251     B  (1, 1, 1, 1, 1, 0, 0, 0, 1, 1)  0.000000   0.00000      0\n",
       "1252     B  (1, 1, 1, 1, 1, 0, 0, 1, 0, 0)  0.000000   0.00000      0\n",
       "1253     B  (1, 1, 1, 1, 1, 0, 0, 1, 0, 1)  0.000000   0.00000      0\n",
       "1254     B  (1, 1, 1, 1, 1, 0, 0, 1, 1, 0)  0.000000   0.00000      0\n",
       "1255     B  (1, 1, 1, 1, 1, 0, 0, 1, 1, 1)  0.000000   0.00000      0\n",
       "1256     B  (1, 1, 1, 1, 1, 0, 1, 0, 0, 0)  0.000000   0.00000      0\n",
       "1257     B  (1, 1, 1, 1, 1, 0, 1, 0, 0, 1)  0.000000   0.00000      0\n",
       "1258     B  (1, 1, 1, 1, 1, 0, 1, 0, 1, 0)  0.000000   0.00000      0\n",
       "1259     B  (1, 1, 1, 1, 1, 0, 1, 0, 1, 1)  0.000000   0.00000      0\n",
       "1260     B  (1, 1, 1, 1, 1, 0, 1, 1, 0, 0)  0.000000   0.00000      0\n",
       "1261     B  (1, 1, 1, 1, 1, 0, 1, 1, 0, 1)  0.000000   0.00000      0\n",
       "1262     B  (1, 1, 1, 1, 1, 0, 1, 1, 1, 0)  0.000000   0.00000      0\n",
       "1263     B  (1, 1, 1, 1, 1, 0, 1, 1, 1, 1)  0.000000   0.00000      0\n",
       "1264     B  (1, 1, 1, 1, 1, 1, 0, 0, 0, 0)  0.000000   0.00000      0\n",
       "1265     B  (1, 1, 1, 1, 1, 1, 0, 0, 0, 1)  0.000000   0.00000      0\n",
       "1266     B  (1, 1, 1, 1, 1, 1, 0, 0, 1, 0)  0.000000   0.00000      0\n",
       "1267     B  (1, 1, 1, 1, 1, 1, 0, 0, 1, 1)  0.000000   0.00000      0\n",
       "1268     B  (1, 1, 1, 1, 1, 1, 0, 1, 0, 0)  0.000000   0.00000      0\n",
       "1269     B  (1, 1, 1, 1, 1, 1, 0, 1, 0, 1)  0.000000   0.00000      0\n",
       "1270     B  (1, 1, 1, 1, 1, 1, 0, 1, 1, 0)  0.000000   0.00000      0\n",
       "1271     B  (1, 1, 1, 1, 1, 1, 0, 1, 1, 1)  0.000000   0.00000      0\n",
       "1272     B  (1, 1, 1, 1, 1, 1, 1, 0, 0, 0)  0.000000   0.00000      0\n",
       "1273     B  (1, 1, 1, 1, 1, 1, 1, 0, 0, 1)  0.000000   0.00000      0\n",
       "1274     B  (1, 1, 1, 1, 1, 1, 1, 0, 1, 0)  0.000000   0.00000      0\n",
       "1275     B  (1, 1, 1, 1, 1, 1, 1, 0, 1, 1)  0.000000   0.00000      0\n",
       "1276     B  (1, 1, 1, 1, 1, 1, 1, 1, 0, 0)  0.000000   0.00000      0\n",
       "1277     B  (1, 1, 1, 1, 1, 1, 1, 1, 0, 1)  0.000000   0.00000      0\n",
       "1278     B  (1, 1, 1, 1, 1, 1, 1, 1, 1, 0)  0.000000   0.00000      0\n",
       "1279     B  (1, 1, 1, 1, 1, 1, 1, 1, 1, 1)  0.000000   0.00000      0\n",
       "\n",
       "[1280 rows x 5 columns]"
      ]
     },
     "execution_count": 44,
     "metadata": {},
     "output_type": "execute_result"
    }
   ],
   "source": [
    "mle_lambdas(model, data, t_max)"
   ]
  },
  {
   "cell_type": "code",
   "execution_count": null,
   "metadata": {
    "scrolled": true
   },
   "outputs": [],
   "source": [
    "scoreBic(model, data, t_max)"
   ]
  },
  {
   "cell_type": "code",
   "execution_count": null,
   "metadata": {},
   "outputs": [],
   "source": [
    "# keep forward result in memory\n",
    "forward_model = copy.deepcopy(model)"
   ]
  },
  {
   "cell_type": "markdown",
   "metadata": {},
   "source": [
    "## BackwardSearch(Forward)"
   ]
  },
  {
   "cell_type": "code",
   "execution_count": 34,
   "metadata": {},
   "outputs": [],
   "source": [
    "model = set_nodes_timeseries(model, data)\n",
    "model = set_nodes_parents_counts(model, model.dpd_graph.nodes, t_max)\n",
    "set_pcv_lambda_t(model, data, t_max)\n",
    "\n",
    "lambdas_count_duration_df = get_count_duration_df(data, model, t_max)\n",
    "\n",
    "LogL = compute_logLikelihood(lambdas_count_duration_df)\n",
    "log_td = np.log(t_max)\n",
    "\n",
    "size_log_td = model.size() * log_td\n",
    "\n",
    "score = LogL - size_log_td\n",
    "local_maximum = False"
   ]
  },
  {
   "cell_type": "code",
   "execution_count": 35,
   "metadata": {},
   "outputs": [
    {
     "data": {
      "text/plain": [
       "-1897.0277331403577"
      ]
     },
     "execution_count": 35,
     "metadata": {},
     "output_type": "execute_result"
    }
   ],
   "source": [
    "score"
   ]
  },
  {
   "cell_type": "code",
   "execution_count": 36,
   "metadata": {},
   "outputs": [
    {
     "name": "stdout",
     "output_type": "stream",
     "text": [
      "iteration number: 0: scoreBIC = -1897.0277331403577\n",
      "max ngbr <bound method RTGEM.inverse_add_edge_operator of <rtgemlib.rtgem.RTGEM object at 0x00000160F0256898>>, args=[('A', 'B')], max_scoreBIC = -160.12474173196279\n",
      "iteration number: 1: scoreBIC = -160.12474173196279\n",
      "max ngbr <bound method RTGEM.inverse_extend_operator of <rtgemlib.rtgem.RTGEM object at 0x00000160F0256898>>, args=[('A', 'A')], max_scoreBIC = 1608.1398232544834\n",
      "iteration number: 2: scoreBIC = 1608.1398232544834\n",
      "max ngbr <bound method RTGEM.inverse_extend_operator of <rtgemlib.rtgem.RTGEM object at 0x00000160F0256898>>, args=[('A', 'A')], max_scoreBIC = 2492.0021361774925\n",
      "iteration number: 3: scoreBIC = 2492.0021361774925\n",
      "max ngbr <bound method RTGEM.inverse_extend_operator of <rtgemlib.rtgem.RTGEM object at 0x00000160F0256898>>, args=[('A', 'A')], max_scoreBIC = 2933.927177722613\n",
      "iteration number: 4: scoreBIC = 2933.927177722613\n",
      "max ngbr <bound method RTGEM.inverse_extend_operator of <rtgemlib.rtgem.RTGEM object at 0x00000160F0256898>>, args=[('A', 'A')], max_scoreBIC = 3153.3693882689777\n",
      "iteration number: 5: scoreBIC = 3153.3693882689777\n",
      "max ngbr <bound method RTGEM.inverse_add_edge_operator of <rtgemlib.rtgem.RTGEM object at 0x00000160F0256898>>, args=[('A', 'A')], max_scoreBIC = 3225.5231041678194\n",
      "iteration number: 6: scoreBIC = 3225.5231041678194\n",
      "max ngbr <bound method RTGEM.inverse_extend_operator of <rtgemlib.rtgem.RTGEM object at 0x00000160F0256898>>, args=[('B', 'B')], max_scoreBIC = 4108.363966570354\n",
      "iteration number: 7: scoreBIC = 4108.363966570354\n",
      "max ngbr <bound method RTGEM.inverse_extend_operator of <rtgemlib.rtgem.RTGEM object at 0x00000160F0256898>>, args=[('B', 'B')], max_scoreBIC = 4549.605200235625\n",
      "iteration number: 8: scoreBIC = 4549.605200235625\n",
      "max ngbr <bound method RTGEM.inverse_extend_operator of <rtgemlib.rtgem.RTGEM object at 0x00000160F0256898>>, args=[('B', 'B')], max_scoreBIC = 4769.461487745022\n",
      "iteration number: 9: scoreBIC = 4769.461487745022\n",
      "max ngbr <bound method RTGEM.inverse_extend_operator of <rtgemlib.rtgem.RTGEM object at 0x00000160F0256898>>, args=[('B', 'B')], max_scoreBIC = 4879.20131543661\n",
      "iteration number: 10: scoreBIC = 4879.20131543661\n",
      "max ngbr <bound method RTGEM.inverse_extend_operator of <rtgemlib.rtgem.RTGEM object at 0x00000160F0256898>>, args=[('B', 'B')], max_scoreBIC = 4933.903473293166\n",
      "iteration number: 11: scoreBIC = 4933.903473293166\n",
      "max ngbr <bound method RTGEM.inverse_extend_operator of <rtgemlib.rtgem.RTGEM object at 0x00000160F0256898>>, args=[('B', 'B')], max_scoreBIC = 4957.6863461496105\n",
      "iteration number: 12: scoreBIC = 4957.6863461496105\n",
      "max ngbr <bound method RTGEM.inverse_extend_operator of <rtgemlib.rtgem.RTGEM object at 0x00000160F0256898>>, args=[('B', 'B')], max_scoreBIC = 4971.402594883431\n",
      "iteration number: 13: scoreBIC = 4971.402594883431\n",
      "max ngbr <bound method RTGEM.inverse_extend_operator of <rtgemlib.rtgem.RTGEM object at 0x00000160F0256898>>, args=[('B', 'A')], max_scoreBIC = 6953.594713349928\n",
      "iteration number: 14: scoreBIC = 6953.594713349928\n",
      "max ngbr <bound method RTGEM.inverse_extend_operator of <rtgemlib.rtgem.RTGEM object at 0x00000160F0256898>>, args=[('B', 'A')], max_scoreBIC = 6979.4480614153445\n",
      "iteration number: 15: scoreBIC = 6979.4480614153445\n",
      "max ngbr <bound method RTGEM.inverse_extend_operator of <rtgemlib.rtgem.RTGEM object at 0x00000160F0256898>>, args=[('B', 'A')], max_scoreBIC = 6992.2138533105335\n",
      "iteration number: 16: scoreBIC = 6992.2138533105335\n",
      "max ngbr <bound method RTGEM.inverse_add_edge_operator of <rtgemlib.rtgem.RTGEM object at 0x00000160F0256898>>, args=[('B', 'A')], max_scoreBIC = 6996.154825792797\n",
      "iteration number: 17: scoreBIC = 6996.154825792797\n"
     ]
    }
   ],
   "source": [
    "it = 0\n",
    "backward_logs = []\n",
    "local_maximum = False\n",
    "\n",
    "while not local_maximum:\n",
    "    #     max_ngbr_score = -np.inf\n",
    "    local_maximum = True\n",
    "    max_score_ngbr = -np.inf\n",
    "    max_op = None\n",
    "    max_args = None\n",
    "    max_changed_node_cnt_drt_df = None\n",
    "    max_size_log_td_ngbr = None\n",
    "    max_LogL_ngbr = None\n",
    "    print('iteration number: {}: scoreBIC = {}'.format(it, score))\n",
    "    for ngbr_info in backward_neighbors_gen(model, data, t_max, lambdas_count_duration_df,LogL, size_log_td, log_td,):\n",
    "\n",
    "        op, args, LogL_ngbr, size_log_td_ngbr, changed_node_cnt_drt_df = ngbr_info\n",
    "        score_ngbr = LogL_ngbr - size_log_td_ngbr\n",
    "\n",
    "#         if score_ngbr > max_score_ngbr:\n",
    "        max_score_ngbr = score_ngbr\n",
    "        max_op = op\n",
    "        max_args = args\n",
    "        max_changed_node_cnt_drt_df = changed_node_cnt_drt_df\n",
    "        max_size_log_td_ngbr = size_log_td_ngbr\n",
    "        max_LogL_ngbr = LogL_ngbr\n",
    "\n",
    "        if max_score_ngbr > score:\n",
    "            print('max ngbr {}, args={}, max_scoreBIC = {}'.format(max_op, max_args, max_score_ngbr))\n",
    "\n",
    "            max_op(*max_args)\n",
    "            LogL = max_LogL_ngbr\n",
    "            size_log_td = max_size_log_td_ngbr\n",
    "            changed_node = max_changed_node_cnt_drt_df.iloc[0]['event']\n",
    "            lambdas_count_duration_df = lambdas_count_duration_df[lambdas_count_duration_df['event'] != changed_node]\n",
    "            lambdas_count_duration_df = pd.concat([lambdas_count_duration_df, max_changed_node_cnt_drt_df])\n",
    "\n",
    "            local_maximum = False\n",
    "            score = max_score_ngbr\n",
    "            op_name = 'supprimerArc'\n",
    "\n",
    "            if max_op == model.inverse_extend_operator:\n",
    "                op_name = 'reduireIntervalle'\n",
    "            # pd.Dataframe(columns=['it', 'T_A', 'T_B', 'edges', 'max_ngbr', 'scoreBic'])\n",
    "            if max_op == model.inverse_split_operator:\n",
    "                op_name = 'FusionnerIntervalle'\n",
    "\n",
    "            backward_logs.append([it, copy.deepcopy(model.get_node_parents_timescales('A')),\\\n",
    "                                 copy.deepcopy(model.get_node_parents_timescales('B')),\\\n",
    "                                 list(model.dpd_graph.edges()),\\\n",
    "                                 op_name,\\\n",
    "                                 max_args,\\\n",
    "                                 score])\n",
    "            break\n",
    "    it += 1"
   ]
  },
  {
   "cell_type": "code",
   "execution_count": null,
   "metadata": {},
   "outputs": [],
   "source": []
  },
  {
   "cell_type": "code",
   "execution_count": null,
   "metadata": {},
   "outputs": [],
   "source": []
  }
 ],
 "metadata": {
  "kernelspec": {
   "display_name": "Python 3",
   "language": "python",
   "name": "python3"
  },
  "language_info": {
   "codemirror_mode": {
    "name": "ipython",
    "version": 3
   },
   "file_extension": ".py",
   "mimetype": "text/x-python",
   "name": "python",
   "nbconvert_exporter": "python",
   "pygments_lexer": "ipython3",
   "version": "3.6.4"
  }
 },
 "nbformat": 4,
 "nbformat_minor": 2
}
