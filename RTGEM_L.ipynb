{
 "cells": [
  {
   "cell_type": "code",
   "execution_count": 1,
   "metadata": {
    "scrolled": false
   },
   "outputs": [
    {
     "name": "stderr",
     "output_type": "stream",
     "text": [
      "C:\\Users\\MOTALY\\Anaconda3\\lib\\site-packages\\tqdm\\autonotebook\\__init__.py:14: TqdmExperimentalWarning: Using `tqdm.autonotebook.tqdm` in notebook mode. Use `tqdm.tqdm` instead to force console mode (e.g. in jupyter console)\n",
      "  \" (e.g. in jupyter console)\", TqdmExperimentalWarning)\n"
     ]
    }
   ],
   "source": [
    "from rtgemlib import RTGEM\n",
    "from rtgemlib import sample_from_tgem, LogLikelihood, scoreBic, mle_lambdas, LocaleLogLikelihood, get_count_duration_df, get_node_LogLikelihood, set_pcv_lambda_t, backward_neighbors_gen,\\\n",
    "compute_logLikelihood, set_nodes_timeseries, set_nodes_parents_counts, duration, get_parents_count_vector, forward_neighbors_gen\n",
    "\n",
    "from tqdm.autonotebook import tqdm\n",
    "import pandas as pd\n",
    "import numpy as np\n",
    "import matplotlib.pyplot as plt\n",
    "import networkx as nx"
   ]
  },
  {
   "cell_type": "code",
   "execution_count": 2,
   "metadata": {
    "collapsed": true
   },
   "outputs": [],
   "source": [
    "def empty_nodes(nodes):\n",
    "    return dict(zip(nodes, [{'timescales': {}, 'lambdas': {(): 1}}] * len(nodes)))"
   ]
  },
  {
   "cell_type": "code",
   "execution_count": 3,
   "metadata": {
    "collapsed": true
   },
   "outputs": [],
   "source": [
    "model = {'B': \n",
    "            {\n",
    "            'timescales': {'A' : [[1,2], [5, 6]]},\\\n",
    "            'lambdas': {\n",
    "                       (0,0): 10, \\\n",
    "                       (0,1): 1.6, \\\n",
    "                       (1,0): 3, \\\n",
    "                       (1,1) : 1\n",
    "                      }\n",
    "            },\n",
    "            'A': {\n",
    "                'timescales': {'B': [[0,1], [10,15]]},\\\n",
    "                'lambdas': {\n",
    "                       (0,0): 1, \\\n",
    "                       (0,1): 4, \\\n",
    "                       (1,0): 5, \\\n",
    "                       (1,1) : 9\n",
    "                      }\n",
    "            }\n",
    "        }\n",
    "\n"
   ]
  },
  {
   "cell_type": "code",
   "execution_count": 4,
   "metadata": {
    "collapsed": true
   },
   "outputs": [],
   "source": [
    "rtgem_model = RTGEM(model)"
   ]
  },
  {
   "cell_type": "code",
   "execution_count": 5,
   "metadata": {
    "collapsed": true
   },
   "outputs": [],
   "source": [
    "t_max = 10000"
   ]
  },
  {
   "cell_type": "markdown",
   "metadata": {},
   "source": [
    "## Sampling"
   ]
  },
  {
   "cell_type": "code",
   "execution_count": 6,
   "metadata": {
    "scrolled": false
   },
   "outputs": [
    {
     "data": {
      "application/vnd.jupyter.widget-view+json": {
       "model_id": "97b5b36757cd4f439239e0c04a32ce19",
       "version_major": 2,
       "version_minor": 0
      },
      "text/plain": [
       "A Jupyter Widget"
      ]
     },
     "metadata": {},
     "output_type": "display_data"
    },
    {
     "data": {
      "application/vnd.jupyter.widget-view+json": {
       "model_id": "142e6f4b6c8b47fdae90c29391d25374",
       "version_major": 2,
       "version_minor": 0
      },
      "text/plain": [
       "A Jupyter Widget"
      ]
     },
     "metadata": {},
     "output_type": "display_data"
    },
    {
     "name": "stdout",
     "output_type": "stream",
     "text": [
      "\r"
     ]
    },
    {
     "data": {
      "application/vnd.jupyter.widget-view+json": {
       "model_id": "8eb007a0cfae4cae91a7a7011049ba51",
       "version_major": 2,
       "version_minor": 0
      },
      "text/plain": [
       "A Jupyter Widget"
      ]
     },
     "metadata": {},
     "output_type": "display_data"
    },
    {
     "name": "stdout",
     "output_type": "stream",
     "text": [
      "\r"
     ]
    }
   ],
   "source": [
    "sampled_data = sample_from_tgem(rtgem_model, t_min=0, t_max=t_max)"
   ]
  },
  {
   "cell_type": "code",
   "execution_count": 7,
   "metadata": {
    "collapsed": true,
    "scrolled": false
   },
   "outputs": [],
   "source": [
    "set_pcv_lambda_t(model=rtgem_model, data=sampled_data, t_max=t_max)"
   ]
  },
  {
   "cell_type": "code",
   "execution_count": 8,
   "metadata": {
    "scrolled": true
   },
   "outputs": [
    {
     "data": {
      "text/html": [
       "<div>\n",
       "<style scoped>\n",
       "    .dataframe tbody tr th:only-of-type {\n",
       "        vertical-align: middle;\n",
       "    }\n",
       "\n",
       "    .dataframe tbody tr th {\n",
       "        vertical-align: top;\n",
       "    }\n",
       "\n",
       "    .dataframe thead th {\n",
       "        text-align: right;\n",
       "    }\n",
       "</style>\n",
       "<table border=\"1\" class=\"dataframe\">\n",
       "  <thead>\n",
       "    <tr style=\"text-align: right;\">\n",
       "      <th></th>\n",
       "      <th>time</th>\n",
       "      <th>event</th>\n",
       "      <th>pcv</th>\n",
       "      <th>lambda_t</th>\n",
       "    </tr>\n",
       "  </thead>\n",
       "  <tbody>\n",
       "    <tr>\n",
       "      <th>0</th>\n",
       "      <td>0.009960</td>\n",
       "      <td>B</td>\n",
       "      <td>(0, 0)</td>\n",
       "      <td>10.0</td>\n",
       "    </tr>\n",
       "    <tr>\n",
       "      <th>1</th>\n",
       "      <td>0.076022</td>\n",
       "      <td>B</td>\n",
       "      <td>(0, 0)</td>\n",
       "      <td>10.0</td>\n",
       "    </tr>\n",
       "    <tr>\n",
       "      <th>10401</th>\n",
       "      <td>0.087976</td>\n",
       "      <td>A</td>\n",
       "      <td>(1, 0)</td>\n",
       "      <td>5.0</td>\n",
       "    </tr>\n",
       "    <tr>\n",
       "      <th>2</th>\n",
       "      <td>0.208396</td>\n",
       "      <td>B</td>\n",
       "      <td>(0, 0)</td>\n",
       "      <td>10.0</td>\n",
       "    </tr>\n",
       "    <tr>\n",
       "      <th>3</th>\n",
       "      <td>0.301071</td>\n",
       "      <td>B</td>\n",
       "      <td>(0, 0)</td>\n",
       "      <td>10.0</td>\n",
       "    </tr>\n",
       "    <tr>\n",
       "      <th>10402</th>\n",
       "      <td>0.913461</td>\n",
       "      <td>A</td>\n",
       "      <td>(1, 0)</td>\n",
       "      <td>5.0</td>\n",
       "    </tr>\n",
       "    <tr>\n",
       "      <th>10403</th>\n",
       "      <td>0.920394</td>\n",
       "      <td>A</td>\n",
       "      <td>(1, 0)</td>\n",
       "      <td>5.0</td>\n",
       "    </tr>\n",
       "    <tr>\n",
       "      <th>4</th>\n",
       "      <td>0.936484</td>\n",
       "      <td>B</td>\n",
       "      <td>(0, 0)</td>\n",
       "      <td>10.0</td>\n",
       "    </tr>\n",
       "    <tr>\n",
       "      <th>5</th>\n",
       "      <td>0.974647</td>\n",
       "      <td>B</td>\n",
       "      <td>(0, 0)</td>\n",
       "      <td>10.0</td>\n",
       "    </tr>\n",
       "    <tr>\n",
       "      <th>6</th>\n",
       "      <td>1.373896</td>\n",
       "      <td>B</td>\n",
       "      <td>(1, 0)</td>\n",
       "      <td>3.0</td>\n",
       "    </tr>\n",
       "    <tr>\n",
       "      <th>7</th>\n",
       "      <td>1.651158</td>\n",
       "      <td>B</td>\n",
       "      <td>(1, 0)</td>\n",
       "      <td>3.0</td>\n",
       "    </tr>\n",
       "    <tr>\n",
       "      <th>10404</th>\n",
       "      <td>1.675430</td>\n",
       "      <td>A</td>\n",
       "      <td>(1, 0)</td>\n",
       "      <td>5.0</td>\n",
       "    </tr>\n",
       "    <tr>\n",
       "      <th>10405</th>\n",
       "      <td>1.795528</td>\n",
       "      <td>A</td>\n",
       "      <td>(1, 0)</td>\n",
       "      <td>5.0</td>\n",
       "    </tr>\n",
       "    <tr>\n",
       "      <th>10406</th>\n",
       "      <td>1.832179</td>\n",
       "      <td>A</td>\n",
       "      <td>(1, 0)</td>\n",
       "      <td>5.0</td>\n",
       "    </tr>\n",
       "    <tr>\n",
       "      <th>8</th>\n",
       "      <td>1.857296</td>\n",
       "      <td>B</td>\n",
       "      <td>(1, 0)</td>\n",
       "      <td>3.0</td>\n",
       "    </tr>\n",
       "    <tr>\n",
       "      <th>9</th>\n",
       "      <td>2.062113</td>\n",
       "      <td>B</td>\n",
       "      <td>(1, 0)</td>\n",
       "      <td>3.0</td>\n",
       "    </tr>\n",
       "    <tr>\n",
       "      <th>10407</th>\n",
       "      <td>2.220159</td>\n",
       "      <td>A</td>\n",
       "      <td>(1, 0)</td>\n",
       "      <td>5.0</td>\n",
       "    </tr>\n",
       "    <tr>\n",
       "      <th>10408</th>\n",
       "      <td>2.289293</td>\n",
       "      <td>A</td>\n",
       "      <td>(1, 0)</td>\n",
       "      <td>5.0</td>\n",
       "    </tr>\n",
       "    <tr>\n",
       "      <th>10</th>\n",
       "      <td>2.370346</td>\n",
       "      <td>B</td>\n",
       "      <td>(1, 0)</td>\n",
       "      <td>3.0</td>\n",
       "    </tr>\n",
       "    <tr>\n",
       "      <th>10409</th>\n",
       "      <td>2.472186</td>\n",
       "      <td>A</td>\n",
       "      <td>(1, 0)</td>\n",
       "      <td>5.0</td>\n",
       "    </tr>\n",
       "    <tr>\n",
       "      <th>10410</th>\n",
       "      <td>2.531485</td>\n",
       "      <td>A</td>\n",
       "      <td>(1, 0)</td>\n",
       "      <td>5.0</td>\n",
       "    </tr>\n",
       "    <tr>\n",
       "      <th>11</th>\n",
       "      <td>2.623583</td>\n",
       "      <td>B</td>\n",
       "      <td>(1, 0)</td>\n",
       "      <td>3.0</td>\n",
       "    </tr>\n",
       "    <tr>\n",
       "      <th>10411</th>\n",
       "      <td>2.663752</td>\n",
       "      <td>A</td>\n",
       "      <td>(1, 0)</td>\n",
       "      <td>5.0</td>\n",
       "    </tr>\n",
       "    <tr>\n",
       "      <th>10412</th>\n",
       "      <td>2.697129</td>\n",
       "      <td>A</td>\n",
       "      <td>(1, 0)</td>\n",
       "      <td>5.0</td>\n",
       "    </tr>\n",
       "    <tr>\n",
       "      <th>12</th>\n",
       "      <td>2.720064</td>\n",
       "      <td>B</td>\n",
       "      <td>(1, 0)</td>\n",
       "      <td>3.0</td>\n",
       "    </tr>\n",
       "    <tr>\n",
       "      <th>10413</th>\n",
       "      <td>2.817741</td>\n",
       "      <td>A</td>\n",
       "      <td>(1, 0)</td>\n",
       "      <td>5.0</td>\n",
       "    </tr>\n",
       "    <tr>\n",
       "      <th>13</th>\n",
       "      <td>2.852764</td>\n",
       "      <td>B</td>\n",
       "      <td>(1, 0)</td>\n",
       "      <td>3.0</td>\n",
       "    </tr>\n",
       "    <tr>\n",
       "      <th>14</th>\n",
       "      <td>2.982804</td>\n",
       "      <td>B</td>\n",
       "      <td>(1, 0)</td>\n",
       "      <td>3.0</td>\n",
       "    </tr>\n",
       "    <tr>\n",
       "      <th>10414</th>\n",
       "      <td>3.010638</td>\n",
       "      <td>A</td>\n",
       "      <td>(1, 0)</td>\n",
       "      <td>5.0</td>\n",
       "    </tr>\n",
       "    <tr>\n",
       "      <th>15</th>\n",
       "      <td>3.083104</td>\n",
       "      <td>B</td>\n",
       "      <td>(1, 0)</td>\n",
       "      <td>3.0</td>\n",
       "    </tr>\n",
       "    <tr>\n",
       "      <th>...</th>\n",
       "      <td>...</td>\n",
       "      <td>...</td>\n",
       "      <td>...</td>\n",
       "      <td>...</td>\n",
       "    </tr>\n",
       "    <tr>\n",
       "      <th>70940</th>\n",
       "      <td>9996.478514</td>\n",
       "      <td>A</td>\n",
       "      <td>(1, 1)</td>\n",
       "      <td>9.0</td>\n",
       "    </tr>\n",
       "    <tr>\n",
       "      <th>70941</th>\n",
       "      <td>9996.530392</td>\n",
       "      <td>A</td>\n",
       "      <td>(1, 1)</td>\n",
       "      <td>9.0</td>\n",
       "    </tr>\n",
       "    <tr>\n",
       "      <th>70942</th>\n",
       "      <td>9996.571472</td>\n",
       "      <td>A</td>\n",
       "      <td>(1, 1)</td>\n",
       "      <td>9.0</td>\n",
       "    </tr>\n",
       "    <tr>\n",
       "      <th>70943</th>\n",
       "      <td>9996.663266</td>\n",
       "      <td>A</td>\n",
       "      <td>(1, 1)</td>\n",
       "      <td>9.0</td>\n",
       "    </tr>\n",
       "    <tr>\n",
       "      <th>10395</th>\n",
       "      <td>9996.824572</td>\n",
       "      <td>B</td>\n",
       "      <td>(1, 1)</td>\n",
       "      <td>1.0</td>\n",
       "    </tr>\n",
       "    <tr>\n",
       "      <th>10396</th>\n",
       "      <td>9996.918217</td>\n",
       "      <td>B</td>\n",
       "      <td>(1, 1)</td>\n",
       "      <td>1.0</td>\n",
       "    </tr>\n",
       "    <tr>\n",
       "      <th>10397</th>\n",
       "      <td>9996.938044</td>\n",
       "      <td>B</td>\n",
       "      <td>(1, 1)</td>\n",
       "      <td>1.0</td>\n",
       "    </tr>\n",
       "    <tr>\n",
       "      <th>70944</th>\n",
       "      <td>9996.968657</td>\n",
       "      <td>A</td>\n",
       "      <td>(1, 1)</td>\n",
       "      <td>9.0</td>\n",
       "    </tr>\n",
       "    <tr>\n",
       "      <th>70945</th>\n",
       "      <td>9997.079273</td>\n",
       "      <td>A</td>\n",
       "      <td>(1, 1)</td>\n",
       "      <td>9.0</td>\n",
       "    </tr>\n",
       "    <tr>\n",
       "      <th>70946</th>\n",
       "      <td>9997.154825</td>\n",
       "      <td>A</td>\n",
       "      <td>(1, 1)</td>\n",
       "      <td>9.0</td>\n",
       "    </tr>\n",
       "    <tr>\n",
       "      <th>70947</th>\n",
       "      <td>9997.266729</td>\n",
       "      <td>A</td>\n",
       "      <td>(1, 1)</td>\n",
       "      <td>9.0</td>\n",
       "    </tr>\n",
       "    <tr>\n",
       "      <th>70948</th>\n",
       "      <td>9997.282901</td>\n",
       "      <td>A</td>\n",
       "      <td>(1, 1)</td>\n",
       "      <td>9.0</td>\n",
       "    </tr>\n",
       "    <tr>\n",
       "      <th>70949</th>\n",
       "      <td>9997.401561</td>\n",
       "      <td>A</td>\n",
       "      <td>(1, 1)</td>\n",
       "      <td>9.0</td>\n",
       "    </tr>\n",
       "    <tr>\n",
       "      <th>10398</th>\n",
       "      <td>9997.429582</td>\n",
       "      <td>B</td>\n",
       "      <td>(1, 1)</td>\n",
       "      <td>1.0</td>\n",
       "    </tr>\n",
       "    <tr>\n",
       "      <th>70950</th>\n",
       "      <td>9997.472996</td>\n",
       "      <td>A</td>\n",
       "      <td>(1, 1)</td>\n",
       "      <td>9.0</td>\n",
       "    </tr>\n",
       "    <tr>\n",
       "      <th>70951</th>\n",
       "      <td>9997.598219</td>\n",
       "      <td>A</td>\n",
       "      <td>(1, 1)</td>\n",
       "      <td>9.0</td>\n",
       "    </tr>\n",
       "    <tr>\n",
       "      <th>70952</th>\n",
       "      <td>9998.020166</td>\n",
       "      <td>A</td>\n",
       "      <td>(1, 1)</td>\n",
       "      <td>9.0</td>\n",
       "    </tr>\n",
       "    <tr>\n",
       "      <th>70953</th>\n",
       "      <td>9998.088026</td>\n",
       "      <td>A</td>\n",
       "      <td>(1, 1)</td>\n",
       "      <td>9.0</td>\n",
       "    </tr>\n",
       "    <tr>\n",
       "      <th>70954</th>\n",
       "      <td>9998.188058</td>\n",
       "      <td>A</td>\n",
       "      <td>(1, 1)</td>\n",
       "      <td>9.0</td>\n",
       "    </tr>\n",
       "    <tr>\n",
       "      <th>70955</th>\n",
       "      <td>9998.205569</td>\n",
       "      <td>A</td>\n",
       "      <td>(1, 1)</td>\n",
       "      <td>9.0</td>\n",
       "    </tr>\n",
       "    <tr>\n",
       "      <th>10399</th>\n",
       "      <td>9998.970362</td>\n",
       "      <td>B</td>\n",
       "      <td>(1, 1)</td>\n",
       "      <td>1.0</td>\n",
       "    </tr>\n",
       "    <tr>\n",
       "      <th>70956</th>\n",
       "      <td>9999.255195</td>\n",
       "      <td>A</td>\n",
       "      <td>(1, 1)</td>\n",
       "      <td>9.0</td>\n",
       "    </tr>\n",
       "    <tr>\n",
       "      <th>10400</th>\n",
       "      <td>9999.462244</td>\n",
       "      <td>B</td>\n",
       "      <td>(1, 1)</td>\n",
       "      <td>1.0</td>\n",
       "    </tr>\n",
       "    <tr>\n",
       "      <th>70957</th>\n",
       "      <td>9999.473814</td>\n",
       "      <td>A</td>\n",
       "      <td>(1, 1)</td>\n",
       "      <td>9.0</td>\n",
       "    </tr>\n",
       "    <tr>\n",
       "      <th>70958</th>\n",
       "      <td>9999.504311</td>\n",
       "      <td>A</td>\n",
       "      <td>(1, 1)</td>\n",
       "      <td>9.0</td>\n",
       "    </tr>\n",
       "    <tr>\n",
       "      <th>70959</th>\n",
       "      <td>9999.519323</td>\n",
       "      <td>A</td>\n",
       "      <td>(1, 1)</td>\n",
       "      <td>9.0</td>\n",
       "    </tr>\n",
       "    <tr>\n",
       "      <th>70960</th>\n",
       "      <td>9999.546198</td>\n",
       "      <td>A</td>\n",
       "      <td>(1, 1)</td>\n",
       "      <td>9.0</td>\n",
       "    </tr>\n",
       "    <tr>\n",
       "      <th>70961</th>\n",
       "      <td>9999.763361</td>\n",
       "      <td>A</td>\n",
       "      <td>(1, 1)</td>\n",
       "      <td>9.0</td>\n",
       "    </tr>\n",
       "    <tr>\n",
       "      <th>70962</th>\n",
       "      <td>9999.919066</td>\n",
       "      <td>A</td>\n",
       "      <td>(1, 1)</td>\n",
       "      <td>9.0</td>\n",
       "    </tr>\n",
       "    <tr>\n",
       "      <th>70963</th>\n",
       "      <td>9999.925075</td>\n",
       "      <td>A</td>\n",
       "      <td>(1, 1)</td>\n",
       "      <td>9.0</td>\n",
       "    </tr>\n",
       "  </tbody>\n",
       "</table>\n",
       "<p>70964 rows × 4 columns</p>\n",
       "</div>"
      ],
      "text/plain": [
       "              time event     pcv  lambda_t\n",
       "0         0.009960     B  (0, 0)      10.0\n",
       "1         0.076022     B  (0, 0)      10.0\n",
       "10401     0.087976     A  (1, 0)       5.0\n",
       "2         0.208396     B  (0, 0)      10.0\n",
       "3         0.301071     B  (0, 0)      10.0\n",
       "10402     0.913461     A  (1, 0)       5.0\n",
       "10403     0.920394     A  (1, 0)       5.0\n",
       "4         0.936484     B  (0, 0)      10.0\n",
       "5         0.974647     B  (0, 0)      10.0\n",
       "6         1.373896     B  (1, 0)       3.0\n",
       "7         1.651158     B  (1, 0)       3.0\n",
       "10404     1.675430     A  (1, 0)       5.0\n",
       "10405     1.795528     A  (1, 0)       5.0\n",
       "10406     1.832179     A  (1, 0)       5.0\n",
       "8         1.857296     B  (1, 0)       3.0\n",
       "9         2.062113     B  (1, 0)       3.0\n",
       "10407     2.220159     A  (1, 0)       5.0\n",
       "10408     2.289293     A  (1, 0)       5.0\n",
       "10        2.370346     B  (1, 0)       3.0\n",
       "10409     2.472186     A  (1, 0)       5.0\n",
       "10410     2.531485     A  (1, 0)       5.0\n",
       "11        2.623583     B  (1, 0)       3.0\n",
       "10411     2.663752     A  (1, 0)       5.0\n",
       "10412     2.697129     A  (1, 0)       5.0\n",
       "12        2.720064     B  (1, 0)       3.0\n",
       "10413     2.817741     A  (1, 0)       5.0\n",
       "13        2.852764     B  (1, 0)       3.0\n",
       "14        2.982804     B  (1, 0)       3.0\n",
       "10414     3.010638     A  (1, 0)       5.0\n",
       "15        3.083104     B  (1, 0)       3.0\n",
       "...            ...   ...     ...       ...\n",
       "70940  9996.478514     A  (1, 1)       9.0\n",
       "70941  9996.530392     A  (1, 1)       9.0\n",
       "70942  9996.571472     A  (1, 1)       9.0\n",
       "70943  9996.663266     A  (1, 1)       9.0\n",
       "10395  9996.824572     B  (1, 1)       1.0\n",
       "10396  9996.918217     B  (1, 1)       1.0\n",
       "10397  9996.938044     B  (1, 1)       1.0\n",
       "70944  9996.968657     A  (1, 1)       9.0\n",
       "70945  9997.079273     A  (1, 1)       9.0\n",
       "70946  9997.154825     A  (1, 1)       9.0\n",
       "70947  9997.266729     A  (1, 1)       9.0\n",
       "70948  9997.282901     A  (1, 1)       9.0\n",
       "70949  9997.401561     A  (1, 1)       9.0\n",
       "10398  9997.429582     B  (1, 1)       1.0\n",
       "70950  9997.472996     A  (1, 1)       9.0\n",
       "70951  9997.598219     A  (1, 1)       9.0\n",
       "70952  9998.020166     A  (1, 1)       9.0\n",
       "70953  9998.088026     A  (1, 1)       9.0\n",
       "70954  9998.188058     A  (1, 1)       9.0\n",
       "70955  9998.205569     A  (1, 1)       9.0\n",
       "10399  9998.970362     B  (1, 1)       1.0\n",
       "70956  9999.255195     A  (1, 1)       9.0\n",
       "10400  9999.462244     B  (1, 1)       1.0\n",
       "70957  9999.473814     A  (1, 1)       9.0\n",
       "70958  9999.504311     A  (1, 1)       9.0\n",
       "70959  9999.519323     A  (1, 1)       9.0\n",
       "70960  9999.546198     A  (1, 1)       9.0\n",
       "70961  9999.763361     A  (1, 1)       9.0\n",
       "70962  9999.919066     A  (1, 1)       9.0\n",
       "70963  9999.925075     A  (1, 1)       9.0\n",
       "\n",
       "[70964 rows x 4 columns]"
      ]
     },
     "execution_count": 8,
     "metadata": {},
     "output_type": "execute_result"
    }
   ],
   "source": [
    "sampled_data"
   ]
  },
  {
   "cell_type": "code",
   "execution_count": 9,
   "metadata": {
    "collapsed": true,
    "scrolled": true
   },
   "outputs": [],
   "source": [
    "count_duration_df = get_count_duration_df(model=rtgem_model, data=sampled_data, t_max=t_max)"
   ]
  },
  {
   "cell_type": "code",
   "execution_count": 10,
   "metadata": {
    "scrolled": true
   },
   "outputs": [
    {
     "data": {
      "text/html": [
       "<div>\n",
       "<style scoped>\n",
       "    .dataframe tbody tr th:only-of-type {\n",
       "        vertical-align: middle;\n",
       "    }\n",
       "\n",
       "    .dataframe tbody tr th {\n",
       "        vertical-align: top;\n",
       "    }\n",
       "\n",
       "    .dataframe thead th {\n",
       "        text-align: right;\n",
       "    }\n",
       "</style>\n",
       "<table border=\"1\" class=\"dataframe\">\n",
       "  <thead>\n",
       "    <tr style=\"text-align: right;\">\n",
       "      <th></th>\n",
       "      <th>event</th>\n",
       "      <th>pcv</th>\n",
       "      <th>lambda_t</th>\n",
       "      <th>duration</th>\n",
       "      <th>count</th>\n",
       "    </tr>\n",
       "  </thead>\n",
       "  <tbody>\n",
       "    <tr>\n",
       "      <th>0</th>\n",
       "      <td>B</td>\n",
       "      <td>(0, 0)</td>\n",
       "      <td>10.0</td>\n",
       "      <td>8.247418</td>\n",
       "      <td>17</td>\n",
       "    </tr>\n",
       "    <tr>\n",
       "      <th>1</th>\n",
       "      <td>B</td>\n",
       "      <td>(0, 1)</td>\n",
       "      <td>1.6</td>\n",
       "      <td>1313.262663</td>\n",
       "      <td>105</td>\n",
       "    </tr>\n",
       "    <tr>\n",
       "      <th>2</th>\n",
       "      <td>B</td>\n",
       "      <td>(1, 0)</td>\n",
       "      <td>3.0</td>\n",
       "      <td>8678.489919</td>\n",
       "      <td>237</td>\n",
       "    </tr>\n",
       "    <tr>\n",
       "      <th>3</th>\n",
       "      <td>B</td>\n",
       "      <td>(1, 1)</td>\n",
       "      <td>1.0</td>\n",
       "      <td>0.000000</td>\n",
       "      <td>10042</td>\n",
       "    </tr>\n",
       "    <tr>\n",
       "      <th>4</th>\n",
       "      <td>A</td>\n",
       "      <td>(0, 0)</td>\n",
       "      <td>1.0</td>\n",
       "      <td>63.578406</td>\n",
       "      <td>16</td>\n",
       "    </tr>\n",
       "    <tr>\n",
       "      <th>5</th>\n",
       "      <td>A</td>\n",
       "      <td>(0, 1)</td>\n",
       "      <td>4.0</td>\n",
       "      <td>9857.769119</td>\n",
       "      <td>13878</td>\n",
       "    </tr>\n",
       "    <tr>\n",
       "      <th>6</th>\n",
       "      <td>A</td>\n",
       "      <td>(1, 0)</td>\n",
       "      <td>5.0</td>\n",
       "      <td>78.652475</td>\n",
       "      <td>218</td>\n",
       "    </tr>\n",
       "    <tr>\n",
       "      <th>7</th>\n",
       "      <td>A</td>\n",
       "      <td>(1, 1)</td>\n",
       "      <td>9.0</td>\n",
       "      <td>0.000000</td>\n",
       "      <td>46451</td>\n",
       "    </tr>\n",
       "  </tbody>\n",
       "</table>\n",
       "</div>"
      ],
      "text/plain": [
       "  event     pcv  lambda_t     duration  count\n",
       "0     B  (0, 0)      10.0     8.247418     17\n",
       "1     B  (0, 1)       1.6  1313.262663    105\n",
       "2     B  (1, 0)       3.0  8678.489919    237\n",
       "3     B  (1, 1)       1.0     0.000000  10042\n",
       "4     A  (0, 0)       1.0    63.578406     16\n",
       "5     A  (0, 1)       4.0  9857.769119  13878\n",
       "6     A  (1, 0)       5.0    78.652475    218\n",
       "7     A  (1, 1)       9.0     0.000000  46451"
      ]
     },
     "execution_count": 10,
     "metadata": {},
     "output_type": "execute_result"
    }
   ],
   "source": [
    "count_duration_df"
   ]
  },
  {
   "cell_type": "markdown",
   "metadata": {},
   "source": [
    "## Likelihood"
   ]
  },
  {
   "cell_type": "code",
   "execution_count": 11,
   "metadata": {},
   "outputs": [
    {
     "data": {
      "text/plain": [
       "53894.913436444753"
      ]
     },
     "execution_count": 11,
     "metadata": {},
     "output_type": "execute_result"
    }
   ],
   "source": [
    "compute_logLikelihood(count_duration_df)"
   ]
  },
  {
   "cell_type": "code",
   "execution_count": 12,
   "metadata": {},
   "outputs": [
    {
     "data": {
      "text/plain": [
       "53894.913436444753"
      ]
     },
     "execution_count": 12,
     "metadata": {},
     "output_type": "execute_result"
    }
   ],
   "source": [
    "LogLikelihood(model=rtgem_model, observed_data=sampled_data, t_max=t_max)"
   ]
  },
  {
   "cell_type": "markdown",
   "metadata": {},
   "source": [
    "## Parameters learning (lambdas)"
   ]
  },
  {
   "cell_type": "code",
   "execution_count": null,
   "metadata": {},
   "outputs": [],
   "source": [
    "mle_lambdas(data=sampled_data, model=rtgem_model, t_max=t_max)"
   ]
  },
  {
   "cell_type": "markdown",
   "metadata": {},
   "source": [
    "## Structure learning"
   ]
  },
  {
   "cell_type": "markdown",
   "metadata": {},
   "source": [
    "### Modèle de référence"
   ]
  },
  {
   "cell_type": "code",
   "execution_count": 30,
   "metadata": {
    "scrolled": true
   },
   "outputs": [],
   "source": [
    "rtgem_model = RTGEM(empty_nodes(['A', 'B']), default_end_timescale=1)"
   ]
  },
  {
   "cell_type": "code",
   "execution_count": 31,
   "metadata": {
    "collapsed": true
   },
   "outputs": [],
   "source": [
    "rtgem_model.add_edge_operator(('A', 'A'))\n",
    "rtgem_model.add_edge_operator(('A', 'B'))\n",
    "rtgem_model.add_edge_operator(('B', 'A'))"
   ]
  },
  {
   "cell_type": "code",
   "execution_count": 32,
   "metadata": {
    "collapsed": true
   },
   "outputs": [],
   "source": [
    "rtgem_model.split_operator(edge=('A', 'A'), timescale=[0,1])"
   ]
  },
  {
   "cell_type": "code",
   "execution_count": 33,
   "metadata": {
    "collapsed": true
   },
   "outputs": [],
   "source": [
    "rtgem_model.extend_operator(edge=('A', 'B'))"
   ]
  },
  {
   "cell_type": "code",
   "execution_count": 34,
   "metadata": {},
   "outputs": [
    {
     "data": {
      "application/vnd.jupyter.widget-view+json": {
       "model_id": "b1b537e9dc914d3ab974de0030d218ba",
       "version_major": 2,
       "version_minor": 0
      },
      "text/plain": [
       "A Jupyter Widget"
      ]
     },
     "metadata": {},
     "output_type": "display_data"
    },
    {
     "data": {
      "application/vnd.jupyter.widget-view+json": {
       "model_id": "c8c290167bba4bbcbef5a9859302a12f",
       "version_major": 2,
       "version_minor": 0
      },
      "text/plain": [
       "A Jupyter Widget"
      ]
     },
     "metadata": {},
     "output_type": "display_data"
    },
    {
     "name": "stdout",
     "output_type": "stream",
     "text": [
      "\r"
     ]
    },
    {
     "data": {
      "application/vnd.jupyter.widget-view+json": {
       "model_id": "e98657d5e11b42f7aeb34e4bfb4dcf0d",
       "version_major": 2,
       "version_minor": 0
      },
      "text/plain": [
       "A Jupyter Widget"
      ]
     },
     "metadata": {},
     "output_type": "display_data"
    },
    {
     "name": "stdout",
     "output_type": "stream",
     "text": [
      "\r"
     ]
    }
   ],
   "source": [
    "sampled_data = sample_from_tgem(rtgem_model, t_min=0, t_max=10000)"
   ]
  },
  {
   "cell_type": "code",
   "execution_count": 35,
   "metadata": {
    "collapsed": true
   },
   "outputs": [],
   "source": [
    "t_max = 1000\n",
    "data = sampled_data[sampled_data['time'] < t_max]"
   ]
  },
  {
   "cell_type": "code",
   "execution_count": 36,
   "metadata": {},
   "outputs": [
    {
     "data": {
      "text/plain": [
       "2208.0511128124062"
      ]
     },
     "execution_count": 36,
     "metadata": {},
     "output_type": "execute_result"
    }
   ],
   "source": [
    "scoreBic(model=rtgem_model, observed_data=data, t_max=t_max)"
   ]
  },
  {
   "cell_type": "markdown",
   "metadata": {},
   "source": [
    "### Forward Search"
   ]
  },
  {
   "cell_type": "code",
   "execution_count": 37,
   "metadata": {
    "collapsed": true
   },
   "outputs": [],
   "source": [
    "import itertools\n",
    "import random\n",
    "import copy"
   ]
  },
  {
   "cell_type": "code",
   "execution_count": 38,
   "metadata": {
    "collapsed": true
   },
   "outputs": [],
   "source": [
    "def empty_nodes(nodes):\n",
    "    return dict(zip(nodes, [{'timescales': {}, 'lambdas': {(): 1}}] * len(nodes)))"
   ]
  },
  {
   "cell_type": "code",
   "execution_count": 39,
   "metadata": {},
   "outputs": [],
   "source": [
    "model = RTGEM(empty_nodes(['A', 'B']),  default_end_timescale=1)"
   ]
  },
  {
   "cell_type": "markdown",
   "metadata": {},
   "source": [
    "#### Initialisation "
   ]
  },
  {
   "cell_type": "code",
   "execution_count": 40,
   "metadata": {},
   "outputs": [],
   "source": [
    "model = set_nodes_timeseries(model, data)\n",
    "model = set_nodes_parents_counts(model, model.dpd_graph.nodes, t_max)\n",
    "set_pcv_lambda_t(model, data, t_max)\n",
    "\n",
    "lambdas_count_duration_df = get_count_duration_df(data, model, t_max)\n",
    "\n",
    "LogL = compute_logLikelihood(lambdas_count_duration_df)\n",
    "log_td = np.log(t_max)\n",
    "\n",
    "size_log_td = model.size() * log_td\n",
    "\n",
    "score = LogL - size_log_td\n",
    "local_maximum = False\n",
    "nodes = list(model.dpd_graph.nodes)\n",
    "possible_edges = list(itertools.product(nodes, repeat = 2))\n",
    "\n",
    "random.shuffle(possible_edges)"
   ]
  },
  {
   "cell_type": "code",
   "execution_count": 41,
   "metadata": {
    "scrolled": false
   },
   "outputs": [
    {
     "name": "stdout",
     "output_type": "stream",
     "text": [
      "iteration number: 0: scoreBIC = -2013.8155105579642\n",
      "max ngbr <bound method RTGEM.add_edge_operator of <rtgemlib.rtgem.RTGEM object at 0x000001B426A1F358>>, args=[('B', 'B')], max_scoreBIC = -1327.438370615615\n",
      "iteration number: 1: scoreBIC = -1327.438370615615\n",
      "max ngbr <bound method RTGEM.extend_operator of <rtgemlib.rtgem.RTGEM object at 0x000001B426A1F358>>, args=[('B', 'B')], max_scoreBIC = -1474.077205678034\n"
     ]
    }
   ],
   "source": [
    "it = 0\n",
    "forward_logs = []\n",
    "while not local_maximum:\n",
    "    #     max_ngbr_score = -np.inf\n",
    "    local_maximum = True\n",
    "    max_score_ngbr = -np.inf\n",
    "    max_op = None\n",
    "    max_args = None\n",
    "    max_changed_node_cnt_drt_df = None\n",
    "    max_size_log_td_ngbr = None\n",
    "    max_LogL_ngbr = None\n",
    "    print('iteration number: {}: scoreBIC = {}'.format(it, score))\n",
    "    for ngbr_info in forward_neighbors_gen(model, data, t_max, lambdas_count_duration_df,LogL, size_log_td, log_td,\\\n",
    "                                           possible_edges):\n",
    "\n",
    "        op, args, LogL_ngbr, size_log_td_ngbr, changed_node_cnt_drt_df = ngbr_info\n",
    "        score_ngbr = LogL_ngbr - size_log_td_ngbr\n",
    "\n",
    "        if score_ngbr > max_score_ngbr:\n",
    "            max_score_ngbr = score_ngbr\n",
    "            max_op = op\n",
    "            max_args = args\n",
    "            max_changed_node_cnt_drt_df = changed_node_cnt_drt_df\n",
    "            max_size_log_td_ngbr = size_log_td_ngbr\n",
    "            max_LogL_ngbr = LogL_ngbr\n",
    "    print('max ngbr {}, args={}, max_scoreBIC = {}'.format(max_op, max_args, max_score_ngbr))\n",
    " \n",
    "    if max_score_ngbr > score:\n",
    "        max_op(*max_args)\n",
    "        LogL = max_LogL_ngbr\n",
    "        size_log_td = max_size_log_td_ngbr\n",
    "        changed_node = max_changed_node_cnt_drt_df.iloc[0]['event']\n",
    "        lambdas_count_duration_df = lambdas_count_duration_df[lambdas_count_duration_df['event'] != changed_node]\n",
    "        lambdas_count_duration_df = pd.concat([lambdas_count_duration_df, max_changed_node_cnt_drt_df])\n",
    "\n",
    "        local_maximum = False\n",
    "        score = max_score_ngbr\n",
    "        op_name = 'étendreIntervalle'\n",
    "\n",
    "        # removes added edge from possible edges\n",
    "        if max_op == model.add_edge_operator:\n",
    "            possible_edges.remove(max_args[0])\n",
    "        # pd.Dataframe(columns=['it', 'T_A', 'T_B', 'edges', 'max_ngbr', 'scoreBic'])\n",
    "            op_name = 'ajouterArc'\n",
    "        if max_op == model.split_operator:\n",
    "            op_name = 'diviserIntervalle'\n",
    "\n",
    "        forward_logs.append([it, copy.deepcopy(model.get_node_parents_timescales('A')),\\\n",
    "                             copy.deepcopy(model.get_node_parents_timescales('B')),\\\n",
    "                             list(model.dpd_graph.edges()),\\\n",
    "                             op_name,\\\n",
    "                             max_args,\\\n",
    "                             score])\n",
    "    it += 1"
   ]
  },
  {
   "cell_type": "code",
   "execution_count": 42,
   "metadata": {
    "collapsed": true
   },
   "outputs": [],
   "source": [
    "model = set_nodes_timeseries(model, data)\n",
    "model = set_nodes_parents_counts(model, model.dpd_graph.nodes, t_max)"
   ]
  },
  {
   "cell_type": "code",
   "execution_count": 43,
   "metadata": {
    "scrolled": false
   },
   "outputs": [
    {
     "data": {
      "text/html": [
       "<div>\n",
       "<style scoped>\n",
       "    .dataframe tbody tr th:only-of-type {\n",
       "        vertical-align: middle;\n",
       "    }\n",
       "\n",
       "    .dataframe tbody tr th {\n",
       "        vertical-align: top;\n",
       "    }\n",
       "\n",
       "    .dataframe thead th {\n",
       "        text-align: right;\n",
       "    }\n",
       "</style>\n",
       "<table border=\"1\" class=\"dataframe\">\n",
       "  <thead>\n",
       "    <tr style=\"text-align: right;\">\n",
       "      <th></th>\n",
       "      <th>event</th>\n",
       "      <th>pcv</th>\n",
       "      <th>lambda_t</th>\n",
       "      <th>duration</th>\n",
       "      <th>count</th>\n",
       "    </tr>\n",
       "  </thead>\n",
       "  <tbody>\n",
       "    <tr>\n",
       "      <th>0</th>\n",
       "      <td>A</td>\n",
       "      <td>()</td>\n",
       "      <td>4.506000</td>\n",
       "      <td>1000.0</td>\n",
       "      <td>4506</td>\n",
       "    </tr>\n",
       "    <tr>\n",
       "      <th>1</th>\n",
       "      <td>B</td>\n",
       "      <td>(0,)</td>\n",
       "      <td>0.090000</td>\n",
       "      <td>1000.0</td>\n",
       "      <td>90</td>\n",
       "    </tr>\n",
       "    <tr>\n",
       "      <th>2</th>\n",
       "      <td>B</td>\n",
       "      <td>(1,)</td>\n",
       "      <td>inf</td>\n",
       "      <td>0.0</td>\n",
       "      <td>3719</td>\n",
       "    </tr>\n",
       "  </tbody>\n",
       "</table>\n",
       "</div>"
      ],
      "text/plain": [
       "  event   pcv  lambda_t  duration  count\n",
       "0     A    ()  4.506000    1000.0   4506\n",
       "1     B  (0,)  0.090000    1000.0     90\n",
       "2     B  (1,)       inf       0.0   3719"
      ]
     },
     "execution_count": 43,
     "metadata": {},
     "output_type": "execute_result"
    }
   ],
   "source": [
    "mle_lambdas(model, data, t_max)"
   ]
  },
  {
   "cell_type": "code",
   "execution_count": 44,
   "metadata": {},
   "outputs": [
    {
     "data": {
      "text/plain": [
       "1949.9383774816824"
      ]
     },
     "execution_count": 44,
     "metadata": {},
     "output_type": "execute_result"
    }
   ],
   "source": [
    "scoreBic(model, data, t_max)"
   ]
  },
  {
   "cell_type": "markdown",
   "metadata": {},
   "source": [
    "## BackwardSearch(Forward)"
   ]
  },
  {
   "cell_type": "code",
   "execution_count": 45,
   "metadata": {},
   "outputs": [],
   "source": [
    "model = set_nodes_timeseries(model, data)\n",
    "model = set_nodes_parents_counts(model, model.dpd_graph.nodes, t_max)\n",
    "set_pcv_lambda_t(model, data, t_max)\n",
    "\n",
    "lambdas_count_duration_df = get_count_duration_df(data, model, t_max)\n",
    "\n",
    "LogL = compute_logLikelihood(lambdas_count_duration_df)\n",
    "log_td = np.log(t_max)\n",
    "\n",
    "size_log_td = model.size() * log_td\n",
    "\n",
    "score = LogL - size_log_td\n",
    "local_maximum = False"
   ]
  },
  {
   "cell_type": "code",
   "execution_count": 46,
   "metadata": {},
   "outputs": [
    {
     "data": {
      "text/plain": [
       "1949.9383774816824"
      ]
     },
     "execution_count": 46,
     "metadata": {},
     "output_type": "execute_result"
    }
   ],
   "source": [
    "score"
   ]
  },
  {
   "cell_type": "code",
   "execution_count": 47,
   "metadata": {},
   "outputs": [
    {
     "name": "stdout",
     "output_type": "stream",
     "text": [
      "iteration number: 0: scoreBIC = 1949.9383774816824\n",
      "max ngbr <bound method RTGEM.inverse_add_edge_operator of <rtgemlib.rtgem.RTGEM object at 0x000001B426A1F358>>, args=[('B', 'B')], max_scoreBIC = 3548.5909502133763\n",
      "iteration number: 1: scoreBIC = 3548.5909502133763\n"
     ]
    }
   ],
   "source": [
    "it = 0\n",
    "backward_logs = []\n",
    "local_maximum = False\n",
    "\n",
    "while not local_maximum:\n",
    "    #     max_ngbr_score = -np.inf\n",
    "    local_maximum = True\n",
    "    max_score_ngbr = -np.inf\n",
    "    max_op = None\n",
    "    max_args = None\n",
    "    max_changed_node_cnt_drt_df = None\n",
    "    max_size_log_td_ngbr = None\n",
    "    max_LogL_ngbr = None\n",
    "    print('iteration number: {}: scoreBIC = {}'.format(it, score))\n",
    "    for ngbr_info in backward_neighbors_gen(model, data, t_max, lambdas_count_duration_df,LogL, size_log_td, log_td,):\n",
    "\n",
    "        op, args, LogL_ngbr, size_log_td_ngbr, changed_node_cnt_drt_df = ngbr_info\n",
    "        score_ngbr = LogL_ngbr - size_log_td_ngbr\n",
    "\n",
    "#         if score_ngbr > max_score_ngbr:\n",
    "        max_score_ngbr = score_ngbr\n",
    "        max_op = op\n",
    "        max_args = args\n",
    "        max_changed_node_cnt_drt_df = changed_node_cnt_drt_df\n",
    "        max_size_log_td_ngbr = size_log_td_ngbr\n",
    "        max_LogL_ngbr = LogL_ngbr\n",
    "\n",
    "        if max_score_ngbr > score:\n",
    "            print('max ngbr {}, args={}, max_scoreBIC = {}'.format(max_op, max_args, max_score_ngbr))\n",
    "\n",
    "            max_op(*max_args)\n",
    "            LogL = max_LogL_ngbr\n",
    "            size_log_td = max_size_log_td_ngbr\n",
    "            changed_node = max_changed_node_cnt_drt_df.iloc[0]['event']\n",
    "            lambdas_count_duration_df = lambdas_count_duration_df[lambdas_count_duration_df['event'] != changed_node]\n",
    "            lambdas_count_duration_df = pd.concat([lambdas_count_duration_df, max_changed_node_cnt_drt_df])\n",
    "\n",
    "            local_maximum = False\n",
    "            score = max_score_ngbr\n",
    "            op_name = 'supprimerArc'\n",
    "\n",
    "            if max_op == model.inverse_extend_operator:\n",
    "                op_name = 'reduireIntervalle'\n",
    "            # pd.Dataframe(columns=['it', 'T_A', 'T_B', 'edges', 'max_ngbr', 'scoreBic'])\n",
    "            if max_op == model.inverse_split_operator:\n",
    "                op_name = 'FusionnerIntervalle'\n",
    "\n",
    "            backward_logs.append([it, copy.deepcopy(model.get_node_parents_timescales('A')),\\\n",
    "                                 copy.deepcopy(model.get_node_parents_timescales('B')),\\\n",
    "                                 list(model.dpd_graph.edges()),\\\n",
    "                                 op_name,\\\n",
    "                                 max_args,\\\n",
    "                                 score])\n",
    "            break\n",
    "    it += 1"
   ]
  },
  {
   "cell_type": "code",
   "execution_count": null,
   "metadata": {
    "collapsed": true
   },
   "outputs": [],
   "source": []
  }
 ],
 "metadata": {
  "kernelspec": {
   "display_name": "Python 3",
   "language": "python",
   "name": "python3"
  },
  "language_info": {
   "codemirror_mode": {
    "name": "ipython",
    "version": 3
   },
   "file_extension": ".py",
   "mimetype": "text/x-python",
   "name": "python",
   "nbconvert_exporter": "python",
   "pygments_lexer": "ipython3",
   "version": "3.6.3"
  }
 },
 "nbformat": 4,
 "nbformat_minor": 2
}
