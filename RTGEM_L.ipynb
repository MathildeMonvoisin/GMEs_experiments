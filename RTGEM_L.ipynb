{
 "cells": [
  {
   "cell_type": "code",
   "execution_count": 1,
   "metadata": {
    "scrolled": false
   },
   "outputs": [
    {
     "name": "stderr",
     "output_type": "stream",
     "text": [
      "C:\\Users\\Mathilde\\Anaconda35\\lib\\site-packages\\tqdm\\autonotebook\\__init__.py:14: TqdmExperimentalWarning: Using `tqdm.autonotebook.tqdm` in notebook mode. Use `tqdm.tqdm` instead to force console mode (e.g. in jupyter console)\n",
      "  \" (e.g. in jupyter console)\", TqdmExperimentalWarning)\n"
     ]
    }
   ],
   "source": [
    "from rtgemlib import RTGEM\n",
    "from rtgemlib import sample_from_tgem, LogLikelihood, scoreBic, mle_lambdas, LocaleLogLikelihood, get_count_duration_df, get_node_LogLikelihood, set_pcv_lambda_t, backward_neighbors_gen,\\\n",
    "compute_logLikelihood, set_nodes_timeseries, set_nodes_parents_counts, duration, get_parents_count_vector, forward_neighbors_gen\n",
    "\n",
    "from tqdm.autonotebook import tqdm\n",
    "import pandas as pd\n",
    "import numpy as np\n",
    "import matplotlib.pyplot as plt\n",
    "import networkx as nx"
   ]
  },
  {
   "cell_type": "code",
   "execution_count": 2,
   "metadata": {},
   "outputs": [],
   "source": [
    "def empty_nodes(nodes):\n",
    "    return dict(zip(nodes, [{'timescales': {}, 'lambdas': {(): 1}}] * len(nodes)))"
   ]
  },
  {
   "cell_type": "code",
   "execution_count": 3,
   "metadata": {},
   "outputs": [],
   "source": [
    "model = {'B': \n",
    "            {\n",
    "            'timescales': {'A' : [[1,2], [5, 6]]},\\\n",
    "            'lambdas': {\n",
    "                       (0,0): 10, \\\n",
    "                       (0,1): 1.6, \\\n",
    "                       (1,0): 3, \\\n",
    "                       (1,1) : 1\n",
    "                      }\n",
    "            },\n",
    "            'A': {\n",
    "                'timescales': {'B': [[0,1], [10,15]]},\\\n",
    "                'lambdas': {\n",
    "                       (0,0): 1, \\\n",
    "                       (0,1): 4, \\\n",
    "                       (1,0): 5, \\\n",
    "                       (1,1) : 9\n",
    "                      }\n",
    "            }\n",
    "        }\n",
    "\n"
   ]
  },
  {
   "cell_type": "code",
   "execution_count": 4,
   "metadata": {},
   "outputs": [],
   "source": [
    "rtgem_model = RTGEM(model)"
   ]
  },
  {
   "cell_type": "code",
   "execution_count": 5,
   "metadata": {},
   "outputs": [],
   "source": [
    "t_max = 10000"
   ]
  },
  {
   "cell_type": "markdown",
   "metadata": {},
   "source": [
    "## Sampling"
   ]
  },
  {
   "cell_type": "code",
   "execution_count": 6,
   "metadata": {
    "scrolled": false
   },
   "outputs": [
    {
     "data": {
      "application/vnd.jupyter.widget-view+json": {
       "model_id": "fc0774245a9c44f5aa88479fe9bdc3fa",
       "version_major": 2,
       "version_minor": 0
      },
      "text/html": [
       "<p>Failed to display Jupyter Widget of type <code>HBox</code>.</p>\n",
       "<p>\n",
       "  If you're reading this message in the Jupyter Notebook or JupyterLab Notebook, it may mean\n",
       "  that the widgets JavaScript is still loading. If this message persists, it\n",
       "  likely means that the widgets JavaScript library is either not installed or\n",
       "  not enabled. See the <a href=\"https://ipywidgets.readthedocs.io/en/stable/user_install.html\">Jupyter\n",
       "  Widgets Documentation</a> for setup instructions.\n",
       "</p>\n",
       "<p>\n",
       "  If you're reading this message in another frontend (for example, a static\n",
       "  rendering on GitHub or <a href=\"https://nbviewer.jupyter.org/\">NBViewer</a>),\n",
       "  it may mean that your frontend doesn't currently support widgets.\n",
       "</p>\n"
      ],
      "text/plain": [
       "HBox(children=(IntProgress(value=0, description='Sampled Nodes: ', max=1, style=ProgressStyle(description_width='initial')), HTML(value='')))"
      ]
     },
     "metadata": {},
     "output_type": "display_data"
    },
    {
     "data": {
      "application/vnd.jupyter.widget-view+json": {
       "model_id": "11dc16df0c94490aaaf16711fd7a203c",
       "version_major": 2,
       "version_minor": 0
      },
      "text/html": [
       "<p>Failed to display Jupyter Widget of type <code>HBox</code>.</p>\n",
       "<p>\n",
       "  If you're reading this message in the Jupyter Notebook or JupyterLab Notebook, it may mean\n",
       "  that the widgets JavaScript is still loading. If this message persists, it\n",
       "  likely means that the widgets JavaScript library is either not installed or\n",
       "  not enabled. See the <a href=\"https://ipywidgets.readthedocs.io/en/stable/user_install.html\">Jupyter\n",
       "  Widgets Documentation</a> for setup instructions.\n",
       "</p>\n",
       "<p>\n",
       "  If you're reading this message in another frontend (for example, a static\n",
       "  rendering on GitHub or <a href=\"https://nbviewer.jupyter.org/\">NBViewer</a>),\n",
       "  it may mean that your frontend doesn't currently support widgets.\n",
       "</p>\n"
      ],
      "text/plain": [
       "HBox(children=(IntProgress(value=0, description='Sampling A, B:', style=ProgressStyle(description_width='initial')), HTML(value='')))"
      ]
     },
     "metadata": {},
     "output_type": "display_data"
    },
    {
     "name": "stdout",
     "output_type": "stream",
     "text": [
      "\r"
     ]
    },
    {
     "data": {
      "application/vnd.jupyter.widget-view+json": {
       "model_id": "0a042a8dac484df4a65b21efd4f06f32",
       "version_major": 2,
       "version_minor": 0
      },
      "text/html": [
       "<p>Failed to display Jupyter Widget of type <code>HBox</code>.</p>\n",
       "<p>\n",
       "  If you're reading this message in the Jupyter Notebook or JupyterLab Notebook, it may mean\n",
       "  that the widgets JavaScript is still loading. If this message persists, it\n",
       "  likely means that the widgets JavaScript library is either not installed or\n",
       "  not enabled. See the <a href=\"https://ipywidgets.readthedocs.io/en/stable/user_install.html\">Jupyter\n",
       "  Widgets Documentation</a> for setup instructions.\n",
       "</p>\n",
       "<p>\n",
       "  If you're reading this message in another frontend (for example, a static\n",
       "  rendering on GitHub or <a href=\"https://nbviewer.jupyter.org/\">NBViewer</a>),\n",
       "  it may mean that your frontend doesn't currently support widgets.\n",
       "</p>\n"
      ],
      "text/plain": [
       "HBox(children=(IntProgress(value=0, description='exporting data to DF', max=2, style=ProgressStyle(description_width='initial')), HTML(value='')))"
      ]
     },
     "metadata": {},
     "output_type": "display_data"
    },
    {
     "name": "stdout",
     "output_type": "stream",
     "text": [
      "\r"
     ]
    }
   ],
   "source": [
    "sampled_data = sample_from_tgem(rtgem_model, t_min=0, t_max=t_max)"
   ]
  },
  {
   "cell_type": "code",
   "execution_count": 7,
   "metadata": {
    "scrolled": false
   },
   "outputs": [],
   "source": [
    "set_pcv_lambda_t(model=rtgem_model, data=sampled_data, t_max=t_max)"
   ]
  },
  {
   "cell_type": "code",
   "execution_count": 8,
   "metadata": {
    "scrolled": true
   },
   "outputs": [],
   "source": [
    "count_duration_df = get_count_duration_df(model=rtgem_model, data=sampled_data, t_max=t_max)"
   ]
  },
  {
   "cell_type": "code",
   "execution_count": 9,
   "metadata": {
    "scrolled": true
   },
   "outputs": [
    {
     "data": {
      "text/html": [
       "<div>\n",
       "<style scoped>\n",
       "    .dataframe tbody tr th:only-of-type {\n",
       "        vertical-align: middle;\n",
       "    }\n",
       "\n",
       "    .dataframe tbody tr th {\n",
       "        vertical-align: top;\n",
       "    }\n",
       "\n",
       "    .dataframe thead th {\n",
       "        text-align: right;\n",
       "    }\n",
       "</style>\n",
       "<table border=\"1\" class=\"dataframe\">\n",
       "  <thead>\n",
       "    <tr style=\"text-align: right;\">\n",
       "      <th></th>\n",
       "      <th>event</th>\n",
       "      <th>pcv</th>\n",
       "      <th>lambda_t</th>\n",
       "      <th>duration</th>\n",
       "      <th>count</th>\n",
       "    </tr>\n",
       "  </thead>\n",
       "  <tbody>\n",
       "    <tr>\n",
       "      <th>0</th>\n",
       "      <td>B</td>\n",
       "      <td>(0, 0)</td>\n",
       "      <td>10.0</td>\n",
       "      <td>1.376972</td>\n",
       "      <td>10</td>\n",
       "    </tr>\n",
       "    <tr>\n",
       "      <th>1</th>\n",
       "      <td>B</td>\n",
       "      <td>(0, 1)</td>\n",
       "      <td>1.6</td>\n",
       "      <td>33.621552</td>\n",
       "      <td>45</td>\n",
       "    </tr>\n",
       "    <tr>\n",
       "      <th>2</th>\n",
       "      <td>B</td>\n",
       "      <td>(1, 0)</td>\n",
       "      <td>3.0</td>\n",
       "      <td>37.621552</td>\n",
       "      <td>77</td>\n",
       "    </tr>\n",
       "    <tr>\n",
       "      <th>3</th>\n",
       "      <td>B</td>\n",
       "      <td>(1, 1)</td>\n",
       "      <td>1.0</td>\n",
       "      <td>9927.379924</td>\n",
       "      <td>10341</td>\n",
       "    </tr>\n",
       "    <tr>\n",
       "      <th>4</th>\n",
       "      <td>A</td>\n",
       "      <td>(0, 0)</td>\n",
       "      <td>1.0</td>\n",
       "      <td>17.509759</td>\n",
       "      <td>13</td>\n",
       "    </tr>\n",
       "    <tr>\n",
       "      <th>5</th>\n",
       "      <td>A</td>\n",
       "      <td>(0, 1)</td>\n",
       "      <td>4.0</td>\n",
       "      <td>3367.119940</td>\n",
       "      <td>13236</td>\n",
       "    </tr>\n",
       "    <tr>\n",
       "      <th>6</th>\n",
       "      <td>A</td>\n",
       "      <td>(1, 0)</td>\n",
       "      <td>5.0</td>\n",
       "      <td>53.895655</td>\n",
       "      <td>283</td>\n",
       "    </tr>\n",
       "    <tr>\n",
       "      <th>7</th>\n",
       "      <td>A</td>\n",
       "      <td>(1, 1)</td>\n",
       "      <td>9.0</td>\n",
       "      <td>6561.474646</td>\n",
       "      <td>58987</td>\n",
       "    </tr>\n",
       "  </tbody>\n",
       "</table>\n",
       "</div>"
      ],
      "text/plain": [
       "  event     pcv  lambda_t     duration  count\n",
       "0     B  (0, 0)      10.0     1.376972     10\n",
       "1     B  (0, 1)       1.6    33.621552     45\n",
       "2     B  (1, 0)       3.0    37.621552     77\n",
       "3     B  (1, 1)       1.0  9927.379924  10341\n",
       "4     A  (0, 0)       1.0    17.509759     13\n",
       "5     A  (0, 1)       4.0  3367.119940  13236\n",
       "6     A  (1, 0)       5.0    53.895655    283\n",
       "7     A  (1, 1)       9.0  6561.474646  58987"
      ]
     },
     "execution_count": 9,
     "metadata": {},
     "output_type": "execute_result"
    }
   ],
   "source": [
    "count_duration_df"
   ]
  },
  {
   "cell_type": "markdown",
   "metadata": {},
   "source": [
    "## Likelihood"
   ]
  },
  {
   "cell_type": "code",
   "execution_count": 10,
   "metadata": {},
   "outputs": [
    {
     "data": {
      "text/plain": [
       "65624.37000540116"
      ]
     },
     "execution_count": 10,
     "metadata": {},
     "output_type": "execute_result"
    }
   ],
   "source": [
    "compute_logLikelihood(count_duration_df)"
   ]
  },
  {
   "cell_type": "code",
   "execution_count": 11,
   "metadata": {},
   "outputs": [
    {
     "data": {
      "text/plain": [
       "65624.37000540116"
      ]
     },
     "execution_count": 11,
     "metadata": {},
     "output_type": "execute_result"
    }
   ],
   "source": [
    "LogLikelihood(model=rtgem_model, observed_data=sampled_data, t_max=t_max)"
   ]
  },
  {
   "cell_type": "markdown",
   "metadata": {},
   "source": [
    "## Parameters learning (lambdas)"
   ]
  },
  {
   "cell_type": "code",
   "execution_count": 12,
   "metadata": {},
   "outputs": [
    {
     "data": {
      "text/html": [
       "<div>\n",
       "<style scoped>\n",
       "    .dataframe tbody tr th:only-of-type {\n",
       "        vertical-align: middle;\n",
       "    }\n",
       "\n",
       "    .dataframe tbody tr th {\n",
       "        vertical-align: top;\n",
       "    }\n",
       "\n",
       "    .dataframe thead th {\n",
       "        text-align: right;\n",
       "    }\n",
       "</style>\n",
       "<table border=\"1\" class=\"dataframe\">\n",
       "  <thead>\n",
       "    <tr style=\"text-align: right;\">\n",
       "      <th></th>\n",
       "      <th>event</th>\n",
       "      <th>pcv</th>\n",
       "      <th>lambda_t</th>\n",
       "      <th>duration</th>\n",
       "      <th>count</th>\n",
       "    </tr>\n",
       "  </thead>\n",
       "  <tbody>\n",
       "    <tr>\n",
       "      <th>0</th>\n",
       "      <td>B</td>\n",
       "      <td>(0, 0)</td>\n",
       "      <td>7.262311</td>\n",
       "      <td>1.376972</td>\n",
       "      <td>10</td>\n",
       "    </tr>\n",
       "    <tr>\n",
       "      <th>1</th>\n",
       "      <td>B</td>\n",
       "      <td>(0, 1)</td>\n",
       "      <td>1.338427</td>\n",
       "      <td>33.621552</td>\n",
       "      <td>45</td>\n",
       "    </tr>\n",
       "    <tr>\n",
       "      <th>2</th>\n",
       "      <td>B</td>\n",
       "      <td>(1, 0)</td>\n",
       "      <td>2.046699</td>\n",
       "      <td>37.621552</td>\n",
       "      <td>77</td>\n",
       "    </tr>\n",
       "    <tr>\n",
       "      <th>3</th>\n",
       "      <td>B</td>\n",
       "      <td>(1, 1)</td>\n",
       "      <td>1.041665</td>\n",
       "      <td>9927.379924</td>\n",
       "      <td>10341</td>\n",
       "    </tr>\n",
       "    <tr>\n",
       "      <th>4</th>\n",
       "      <td>A</td>\n",
       "      <td>(0, 0)</td>\n",
       "      <td>0.742443</td>\n",
       "      <td>17.509759</td>\n",
       "      <td>13</td>\n",
       "    </tr>\n",
       "    <tr>\n",
       "      <th>5</th>\n",
       "      <td>A</td>\n",
       "      <td>(0, 1)</td>\n",
       "      <td>3.930956</td>\n",
       "      <td>3367.119940</td>\n",
       "      <td>13236</td>\n",
       "    </tr>\n",
       "    <tr>\n",
       "      <th>6</th>\n",
       "      <td>A</td>\n",
       "      <td>(1, 0)</td>\n",
       "      <td>5.250887</td>\n",
       "      <td>53.895655</td>\n",
       "      <td>283</td>\n",
       "    </tr>\n",
       "    <tr>\n",
       "      <th>7</th>\n",
       "      <td>A</td>\n",
       "      <td>(1, 1)</td>\n",
       "      <td>8.989900</td>\n",
       "      <td>6561.474646</td>\n",
       "      <td>58987</td>\n",
       "    </tr>\n",
       "  </tbody>\n",
       "</table>\n",
       "</div>"
      ],
      "text/plain": [
       "  event     pcv  lambda_t     duration  count\n",
       "0     B  (0, 0)  7.262311     1.376972     10\n",
       "1     B  (0, 1)  1.338427    33.621552     45\n",
       "2     B  (1, 0)  2.046699    37.621552     77\n",
       "3     B  (1, 1)  1.041665  9927.379924  10341\n",
       "4     A  (0, 0)  0.742443    17.509759     13\n",
       "5     A  (0, 1)  3.930956  3367.119940  13236\n",
       "6     A  (1, 0)  5.250887    53.895655    283\n",
       "7     A  (1, 1)  8.989900  6561.474646  58987"
      ]
     },
     "execution_count": 12,
     "metadata": {},
     "output_type": "execute_result"
    }
   ],
   "source": [
    "mle_lambdas(data=sampled_data, model=rtgem_model, t_max=t_max)"
   ]
  },
  {
   "cell_type": "markdown",
   "metadata": {},
   "source": [
    "## Structure learning"
   ]
  },
  {
   "cell_type": "markdown",
   "metadata": {},
   "source": [
    "### Modèle de référence"
   ]
  },
  {
   "cell_type": "code",
   "execution_count": 13,
   "metadata": {
    "scrolled": true
   },
   "outputs": [],
   "source": [
    "rtgem_model = RTGEM(empty_nodes(['A', 'B']), default_end_timescale=1)"
   ]
  },
  {
   "cell_type": "code",
   "execution_count": 14,
   "metadata": {},
   "outputs": [],
   "source": [
    "rtgem_model.add_edge_operator(('A', 'A'))\n",
    "rtgem_model.add_edge_operator(('A', 'B'))\n",
    "rtgem_model.add_edge_operator(('B', 'A'))"
   ]
  },
  {
   "cell_type": "code",
   "execution_count": 15,
   "metadata": {},
   "outputs": [],
   "source": [
    "rtgem_model.split_operator(edge=('A', 'A'), timescale=[0,1])"
   ]
  },
  {
   "cell_type": "code",
   "execution_count": 16,
   "metadata": {},
   "outputs": [],
   "source": [
    "rtgem_model.extend_operator(edge=('A', 'B'))"
   ]
  },
  {
   "cell_type": "code",
   "execution_count": 17,
   "metadata": {},
   "outputs": [
    {
     "data": {
      "application/vnd.jupyter.widget-view+json": {
       "model_id": "7440d8cbcc6449a7aa2b96d849eb0d33",
       "version_major": 2,
       "version_minor": 0
      },
      "text/html": [
       "<p>Failed to display Jupyter Widget of type <code>HBox</code>.</p>\n",
       "<p>\n",
       "  If you're reading this message in the Jupyter Notebook or JupyterLab Notebook, it may mean\n",
       "  that the widgets JavaScript is still loading. If this message persists, it\n",
       "  likely means that the widgets JavaScript library is either not installed or\n",
       "  not enabled. See the <a href=\"https://ipywidgets.readthedocs.io/en/stable/user_install.html\">Jupyter\n",
       "  Widgets Documentation</a> for setup instructions.\n",
       "</p>\n",
       "<p>\n",
       "  If you're reading this message in another frontend (for example, a static\n",
       "  rendering on GitHub or <a href=\"https://nbviewer.jupyter.org/\">NBViewer</a>),\n",
       "  it may mean that your frontend doesn't currently support widgets.\n",
       "</p>\n"
      ],
      "text/plain": [
       "HBox(children=(IntProgress(value=0, description='Sampled Nodes: ', max=1, style=ProgressStyle(description_width='initial')), HTML(value='')))"
      ]
     },
     "metadata": {},
     "output_type": "display_data"
    },
    {
     "data": {
      "application/vnd.jupyter.widget-view+json": {
       "model_id": "9c696f46768c43558c89e0531e983300",
       "version_major": 2,
       "version_minor": 0
      },
      "text/html": [
       "<p>Failed to display Jupyter Widget of type <code>HBox</code>.</p>\n",
       "<p>\n",
       "  If you're reading this message in the Jupyter Notebook or JupyterLab Notebook, it may mean\n",
       "  that the widgets JavaScript is still loading. If this message persists, it\n",
       "  likely means that the widgets JavaScript library is either not installed or\n",
       "  not enabled. See the <a href=\"https://ipywidgets.readthedocs.io/en/stable/user_install.html\">Jupyter\n",
       "  Widgets Documentation</a> for setup instructions.\n",
       "</p>\n",
       "<p>\n",
       "  If you're reading this message in another frontend (for example, a static\n",
       "  rendering on GitHub or <a href=\"https://nbviewer.jupyter.org/\">NBViewer</a>),\n",
       "  it may mean that your frontend doesn't currently support widgets.\n",
       "</p>\n"
      ],
      "text/plain": [
       "HBox(children=(IntProgress(value=0, description='Sampling A, B:', style=ProgressStyle(description_width='initial')), HTML(value='')))"
      ]
     },
     "metadata": {},
     "output_type": "display_data"
    },
    {
     "name": "stdout",
     "output_type": "stream",
     "text": [
      "\r"
     ]
    },
    {
     "data": {
      "application/vnd.jupyter.widget-view+json": {
       "model_id": "ea9219ffb582409a9c8908a00ae9003f",
       "version_major": 2,
       "version_minor": 0
      },
      "text/html": [
       "<p>Failed to display Jupyter Widget of type <code>HBox</code>.</p>\n",
       "<p>\n",
       "  If you're reading this message in the Jupyter Notebook or JupyterLab Notebook, it may mean\n",
       "  that the widgets JavaScript is still loading. If this message persists, it\n",
       "  likely means that the widgets JavaScript library is either not installed or\n",
       "  not enabled. See the <a href=\"https://ipywidgets.readthedocs.io/en/stable/user_install.html\">Jupyter\n",
       "  Widgets Documentation</a> for setup instructions.\n",
       "</p>\n",
       "<p>\n",
       "  If you're reading this message in another frontend (for example, a static\n",
       "  rendering on GitHub or <a href=\"https://nbviewer.jupyter.org/\">NBViewer</a>),\n",
       "  it may mean that your frontend doesn't currently support widgets.\n",
       "</p>\n"
      ],
      "text/plain": [
       "HBox(children=(IntProgress(value=0, description='exporting data to DF', max=2, style=ProgressStyle(description_width='initial')), HTML(value='')))"
      ]
     },
     "metadata": {},
     "output_type": "display_data"
    },
    {
     "name": "stdout",
     "output_type": "stream",
     "text": [
      "\r"
     ]
    }
   ],
   "source": [
    "sampled_data = sample_from_tgem(rtgem_model, t_min=0, t_max=10000)"
   ]
  },
  {
   "cell_type": "code",
   "execution_count": 18,
   "metadata": {},
   "outputs": [],
   "source": [
    "t_max = 1000\n",
    "data = sampled_data[sampled_data['time'] < t_max]"
   ]
  },
  {
   "cell_type": "code",
   "execution_count": 19,
   "metadata": {},
   "outputs": [],
   "source": [
    "score_bic_reference = scoreBic(model=rtgem_model, observed_data=data, t_max=t_max)"
   ]
  },
  {
   "cell_type": "code",
   "execution_count": 20,
   "metadata": {},
   "outputs": [
    {
     "data": {
      "text/plain": [
       "2101.930790728022"
      ]
     },
     "execution_count": 20,
     "metadata": {},
     "output_type": "execute_result"
    }
   ],
   "source": [
    "score_bic_reference"
   ]
  },
  {
   "cell_type": "markdown",
   "metadata": {},
   "source": [
    "### Forward Search"
   ]
  },
  {
   "cell_type": "code",
   "execution_count": 21,
   "metadata": {},
   "outputs": [],
   "source": [
    "import itertools\n",
    "import random\n",
    "import copy"
   ]
  },
  {
   "cell_type": "code",
   "execution_count": 22,
   "metadata": {},
   "outputs": [],
   "source": [
    "def empty_nodes(nodes):\n",
    "    return dict(zip(nodes, [{'timescales': {}, 'lambdas': {(): 1}}] * len(nodes)))"
   ]
  },
  {
   "cell_type": "code",
   "execution_count": 23,
   "metadata": {},
   "outputs": [],
   "source": [
    "model = RTGEM(empty_nodes(['A', 'B']),  default_end_timescale=1)"
   ]
  },
  {
   "cell_type": "markdown",
   "metadata": {},
   "source": [
    "#### Initialisation "
   ]
  },
  {
   "cell_type": "code",
   "execution_count": 24,
   "metadata": {},
   "outputs": [],
   "source": [
    "model = set_nodes_timeseries(model, data)\n",
    "model = set_nodes_parents_counts(model, model.dpd_graph.nodes, t_max)\n",
    "set_pcv_lambda_t(model, data, t_max)\n",
    "\n",
    "lambdas_count_duration_df = get_count_duration_df(data, model, t_max)\n",
    "\n",
    "LogL = compute_logLikelihood(lambdas_count_duration_df)\n",
    "log_td = np.log(t_max)\n",
    "\n",
    "size_log_td = model.size() * log_td\n",
    "\n",
    "score = LogL - size_log_td\n",
    "local_maximum = False\n",
    "nodes = list(model.dpd_graph.nodes)\n",
    "possible_edges = list(itertools.product(nodes, repeat = 2))\n",
    "\n",
    "random.shuffle(possible_edges)"
   ]
  },
  {
   "cell_type": "code",
   "execution_count": 25,
   "metadata": {
    "scrolled": true
   },
   "outputs": [
    {
     "name": "stdout",
     "output_type": "stream",
     "text": [
      "iteration number: 0: scoreBIC = -2013.8155105579642\n",
      "max ngbr <bound method RTGEM.add_edge_operator of <rtgemlib.rtgem.RTGEM object at 0x000001C32A011BE0>>, args=[('B', 'A')], max_scoreBIC = 1270.72060000111\n",
      "iteration number: 1: scoreBIC = 1270.72060000111\n",
      "max ngbr <bound method RTGEM.add_edge_operator of <rtgemlib.rtgem.RTGEM object at 0x000001C32A011BE0>>, args=[('A', 'A')], max_scoreBIC = 4780.151929337313\n",
      "iteration number: 2: scoreBIC = 4780.151929337313\n",
      "max ngbr <bound method RTGEM.split_operator of <rtgemlib.rtgem.RTGEM object at 0x000001C32A011BE0>>, args=[('A', 'A'), [0, 1]], max_scoreBIC = 5080.284789779112\n",
      "iteration number: 3: scoreBIC = 5080.284789779112\n",
      "max ngbr <bound method RTGEM.split_operator of <rtgemlib.rtgem.RTGEM object at 0x000001C32A011BE0>>, args=[('A', 'A'), [0, 0.5]], max_scoreBIC = 5697.8253182088665\n",
      "iteration number: 4: scoreBIC = 5697.8253182088665\n",
      "max ngbr <bound method RTGEM.split_operator of <rtgemlib.rtgem.RTGEM object at 0x000001C32A011BE0>>, args=[('A', 'A'), [0, 0.25]], max_scoreBIC = 6905.194882316691\n",
      "iteration number: 5: scoreBIC = 6905.194882316691\n",
      "max ngbr <bound method RTGEM.split_operator of <rtgemlib.rtgem.RTGEM object at 0x000001C32A011BE0>>, args=[('A', 'A'), [0, 0.125]], max_scoreBIC = 8654.262881657085\n",
      "iteration number: 6: scoreBIC = 8654.262881657085\n",
      "max ngbr <bound method RTGEM.split_operator of <rtgemlib.rtgem.RTGEM object at 0x000001C32A011BE0>>, args=[('A', 'A'), [0, 0.0625]], max_scoreBIC = 10636.330441956392\n",
      "iteration number: 7: scoreBIC = 10636.330441956392\n",
      "max ngbr <bound method RTGEM.split_operator of <rtgemlib.rtgem.RTGEM object at 0x000001C32A011BE0>>, args=[('A', 'A'), [0, 0.03125]], max_scoreBIC = 12456.969317151646\n",
      "iteration number: 8: scoreBIC = 12456.969317151646\n",
      "max ngbr <bound method RTGEM.split_operator of <rtgemlib.rtgem.RTGEM object at 0x000001C32A011BE0>>, args=[('A', 'A'), [0, 0.015625]], max_scoreBIC = 13537.309083696622\n",
      "iteration number: 9: scoreBIC = 13537.309083696622\n",
      "max ngbr <bound method RTGEM.add_edge_operator of <rtgemlib.rtgem.RTGEM object at 0x000001C32A011BE0>>, args=[('B', 'B')], max_scoreBIC = 13430.801300145547\n"
     ]
    }
   ],
   "source": [
    "it = 0\n",
    "forward_logs = []\n",
    "\n",
    "bic_scores_forward = []\n",
    "\n",
    "while not local_maximum:\n",
    "    #     max_ngbr_score = -np.inf\n",
    "    local_maximum = True\n",
    "    max_score_ngbr = -np.inf\n",
    "    max_op = None\n",
    "    max_args = None\n",
    "    max_changed_node_cnt_drt_df = None\n",
    "    max_size_log_td_ngbr = None\n",
    "    max_LogL_ngbr = None\n",
    "    print('iteration number: {}: scoreBIC = {}'.format(it, score))\n",
    "    for ngbr_info in forward_neighbors_gen(model, data, t_max, lambdas_count_duration_df,LogL, size_log_td, log_td,\\\n",
    "                                           possible_edges):\n",
    "\n",
    "        op, args, LogL_ngbr, size_log_td_ngbr, changed_node_cnt_drt_df = ngbr_info\n",
    "        score_ngbr = LogL_ngbr - size_log_td_ngbr\n",
    "\n",
    "        if score_ngbr > max_score_ngbr:\n",
    "            max_score_ngbr = score_ngbr\n",
    "            max_op = op\n",
    "            max_args = args\n",
    "            max_changed_node_cnt_drt_df = changed_node_cnt_drt_df\n",
    "            max_size_log_td_ngbr = size_log_td_ngbr\n",
    "            max_LogL_ngbr = LogL_ngbr\n",
    "    print('max ngbr {}, args={}, max_scoreBIC = {}'.format(max_op, max_args, max_score_ngbr))\n",
    " \n",
    "    if max_score_ngbr > score:\n",
    "        max_op(*max_args)\n",
    "        LogL = max_LogL_ngbr\n",
    "        size_log_td = max_size_log_td_ngbr\n",
    "        changed_node = max_changed_node_cnt_drt_df.iloc[0]['event']\n",
    "        lambdas_count_duration_df = lambdas_count_duration_df[lambdas_count_duration_df['event'] != changed_node]\n",
    "        lambdas_count_duration_df = pd.concat([lambdas_count_duration_df, max_changed_node_cnt_drt_df])\n",
    "\n",
    "        local_maximum = False\n",
    "        score = max_score_ngbr\n",
    "        op_name = 'étendreIntervalle'\n",
    "\n",
    "        # removes added edge from possible edges\n",
    "        if max_op == model.add_edge_operator:\n",
    "            possible_edges.remove(max_args[0])\n",
    "        # pd.Dataframe(columns=['it', 'T_A', 'T_B', 'edges', 'max_ngbr', 'scoreBic'])\n",
    "            op_name = 'ajouterArc'\n",
    "        if max_op == model.split_operator:\n",
    "            op_name = 'diviserIntervalle'\n",
    "\n",
    "        forward_logs.append([it, copy.deepcopy(model.get_node_parents_timescales('A')),\\\n",
    "                             copy.deepcopy(model.get_node_parents_timescales('B')),\\\n",
    "                             list(model.dpd_graph.edges()),\\\n",
    "                             op_name,\\\n",
    "                             max_args,\\\n",
    "                             score])\n",
    "    \n",
    "    bic_scores_forward.append(score) # stores the bic score for each iteration\n",
    "    \n",
    "    it += 1"
   ]
  },
  {
   "cell_type": "code",
   "execution_count": 26,
   "metadata": {},
   "outputs": [],
   "source": [
    "# writes log in file\n",
    "learning_logs = open(\"learning.logs\", \"a\")\n",
    "learning_logs.write(str(forward_logs))\n",
    "learning_logs.close()"
   ]
  },
  {
   "cell_type": "code",
   "execution_count": 27,
   "metadata": {},
   "outputs": [],
   "source": [
    "model = set_nodes_timeseries(model, data)\n",
    "model = set_nodes_parents_counts(model, model.dpd_graph.nodes, t_max)"
   ]
  },
  {
   "cell_type": "code",
   "execution_count": 28,
   "metadata": {},
   "outputs": [
    {
     "data": {
      "text/html": [
       "<div>\n",
       "<style scoped>\n",
       "    .dataframe tbody tr th:only-of-type {\n",
       "        vertical-align: middle;\n",
       "    }\n",
       "\n",
       "    .dataframe tbody tr th {\n",
       "        vertical-align: top;\n",
       "    }\n",
       "\n",
       "    .dataframe thead th {\n",
       "        text-align: right;\n",
       "    }\n",
       "</style>\n",
       "<table border=\"1\" class=\"dataframe\">\n",
       "  <thead>\n",
       "    <tr style=\"text-align: right;\">\n",
       "      <th></th>\n",
       "      <th>event</th>\n",
       "      <th>pcv</th>\n",
       "      <th>lambda_t</th>\n",
       "      <th>duration</th>\n",
       "      <th>count</th>\n",
       "    </tr>\n",
       "  </thead>\n",
       "  <tbody>\n",
       "    <tr>\n",
       "      <th>0</th>\n",
       "      <td>A</td>\n",
       "      <td>(0, 0, 0, 0, 0, 0, 0, 0, 0)</td>\n",
       "      <td>0.000000</td>\n",
       "      <td>48.258485</td>\n",
       "      <td>0</td>\n",
       "    </tr>\n",
       "    <tr>\n",
       "      <th>1</th>\n",
       "      <td>A</td>\n",
       "      <td>(0, 0, 0, 0, 0, 0, 0, 0, 1)</td>\n",
       "      <td>0.000000</td>\n",
       "      <td>149.935174</td>\n",
       "      <td>0</td>\n",
       "    </tr>\n",
       "    <tr>\n",
       "      <th>2</th>\n",
       "      <td>A</td>\n",
       "      <td>(0, 0, 0, 0, 0, 0, 0, 1, 0)</td>\n",
       "      <td>0.000000</td>\n",
       "      <td>21.733921</td>\n",
       "      <td>0</td>\n",
       "    </tr>\n",
       "    <tr>\n",
       "      <th>3</th>\n",
       "      <td>A</td>\n",
       "      <td>(0, 0, 0, 0, 0, 0, 0, 1, 1)</td>\n",
       "      <td>0.000000</td>\n",
       "      <td>97.597541</td>\n",
       "      <td>0</td>\n",
       "    </tr>\n",
       "    <tr>\n",
       "      <th>4</th>\n",
       "      <td>A</td>\n",
       "      <td>(0, 0, 0, 0, 0, 0, 1, 0, 0)</td>\n",
       "      <td>0.000000</td>\n",
       "      <td>9.215589</td>\n",
       "      <td>0</td>\n",
       "    </tr>\n",
       "    <tr>\n",
       "      <th>5</th>\n",
       "      <td>A</td>\n",
       "      <td>(0, 0, 0, 0, 0, 0, 1, 0, 1)</td>\n",
       "      <td>0.000000</td>\n",
       "      <td>19.555928</td>\n",
       "      <td>0</td>\n",
       "    </tr>\n",
       "    <tr>\n",
       "      <th>6</th>\n",
       "      <td>A</td>\n",
       "      <td>(0, 0, 0, 0, 0, 0, 1, 1, 0)</td>\n",
       "      <td>0.000000</td>\n",
       "      <td>3.874549</td>\n",
       "      <td>0</td>\n",
       "    </tr>\n",
       "    <tr>\n",
       "      <th>7</th>\n",
       "      <td>A</td>\n",
       "      <td>(0, 0, 0, 0, 0, 0, 1, 1, 1)</td>\n",
       "      <td>0.000000</td>\n",
       "      <td>29.263474</td>\n",
       "      <td>0</td>\n",
       "    </tr>\n",
       "    <tr>\n",
       "      <th>8</th>\n",
       "      <td>A</td>\n",
       "      <td>(0, 0, 0, 0, 0, 1, 0, 0, 0)</td>\n",
       "      <td>0.000000</td>\n",
       "      <td>4.221232</td>\n",
       "      <td>0</td>\n",
       "    </tr>\n",
       "    <tr>\n",
       "      <th>9</th>\n",
       "      <td>A</td>\n",
       "      <td>(0, 0, 0, 0, 0, 1, 0, 0, 1)</td>\n",
       "      <td>0.000000</td>\n",
       "      <td>8.276688</td>\n",
       "      <td>0</td>\n",
       "    </tr>\n",
       "    <tr>\n",
       "      <th>10</th>\n",
       "      <td>A</td>\n",
       "      <td>(0, 0, 0, 0, 0, 1, 0, 1, 0)</td>\n",
       "      <td>0.000000</td>\n",
       "      <td>2.107659</td>\n",
       "      <td>0</td>\n",
       "    </tr>\n",
       "    <tr>\n",
       "      <th>11</th>\n",
       "      <td>A</td>\n",
       "      <td>(0, 0, 0, 0, 0, 1, 0, 1, 1)</td>\n",
       "      <td>0.000000</td>\n",
       "      <td>4.698762</td>\n",
       "      <td>0</td>\n",
       "    </tr>\n",
       "    <tr>\n",
       "      <th>12</th>\n",
       "      <td>A</td>\n",
       "      <td>(0, 0, 0, 0, 0, 1, 1, 0, 0)</td>\n",
       "      <td>0.000000</td>\n",
       "      <td>1.223011</td>\n",
       "      <td>0</td>\n",
       "    </tr>\n",
       "    <tr>\n",
       "      <th>13</th>\n",
       "      <td>A</td>\n",
       "      <td>(0, 0, 0, 0, 0, 1, 1, 0, 1)</td>\n",
       "      <td>0.000000</td>\n",
       "      <td>1.688996</td>\n",
       "      <td>0</td>\n",
       "    </tr>\n",
       "    <tr>\n",
       "      <th>14</th>\n",
       "      <td>A</td>\n",
       "      <td>(0, 0, 0, 0, 0, 1, 1, 1, 0)</td>\n",
       "      <td>0.000000</td>\n",
       "      <td>0.865482</td>\n",
       "      <td>0</td>\n",
       "    </tr>\n",
       "    <tr>\n",
       "      <th>15</th>\n",
       "      <td>A</td>\n",
       "      <td>(0, 0, 0, 0, 0, 1, 1, 1, 1)</td>\n",
       "      <td>0.000000</td>\n",
       "      <td>5.736073</td>\n",
       "      <td>0</td>\n",
       "    </tr>\n",
       "    <tr>\n",
       "      <th>16</th>\n",
       "      <td>A</td>\n",
       "      <td>(0, 0, 0, 0, 1, 0, 0, 0, 0)</td>\n",
       "      <td>0.000000</td>\n",
       "      <td>2.073157</td>\n",
       "      <td>0</td>\n",
       "    </tr>\n",
       "    <tr>\n",
       "      <th>17</th>\n",
       "      <td>A</td>\n",
       "      <td>(0, 0, 0, 0, 1, 0, 0, 0, 1)</td>\n",
       "      <td>0.000000</td>\n",
       "      <td>4.169564</td>\n",
       "      <td>0</td>\n",
       "    </tr>\n",
       "    <tr>\n",
       "      <th>18</th>\n",
       "      <td>A</td>\n",
       "      <td>(0, 0, 0, 0, 1, 0, 0, 1, 0)</td>\n",
       "      <td>0.000000</td>\n",
       "      <td>1.118710</td>\n",
       "      <td>0</td>\n",
       "    </tr>\n",
       "    <tr>\n",
       "      <th>19</th>\n",
       "      <td>A</td>\n",
       "      <td>(0, 0, 0, 0, 1, 0, 0, 1, 1)</td>\n",
       "      <td>0.000000</td>\n",
       "      <td>1.241676</td>\n",
       "      <td>0</td>\n",
       "    </tr>\n",
       "    <tr>\n",
       "      <th>20</th>\n",
       "      <td>A</td>\n",
       "      <td>(0, 0, 0, 0, 1, 0, 1, 0, 0)</td>\n",
       "      <td>0.000000</td>\n",
       "      <td>0.587183</td>\n",
       "      <td>0</td>\n",
       "    </tr>\n",
       "    <tr>\n",
       "      <th>21</th>\n",
       "      <td>A</td>\n",
       "      <td>(0, 0, 0, 0, 1, 0, 1, 0, 1)</td>\n",
       "      <td>0.000000</td>\n",
       "      <td>0.369743</td>\n",
       "      <td>0</td>\n",
       "    </tr>\n",
       "    <tr>\n",
       "      <th>22</th>\n",
       "      <td>A</td>\n",
       "      <td>(0, 0, 0, 0, 1, 0, 1, 1, 0)</td>\n",
       "      <td>0.000000</td>\n",
       "      <td>0.428276</td>\n",
       "      <td>0</td>\n",
       "    </tr>\n",
       "    <tr>\n",
       "      <th>23</th>\n",
       "      <td>A</td>\n",
       "      <td>(0, 0, 0, 0, 1, 0, 1, 1, 1)</td>\n",
       "      <td>0.000000</td>\n",
       "      <td>1.286989</td>\n",
       "      <td>0</td>\n",
       "    </tr>\n",
       "    <tr>\n",
       "      <th>24</th>\n",
       "      <td>A</td>\n",
       "      <td>(0, 0, 0, 0, 1, 1, 0, 0, 0)</td>\n",
       "      <td>0.000000</td>\n",
       "      <td>0.411824</td>\n",
       "      <td>0</td>\n",
       "    </tr>\n",
       "    <tr>\n",
       "      <th>25</th>\n",
       "      <td>A</td>\n",
       "      <td>(0, 0, 0, 0, 1, 1, 0, 0, 1)</td>\n",
       "      <td>0.000000</td>\n",
       "      <td>0.230383</td>\n",
       "      <td>0</td>\n",
       "    </tr>\n",
       "    <tr>\n",
       "      <th>26</th>\n",
       "      <td>A</td>\n",
       "      <td>(0, 0, 0, 0, 1, 1, 0, 1, 0)</td>\n",
       "      <td>0.000000</td>\n",
       "      <td>0.146413</td>\n",
       "      <td>0</td>\n",
       "    </tr>\n",
       "    <tr>\n",
       "      <th>27</th>\n",
       "      <td>A</td>\n",
       "      <td>(0, 0, 0, 0, 1, 1, 0, 1, 1)</td>\n",
       "      <td>0.000000</td>\n",
       "      <td>0.451612</td>\n",
       "      <td>0</td>\n",
       "    </tr>\n",
       "    <tr>\n",
       "      <th>28</th>\n",
       "      <td>A</td>\n",
       "      <td>(0, 0, 0, 0, 1, 1, 1, 0, 0)</td>\n",
       "      <td>0.000000</td>\n",
       "      <td>0.111260</td>\n",
       "      <td>0</td>\n",
       "    </tr>\n",
       "    <tr>\n",
       "      <th>29</th>\n",
       "      <td>A</td>\n",
       "      <td>(0, 0, 0, 0, 1, 1, 1, 0, 1)</td>\n",
       "      <td>0.000000</td>\n",
       "      <td>0.209582</td>\n",
       "      <td>0</td>\n",
       "    </tr>\n",
       "    <tr>\n",
       "      <th>...</th>\n",
       "      <td>...</td>\n",
       "      <td>...</td>\n",
       "      <td>...</td>\n",
       "      <td>...</td>\n",
       "      <td>...</td>\n",
       "    </tr>\n",
       "    <tr>\n",
       "      <th>483</th>\n",
       "      <td>A</td>\n",
       "      <td>(1, 1, 1, 1, 0, 0, 0, 1, 1)</td>\n",
       "      <td>36.602459</td>\n",
       "      <td>0.027321</td>\n",
       "      <td>1</td>\n",
       "    </tr>\n",
       "    <tr>\n",
       "      <th>484</th>\n",
       "      <td>A</td>\n",
       "      <td>(1, 1, 1, 1, 0, 0, 1, 0, 0)</td>\n",
       "      <td>60.332855</td>\n",
       "      <td>0.016575</td>\n",
       "      <td>1</td>\n",
       "    </tr>\n",
       "    <tr>\n",
       "      <th>485</th>\n",
       "      <td>A</td>\n",
       "      <td>(1, 1, 1, 1, 0, 0, 1, 0, 1)</td>\n",
       "      <td>309.764149</td>\n",
       "      <td>0.006457</td>\n",
       "      <td>2</td>\n",
       "    </tr>\n",
       "    <tr>\n",
       "      <th>486</th>\n",
       "      <td>A</td>\n",
       "      <td>(1, 1, 1, 1, 0, 0, 1, 1, 0)</td>\n",
       "      <td>139.471162</td>\n",
       "      <td>0.007170</td>\n",
       "      <td>1</td>\n",
       "    </tr>\n",
       "    <tr>\n",
       "      <th>487</th>\n",
       "      <td>A</td>\n",
       "      <td>(1, 1, 1, 1, 0, 0, 1, 1, 1)</td>\n",
       "      <td>96.179207</td>\n",
       "      <td>0.041589</td>\n",
       "      <td>4</td>\n",
       "    </tr>\n",
       "    <tr>\n",
       "      <th>488</th>\n",
       "      <td>A</td>\n",
       "      <td>(1, 1, 1, 1, 0, 1, 0, 0, 0)</td>\n",
       "      <td>215.946437</td>\n",
       "      <td>0.004631</td>\n",
       "      <td>1</td>\n",
       "    </tr>\n",
       "    <tr>\n",
       "      <th>489</th>\n",
       "      <td>A</td>\n",
       "      <td>(1, 1, 1, 1, 0, 1, 0, 0, 1)</td>\n",
       "      <td>0.000000</td>\n",
       "      <td>0.000805</td>\n",
       "      <td>0</td>\n",
       "    </tr>\n",
       "    <tr>\n",
       "      <th>490</th>\n",
       "      <td>A</td>\n",
       "      <td>(1, 1, 1, 1, 0, 1, 0, 1, 0)</td>\n",
       "      <td>0.000000</td>\n",
       "      <td>0.004855</td>\n",
       "      <td>0</td>\n",
       "    </tr>\n",
       "    <tr>\n",
       "      <th>491</th>\n",
       "      <td>A</td>\n",
       "      <td>(1, 1, 1, 1, 0, 1, 0, 1, 1)</td>\n",
       "      <td>0.000000</td>\n",
       "      <td>0.002923</td>\n",
       "      <td>0</td>\n",
       "    </tr>\n",
       "    <tr>\n",
       "      <th>492</th>\n",
       "      <td>A</td>\n",
       "      <td>(1, 1, 1, 1, 0, 1, 1, 0, 0)</td>\n",
       "      <td>178.931833</td>\n",
       "      <td>0.011177</td>\n",
       "      <td>2</td>\n",
       "    </tr>\n",
       "    <tr>\n",
       "      <th>493</th>\n",
       "      <td>A</td>\n",
       "      <td>(1, 1, 1, 1, 0, 1, 1, 0, 1)</td>\n",
       "      <td>1626.849206</td>\n",
       "      <td>0.000615</td>\n",
       "      <td>1</td>\n",
       "    </tr>\n",
       "    <tr>\n",
       "      <th>494</th>\n",
       "      <td>A</td>\n",
       "      <td>(1, 1, 1, 1, 0, 1, 1, 1, 0)</td>\n",
       "      <td>118.647814</td>\n",
       "      <td>0.016857</td>\n",
       "      <td>2</td>\n",
       "    </tr>\n",
       "    <tr>\n",
       "      <th>495</th>\n",
       "      <td>A</td>\n",
       "      <td>(1, 1, 1, 1, 0, 1, 1, 1, 1)</td>\n",
       "      <td>50.987226</td>\n",
       "      <td>0.019613</td>\n",
       "      <td>1</td>\n",
       "    </tr>\n",
       "    <tr>\n",
       "      <th>496</th>\n",
       "      <td>A</td>\n",
       "      <td>(1, 1, 1, 1, 1, 0, 0, 0, 0)</td>\n",
       "      <td>70.683116</td>\n",
       "      <td>0.014148</td>\n",
       "      <td>1</td>\n",
       "    </tr>\n",
       "    <tr>\n",
       "      <th>497</th>\n",
       "      <td>A</td>\n",
       "      <td>(1, 1, 1, 1, 1, 0, 0, 0, 1)</td>\n",
       "      <td>140.164692</td>\n",
       "      <td>0.007134</td>\n",
       "      <td>1</td>\n",
       "    </tr>\n",
       "    <tr>\n",
       "      <th>498</th>\n",
       "      <td>A</td>\n",
       "      <td>(1, 1, 1, 1, 1, 0, 0, 1, 0)</td>\n",
       "      <td>540.349286</td>\n",
       "      <td>0.001851</td>\n",
       "      <td>1</td>\n",
       "    </tr>\n",
       "    <tr>\n",
       "      <th>499</th>\n",
       "      <td>A</td>\n",
       "      <td>(1, 1, 1, 1, 1, 0, 0, 1, 1)</td>\n",
       "      <td>0.000000</td>\n",
       "      <td>0.005544</td>\n",
       "      <td>0</td>\n",
       "    </tr>\n",
       "    <tr>\n",
       "      <th>500</th>\n",
       "      <td>A</td>\n",
       "      <td>(1, 1, 1, 1, 1, 0, 1, 0, 0)</td>\n",
       "      <td>0.000000</td>\n",
       "      <td>0.000000</td>\n",
       "      <td>0</td>\n",
       "    </tr>\n",
       "    <tr>\n",
       "      <th>501</th>\n",
       "      <td>A</td>\n",
       "      <td>(1, 1, 1, 1, 1, 0, 1, 0, 1)</td>\n",
       "      <td>0.000000</td>\n",
       "      <td>0.000000</td>\n",
       "      <td>0</td>\n",
       "    </tr>\n",
       "    <tr>\n",
       "      <th>502</th>\n",
       "      <td>A</td>\n",
       "      <td>(1, 1, 1, 1, 1, 0, 1, 1, 0)</td>\n",
       "      <td>491.665854</td>\n",
       "      <td>0.004068</td>\n",
       "      <td>2</td>\n",
       "    </tr>\n",
       "    <tr>\n",
       "      <th>503</th>\n",
       "      <td>A</td>\n",
       "      <td>(1, 1, 1, 1, 1, 0, 1, 1, 1)</td>\n",
       "      <td>0.000000</td>\n",
       "      <td>0.000000</td>\n",
       "      <td>0</td>\n",
       "    </tr>\n",
       "    <tr>\n",
       "      <th>504</th>\n",
       "      <td>A</td>\n",
       "      <td>(1, 1, 1, 1, 1, 1, 0, 0, 0)</td>\n",
       "      <td>0.000000</td>\n",
       "      <td>0.000950</td>\n",
       "      <td>0</td>\n",
       "    </tr>\n",
       "    <tr>\n",
       "      <th>505</th>\n",
       "      <td>A</td>\n",
       "      <td>(1, 1, 1, 1, 1, 1, 0, 0, 1)</td>\n",
       "      <td>0.000000</td>\n",
       "      <td>0.000000</td>\n",
       "      <td>0</td>\n",
       "    </tr>\n",
       "    <tr>\n",
       "      <th>506</th>\n",
       "      <td>A</td>\n",
       "      <td>(1, 1, 1, 1, 1, 1, 0, 1, 0)</td>\n",
       "      <td>0.000000</td>\n",
       "      <td>0.000000</td>\n",
       "      <td>0</td>\n",
       "    </tr>\n",
       "    <tr>\n",
       "      <th>507</th>\n",
       "      <td>A</td>\n",
       "      <td>(1, 1, 1, 1, 1, 1, 0, 1, 1)</td>\n",
       "      <td>425.135846</td>\n",
       "      <td>0.002352</td>\n",
       "      <td>1</td>\n",
       "    </tr>\n",
       "    <tr>\n",
       "      <th>508</th>\n",
       "      <td>A</td>\n",
       "      <td>(1, 1, 1, 1, 1, 1, 1, 0, 0)</td>\n",
       "      <td>0.000000</td>\n",
       "      <td>0.002320</td>\n",
       "      <td>0</td>\n",
       "    </tr>\n",
       "    <tr>\n",
       "      <th>509</th>\n",
       "      <td>A</td>\n",
       "      <td>(1, 1, 1, 1, 1, 1, 1, 0, 1)</td>\n",
       "      <td>0.000000</td>\n",
       "      <td>0.000000</td>\n",
       "      <td>0</td>\n",
       "    </tr>\n",
       "    <tr>\n",
       "      <th>510</th>\n",
       "      <td>A</td>\n",
       "      <td>(1, 1, 1, 1, 1, 1, 1, 1, 0)</td>\n",
       "      <td>172.361272</td>\n",
       "      <td>0.005802</td>\n",
       "      <td>1</td>\n",
       "    </tr>\n",
       "    <tr>\n",
       "      <th>511</th>\n",
       "      <td>A</td>\n",
       "      <td>(1, 1, 1, 1, 1, 1, 1, 1, 1)</td>\n",
       "      <td>0.000000</td>\n",
       "      <td>0.000000</td>\n",
       "      <td>0</td>\n",
       "    </tr>\n",
       "    <tr>\n",
       "      <th>512</th>\n",
       "      <td>B</td>\n",
       "      <td>()</td>\n",
       "      <td>0.842000</td>\n",
       "      <td>1000.000000</td>\n",
       "      <td>842</td>\n",
       "    </tr>\n",
       "  </tbody>\n",
       "</table>\n",
       "<p>513 rows × 5 columns</p>\n",
       "</div>"
      ],
      "text/plain": [
       "    event                          pcv     lambda_t     duration  count\n",
       "0       A  (0, 0, 0, 0, 0, 0, 0, 0, 0)     0.000000    48.258485      0\n",
       "1       A  (0, 0, 0, 0, 0, 0, 0, 0, 1)     0.000000   149.935174      0\n",
       "2       A  (0, 0, 0, 0, 0, 0, 0, 1, 0)     0.000000    21.733921      0\n",
       "3       A  (0, 0, 0, 0, 0, 0, 0, 1, 1)     0.000000    97.597541      0\n",
       "4       A  (0, 0, 0, 0, 0, 0, 1, 0, 0)     0.000000     9.215589      0\n",
       "5       A  (0, 0, 0, 0, 0, 0, 1, 0, 1)     0.000000    19.555928      0\n",
       "6       A  (0, 0, 0, 0, 0, 0, 1, 1, 0)     0.000000     3.874549      0\n",
       "7       A  (0, 0, 0, 0, 0, 0, 1, 1, 1)     0.000000    29.263474      0\n",
       "8       A  (0, 0, 0, 0, 0, 1, 0, 0, 0)     0.000000     4.221232      0\n",
       "9       A  (0, 0, 0, 0, 0, 1, 0, 0, 1)     0.000000     8.276688      0\n",
       "10      A  (0, 0, 0, 0, 0, 1, 0, 1, 0)     0.000000     2.107659      0\n",
       "11      A  (0, 0, 0, 0, 0, 1, 0, 1, 1)     0.000000     4.698762      0\n",
       "12      A  (0, 0, 0, 0, 0, 1, 1, 0, 0)     0.000000     1.223011      0\n",
       "13      A  (0, 0, 0, 0, 0, 1, 1, 0, 1)     0.000000     1.688996      0\n",
       "14      A  (0, 0, 0, 0, 0, 1, 1, 1, 0)     0.000000     0.865482      0\n",
       "15      A  (0, 0, 0, 0, 0, 1, 1, 1, 1)     0.000000     5.736073      0\n",
       "16      A  (0, 0, 0, 0, 1, 0, 0, 0, 0)     0.000000     2.073157      0\n",
       "17      A  (0, 0, 0, 0, 1, 0, 0, 0, 1)     0.000000     4.169564      0\n",
       "18      A  (0, 0, 0, 0, 1, 0, 0, 1, 0)     0.000000     1.118710      0\n",
       "19      A  (0, 0, 0, 0, 1, 0, 0, 1, 1)     0.000000     1.241676      0\n",
       "20      A  (0, 0, 0, 0, 1, 0, 1, 0, 0)     0.000000     0.587183      0\n",
       "21      A  (0, 0, 0, 0, 1, 0, 1, 0, 1)     0.000000     0.369743      0\n",
       "22      A  (0, 0, 0, 0, 1, 0, 1, 1, 0)     0.000000     0.428276      0\n",
       "23      A  (0, 0, 0, 0, 1, 0, 1, 1, 1)     0.000000     1.286989      0\n",
       "24      A  (0, 0, 0, 0, 1, 1, 0, 0, 0)     0.000000     0.411824      0\n",
       "25      A  (0, 0, 0, 0, 1, 1, 0, 0, 1)     0.000000     0.230383      0\n",
       "26      A  (0, 0, 0, 0, 1, 1, 0, 1, 0)     0.000000     0.146413      0\n",
       "27      A  (0, 0, 0, 0, 1, 1, 0, 1, 1)     0.000000     0.451612      0\n",
       "28      A  (0, 0, 0, 0, 1, 1, 1, 0, 0)     0.000000     0.111260      0\n",
       "29      A  (0, 0, 0, 0, 1, 1, 1, 0, 1)     0.000000     0.209582      0\n",
       "..    ...                          ...          ...          ...    ...\n",
       "483     A  (1, 1, 1, 1, 0, 0, 0, 1, 1)    36.602459     0.027321      1\n",
       "484     A  (1, 1, 1, 1, 0, 0, 1, 0, 0)    60.332855     0.016575      1\n",
       "485     A  (1, 1, 1, 1, 0, 0, 1, 0, 1)   309.764149     0.006457      2\n",
       "486     A  (1, 1, 1, 1, 0, 0, 1, 1, 0)   139.471162     0.007170      1\n",
       "487     A  (1, 1, 1, 1, 0, 0, 1, 1, 1)    96.179207     0.041589      4\n",
       "488     A  (1, 1, 1, 1, 0, 1, 0, 0, 0)   215.946437     0.004631      1\n",
       "489     A  (1, 1, 1, 1, 0, 1, 0, 0, 1)     0.000000     0.000805      0\n",
       "490     A  (1, 1, 1, 1, 0, 1, 0, 1, 0)     0.000000     0.004855      0\n",
       "491     A  (1, 1, 1, 1, 0, 1, 0, 1, 1)     0.000000     0.002923      0\n",
       "492     A  (1, 1, 1, 1, 0, 1, 1, 0, 0)   178.931833     0.011177      2\n",
       "493     A  (1, 1, 1, 1, 0, 1, 1, 0, 1)  1626.849206     0.000615      1\n",
       "494     A  (1, 1, 1, 1, 0, 1, 1, 1, 0)   118.647814     0.016857      2\n",
       "495     A  (1, 1, 1, 1, 0, 1, 1, 1, 1)    50.987226     0.019613      1\n",
       "496     A  (1, 1, 1, 1, 1, 0, 0, 0, 0)    70.683116     0.014148      1\n",
       "497     A  (1, 1, 1, 1, 1, 0, 0, 0, 1)   140.164692     0.007134      1\n",
       "498     A  (1, 1, 1, 1, 1, 0, 0, 1, 0)   540.349286     0.001851      1\n",
       "499     A  (1, 1, 1, 1, 1, 0, 0, 1, 1)     0.000000     0.005544      0\n",
       "500     A  (1, 1, 1, 1, 1, 0, 1, 0, 0)     0.000000     0.000000      0\n",
       "501     A  (1, 1, 1, 1, 1, 0, 1, 0, 1)     0.000000     0.000000      0\n",
       "502     A  (1, 1, 1, 1, 1, 0, 1, 1, 0)   491.665854     0.004068      2\n",
       "503     A  (1, 1, 1, 1, 1, 0, 1, 1, 1)     0.000000     0.000000      0\n",
       "504     A  (1, 1, 1, 1, 1, 1, 0, 0, 0)     0.000000     0.000950      0\n",
       "505     A  (1, 1, 1, 1, 1, 1, 0, 0, 1)     0.000000     0.000000      0\n",
       "506     A  (1, 1, 1, 1, 1, 1, 0, 1, 0)     0.000000     0.000000      0\n",
       "507     A  (1, 1, 1, 1, 1, 1, 0, 1, 1)   425.135846     0.002352      1\n",
       "508     A  (1, 1, 1, 1, 1, 1, 1, 0, 0)     0.000000     0.002320      0\n",
       "509     A  (1, 1, 1, 1, 1, 1, 1, 0, 1)     0.000000     0.000000      0\n",
       "510     A  (1, 1, 1, 1, 1, 1, 1, 1, 0)   172.361272     0.005802      1\n",
       "511     A  (1, 1, 1, 1, 1, 1, 1, 1, 1)     0.000000     0.000000      0\n",
       "512     B                           ()     0.842000  1000.000000    842\n",
       "\n",
       "[513 rows x 5 columns]"
      ]
     },
     "execution_count": 28,
     "metadata": {},
     "output_type": "execute_result"
    }
   ],
   "source": [
    "mle_lambdas(model, data, t_max)"
   ]
  },
  {
   "cell_type": "code",
   "execution_count": 29,
   "metadata": {
    "scrolled": true
   },
   "outputs": [
    {
     "data": {
      "text/plain": [
       "11294.00803065873"
      ]
     },
     "execution_count": 29,
     "metadata": {},
     "output_type": "execute_result"
    }
   ],
   "source": [
    "scoreBic(model, data, t_max)"
   ]
  },
  {
   "cell_type": "code",
   "execution_count": 30,
   "metadata": {},
   "outputs": [],
   "source": [
    "# keep forward result in memory\n",
    "forward_model = copy.deepcopy(model)"
   ]
  },
  {
   "cell_type": "markdown",
   "metadata": {},
   "source": [
    "## BackwardSearch(Forward)"
   ]
  },
  {
   "cell_type": "code",
   "execution_count": 31,
   "metadata": {},
   "outputs": [],
   "source": [
    "model = set_nodes_timeseries(model, data)\n",
    "model = set_nodes_parents_counts(model, model.dpd_graph.nodes, t_max)\n",
    "set_pcv_lambda_t(model, data, t_max)\n",
    "\n",
    "lambdas_count_duration_df = get_count_duration_df(data, model, t_max)\n",
    "\n",
    "LogL = compute_logLikelihood(lambdas_count_duration_df)\n",
    "log_td = np.log(t_max)\n",
    "\n",
    "size_log_td = model.size() * log_td\n",
    "\n",
    "score = LogL - size_log_td\n",
    "local_maximum = False"
   ]
  },
  {
   "cell_type": "code",
   "execution_count": 32,
   "metadata": {},
   "outputs": [
    {
     "data": {
      "text/plain": [
       "11294.00803065873"
      ]
     },
     "execution_count": 32,
     "metadata": {},
     "output_type": "execute_result"
    }
   ],
   "source": [
    "score"
   ]
  },
  {
   "cell_type": "code",
   "execution_count": 33,
   "metadata": {
    "scrolled": true
   },
   "outputs": [
    {
     "name": "stdout",
     "output_type": "stream",
     "text": [
      "iteration number: 0: scoreBIC = 11294.00803065873\n",
      "max ngbr <bound method RTGEM.inverse_extend_operator of <rtgemlib.rtgem.RTGEM object at 0x000001C32A011BE0>>, args=[('A', 'A')], max_scoreBIC = 13036.875268109232\n",
      "iteration number: 1: scoreBIC = 13036.875268109232\n",
      "max ngbr <bound method RTGEM.inverse_extend_operator of <rtgemlib.rtgem.RTGEM object at 0x000001C32A011BE0>>, args=[('A', 'A')], max_scoreBIC = 13902.537946844692\n",
      "iteration number: 2: scoreBIC = 13902.537946844692\n",
      "max ngbr <bound method RTGEM.inverse_extend_operator of <rtgemlib.rtgem.RTGEM object at 0x000001C32A011BE0>>, args=[('A', 'A')], max_scoreBIC = 14338.005300137973\n",
      "iteration number: 3: scoreBIC = 14338.005300137973\n",
      "max ngbr <bound method RTGEM.inverse_extend_operator of <rtgemlib.rtgem.RTGEM object at 0x000001C32A011BE0>>, args=[('A', 'A')], max_scoreBIC = 14557.638880585797\n",
      "iteration number: 4: scoreBIC = 14557.638880585797\n",
      "max ngbr <bound method RTGEM.inverse_extend_operator of <rtgemlib.rtgem.RTGEM object at 0x000001C32A011BE0>>, args=[('A', 'A')], max_scoreBIC = 14665.452059683395\n",
      "iteration number: 5: scoreBIC = 14665.452059683395\n",
      "max ngbr <bound method RTGEM.inverse_extend_operator of <rtgemlib.rtgem.RTGEM object at 0x000001C32A011BE0>>, args=[('A', 'A')], max_scoreBIC = 14719.480601212214\n",
      "iteration number: 6: scoreBIC = 14719.480601212214\n",
      "max ngbr <bound method RTGEM.inverse_extend_operator of <rtgemlib.rtgem.RTGEM object at 0x000001C32A011BE0>>, args=[('A', 'A')], max_scoreBIC = 14746.095138675319\n",
      "iteration number: 7: scoreBIC = 14746.095138675319\n",
      "max ngbr <bound method RTGEM.inverse_add_edge_operator of <rtgemlib.rtgem.RTGEM object at 0x000001C32A011BE0>>, args=[('B', 'A')], max_scoreBIC = 14759.465373190505\n",
      "iteration number: 8: scoreBIC = 14759.465373190505\n"
     ]
    }
   ],
   "source": [
    "it = 0\n",
    "backward_logs = []\n",
    "local_maximum = False\n",
    "\n",
    "bic_scores_backward = []\n",
    "\n",
    "while not local_maximum:\n",
    "    #     max_ngbr_score = -np.inf\n",
    "    local_maximum = True\n",
    "    max_score_ngbr = -np.inf\n",
    "    max_op = None\n",
    "    max_args = None\n",
    "    max_changed_node_cnt_drt_df = None\n",
    "    max_size_log_td_ngbr = None\n",
    "    max_LogL_ngbr = None\n",
    "    print('iteration number: {}: scoreBIC = {}'.format(it, score))\n",
    "    for ngbr_info in backward_neighbors_gen(model, data, t_max, lambdas_count_duration_df,LogL, size_log_td, log_td,):\n",
    "\n",
    "        op, args, LogL_ngbr, size_log_td_ngbr, changed_node_cnt_drt_df = ngbr_info\n",
    "        score_ngbr = LogL_ngbr - size_log_td_ngbr\n",
    "\n",
    "#         if score_ngbr > max_score_ngbr:\n",
    "        max_score_ngbr = score_ngbr\n",
    "        max_op = op\n",
    "        max_args = args\n",
    "        max_changed_node_cnt_drt_df = changed_node_cnt_drt_df\n",
    "        max_size_log_td_ngbr = size_log_td_ngbr\n",
    "        max_LogL_ngbr = LogL_ngbr\n",
    "\n",
    "        if max_score_ngbr > score:\n",
    "            print('max ngbr {}, args={}, max_scoreBIC = {}'.format(max_op, max_args, max_score_ngbr))\n",
    "\n",
    "            max_op(*max_args)\n",
    "            LogL = max_LogL_ngbr\n",
    "            size_log_td = max_size_log_td_ngbr\n",
    "            changed_node = max_changed_node_cnt_drt_df.iloc[0]['event']\n",
    "            lambdas_count_duration_df = lambdas_count_duration_df[lambdas_count_duration_df['event'] != changed_node]\n",
    "            lambdas_count_duration_df = pd.concat([lambdas_count_duration_df, max_changed_node_cnt_drt_df])\n",
    "\n",
    "            local_maximum = False\n",
    "            score = max_score_ngbr\n",
    "            op_name = 'supprimerArc'\n",
    "\n",
    "            if max_op == model.inverse_extend_operator:\n",
    "                op_name = 'reduireIntervalle'\n",
    "            # pd.Dataframe(columns=['it', 'T_A', 'T_B', 'edges', 'max_ngbr', 'scoreBic'])\n",
    "            if max_op == model.inverse_split_operator:\n",
    "                op_name = 'FusionnerIntervalle'\n",
    "\n",
    "            backward_logs.append([it, copy.deepcopy(model.get_node_parents_timescales('A')),\\\n",
    "                                 copy.deepcopy(model.get_node_parents_timescales('B')),\\\n",
    "                                 list(model.dpd_graph.edges()),\\\n",
    "                                 op_name,\\\n",
    "                                 max_args,\\\n",
    "                                 score])\n",
    "            \n",
    "            break\n",
    "    \n",
    "    bic_scores_backward.append(score)\n",
    "    \n",
    "    it += 1"
   ]
  },
  {
   "cell_type": "markdown",
   "metadata": {},
   "source": [
    "Score BIC modèle de référence :"
   ]
  },
  {
   "cell_type": "code",
   "execution_count": 34,
   "metadata": {},
   "outputs": [
    {
     "data": {
      "text/plain": [
       "2101.930790728022"
      ]
     },
     "execution_count": 34,
     "metadata": {},
     "output_type": "execute_result"
    }
   ],
   "source": [
    "score_bic_reference"
   ]
  },
  {
   "cell_type": "markdown",
   "metadata": {},
   "source": [
    "Score BIC final Backward(Forward) : "
   ]
  },
  {
   "cell_type": "code",
   "execution_count": 35,
   "metadata": {},
   "outputs": [
    {
     "data": {
      "text/plain": [
       "798.420830766982"
      ]
     },
     "execution_count": 35,
     "metadata": {},
     "output_type": "execute_result"
    }
   ],
   "source": [
    "scoreBic(model, data, t_max)"
   ]
  },
  {
   "cell_type": "code",
   "execution_count": 36,
   "metadata": {},
   "outputs": [
    {
     "data": {
      "text/plain": [
       "[13036.875268109232,\n",
       " 13902.537946844692,\n",
       " 14338.005300137973,\n",
       " 14557.638880585797,\n",
       " 14665.452059683395,\n",
       " 14719.480601212214,\n",
       " 14746.095138675319,\n",
       " 14759.465373190505,\n",
       " 14759.465373190505]"
      ]
     },
     "execution_count": 36,
     "metadata": {},
     "output_type": "execute_result"
    }
   ],
   "source": [
    "bic_scores_backward"
   ]
  },
  {
   "cell_type": "code",
   "execution_count": 74,
   "metadata": {},
   "outputs": [],
   "source": [
    "nb_it_forward = len(bic_scores_forward)\n",
    "nb_it_backward = len(bic_scores_backward)"
   ]
  },
  {
   "cell_type": "code",
   "execution_count": 86,
   "metadata": {},
   "outputs": [
    {
     "data": {
      "text/plain": [
       "10"
      ]
     },
     "execution_count": 86,
     "metadata": {},
     "output_type": "execute_result"
    }
   ],
   "source": [
    "nb_it_forward"
   ]
  },
  {
   "cell_type": "code",
   "execution_count": 87,
   "metadata": {},
   "outputs": [
    {
     "data": {
      "text/plain": [
       "9"
      ]
     },
     "execution_count": 87,
     "metadata": {},
     "output_type": "execute_result"
    }
   ],
   "source": [
    "nb_it_backward"
   ]
  },
  {
   "cell_type": "code",
   "execution_count": 90,
   "metadata": {},
   "outputs": [
    {
     "data": {
      "text/plain": [
       "19"
      ]
     },
     "execution_count": 90,
     "metadata": {},
     "output_type": "execute_result"
    }
   ],
   "source": [
    "len(x)"
   ]
  },
  {
   "cell_type": "code",
   "execution_count": 151,
   "metadata": {},
   "outputs": [],
   "source": [
    "# abscissa\n",
    "x = [i for i in range(nb_it_forward + nb_it_backward - 1)]\n",
    "\n",
    "# ordinate\n",
    "y_for = bic_scores_forward\n",
    "y_back = bic_scores_backward"
   ]
  },
  {
   "cell_type": "code",
   "execution_count": 83,
   "metadata": {},
   "outputs": [],
   "source": [
    "# ordinate\n",
    "y_ref = [score_bic_reference for i in range(nb_it_forward + nb_it_backward)]"
   ]
  },
  {
   "cell_type": "code",
   "execution_count": 121,
   "metadata": {},
   "outputs": [
    {
     "data": {
      "text/plain": [
       "11"
      ]
     },
     "execution_count": 121,
     "metadata": {},
     "output_type": "execute_result"
    }
   ],
   "source": []
  },
  {
   "cell_type": "code",
   "execution_count": 122,
   "metadata": {},
   "outputs": [
    {
     "data": {
      "text/plain": [
       "10"
      ]
     },
     "execution_count": 122,
     "metadata": {},
     "output_type": "execute_result"
    }
   ],
   "source": []
  },
  {
   "cell_type": "code",
   "execution_count": 123,
   "metadata": {},
   "outputs": [
    {
     "data": {
      "text/plain": [
       "10"
      ]
     },
     "execution_count": 123,
     "metadata": {},
     "output_type": "execute_result"
    }
   ],
   "source": []
  },
  {
   "cell_type": "code",
   "execution_count": 124,
   "metadata": {},
   "outputs": [
    {
     "data": {
      "text/plain": [
       "9"
      ]
     },
     "execution_count": 124,
     "metadata": {},
     "output_type": "execute_result"
    }
   ],
   "source": []
  },
  {
   "cell_type": "code",
   "execution_count": 141,
   "metadata": {},
   "outputs": [
    {
     "data": {
      "text/plain": [
       "[<matplotlib.lines.Line2D at 0x1c32a257f98>,\n",
       " <matplotlib.lines.Line2D at 0x1c32a2330f0>,\n",
       " <matplotlib.lines.Line2D at 0x1c329b85198>]"
      ]
     },
     "execution_count": 141,
     "metadata": {},
     "output_type": "execute_result"
    },
    {
     "data": {
      "image/png": "[encoded data removed]",
      "text/plain": [
       "<matplotlib.figure.Figure at 0x1c32a7254a8>"
      ]
     },
     "metadata": {},
     "output_type": "display_data"
    }
   ],
   "source": [
    "# plot the data\n",
    "fig = plt.figure()\n",
    "ax = fig.add_subplot(1, 1, 1)\n",
    "#, np.array(x)[:(nb_it_backward-1)], y_back, \"b\"\n",
    "#ax.plot(np.array(x)[(nb_it_forward-1):], y_for, 'r', x, y_ref, \"g\")\n",
    "ax.plot(np.array(x)[:nb_it_forward], y_for, 'r', np.array(x)[(nb_it_backward+1):], y_back, \"b\", x, y_ref, \"g\")"
   ]
  },
  {
   "cell_type": "code",
   "execution_count": 184,
   "metadata": {},
   "outputs": [
    {
     "data": {
      "text/plain": [
       "10"
      ]
     },
     "execution_count": 184,
     "metadata": {},
     "output_type": "execute_result"
    }
   ],
   "source": [
    "len(y_for)"
   ]
  },
  {
   "cell_type": "code",
   "execution_count": 185,
   "metadata": {},
   "outputs": [
    {
     "data": {
      "text/plain": [
       "10"
      ]
     },
     "execution_count": 185,
     "metadata": {},
     "output_type": "execute_result"
    }
   ],
   "source": [
    "len(np.array(x)[:(nb_it_forward)])"
   ]
  },
  {
   "cell_type": "code",
   "execution_count": 186,
   "metadata": {},
   "outputs": [
    {
     "data": {
      "text/plain": [
       "10"
      ]
     },
     "execution_count": 186,
     "metadata": {},
     "output_type": "execute_result"
    }
   ],
   "source": [
    "len(y_back)"
   ]
  },
  {
   "cell_type": "code",
   "execution_count": 187,
   "metadata": {},
   "outputs": [
    {
     "data": {
      "text/plain": [
       "10"
      ]
     },
     "execution_count": 187,
     "metadata": {},
     "output_type": "execute_result"
    }
   ],
   "source": [
    "len(np.array(x)[(nb_it_forward-1):])"
   ]
  },
  {
   "cell_type": "code",
   "execution_count": 156,
   "metadata": {},
   "outputs": [],
   "source": [
    "y_back.insert(0, y_for[len(y_for)-1])"
   ]
  },
  {
   "cell_type": "code",
   "execution_count": 153,
   "metadata": {},
   "outputs": [
    {
     "data": {
      "text/plain": [
       "13537.309083696622"
      ]
     },
     "execution_count": 153,
     "metadata": {},
     "output_type": "execute_result"
    }
   ],
   "source": [
    "y_for[len(y_for)-1]"
   ]
  },
  {
   "cell_type": "code",
   "execution_count": 157,
   "metadata": {},
   "outputs": [
    {
     "data": {
      "text/plain": [
       "[13537.309083696622,\n",
       " 13036.875268109232,\n",
       " 13902.537946844692,\n",
       " 14338.005300137973,\n",
       " 14557.638880585797,\n",
       " 14665.452059683395,\n",
       " 14719.480601212214,\n",
       " 14746.095138675319,\n",
       " 14759.465373190505,\n",
       " 14759.465373190505]"
      ]
     },
     "execution_count": 157,
     "metadata": {},
     "output_type": "execute_result"
    }
   ],
   "source": [
    "y_back"
   ]
  },
  {
   "cell_type": "code",
   "execution_count": 183,
   "metadata": {},
   "outputs": [
    {
     "data": {
      "text/plain": [
       "[<matplotlib.lines.Line2D at 0x1c32a5aee48>,\n",
       " <matplotlib.lines.Line2D at 0x1c32a40f7f0>,\n",
       " <matplotlib.lines.Line2D at 0x1c32a40f898>]"
      ]
     },
     "execution_count": 183,
     "metadata": {},
     "output_type": "execute_result"
    },
    {
     "data": {
      "image/png": "[encoded data removed]",
      "text/plain": [
       "<matplotlib.figure.Figure at 0x1c32a4ada58>"
      ]
     },
     "metadata": {},
     "output_type": "display_data"
    }
   ],
   "source": [
    "x = [i for i in range(nb_it_forward + nb_it_backward)]\n",
    "\n",
    "\n",
    "# plot the data\n",
    "fig = plt.figure()\n",
    "ax = fig.add_subplot(1, 1, 1)\n",
    "#, np.array(x)[:(nb_it_backward-1)], y_back, \"b\"\n",
    "#ax.plot(np.array(x)[(nb_it_forward-1):], y_for, 'r', x, y_ref, \"g\")\n",
    "ax.plot(np.array(x)[:nb_it_forward], y_for, 'r', np.array(x)[(nb_it_forward-1):], y_back, \"b\", x, y_ref, \"g\")"
   ]
  },
  {
   "cell_type": "code",
   "execution_count": null,
   "metadata": {},
   "outputs": [],
   "source": []
  }
 ],
 "metadata": {
  "kernelspec": {
   "display_name": "Python 3",
   "language": "python",
   "name": "python3"
  },
  "language_info": {
   "codemirror_mode": {
    "name": "ipython",
    "version": 3
   },
   "file_extension": ".py",
   "mimetype": "text/x-python",
   "name": "python",
   "nbconvert_exporter": "python",
   "pygments_lexer": "ipython3",
   "version": "3.6.4"
  }
 },
 "nbformat": 4,
 "nbformat_minor": 2
}
