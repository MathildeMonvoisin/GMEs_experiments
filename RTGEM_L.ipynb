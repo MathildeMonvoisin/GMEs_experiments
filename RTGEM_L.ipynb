{
 "cells": [
  {
   "cell_type": "code",
   "execution_count": 1,
   "metadata": {
    "scrolled": true
   },
   "outputs": [
    {
     "name": "stderr",
     "output_type": "stream",
     "text": [
      "C:\\Users\\MOTALY\\Anaconda3\\lib\\site-packages\\tqdm\\autonotebook\\__init__.py:14: TqdmExperimentalWarning: Using `tqdm.autonotebook.tqdm` in notebook mode. Use `tqdm.tqdm` instead to force console mode (e.g. in jupyter console)\n",
      "  \" (e.g. in jupyter console)\", TqdmExperimentalWarning)\n"
     ]
    }
   ],
   "source": [
    "from rtgemlib import RTGEM\n",
    "from rtgemlib import sample_from_tgem, LogLikelihood, scoreBic, mle_lambdas, LocaleLogLikelihood, get_count_duration_df, get_node_LogLikelihood, set_pcv_lambda_t, backward_neighbors_gen,\\\n",
    "compute_logLikelihood, set_nodes_timeseries, set_nodes_parents_counts, duration, get_parents_count_vector, forward_neighbors_gen, initModelFromData\n",
    "\n",
    "from tqdm.autonotebook import tqdm\n",
    "import pandas as pd\n",
    "import numpy as np\n",
    "import matplotlib.pyplot as plt\n",
    "import networkx as nx"
   ]
  },
  {
   "cell_type": "code",
   "execution_count": 2,
   "metadata": {
    "collapsed": true
   },
   "outputs": [],
   "source": [
    "def empty_nodes(nodes):\n",
    "    return dict(zip(nodes, [{'timescales': {}, 'lambdas': {(): 1}}] * len(nodes)))"
   ]
  },
  {
   "cell_type": "code",
   "execution_count": 3,
   "metadata": {
    "collapsed": true
   },
   "outputs": [],
   "source": [
    "model = {'B': \n",
    "            {\n",
    "            'timescales': {'A' : [[1,2], [5, 6]]},\\\n",
    "            'lambdas': {\n",
    "                       (0,0): 10, \\\n",
    "                       (0,1): 1.6, \\\n",
    "                       (1,0): 3, \\\n",
    "                       (1,1) : 1\n",
    "                      }\n",
    "            },\n",
    "            'A': {\n",
    "                'timescales': {'B': [[0,1], [10,15]]},\\\n",
    "                'lambdas': {\n",
    "                       (0,0): 1, \\\n",
    "                       (0,1): 4, \\\n",
    "                       (1,0): 5, \\\n",
    "                       (1,1) : 9\n",
    "                      }\n",
    "            }\n",
    "        }\n",
    "\n"
   ]
  },
  {
   "cell_type": "code",
   "execution_count": 4,
   "metadata": {
    "collapsed": true
   },
   "outputs": [],
   "source": [
    "rtgem_model = RTGEM(model)"
   ]
  },
  {
   "cell_type": "code",
   "execution_count": null,
   "metadata": {
    "collapsed": true
   },
   "outputs": [],
   "source": [
    "t_max = 10000"
   ]
  },
  {
   "cell_type": "markdown",
   "metadata": {},
   "source": [
    "## Sampling"
   ]
  },
  {
   "cell_type": "code",
   "execution_count": null,
   "metadata": {
    "scrolled": false
   },
   "outputs": [
    {
     "data": {
      "application/vnd.jupyter.widget-view+json": {
       "model_id": "abb97623383944e29b89714c643549b1",
       "version_major": 2,
       "version_minor": 0
      },
      "text/plain": [
       "A Jupyter Widget"
      ]
     },
     "metadata": {},
     "output_type": "display_data"
    },
    {
     "data": {
      "application/vnd.jupyter.widget-view+json": {
       "model_id": "316da1d3e3414432a514bc36eccc4f65",
       "version_major": 2,
       "version_minor": 0
      },
      "text/plain": [
       "A Jupyter Widget"
      ]
     },
     "metadata": {},
     "output_type": "display_data"
    }
   ],
   "source": [
    "sampled_data = sample_from_tgem(rtgem_model, t_min=0, t_max=t_max)"
   ]
  },
  {
   "cell_type": "code",
   "execution_count": null,
   "metadata": {
    "collapsed": true,
    "scrolled": false
   },
   "outputs": [],
   "source": [
    "set_pcv_lambda_t(model=rtgem_model, data=sampled_data, t_max=t_max)"
   ]
  },
  {
   "cell_type": "code",
   "execution_count": null,
   "metadata": {
    "collapsed": true,
    "scrolled": true
   },
   "outputs": [],
   "source": [
    "count_duration_df = get_count_duration_df(model=rtgem_model, data=sampled_data, t_max=t_max)"
   ]
  },
  {
   "cell_type": "code",
   "execution_count": null,
   "metadata": {
    "scrolled": true
   },
   "outputs": [],
   "source": [
    "count_duration_df"
   ]
  },
  {
   "cell_type": "markdown",
   "metadata": {},
   "source": [
    "## Likelihood"
   ]
  },
  {
   "cell_type": "code",
   "execution_count": null,
   "metadata": {},
   "outputs": [],
   "source": [
    "compute_logLikelihood(count_duration_df)"
   ]
  },
  {
   "cell_type": "code",
   "execution_count": null,
   "metadata": {},
   "outputs": [],
   "source": [
    "LogLikelihood(model=rtgem_model, observed_data=sampled_data, t_max=t_max)"
   ]
  },
  {
   "cell_type": "markdown",
   "metadata": {},
   "source": [
    "## Parameters learning (lambdas)"
   ]
  },
  {
   "cell_type": "code",
   "execution_count": null,
   "metadata": {
    "scrolled": true
   },
   "outputs": [],
   "source": [
    "mle_lambdas(data=sampled_data, model=rtgem_model, t_max=t_max)"
   ]
  },
  {
   "cell_type": "markdown",
   "metadata": {},
   "source": [
    "## Structure learning"
   ]
  },
  {
   "cell_type": "markdown",
   "metadata": {},
   "source": [
    "### Modèle de référence"
   ]
  },
  {
   "cell_type": "code",
   "execution_count": 3,
   "metadata": {
    "collapsed": true,
    "scrolled": true
   },
   "outputs": [],
   "source": [
    "rtgem_model = RTGEM(empty_nodes(['A', 'B']), default_end_timescale=1)"
   ]
  },
  {
   "cell_type": "code",
   "execution_count": 4,
   "metadata": {
    "collapsed": true
   },
   "outputs": [],
   "source": [
    "rtgem_model.add_edge_operator(('A', 'A'))\n",
    "rtgem_model.add_edge_operator(('A', 'B'))\n",
    "rtgem_model.add_edge_operator(('B', 'A'))"
   ]
  },
  {
   "cell_type": "code",
   "execution_count": 5,
   "metadata": {
    "collapsed": true
   },
   "outputs": [],
   "source": [
    "rtgem_model.split_operator(edge=('A', 'A'), timescale=[0,1])"
   ]
  },
  {
   "cell_type": "code",
   "execution_count": 6,
   "metadata": {
    "collapsed": true
   },
   "outputs": [],
   "source": [
    "rtgem_model.extend_operator(edge=('A', 'B'))"
   ]
  },
  {
   "cell_type": "code",
   "execution_count": 7,
   "metadata": {},
   "outputs": [
    {
     "data": {
      "application/vnd.jupyter.widget-view+json": {
       "model_id": "8beda38a7b484a07b8b9cbaea81b0418",
       "version_major": 2,
       "version_minor": 0
      },
      "text/plain": [
       "A Jupyter Widget"
      ]
     },
     "metadata": {},
     "output_type": "display_data"
    },
    {
     "data": {
      "application/vnd.jupyter.widget-view+json": {
       "model_id": "dd90627a7bb5413a97665f59ef9acd05",
       "version_major": 2,
       "version_minor": 0
      },
      "text/plain": [
       "A Jupyter Widget"
      ]
     },
     "metadata": {},
     "output_type": "display_data"
    },
    {
     "name": "stdout",
     "output_type": "stream",
     "text": [
      "\r"
     ]
    },
    {
     "data": {
      "application/vnd.jupyter.widget-view+json": {
       "model_id": "adea13cf545d46178743d6a482b1d860",
       "version_major": 2,
       "version_minor": 0
      },
      "text/plain": [
       "A Jupyter Widget"
      ]
     },
     "metadata": {},
     "output_type": "display_data"
    },
    {
     "name": "stdout",
     "output_type": "stream",
     "text": [
      "\r"
     ]
    }
   ],
   "source": [
    "sampled_data = sample_from_tgem(rtgem_model, t_min=0, t_max=10000)"
   ]
  },
  {
   "cell_type": "code",
   "execution_count": 8,
   "metadata": {
    "collapsed": true
   },
   "outputs": [],
   "source": [
    "t_max = 100\n",
    "data = sampled_data[sampled_data['time'] < t_max]"
   ]
  },
  {
   "cell_type": "code",
   "execution_count": 9,
   "metadata": {
    "scrolled": true
   },
   "outputs": [
    {
     "data": {
      "text/plain": [
       "<rtgemlib.rtgem.RTGEM at 0x2187ae6a9e8>"
      ]
     },
     "execution_count": 9,
     "metadata": {},
     "output_type": "execute_result"
    }
   ],
   "source": [
    "initModelFromData(model=rtgem_model, observed_data=data, t_max=t_max)"
   ]
  },
  {
   "cell_type": "code",
   "execution_count": 10,
   "metadata": {},
   "outputs": [],
   "source": [
    "count_duration_df = get_count_duration_df(model=rtgem_model, data=data, t_max=t_max)"
   ]
  },
  {
   "cell_type": "code",
   "execution_count": 11,
   "metadata": {
    "scrolled": true
   },
   "outputs": [
    {
     "data": {
      "text/html": [
       "<div>\n",
       "<style scoped>\n",
       "    .dataframe tbody tr th:only-of-type {\n",
       "        vertical-align: middle;\n",
       "    }\n",
       "\n",
       "    .dataframe tbody tr th {\n",
       "        vertical-align: top;\n",
       "    }\n",
       "\n",
       "    .dataframe thead th {\n",
       "        text-align: right;\n",
       "    }\n",
       "</style>\n",
       "<table border=\"1\" class=\"dataframe\">\n",
       "  <thead>\n",
       "    <tr style=\"text-align: right;\">\n",
       "      <th></th>\n",
       "      <th>event</th>\n",
       "      <th>pcv</th>\n",
       "      <th>lambda_t</th>\n",
       "      <th>duration</th>\n",
       "      <th>count</th>\n",
       "    </tr>\n",
       "  </thead>\n",
       "  <tbody>\n",
       "    <tr>\n",
       "      <th>0</th>\n",
       "      <td>A</td>\n",
       "      <td>(0, 0, 0)</td>\n",
       "      <td>1.754941</td>\n",
       "      <td>0.660267</td>\n",
       "      <td>0</td>\n",
       "    </tr>\n",
       "    <tr>\n",
       "      <th>1</th>\n",
       "      <td>A</td>\n",
       "      <td>(0, 0, 1)</td>\n",
       "      <td>4.972062</td>\n",
       "      <td>0.243973</td>\n",
       "      <td>0</td>\n",
       "    </tr>\n",
       "    <tr>\n",
       "      <th>2</th>\n",
       "      <td>A</td>\n",
       "      <td>(0, 1, 0)</td>\n",
       "      <td>8.435874</td>\n",
       "      <td>0.000000</td>\n",
       "      <td>0</td>\n",
       "    </tr>\n",
       "    <tr>\n",
       "      <th>3</th>\n",
       "      <td>A</td>\n",
       "      <td>(0, 1, 1)</td>\n",
       "      <td>4.723642</td>\n",
       "      <td>4.288426</td>\n",
       "      <td>0</td>\n",
       "    </tr>\n",
       "    <tr>\n",
       "      <th>4</th>\n",
       "      <td>A</td>\n",
       "      <td>(1, 0, 0)</td>\n",
       "      <td>1.411243</td>\n",
       "      <td>0.231936</td>\n",
       "      <td>1</td>\n",
       "    </tr>\n",
       "    <tr>\n",
       "      <th>5</th>\n",
       "      <td>A</td>\n",
       "      <td>(1, 0, 1)</td>\n",
       "      <td>8.034890</td>\n",
       "      <td>4.556489</td>\n",
       "      <td>39</td>\n",
       "    </tr>\n",
       "    <tr>\n",
       "      <th>6</th>\n",
       "      <td>A</td>\n",
       "      <td>(1, 1, 0)</td>\n",
       "      <td>3.428519</td>\n",
       "      <td>0.000000</td>\n",
       "      <td>0</td>\n",
       "    </tr>\n",
       "    <tr>\n",
       "      <th>7</th>\n",
       "      <td>A</td>\n",
       "      <td>(1, 1, 1)</td>\n",
       "      <td>7.173950</td>\n",
       "      <td>90.018909</td>\n",
       "      <td>660</td>\n",
       "    </tr>\n",
       "    <tr>\n",
       "      <th>8</th>\n",
       "      <td>B</td>\n",
       "      <td>(0, 0)</td>\n",
       "      <td>1.383047</td>\n",
       "      <td>0.660267</td>\n",
       "      <td>0</td>\n",
       "    </tr>\n",
       "    <tr>\n",
       "      <th>9</th>\n",
       "      <td>B</td>\n",
       "      <td>(0, 1)</td>\n",
       "      <td>1.102118</td>\n",
       "      <td>0.243973</td>\n",
       "      <td>1</td>\n",
       "    </tr>\n",
       "    <tr>\n",
       "      <th>10</th>\n",
       "      <td>B</td>\n",
       "      <td>(1, 0)</td>\n",
       "      <td>6.779157</td>\n",
       "      <td>1.243973</td>\n",
       "      <td>15</td>\n",
       "    </tr>\n",
       "    <tr>\n",
       "      <th>11</th>\n",
       "      <td>B</td>\n",
       "      <td>(1, 1)</td>\n",
       "      <td>7.678948</td>\n",
       "      <td>97.851787</td>\n",
       "      <td>751</td>\n",
       "    </tr>\n",
       "  </tbody>\n",
       "</table>\n",
       "</div>"
      ],
      "text/plain": [
       "   event        pcv  lambda_t   duration  count\n",
       "0      A  (0, 0, 0)  1.754941   0.660267      0\n",
       "1      A  (0, 0, 1)  4.972062   0.243973      0\n",
       "2      A  (0, 1, 0)  8.435874   0.000000      0\n",
       "3      A  (0, 1, 1)  4.723642   4.288426      0\n",
       "4      A  (1, 0, 0)  1.411243   0.231936      1\n",
       "5      A  (1, 0, 1)  8.034890   4.556489     39\n",
       "6      A  (1, 1, 0)  3.428519   0.000000      0\n",
       "7      A  (1, 1, 1)  7.173950  90.018909    660\n",
       "8      B     (0, 0)  1.383047   0.660267      0\n",
       "9      B     (0, 1)  1.102118   0.243973      1\n",
       "10     B     (1, 0)  6.779157   1.243973     15\n",
       "11     B     (1, 1)  7.678948  97.851787    751"
      ]
     },
     "execution_count": 11,
     "metadata": {},
     "output_type": "execute_result"
    }
   ],
   "source": [
    "count_duration_df"
   ]
  },
  {
   "cell_type": "code",
   "execution_count": 12,
   "metadata": {},
   "outputs": [
    {
     "data": {
      "text/plain": [
       "1420.1849614716812"
      ]
     },
     "execution_count": 12,
     "metadata": {},
     "output_type": "execute_result"
    }
   ],
   "source": [
    "compute_logLikelihood(count_duration_df) - rtgem_model.size() * np.log(t_max)"
   ]
  },
  {
   "cell_type": "markdown",
   "metadata": {},
   "source": [
    "### Forward Search"
   ]
  },
  {
   "cell_type": "code",
   "execution_count": 13,
   "metadata": {
    "collapsed": true
   },
   "outputs": [],
   "source": [
    "import itertools\n",
    "import random\n",
    "import copy"
   ]
  },
  {
   "cell_type": "code",
   "execution_count": 14,
   "metadata": {
    "collapsed": true
   },
   "outputs": [],
   "source": [
    "def empty_nodes(nodes):\n",
    "    return dict(zip(nodes, [{'timescales': {}, 'lambdas': {(): 1}}] * len(nodes)))"
   ]
  },
  {
   "cell_type": "code",
   "execution_count": 15,
   "metadata": {
    "collapsed": true
   },
   "outputs": [],
   "source": [
    "model = RTGEM(empty_nodes(['A', 'B']),  default_end_timescale=1)"
   ]
  },
  {
   "cell_type": "markdown",
   "metadata": {},
   "source": [
    "#### Initialisation "
   ]
  },
  {
   "cell_type": "code",
   "execution_count": 16,
   "metadata": {},
   "outputs": [
    {
     "data": {
      "text/plain": [
       "<rtgemlib.rtgem.RTGEM at 0x2187bfd3e48>"
      ]
     },
     "execution_count": 16,
     "metadata": {},
     "output_type": "execute_result"
    }
   ],
   "source": [
    "initModelFromData(model, data, t_max)"
   ]
  },
  {
   "cell_type": "code",
   "execution_count": 17,
   "metadata": {
    "collapsed": true
   },
   "outputs": [],
   "source": [
    "count_duration_df = get_count_duration_df(model=model, data=data, t_max=t_max)"
   ]
  },
  {
   "cell_type": "code",
   "execution_count": 18,
   "metadata": {
    "scrolled": true
   },
   "outputs": [],
   "source": [
    "lambdas_count_duration_df = mle_lambdas(model=model, count_and_duration=count_duration_df)"
   ]
  },
  {
   "cell_type": "code",
   "execution_count": 19,
   "metadata": {},
   "outputs": [
    {
     "data": {
      "text/html": [
       "<div>\n",
       "<style scoped>\n",
       "    .dataframe tbody tr th:only-of-type {\n",
       "        vertical-align: middle;\n",
       "    }\n",
       "\n",
       "    .dataframe tbody tr th {\n",
       "        vertical-align: top;\n",
       "    }\n",
       "\n",
       "    .dataframe thead th {\n",
       "        text-align: right;\n",
       "    }\n",
       "</style>\n",
       "<table border=\"1\" class=\"dataframe\">\n",
       "  <thead>\n",
       "    <tr style=\"text-align: right;\">\n",
       "      <th></th>\n",
       "      <th>event</th>\n",
       "      <th>pcv</th>\n",
       "      <th>lambda_t</th>\n",
       "      <th>duration</th>\n",
       "      <th>count</th>\n",
       "    </tr>\n",
       "  </thead>\n",
       "  <tbody>\n",
       "    <tr>\n",
       "      <th>0</th>\n",
       "      <td>A</td>\n",
       "      <td>()</td>\n",
       "      <td>7.00</td>\n",
       "      <td>100</td>\n",
       "      <td>700</td>\n",
       "    </tr>\n",
       "    <tr>\n",
       "      <th>1</th>\n",
       "      <td>B</td>\n",
       "      <td>()</td>\n",
       "      <td>7.67</td>\n",
       "      <td>100</td>\n",
       "      <td>767</td>\n",
       "    </tr>\n",
       "  </tbody>\n",
       "</table>\n",
       "</div>"
      ],
      "text/plain": [
       "  event pcv  lambda_t  duration  count\n",
       "0     A  ()      7.00       100    700\n",
       "1     B  ()      7.67       100    767"
      ]
     },
     "execution_count": 19,
     "metadata": {},
     "output_type": "execute_result"
    }
   ],
   "source": [
    "lambdas_count_duration_df"
   ]
  },
  {
   "cell_type": "code",
   "execution_count": 20,
   "metadata": {
    "scrolled": true
   },
   "outputs": [
    {
     "data": {
      "text/plain": [
       "NodeDataView({'A': {(): 7.0}, 'B': {(): 7.67}}, data='lambdas')"
      ]
     },
     "execution_count": 20,
     "metadata": {},
     "output_type": "execute_result"
    }
   ],
   "source": [
    "model.dpd_graph.nodes.data('lambdas')"
   ]
  },
  {
   "cell_type": "code",
   "execution_count": 21,
   "metadata": {
    "collapsed": true
   },
   "outputs": [],
   "source": [
    "LogL = compute_logLikelihood(lambdas_count_duration_df)\n",
    "log_td = np.log(t_max)\n",
    "\n",
    "size_log_td = model.size() * log_td\n",
    "\n",
    "score = LogL - size_log_td\n",
    "local_maximum = False\n",
    "nodes = list(model.dpd_graph.nodes)\n",
    "possible_edges = list(itertools.product(nodes, repeat = 2))\n",
    "\n",
    "random.shuffle(possible_edges)"
   ]
  },
  {
   "cell_type": "code",
   "execution_count": 22,
   "metadata": {},
   "outputs": [
    {
     "data": {
      "text/plain": [
       "1448.5486079625623"
      ]
     },
     "execution_count": 22,
     "metadata": {},
     "output_type": "execute_result"
    }
   ],
   "source": [
    "score"
   ]
  },
  {
   "cell_type": "code",
   "execution_count": 23,
   "metadata": {
    "scrolled": true
   },
   "outputs": [
    {
     "data": {
      "text/plain": [
       "1448.5486079625623"
      ]
     },
     "execution_count": 23,
     "metadata": {},
     "output_type": "execute_result"
    }
   ],
   "source": [
    "scoreBic(model=model, observed_data=data, t_max=t_max)"
   ]
  },
  {
   "cell_type": "code",
   "execution_count": 24,
   "metadata": {
    "scrolled": false
   },
   "outputs": [
    {
     "name": "stdout",
     "output_type": "stream",
     "text": [
      "iteration number: 0: scoreBIC = 1448.5486079625623\n",
      "max ngbr <bound method RTGEM.add_edge_operator of <rtgemlib.rtgem.RTGEM object at 0x000002187BFD3E48>>, args=[('B', 'B')], max_scoreBIC = 1450.8173481692425\n",
      "iteration number: 1: scoreBIC = 1450.8173481692425\n",
      "max ngbr <bound method RTGEM.split_operator of <rtgemlib.rtgem.RTGEM object at 0x000002187BFD3E48>>, args=[('B', 'B'), [0, 1]], max_scoreBIC = 1465.4539263483437\n",
      "iteration number: 2: scoreBIC = 1465.4539263483437\n",
      "max ngbr <bound method RTGEM.split_operator of <rtgemlib.rtgem.RTGEM object at 0x000002187BFD3E48>>, args=[('B', 'B'), [0, 0.5]], max_scoreBIC = 1554.0114355762498\n",
      "iteration number: 3: scoreBIC = 1554.0114355762498\n",
      "max ngbr <bound method RTGEM.split_operator of <rtgemlib.rtgem.RTGEM object at 0x000002187BFD3E48>>, args=[('B', 'B'), [0, 0.25]], max_scoreBIC = 1757.2604577383458\n",
      "iteration number: 4: scoreBIC = 1757.2604577383458\n",
      "max ngbr <bound method RTGEM.split_operator of <rtgemlib.rtgem.RTGEM object at 0x000002187BFD3E48>>, args=[('B', 'B'), [0, 0.125]], max_scoreBIC = 2055.442496088961\n",
      "iteration number: 5: scoreBIC = 2055.442496088961\n",
      "max ngbr <bound method RTGEM.split_operator of <rtgemlib.rtgem.RTGEM object at 0x000002187BFD3E48>>, args=[('B', 'B'), [0, 0.0625]], max_scoreBIC = 2352.731677595728\n",
      "iteration number: 6: scoreBIC = 2352.731677595728\n",
      "max ngbr <bound method RTGEM.split_operator of <rtgemlib.rtgem.RTGEM object at 0x000002187BFD3E48>>, args=[('B', 'B'), [0, 0.03125]], max_scoreBIC = 2547.670026699503\n",
      "iteration number: 7: scoreBIC = 2547.670026699503\n",
      "max ngbr <bound method RTGEM.add_edge_operator of <rtgemlib.rtgem.RTGEM object at 0x000002187BFD3E48>>, args=[('A', 'A')], max_scoreBIC = 2549.423327030633\n",
      "iteration number: 8: scoreBIC = 2549.423327030633\n",
      "max ngbr <bound method RTGEM.split_operator of <rtgemlib.rtgem.RTGEM object at 0x000002187BFD3E48>>, args=[('A', 'A'), [0, 1]], max_scoreBIC = 2571.4897808033497\n",
      "iteration number: 9: scoreBIC = 2571.4897808033497\n",
      "max ngbr <bound method RTGEM.split_operator of <rtgemlib.rtgem.RTGEM object at 0x000002187BFD3E48>>, args=[('A', 'A'), [0, 0.5]], max_scoreBIC = 2666.457414287452\n",
      "iteration number: 10: scoreBIC = 2666.457414287452\n",
      "max ngbr <bound method RTGEM.split_operator of <rtgemlib.rtgem.RTGEM object at 0x000002187BFD3E48>>, args=[('A', 'A'), [0, 0.25]], max_scoreBIC = 2870.035711850769\n",
      "iteration number: 11: scoreBIC = 2870.035711850769\n",
      "max ngbr <bound method RTGEM.split_operator of <rtgemlib.rtgem.RTGEM object at 0x000002187BFD3E48>>, args=[('A', 'A'), [0, 0.125]], max_scoreBIC = 3132.5225960028597\n",
      "iteration number: 12: scoreBIC = 3132.5225960028597\n",
      "max ngbr <bound method RTGEM.split_operator of <rtgemlib.rtgem.RTGEM object at 0x000002187BFD3E48>>, args=[('A', 'A'), [0, 0.0625]], max_scoreBIC = 3401.487751627663\n",
      "iteration number: 13: scoreBIC = 3401.487751627663\n",
      "max ngbr <bound method RTGEM.split_operator of <rtgemlib.rtgem.RTGEM object at 0x000002187BFD3E48>>, args=[('A', 'A'), [0, 0.03125]], max_scoreBIC = 3558.4739531609343\n",
      "iteration number: 14: scoreBIC = 3558.4739531609343\n",
      "max ngbr <bound method RTGEM.split_operator of <rtgemlib.rtgem.RTGEM object at 0x000002187BFD3E48>>, args=[('B', 'B'), [0, 0.015625]], max_scoreBIC = 3488.8641856843806\n"
     ]
    }
   ],
   "source": [
    "it = 0\n",
    "forward_logs = []\n",
    "while not local_maximum:\n",
    "    #     max_ngbr_score = -np.inf\n",
    "    local_maximum = True\n",
    "    max_score_ngbr = -np.inf\n",
    "    max_op = None\n",
    "    max_args = None\n",
    "    max_changed_node_cnt_drt_df = None\n",
    "    max_size_log_td_ngbr = None\n",
    "    max_LogL_ngbr = None\n",
    "    print('iteration number: {}: scoreBIC = {}'.format(it, score))\n",
    "    for ngbr_info in forward_neighbors_gen(model, data, t_max, lambdas_count_duration_df,LogL, size_log_td, log_td,\\\n",
    "                                           possible_edges):\n",
    "\n",
    "        op, args, LogL_ngbr, size_log_td_ngbr, changed_node_cnt_drt_df = ngbr_info\n",
    "        score_ngbr = LogL_ngbr - size_log_td_ngbr\n",
    "\n",
    "        if score_ngbr > max_score_ngbr:\n",
    "            max_score_ngbr = score_ngbr\n",
    "            max_op = op\n",
    "            max_args = args\n",
    "            max_changed_node_cnt_drt_df = changed_node_cnt_drt_df\n",
    "            max_size_log_td_ngbr = size_log_td_ngbr\n",
    "            max_LogL_ngbr = LogL_ngbr\n",
    "    print('max ngbr {}, args={}, max_scoreBIC = {}'.format(max_op, max_args, max_score_ngbr))\n",
    " \n",
    "    if max_score_ngbr > score:\n",
    "        max_op(*max_args)\n",
    "        LogL = max_LogL_ngbr\n",
    "        size_log_td = max_size_log_td_ngbr\n",
    "        changed_node = max_changed_node_cnt_drt_df.iloc[0]['event']\n",
    "        lambdas_count_duration_df = lambdas_count_duration_df[lambdas_count_duration_df['event'] != changed_node]\n",
    "        lambdas_count_duration_df = pd.concat([lambdas_count_duration_df, max_changed_node_cnt_drt_df])\n",
    "\n",
    "        local_maximum = False\n",
    "        score = max_score_ngbr\n",
    "        op_name = 'étendreIntervalle'\n",
    "\n",
    "        # removes added edge from possible edges\n",
    "        if max_op == model.add_edge_operator:\n",
    "            possible_edges.remove(max_args[0])\n",
    "        # pd.Dataframe(columns=['it', 'T_A', 'T_B', 'edges', 'max_ngbr', 'scoreBic'])\n",
    "            op_name = 'ajouterArc'\n",
    "        if max_op == model.split_operator:\n",
    "            op_name = 'diviserIntervalle'\n",
    "\n",
    "        forward_logs.append([it, copy.deepcopy(model.get_node_parents_timescales('A')),\\\n",
    "                             copy.deepcopy(model.get_node_parents_timescales('B')),\\\n",
    "                             list(model.dpd_graph.edges()),\\\n",
    "                             op_name,\\\n",
    "                             max_args,\\\n",
    "                             score])\n",
    "    it += 1"
   ]
  },
  {
   "cell_type": "code",
   "execution_count": 25,
   "metadata": {},
   "outputs": [
    {
     "data": {
      "text/plain": [
       "<rtgemlib.rtgem.RTGEM at 0x2187bfd3e48>"
      ]
     },
     "execution_count": 25,
     "metadata": {},
     "output_type": "execute_result"
    }
   ],
   "source": [
    "initModelFromData(model=model, observed_data=data, t_max=t_max)"
   ]
  },
  {
   "cell_type": "code",
   "execution_count": 26,
   "metadata": {
    "collapsed": true
   },
   "outputs": [],
   "source": [
    "count_duration_df = get_count_duration_df(model=model, data=data, t_max=t_max)"
   ]
  },
  {
   "cell_type": "code",
   "execution_count": 27,
   "metadata": {
    "scrolled": true
   },
   "outputs": [
    {
     "data": {
      "text/html": [
       "<div>\n",
       "<style scoped>\n",
       "    .dataframe tbody tr th:only-of-type {\n",
       "        vertical-align: middle;\n",
       "    }\n",
       "\n",
       "    .dataframe tbody tr th {\n",
       "        vertical-align: top;\n",
       "    }\n",
       "\n",
       "    .dataframe thead th {\n",
       "        text-align: right;\n",
       "    }\n",
       "</style>\n",
       "<table border=\"1\" class=\"dataframe\">\n",
       "  <thead>\n",
       "    <tr style=\"text-align: right;\">\n",
       "      <th></th>\n",
       "      <th>event</th>\n",
       "      <th>pcv</th>\n",
       "      <th>lambda_t</th>\n",
       "      <th>duration</th>\n",
       "      <th>count</th>\n",
       "    </tr>\n",
       "  </thead>\n",
       "  <tbody>\n",
       "    <tr>\n",
       "      <th>0</th>\n",
       "      <td>A</td>\n",
       "      <td>(0, 0, 0, 0, 0, 0, 0)</td>\n",
       "      <td>0.000000</td>\n",
       "      <td>0.904240</td>\n",
       "      <td>0</td>\n",
       "    </tr>\n",
       "    <tr>\n",
       "      <th>1</th>\n",
       "      <td>A</td>\n",
       "      <td>(0, 0, 0, 0, 0, 0, 1)</td>\n",
       "      <td>0.000000</td>\n",
       "      <td>4.288426</td>\n",
       "      <td>0</td>\n",
       "    </tr>\n",
       "    <tr>\n",
       "      <th>2</th>\n",
       "      <td>A</td>\n",
       "      <td>(0, 0, 0, 0, 0, 1, 0)</td>\n",
       "      <td>0.000000</td>\n",
       "      <td>0.442450</td>\n",
       "      <td>0</td>\n",
       "    </tr>\n",
       "    <tr>\n",
       "      <th>3</th>\n",
       "      <td>A</td>\n",
       "      <td>(0, 0, 0, 0, 0, 1, 1)</td>\n",
       "      <td>0.000000</td>\n",
       "      <td>13.692258</td>\n",
       "      <td>0</td>\n",
       "    </tr>\n",
       "    <tr>\n",
       "      <th>4</th>\n",
       "      <td>A</td>\n",
       "      <td>(0, 0, 0, 0, 1, 0, 0)</td>\n",
       "      <td>0.000000</td>\n",
       "      <td>0.426986</td>\n",
       "      <td>0</td>\n",
       "    </tr>\n",
       "    <tr>\n",
       "      <th>5</th>\n",
       "      <td>A</td>\n",
       "      <td>(0, 0, 0, 0, 1, 0, 1)</td>\n",
       "      <td>0.000000</td>\n",
       "      <td>3.749556</td>\n",
       "      <td>0</td>\n",
       "    </tr>\n",
       "    <tr>\n",
       "      <th>6</th>\n",
       "      <td>A</td>\n",
       "      <td>(0, 0, 0, 0, 1, 1, 0)</td>\n",
       "      <td>0.000000</td>\n",
       "      <td>0.822805</td>\n",
       "      <td>0</td>\n",
       "    </tr>\n",
       "    <tr>\n",
       "      <th>7</th>\n",
       "      <td>A</td>\n",
       "      <td>(0, 0, 0, 0, 1, 1, 1)</td>\n",
       "      <td>0.000000</td>\n",
       "      <td>18.301596</td>\n",
       "      <td>0</td>\n",
       "    </tr>\n",
       "    <tr>\n",
       "      <th>8</th>\n",
       "      <td>A</td>\n",
       "      <td>(0, 0, 0, 1, 0, 0, 0)</td>\n",
       "      <td>0.000000</td>\n",
       "      <td>0.250383</td>\n",
       "      <td>0</td>\n",
       "    </tr>\n",
       "    <tr>\n",
       "      <th>9</th>\n",
       "      <td>A</td>\n",
       "      <td>(0, 0, 0, 1, 0, 0, 1)</td>\n",
       "      <td>0.000000</td>\n",
       "      <td>1.637119</td>\n",
       "      <td>0</td>\n",
       "    </tr>\n",
       "    <tr>\n",
       "      <th>10</th>\n",
       "      <td>A</td>\n",
       "      <td>(0, 0, 0, 1, 0, 1, 0)</td>\n",
       "      <td>0.000000</td>\n",
       "      <td>0.228468</td>\n",
       "      <td>0</td>\n",
       "    </tr>\n",
       "    <tr>\n",
       "      <th>11</th>\n",
       "      <td>A</td>\n",
       "      <td>(0, 0, 0, 1, 0, 1, 1)</td>\n",
       "      <td>0.000000</td>\n",
       "      <td>6.630674</td>\n",
       "      <td>0</td>\n",
       "    </tr>\n",
       "    <tr>\n",
       "      <th>12</th>\n",
       "      <td>A</td>\n",
       "      <td>(0, 0, 0, 1, 1, 0, 0)</td>\n",
       "      <td>0.000000</td>\n",
       "      <td>0.177289</td>\n",
       "      <td>0</td>\n",
       "    </tr>\n",
       "    <tr>\n",
       "      <th>13</th>\n",
       "      <td>A</td>\n",
       "      <td>(0, 0, 0, 1, 1, 0, 1)</td>\n",
       "      <td>0.000000</td>\n",
       "      <td>1.888205</td>\n",
       "      <td>0</td>\n",
       "    </tr>\n",
       "    <tr>\n",
       "      <th>14</th>\n",
       "      <td>A</td>\n",
       "      <td>(0, 0, 0, 1, 1, 1, 0)</td>\n",
       "      <td>0.000000</td>\n",
       "      <td>0.482865</td>\n",
       "      <td>0</td>\n",
       "    </tr>\n",
       "    <tr>\n",
       "      <th>15</th>\n",
       "      <td>A</td>\n",
       "      <td>(0, 0, 0, 1, 1, 1, 1)</td>\n",
       "      <td>0.000000</td>\n",
       "      <td>10.561605</td>\n",
       "      <td>0</td>\n",
       "    </tr>\n",
       "    <tr>\n",
       "      <th>16</th>\n",
       "      <td>A</td>\n",
       "      <td>(0, 0, 1, 0, 0, 0, 0)</td>\n",
       "      <td>0.000000</td>\n",
       "      <td>0.125000</td>\n",
       "      <td>0</td>\n",
       "    </tr>\n",
       "    <tr>\n",
       "      <th>17</th>\n",
       "      <td>A</td>\n",
       "      <td>(0, 0, 1, 0, 0, 0, 1)</td>\n",
       "      <td>0.000000</td>\n",
       "      <td>0.632708</td>\n",
       "      <td>0</td>\n",
       "    </tr>\n",
       "    <tr>\n",
       "      <th>18</th>\n",
       "      <td>A</td>\n",
       "      <td>(0, 0, 1, 0, 0, 1, 0)</td>\n",
       "      <td>0.000000</td>\n",
       "      <td>0.165418</td>\n",
       "      <td>0</td>\n",
       "    </tr>\n",
       "    <tr>\n",
       "      <th>19</th>\n",
       "      <td>A</td>\n",
       "      <td>(0, 0, 1, 0, 0, 1, 1)</td>\n",
       "      <td>0.000000</td>\n",
       "      <td>3.267833</td>\n",
       "      <td>0</td>\n",
       "    </tr>\n",
       "    <tr>\n",
       "      <th>20</th>\n",
       "      <td>A</td>\n",
       "      <td>(0, 0, 1, 0, 1, 0, 0)</td>\n",
       "      <td>0.000000</td>\n",
       "      <td>0.088331</td>\n",
       "      <td>0</td>\n",
       "    </tr>\n",
       "    <tr>\n",
       "      <th>21</th>\n",
       "      <td>A</td>\n",
       "      <td>(0, 0, 1, 0, 1, 0, 1)</td>\n",
       "      <td>0.000000</td>\n",
       "      <td>0.946732</td>\n",
       "      <td>0</td>\n",
       "    </tr>\n",
       "    <tr>\n",
       "      <th>22</th>\n",
       "      <td>A</td>\n",
       "      <td>(0, 0, 1, 0, 1, 1, 0)</td>\n",
       "      <td>0.000000</td>\n",
       "      <td>0.176169</td>\n",
       "      <td>0</td>\n",
       "    </tr>\n",
       "    <tr>\n",
       "      <th>23</th>\n",
       "      <td>A</td>\n",
       "      <td>(0, 0, 1, 0, 1, 1, 1)</td>\n",
       "      <td>0.000000</td>\n",
       "      <td>4.103346</td>\n",
       "      <td>0</td>\n",
       "    </tr>\n",
       "    <tr>\n",
       "      <th>24</th>\n",
       "      <td>A</td>\n",
       "      <td>(0, 0, 1, 1, 0, 0, 0)</td>\n",
       "      <td>0.000000</td>\n",
       "      <td>0.029277</td>\n",
       "      <td>0</td>\n",
       "    </tr>\n",
       "    <tr>\n",
       "      <th>25</th>\n",
       "      <td>A</td>\n",
       "      <td>(0, 0, 1, 1, 0, 0, 1)</td>\n",
       "      <td>0.000000</td>\n",
       "      <td>0.287899</td>\n",
       "      <td>0</td>\n",
       "    </tr>\n",
       "    <tr>\n",
       "      <th>26</th>\n",
       "      <td>A</td>\n",
       "      <td>(0, 0, 1, 1, 0, 1, 0)</td>\n",
       "      <td>0.000000</td>\n",
       "      <td>0.029926</td>\n",
       "      <td>0</td>\n",
       "    </tr>\n",
       "    <tr>\n",
       "      <th>27</th>\n",
       "      <td>A</td>\n",
       "      <td>(0, 0, 1, 1, 0, 1, 1)</td>\n",
       "      <td>0.000000</td>\n",
       "      <td>1.838900</td>\n",
       "      <td>0</td>\n",
       "    </tr>\n",
       "    <tr>\n",
       "      <th>28</th>\n",
       "      <td>A</td>\n",
       "      <td>(0, 0, 1, 1, 1, 0, 0)</td>\n",
       "      <td>0.000000</td>\n",
       "      <td>0.040305</td>\n",
       "      <td>0</td>\n",
       "    </tr>\n",
       "    <tr>\n",
       "      <th>29</th>\n",
       "      <td>A</td>\n",
       "      <td>(0, 0, 1, 1, 1, 0, 1)</td>\n",
       "      <td>0.000000</td>\n",
       "      <td>0.642765</td>\n",
       "      <td>0</td>\n",
       "    </tr>\n",
       "    <tr>\n",
       "      <th>...</th>\n",
       "      <td>...</td>\n",
       "      <td>...</td>\n",
       "      <td>...</td>\n",
       "      <td>...</td>\n",
       "      <td>...</td>\n",
       "    </tr>\n",
       "    <tr>\n",
       "      <th>226</th>\n",
       "      <td>B</td>\n",
       "      <td>(1, 1, 0, 0, 0, 1, 0)</td>\n",
       "      <td>86.844538</td>\n",
       "      <td>0.011515</td>\n",
       "      <td>1</td>\n",
       "    </tr>\n",
       "    <tr>\n",
       "      <th>227</th>\n",
       "      <td>B</td>\n",
       "      <td>(1, 1, 0, 0, 0, 1, 1)</td>\n",
       "      <td>56.187817</td>\n",
       "      <td>0.177975</td>\n",
       "      <td>10</td>\n",
       "    </tr>\n",
       "    <tr>\n",
       "      <th>228</th>\n",
       "      <td>B</td>\n",
       "      <td>(1, 1, 0, 0, 1, 0, 0)</td>\n",
       "      <td>NaN</td>\n",
       "      <td>0.000000</td>\n",
       "      <td>0</td>\n",
       "    </tr>\n",
       "    <tr>\n",
       "      <th>229</th>\n",
       "      <td>B</td>\n",
       "      <td>(1, 1, 0, 0, 1, 0, 1)</td>\n",
       "      <td>88.879965</td>\n",
       "      <td>0.067507</td>\n",
       "      <td>6</td>\n",
       "    </tr>\n",
       "    <tr>\n",
       "      <th>230</th>\n",
       "      <td>B</td>\n",
       "      <td>(1, 1, 0, 0, 1, 1, 0)</td>\n",
       "      <td>NaN</td>\n",
       "      <td>0.000000</td>\n",
       "      <td>0</td>\n",
       "    </tr>\n",
       "    <tr>\n",
       "      <th>231</th>\n",
       "      <td>B</td>\n",
       "      <td>(1, 1, 0, 0, 1, 1, 1)</td>\n",
       "      <td>51.632590</td>\n",
       "      <td>0.348617</td>\n",
       "      <td>18</td>\n",
       "    </tr>\n",
       "    <tr>\n",
       "      <th>232</th>\n",
       "      <td>B</td>\n",
       "      <td>(1, 1, 0, 1, 0, 0, 0)</td>\n",
       "      <td>NaN</td>\n",
       "      <td>0.000000</td>\n",
       "      <td>0</td>\n",
       "    </tr>\n",
       "    <tr>\n",
       "      <th>233</th>\n",
       "      <td>B</td>\n",
       "      <td>(1, 1, 0, 1, 0, 0, 1)</td>\n",
       "      <td>86.976940</td>\n",
       "      <td>0.022995</td>\n",
       "      <td>2</td>\n",
       "    </tr>\n",
       "    <tr>\n",
       "      <th>234</th>\n",
       "      <td>B</td>\n",
       "      <td>(1, 1, 0, 1, 0, 1, 0)</td>\n",
       "      <td>0.000000</td>\n",
       "      <td>0.015307</td>\n",
       "      <td>0</td>\n",
       "    </tr>\n",
       "    <tr>\n",
       "      <th>235</th>\n",
       "      <td>B</td>\n",
       "      <td>(1, 1, 0, 1, 0, 1, 1)</td>\n",
       "      <td>67.710761</td>\n",
       "      <td>0.118150</td>\n",
       "      <td>8</td>\n",
       "    </tr>\n",
       "    <tr>\n",
       "      <th>236</th>\n",
       "      <td>B</td>\n",
       "      <td>(1, 1, 0, 1, 1, 0, 0)</td>\n",
       "      <td>NaN</td>\n",
       "      <td>0.000000</td>\n",
       "      <td>0</td>\n",
       "    </tr>\n",
       "    <tr>\n",
       "      <th>237</th>\n",
       "      <td>B</td>\n",
       "      <td>(1, 1, 0, 1, 1, 0, 1)</td>\n",
       "      <td>100.601459</td>\n",
       "      <td>0.029821</td>\n",
       "      <td>3</td>\n",
       "    </tr>\n",
       "    <tr>\n",
       "      <th>238</th>\n",
       "      <td>B</td>\n",
       "      <td>(1, 1, 0, 1, 1, 1, 0)</td>\n",
       "      <td>73.803965</td>\n",
       "      <td>0.027099</td>\n",
       "      <td>2</td>\n",
       "    </tr>\n",
       "    <tr>\n",
       "      <th>239</th>\n",
       "      <td>B</td>\n",
       "      <td>(1, 1, 0, 1, 1, 1, 1)</td>\n",
       "      <td>72.215232</td>\n",
       "      <td>0.180017</td>\n",
       "      <td>13</td>\n",
       "    </tr>\n",
       "    <tr>\n",
       "      <th>240</th>\n",
       "      <td>B</td>\n",
       "      <td>(1, 1, 1, 0, 0, 0, 0)</td>\n",
       "      <td>NaN</td>\n",
       "      <td>0.000000</td>\n",
       "      <td>0</td>\n",
       "    </tr>\n",
       "    <tr>\n",
       "      <th>241</th>\n",
       "      <td>B</td>\n",
       "      <td>(1, 1, 1, 0, 0, 0, 1)</td>\n",
       "      <td>79.763011</td>\n",
       "      <td>0.012537</td>\n",
       "      <td>1</td>\n",
       "    </tr>\n",
       "    <tr>\n",
       "      <th>242</th>\n",
       "      <td>B</td>\n",
       "      <td>(1, 1, 1, 0, 0, 1, 0)</td>\n",
       "      <td>152.093972</td>\n",
       "      <td>0.006575</td>\n",
       "      <td>1</td>\n",
       "    </tr>\n",
       "    <tr>\n",
       "      <th>243</th>\n",
       "      <td>B</td>\n",
       "      <td>(1, 1, 1, 0, 0, 1, 1)</td>\n",
       "      <td>55.096751</td>\n",
       "      <td>0.018150</td>\n",
       "      <td>1</td>\n",
       "    </tr>\n",
       "    <tr>\n",
       "      <th>244</th>\n",
       "      <td>B</td>\n",
       "      <td>(1, 1, 1, 0, 1, 0, 0)</td>\n",
       "      <td>NaN</td>\n",
       "      <td>0.000000</td>\n",
       "      <td>0</td>\n",
       "    </tr>\n",
       "    <tr>\n",
       "      <th>245</th>\n",
       "      <td>B</td>\n",
       "      <td>(1, 1, 1, 0, 1, 0, 1)</td>\n",
       "      <td>0.000000</td>\n",
       "      <td>0.015480</td>\n",
       "      <td>0</td>\n",
       "    </tr>\n",
       "    <tr>\n",
       "      <th>246</th>\n",
       "      <td>B</td>\n",
       "      <td>(1, 1, 1, 0, 1, 1, 0)</td>\n",
       "      <td>0.000000</td>\n",
       "      <td>0.001257</td>\n",
       "      <td>0</td>\n",
       "    </tr>\n",
       "    <tr>\n",
       "      <th>247</th>\n",
       "      <td>B</td>\n",
       "      <td>(1, 1, 1, 0, 1, 1, 1)</td>\n",
       "      <td>131.107414</td>\n",
       "      <td>0.038137</td>\n",
       "      <td>5</td>\n",
       "    </tr>\n",
       "    <tr>\n",
       "      <th>248</th>\n",
       "      <td>B</td>\n",
       "      <td>(1, 1, 1, 1, 0, 0, 0)</td>\n",
       "      <td>NaN</td>\n",
       "      <td>0.000000</td>\n",
       "      <td>0</td>\n",
       "    </tr>\n",
       "    <tr>\n",
       "      <th>249</th>\n",
       "      <td>B</td>\n",
       "      <td>(1, 1, 1, 1, 0, 0, 1)</td>\n",
       "      <td>NaN</td>\n",
       "      <td>0.000000</td>\n",
       "      <td>0</td>\n",
       "    </tr>\n",
       "    <tr>\n",
       "      <th>250</th>\n",
       "      <td>B</td>\n",
       "      <td>(1, 1, 1, 1, 0, 1, 0)</td>\n",
       "      <td>78.438271</td>\n",
       "      <td>0.012749</td>\n",
       "      <td>1</td>\n",
       "    </tr>\n",
       "    <tr>\n",
       "      <th>251</th>\n",
       "      <td>B</td>\n",
       "      <td>(1, 1, 1, 1, 0, 1, 1)</td>\n",
       "      <td>24.439043</td>\n",
       "      <td>0.040918</td>\n",
       "      <td>1</td>\n",
       "    </tr>\n",
       "    <tr>\n",
       "      <th>252</th>\n",
       "      <td>B</td>\n",
       "      <td>(1, 1, 1, 1, 1, 0, 0)</td>\n",
       "      <td>NaN</td>\n",
       "      <td>0.000000</td>\n",
       "      <td>0</td>\n",
       "    </tr>\n",
       "    <tr>\n",
       "      <th>253</th>\n",
       "      <td>B</td>\n",
       "      <td>(1, 1, 1, 1, 1, 0, 1)</td>\n",
       "      <td>56.608095</td>\n",
       "      <td>0.017665</td>\n",
       "      <td>1</td>\n",
       "    </tr>\n",
       "    <tr>\n",
       "      <th>254</th>\n",
       "      <td>B</td>\n",
       "      <td>(1, 1, 1, 1, 1, 1, 0)</td>\n",
       "      <td>139.225532</td>\n",
       "      <td>0.007183</td>\n",
       "      <td>1</td>\n",
       "    </tr>\n",
       "    <tr>\n",
       "      <th>255</th>\n",
       "      <td>B</td>\n",
       "      <td>(1, 1, 1, 1, 1, 1, 1)</td>\n",
       "      <td>81.578665</td>\n",
       "      <td>0.073549</td>\n",
       "      <td>6</td>\n",
       "    </tr>\n",
       "  </tbody>\n",
       "</table>\n",
       "<p>256 rows × 5 columns</p>\n",
       "</div>"
      ],
      "text/plain": [
       "    event                    pcv    lambda_t   duration  count\n",
       "0       A  (0, 0, 0, 0, 0, 0, 0)    0.000000   0.904240      0\n",
       "1       A  (0, 0, 0, 0, 0, 0, 1)    0.000000   4.288426      0\n",
       "2       A  (0, 0, 0, 0, 0, 1, 0)    0.000000   0.442450      0\n",
       "3       A  (0, 0, 0, 0, 0, 1, 1)    0.000000  13.692258      0\n",
       "4       A  (0, 0, 0, 0, 1, 0, 0)    0.000000   0.426986      0\n",
       "5       A  (0, 0, 0, 0, 1, 0, 1)    0.000000   3.749556      0\n",
       "6       A  (0, 0, 0, 0, 1, 1, 0)    0.000000   0.822805      0\n",
       "7       A  (0, 0, 0, 0, 1, 1, 1)    0.000000  18.301596      0\n",
       "8       A  (0, 0, 0, 1, 0, 0, 0)    0.000000   0.250383      0\n",
       "9       A  (0, 0, 0, 1, 0, 0, 1)    0.000000   1.637119      0\n",
       "10      A  (0, 0, 0, 1, 0, 1, 0)    0.000000   0.228468      0\n",
       "11      A  (0, 0, 0, 1, 0, 1, 1)    0.000000   6.630674      0\n",
       "12      A  (0, 0, 0, 1, 1, 0, 0)    0.000000   0.177289      0\n",
       "13      A  (0, 0, 0, 1, 1, 0, 1)    0.000000   1.888205      0\n",
       "14      A  (0, 0, 0, 1, 1, 1, 0)    0.000000   0.482865      0\n",
       "15      A  (0, 0, 0, 1, 1, 1, 1)    0.000000  10.561605      0\n",
       "16      A  (0, 0, 1, 0, 0, 0, 0)    0.000000   0.125000      0\n",
       "17      A  (0, 0, 1, 0, 0, 0, 1)    0.000000   0.632708      0\n",
       "18      A  (0, 0, 1, 0, 0, 1, 0)    0.000000   0.165418      0\n",
       "19      A  (0, 0, 1, 0, 0, 1, 1)    0.000000   3.267833      0\n",
       "20      A  (0, 0, 1, 0, 1, 0, 0)    0.000000   0.088331      0\n",
       "21      A  (0, 0, 1, 0, 1, 0, 1)    0.000000   0.946732      0\n",
       "22      A  (0, 0, 1, 0, 1, 1, 0)    0.000000   0.176169      0\n",
       "23      A  (0, 0, 1, 0, 1, 1, 1)    0.000000   4.103346      0\n",
       "24      A  (0, 0, 1, 1, 0, 0, 0)    0.000000   0.029277      0\n",
       "25      A  (0, 0, 1, 1, 0, 0, 1)    0.000000   0.287899      0\n",
       "26      A  (0, 0, 1, 1, 0, 1, 0)    0.000000   0.029926      0\n",
       "27      A  (0, 0, 1, 1, 0, 1, 1)    0.000000   1.838900      0\n",
       "28      A  (0, 0, 1, 1, 1, 0, 0)    0.000000   0.040305      0\n",
       "29      A  (0, 0, 1, 1, 1, 0, 1)    0.000000   0.642765      0\n",
       "..    ...                    ...         ...        ...    ...\n",
       "226     B  (1, 1, 0, 0, 0, 1, 0)   86.844538   0.011515      1\n",
       "227     B  (1, 1, 0, 0, 0, 1, 1)   56.187817   0.177975     10\n",
       "228     B  (1, 1, 0, 0, 1, 0, 0)         NaN   0.000000      0\n",
       "229     B  (1, 1, 0, 0, 1, 0, 1)   88.879965   0.067507      6\n",
       "230     B  (1, 1, 0, 0, 1, 1, 0)         NaN   0.000000      0\n",
       "231     B  (1, 1, 0, 0, 1, 1, 1)   51.632590   0.348617     18\n",
       "232     B  (1, 1, 0, 1, 0, 0, 0)         NaN   0.000000      0\n",
       "233     B  (1, 1, 0, 1, 0, 0, 1)   86.976940   0.022995      2\n",
       "234     B  (1, 1, 0, 1, 0, 1, 0)    0.000000   0.015307      0\n",
       "235     B  (1, 1, 0, 1, 0, 1, 1)   67.710761   0.118150      8\n",
       "236     B  (1, 1, 0, 1, 1, 0, 0)         NaN   0.000000      0\n",
       "237     B  (1, 1, 0, 1, 1, 0, 1)  100.601459   0.029821      3\n",
       "238     B  (1, 1, 0, 1, 1, 1, 0)   73.803965   0.027099      2\n",
       "239     B  (1, 1, 0, 1, 1, 1, 1)   72.215232   0.180017     13\n",
       "240     B  (1, 1, 1, 0, 0, 0, 0)         NaN   0.000000      0\n",
       "241     B  (1, 1, 1, 0, 0, 0, 1)   79.763011   0.012537      1\n",
       "242     B  (1, 1, 1, 0, 0, 1, 0)  152.093972   0.006575      1\n",
       "243     B  (1, 1, 1, 0, 0, 1, 1)   55.096751   0.018150      1\n",
       "244     B  (1, 1, 1, 0, 1, 0, 0)         NaN   0.000000      0\n",
       "245     B  (1, 1, 1, 0, 1, 0, 1)    0.000000   0.015480      0\n",
       "246     B  (1, 1, 1, 0, 1, 1, 0)    0.000000   0.001257      0\n",
       "247     B  (1, 1, 1, 0, 1, 1, 1)  131.107414   0.038137      5\n",
       "248     B  (1, 1, 1, 1, 0, 0, 0)         NaN   0.000000      0\n",
       "249     B  (1, 1, 1, 1, 0, 0, 1)         NaN   0.000000      0\n",
       "250     B  (1, 1, 1, 1, 0, 1, 0)   78.438271   0.012749      1\n",
       "251     B  (1, 1, 1, 1, 0, 1, 1)   24.439043   0.040918      1\n",
       "252     B  (1, 1, 1, 1, 1, 0, 0)         NaN   0.000000      0\n",
       "253     B  (1, 1, 1, 1, 1, 0, 1)   56.608095   0.017665      1\n",
       "254     B  (1, 1, 1, 1, 1, 1, 0)  139.225532   0.007183      1\n",
       "255     B  (1, 1, 1, 1, 1, 1, 1)   81.578665   0.073549      6\n",
       "\n",
       "[256 rows x 5 columns]"
      ]
     },
     "execution_count": 27,
     "metadata": {},
     "output_type": "execute_result"
    }
   ],
   "source": [
    "mle_lambdas(model, count_duration_df)"
   ]
  },
  {
   "cell_type": "code",
   "execution_count": 28,
   "metadata": {
    "scrolled": true
   },
   "outputs": [
    {
     "data": {
      "text/plain": [
       "3558.4739531609343"
      ]
     },
     "execution_count": 28,
     "metadata": {},
     "output_type": "execute_result"
    }
   ],
   "source": [
    "scoreBic(model, data, t_max)"
   ]
  },
  {
   "cell_type": "code",
   "execution_count": 30,
   "metadata": {
    "collapsed": true
   },
   "outputs": [],
   "source": [
    "# keep forward result in memory\n",
    "forward_model = copy.deepcopy(model)"
   ]
  },
  {
   "cell_type": "markdown",
   "metadata": {},
   "source": [
    "## BackwardSearch(Forward)"
   ]
  },
  {
   "cell_type": "code",
   "execution_count": 31,
   "metadata": {
    "collapsed": true
   },
   "outputs": [],
   "source": [
    "initModelFromData(model=model, observed_data=data, t_max=t_max)\n",
    "count_duration_df = get_count_duration_df(model=model, data=data, t_max=t_max)\n",
    "\n",
    "count_duration_df = mle_lambdas(model, count_duration_df)\n",
    "LogL = compute_logLikelihood(lambdas_count_duration_df)\n",
    "log_td = np.log(t_max)\n",
    "\n",
    "size_log_td = model.size() * log_td\n",
    "\n",
    "score = LogL - size_log_td\n",
    "local_maximum = False"
   ]
  },
  {
   "cell_type": "code",
   "execution_count": 32,
   "metadata": {},
   "outputs": [
    {
     "data": {
      "text/plain": [
       "3558.4739531609343"
      ]
     },
     "execution_count": 32,
     "metadata": {},
     "output_type": "execute_result"
    }
   ],
   "source": [
    "score"
   ]
  },
  {
   "cell_type": "code",
   "execution_count": 33,
   "metadata": {},
   "outputs": [
    {
     "name": "stdout",
     "output_type": "stream",
     "text": [
      "iteration number: 0: scoreBIC = 3558.4739531609343\n",
      "max ngbr <bound method RTGEM.inverse_extend_operator of <rtgemlib.rtgem.RTGEM object at 0x000002187BFD3E48>>, args=[('A', 'A')], max_scoreBIC = 3848.920694451631\n",
      "iteration number: 1: scoreBIC = 3848.920694451631\n",
      "max ngbr <bound method RTGEM.inverse_extend_operator of <rtgemlib.rtgem.RTGEM object at 0x000002187BFD3E48>>, args=[('A', 'A')], max_scoreBIC = 3989.1780797650194\n",
      "iteration number: 2: scoreBIC = 3989.1780797650194\n",
      "max ngbr <bound method RTGEM.inverse_extend_operator of <rtgemlib.rtgem.RTGEM object at 0x000002187BFD3E48>>, args=[('A', 'A')], max_scoreBIC = 4060.9253456399074\n",
      "iteration number: 3: scoreBIC = 4060.9253456399074\n",
      "max ngbr <bound method RTGEM.inverse_extend_operator of <rtgemlib.rtgem.RTGEM object at 0x000002187BFD3E48>>, args=[('A', 'A')], max_scoreBIC = 4096.930745298885\n",
      "iteration number: 4: scoreBIC = 4096.930745298885\n",
      "max ngbr <bound method RTGEM.inverse_extend_operator of <rtgemlib.rtgem.RTGEM object at 0x000002187BFD3E48>>, args=[('A', 'A')], max_scoreBIC = 4114.323760724026\n",
      "iteration number: 5: scoreBIC = 4114.323760724026\n",
      "max ngbr <bound method RTGEM.inverse_extend_operator of <rtgemlib.rtgem.RTGEM object at 0x000002187BFD3E48>>, args=[('A', 'A')], max_scoreBIC = 4122.81602914561\n",
      "iteration number: 6: scoreBIC = 4122.81602914561\n",
      "max ngbr <bound method RTGEM.inverse_extend_operator of <rtgemlib.rtgem.RTGEM object at 0x000002187BFD3E48>>, args=[('B', 'B')], max_scoreBIC = 4410.664549513978\n",
      "iteration number: 7: scoreBIC = 4410.664549513978\n",
      "max ngbr <bound method RTGEM.inverse_extend_operator of <rtgemlib.rtgem.RTGEM object at 0x000002187BFD3E48>>, args=[('B', 'B')], max_scoreBIC = 4553.616283446147\n",
      "iteration number: 8: scoreBIC = 4553.616283446147\n",
      "max ngbr <bound method RTGEM.inverse_extend_operator of <rtgemlib.rtgem.RTGEM object at 0x000002187BFD3E48>>, args=[('B', 'B')], max_scoreBIC = 4625.475360284597\n",
      "iteration number: 9: scoreBIC = 4625.475360284597\n",
      "max ngbr <bound method RTGEM.inverse_extend_operator of <rtgemlib.rtgem.RTGEM object at 0x000002187BFD3E48>>, args=[('B', 'B')], max_scoreBIC = 4661.606082738056\n",
      "iteration number: 10: scoreBIC = 4661.606082738056\n",
      "max ngbr <bound method RTGEM.inverse_extend_operator of <rtgemlib.rtgem.RTGEM object at 0x000002187BFD3E48>>, args=[('B', 'B')], max_scoreBIC = 4679.897556872564\n",
      "iteration number: 11: scoreBIC = 4679.897556872564\n",
      "max ngbr <bound method RTGEM.inverse_extend_operator of <rtgemlib.rtgem.RTGEM object at 0x000002187BFD3E48>>, args=[('B', 'B')], max_scoreBIC = 4689.082120988229\n",
      "iteration number: 12: scoreBIC = 4689.082120988229\n"
     ]
    }
   ],
   "source": [
    "it = 0\n",
    "backward_logs = []\n",
    "local_maximum = False\n",
    "\n",
    "while not local_maximum:\n",
    "    #     max_ngbr_score = -np.inf\n",
    "    local_maximum = True\n",
    "    max_score_ngbr = -np.inf\n",
    "    max_op = None\n",
    "    max_args = None\n",
    "    max_changed_node_cnt_drt_df = None\n",
    "    max_size_log_td_ngbr = None\n",
    "    max_LogL_ngbr = None\n",
    "    print('iteration number: {}: scoreBIC = {}'.format(it, score))\n",
    "    for ngbr_info in backward_neighbors_gen(model, data, t_max, lambdas_count_duration_df,LogL, size_log_td, log_td,):\n",
    "\n",
    "        op, args, LogL_ngbr, size_log_td_ngbr, changed_node_cnt_drt_df = ngbr_info\n",
    "        score_ngbr = LogL_ngbr - size_log_td_ngbr\n",
    "\n",
    "#         if score_ngbr > max_score_ngbr:\n",
    "        max_score_ngbr = score_ngbr\n",
    "        max_op = op\n",
    "        max_args = args\n",
    "        max_changed_node_cnt_drt_df = changed_node_cnt_drt_df\n",
    "        max_size_log_td_ngbr = size_log_td_ngbr\n",
    "        max_LogL_ngbr = LogL_ngbr\n",
    "\n",
    "        if max_score_ngbr > score:\n",
    "            print('max ngbr {}, args={}, max_scoreBIC = {}'.format(max_op, max_args, max_score_ngbr))\n",
    "\n",
    "            max_op(*max_args)\n",
    "            LogL = max_LogL_ngbr\n",
    "            size_log_td = max_size_log_td_ngbr\n",
    "            changed_node = max_changed_node_cnt_drt_df.iloc[0]['event']\n",
    "            lambdas_count_duration_df = lambdas_count_duration_df[lambdas_count_duration_df['event'] != changed_node]\n",
    "            lambdas_count_duration_df = pd.concat([lambdas_count_duration_df, max_changed_node_cnt_drt_df])\n",
    "\n",
    "            local_maximum = False\n",
    "            score = max_score_ngbr\n",
    "            op_name = 'supprimerArc'\n",
    "\n",
    "            if max_op == model.inverse_extend_operator:\n",
    "                op_name = 'reduireIntervalle'\n",
    "            # pd.Dataframe(columns=['it', 'T_A', 'T_B', 'edges', 'max_ngbr', 'scoreBic'])\n",
    "            if max_op == model.inverse_split_operator:\n",
    "                op_name = 'FusionnerIntervalle'\n",
    "\n",
    "            backward_logs.append([it, copy.deepcopy(model.get_node_parents_timescales('A')),\\\n",
    "                                 copy.deepcopy(model.get_node_parents_timescales('B')),\\\n",
    "                                 list(model.dpd_graph.edges()),\\\n",
    "                                 op_name,\\\n",
    "                                 max_args,\\\n",
    "                                 score])\n",
    "            break\n",
    "    it += 1"
   ]
  },
  {
   "cell_type": "code",
   "execution_count": 35,
   "metadata": {},
   "outputs": [
    {
     "data": {
      "text/plain": [
       "OutEdgeView([('A', 'A'), ('B', 'B')])"
      ]
     },
     "execution_count": 35,
     "metadata": {},
     "output_type": "execute_result"
    }
   ],
   "source": [
    "model.dpd_graph.edges"
   ]
  },
  {
   "cell_type": "code",
   "execution_count": 39,
   "metadata": {},
   "outputs": [
    {
     "data": {
      "text/plain": [
       "<rtgemlib.rtgem.RTGEM at 0x2187bfd3e48>"
      ]
     },
     "execution_count": 39,
     "metadata": {},
     "output_type": "execute_result"
    }
   ],
   "source": [
    "initModelFromData(model=model, observed_data=data, t_max=t_max)"
   ]
  },
  {
   "cell_type": "code",
   "execution_count": 40,
   "metadata": {
    "collapsed": true
   },
   "outputs": [],
   "source": [
    "count_duration_df = get_count_duration_df(model=model, data=data, t_max=t_max)"
   ]
  },
  {
   "cell_type": "code",
   "execution_count": 41,
   "metadata": {},
   "outputs": [
    {
     "data": {
      "text/html": [
       "<div>\n",
       "<style scoped>\n",
       "    .dataframe tbody tr th:only-of-type {\n",
       "        vertical-align: middle;\n",
       "    }\n",
       "\n",
       "    .dataframe tbody tr th {\n",
       "        vertical-align: top;\n",
       "    }\n",
       "\n",
       "    .dataframe thead th {\n",
       "        text-align: right;\n",
       "    }\n",
       "</style>\n",
       "<table border=\"1\" class=\"dataframe\">\n",
       "  <thead>\n",
       "    <tr style=\"text-align: right;\">\n",
       "      <th></th>\n",
       "      <th>event</th>\n",
       "      <th>pcv</th>\n",
       "      <th>lambda_t</th>\n",
       "      <th>duration</th>\n",
       "      <th>count</th>\n",
       "    </tr>\n",
       "  </thead>\n",
       "  <tbody>\n",
       "    <tr>\n",
       "      <th>0</th>\n",
       "      <td>A</td>\n",
       "      <td>(0,)</td>\n",
       "      <td>2.962653</td>\n",
       "      <td>89.531374</td>\n",
       "      <td>0</td>\n",
       "    </tr>\n",
       "    <tr>\n",
       "      <th>1</th>\n",
       "      <td>A</td>\n",
       "      <td>(1,)</td>\n",
       "      <td>1.157624</td>\n",
       "      <td>10.468626</td>\n",
       "      <td>700</td>\n",
       "    </tr>\n",
       "    <tr>\n",
       "      <th>2</th>\n",
       "      <td>B</td>\n",
       "      <td>(0,)</td>\n",
       "      <td>2.434865</td>\n",
       "      <td>88.665337</td>\n",
       "      <td>0</td>\n",
       "    </tr>\n",
       "    <tr>\n",
       "      <th>3</th>\n",
       "      <td>B</td>\n",
       "      <td>(1,)</td>\n",
       "      <td>6.123340</td>\n",
       "      <td>11.334663</td>\n",
       "      <td>767</td>\n",
       "    </tr>\n",
       "  </tbody>\n",
       "</table>\n",
       "</div>"
      ],
      "text/plain": [
       "  event   pcv  lambda_t   duration  count\n",
       "0     A  (0,)  2.962653  89.531374      0\n",
       "1     A  (1,)  1.157624  10.468626    700\n",
       "2     B  (0,)  2.434865  88.665337      0\n",
       "3     B  (1,)  6.123340  11.334663    767"
      ]
     },
     "execution_count": 41,
     "metadata": {},
     "output_type": "execute_result"
    }
   ],
   "source": [
    "count_duration_df"
   ]
  },
  {
   "cell_type": "code",
   "execution_count": 42,
   "metadata": {},
   "outputs": [
    {
     "data": {
      "text/html": [
       "<div>\n",
       "<style scoped>\n",
       "    .dataframe tbody tr th:only-of-type {\n",
       "        vertical-align: middle;\n",
       "    }\n",
       "\n",
       "    .dataframe tbody tr th {\n",
       "        vertical-align: top;\n",
       "    }\n",
       "\n",
       "    .dataframe thead th {\n",
       "        text-align: right;\n",
       "    }\n",
       "</style>\n",
       "<table border=\"1\" class=\"dataframe\">\n",
       "  <thead>\n",
       "    <tr style=\"text-align: right;\">\n",
       "      <th></th>\n",
       "      <th>event</th>\n",
       "      <th>pcv</th>\n",
       "      <th>lambda_t</th>\n",
       "      <th>duration</th>\n",
       "      <th>count</th>\n",
       "    </tr>\n",
       "  </thead>\n",
       "  <tbody>\n",
       "    <tr>\n",
       "      <th>0</th>\n",
       "      <td>A</td>\n",
       "      <td>(0,)</td>\n",
       "      <td>0.000000</td>\n",
       "      <td>89.531374</td>\n",
       "      <td>0</td>\n",
       "    </tr>\n",
       "    <tr>\n",
       "      <th>1</th>\n",
       "      <td>A</td>\n",
       "      <td>(1,)</td>\n",
       "      <td>66.866463</td>\n",
       "      <td>10.468626</td>\n",
       "      <td>700</td>\n",
       "    </tr>\n",
       "    <tr>\n",
       "      <th>2</th>\n",
       "      <td>B</td>\n",
       "      <td>(0,)</td>\n",
       "      <td>0.000000</td>\n",
       "      <td>88.665337</td>\n",
       "      <td>0</td>\n",
       "    </tr>\n",
       "    <tr>\n",
       "      <th>3</th>\n",
       "      <td>B</td>\n",
       "      <td>(1,)</td>\n",
       "      <td>67.668534</td>\n",
       "      <td>11.334663</td>\n",
       "      <td>767</td>\n",
       "    </tr>\n",
       "  </tbody>\n",
       "</table>\n",
       "</div>"
      ],
      "text/plain": [
       "  event   pcv   lambda_t   duration  count\n",
       "0     A  (0,)   0.000000  89.531374      0\n",
       "1     A  (1,)  66.866463  10.468626    700\n",
       "2     B  (0,)   0.000000  88.665337      0\n",
       "3     B  (1,)  67.668534  11.334663    767"
      ]
     },
     "execution_count": 42,
     "metadata": {},
     "output_type": "execute_result"
    }
   ],
   "source": [
    "mle_lambdas(model, count_duration_df)"
   ]
  }
 ],
 "metadata": {
  "kernelspec": {
   "display_name": "Python 3",
   "language": "python",
   "name": "python3"
  },
  "language_info": {
   "codemirror_mode": {
    "name": "ipython",
    "version": 3
   },
   "file_extension": ".py",
   "mimetype": "text/x-python",
   "name": "python",
   "nbconvert_exporter": "python",
   "pygments_lexer": "ipython3",
   "version": "3.6.3"
  }
 },
 "nbformat": 4,
 "nbformat_minor": 2
}
