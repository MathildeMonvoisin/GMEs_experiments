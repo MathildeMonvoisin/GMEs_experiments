{
 "cells": [
  {
   "cell_type": "code",
   "execution_count": 169,
   "metadata": {
    "scrolled": true
   },
   "outputs": [],
   "source": [
    "from rtgemlib import RTGEM\n",
    "from rtgemlib import sample_from_tgem, LogLikelihood, scoreBic, mle_lambdas, LocaleLogLikelihood, get_count_duration_df, get_node_LogLikelihood, set_pcv_lambda_t, backward_neighbors_gen,\\\n",
    "compute_logLikelihood, set_nodes_timeseries, set_nodes_parents_counts, duration, get_parents_count_vector, forward_neighbors_gen, initModelFromData\n",
    "\n",
    "from tqdm.autonotebook import tqdm\n",
    "import pandas as pd\n",
    "import numpy as np\n",
    "import matplotlib.pyplot as plt\n",
    "import networkx as nx"
   ]
  },
  {
   "cell_type": "code",
   "execution_count": 170,
   "metadata": {},
   "outputs": [],
   "source": [
    "def empty_nodes(nodes):\n",
    "    return dict(zip(nodes, [{'timescales': {}, 'lambdas': {(): 1}}] * len(nodes)))"
   ]
  },
  {
   "cell_type": "code",
   "execution_count": 171,
   "metadata": {},
   "outputs": [],
   "source": [
    "model = {'B': \n",
    "            {\n",
    "            'timescales': {'A' : [[1,2], [5, 6]]},\\\n",
    "            'lambdas': {\n",
    "                       (0,0): 10, \\\n",
    "                       (0,1): 1.6, \\\n",
    "                       (1,0): 3, \\\n",
    "                       (1,1) : 1\n",
    "                      }\n",
    "            },\n",
    "            'A': {\n",
    "                'timescales': {'B': [[0,1], [10,15]]},\\\n",
    "                'lambdas': {\n",
    "                       (0,0): 1, \\\n",
    "                       (0,1): 4, \\\n",
    "                       (1,0): 5, \\\n",
    "                       (1,1) : 9\n",
    "                      }\n",
    "            }\n",
    "        }\n",
    "\n"
   ]
  },
  {
   "cell_type": "code",
   "execution_count": 172,
   "metadata": {},
   "outputs": [],
   "source": [
    "rtgem_model = RTGEM(model)"
   ]
  },
  {
   "cell_type": "code",
   "execution_count": 173,
   "metadata": {},
   "outputs": [],
   "source": [
    "t_max = 10000"
   ]
  },
  {
   "cell_type": "markdown",
   "metadata": {},
   "source": [
    "## Sampling"
   ]
  },
  {
   "cell_type": "code",
   "execution_count": 174,
   "metadata": {
    "scrolled": false
   },
   "outputs": [
    {
     "data": {
      "application/vnd.jupyter.widget-view+json": {
       "model_id": "de3636d5f6304e17b7a586711f47bf58",
       "version_major": 2,
       "version_minor": 0
      },
      "text/html": [
       "<p>Failed to display Jupyter Widget of type <code>HBox</code>.</p>\n",
       "<p>\n",
       "  If you're reading this message in the Jupyter Notebook or JupyterLab Notebook, it may mean\n",
       "  that the widgets JavaScript is still loading. If this message persists, it\n",
       "  likely means that the widgets JavaScript library is either not installed or\n",
       "  not enabled. See the <a href=\"https://ipywidgets.readthedocs.io/en/stable/user_install.html\">Jupyter\n",
       "  Widgets Documentation</a> for setup instructions.\n",
       "</p>\n",
       "<p>\n",
       "  If you're reading this message in another frontend (for example, a static\n",
       "  rendering on GitHub or <a href=\"https://nbviewer.jupyter.org/\">NBViewer</a>),\n",
       "  it may mean that your frontend doesn't currently support widgets.\n",
       "</p>\n"
      ],
      "text/plain": [
       "HBox(children=(IntProgress(value=0, description='Sampled Nodes: ', max=1, style=ProgressStyle(description_width='initial')), HTML(value='')))"
      ]
     },
     "metadata": {},
     "output_type": "display_data"
    },
    {
     "data": {
      "application/vnd.jupyter.widget-view+json": {
       "model_id": "be059becb763459c989d6ef0f3d3cabc",
       "version_major": 2,
       "version_minor": 0
      },
      "text/html": [
       "<p>Failed to display Jupyter Widget of type <code>HBox</code>.</p>\n",
       "<p>\n",
       "  If you're reading this message in the Jupyter Notebook or JupyterLab Notebook, it may mean\n",
       "  that the widgets JavaScript is still loading. If this message persists, it\n",
       "  likely means that the widgets JavaScript library is either not installed or\n",
       "  not enabled. See the <a href=\"https://ipywidgets.readthedocs.io/en/stable/user_install.html\">Jupyter\n",
       "  Widgets Documentation</a> for setup instructions.\n",
       "</p>\n",
       "<p>\n",
       "  If you're reading this message in another frontend (for example, a static\n",
       "  rendering on GitHub or <a href=\"https://nbviewer.jupyter.org/\">NBViewer</a>),\n",
       "  it may mean that your frontend doesn't currently support widgets.\n",
       "</p>\n"
      ],
      "text/plain": [
       "HBox(children=(IntProgress(value=0, description='Sampling A, B:', style=ProgressStyle(description_width='initial')), HTML(value='')))"
      ]
     },
     "metadata": {},
     "output_type": "display_data"
    },
    {
     "name": "stdout",
     "output_type": "stream",
     "text": [
      "\r"
     ]
    },
    {
     "data": {
      "application/vnd.jupyter.widget-view+json": {
       "model_id": "c735abea7456440eb0043da26ee951d7",
       "version_major": 2,
       "version_minor": 0
      },
      "text/html": [
       "<p>Failed to display Jupyter Widget of type <code>HBox</code>.</p>\n",
       "<p>\n",
       "  If you're reading this message in the Jupyter Notebook or JupyterLab Notebook, it may mean\n",
       "  that the widgets JavaScript is still loading. If this message persists, it\n",
       "  likely means that the widgets JavaScript library is either not installed or\n",
       "  not enabled. See the <a href=\"https://ipywidgets.readthedocs.io/en/stable/user_install.html\">Jupyter\n",
       "  Widgets Documentation</a> for setup instructions.\n",
       "</p>\n",
       "<p>\n",
       "  If you're reading this message in another frontend (for example, a static\n",
       "  rendering on GitHub or <a href=\"https://nbviewer.jupyter.org/\">NBViewer</a>),\n",
       "  it may mean that your frontend doesn't currently support widgets.\n",
       "</p>\n"
      ],
      "text/plain": [
       "HBox(children=(IntProgress(value=0, description='exporting data to DF', max=2, style=ProgressStyle(description_width='initial')), HTML(value='')))"
      ]
     },
     "metadata": {},
     "output_type": "display_data"
    },
    {
     "name": "stdout",
     "output_type": "stream",
     "text": [
      "\r"
     ]
    }
   ],
   "source": [
    "sampled_data = sample_from_tgem(rtgem_model, t_min=0, t_max=t_max)"
   ]
  },
  {
   "cell_type": "code",
   "execution_count": 238,
   "metadata": {},
   "outputs": [
    {
     "data": {
      "text/html": [
       "<div>\n",
       "<style scoped>\n",
       "    .dataframe tbody tr th:only-of-type {\n",
       "        vertical-align: middle;\n",
       "    }\n",
       "\n",
       "    .dataframe tbody tr th {\n",
       "        vertical-align: top;\n",
       "    }\n",
       "\n",
       "    .dataframe thead th {\n",
       "        text-align: right;\n",
       "    }\n",
       "</style>\n",
       "<table border=\"1\" class=\"dataframe\">\n",
       "  <thead>\n",
       "    <tr style=\"text-align: right;\">\n",
       "      <th></th>\n",
       "      <th>time</th>\n",
       "      <th>event</th>\n",
       "    </tr>\n",
       "  </thead>\n",
       "  <tbody>\n",
       "    <tr>\n",
       "      <th>51766</th>\n",
       "      <td>0.415894</td>\n",
       "      <td>B</td>\n",
       "    </tr>\n",
       "    <tr>\n",
       "      <th>51767</th>\n",
       "      <td>0.938064</td>\n",
       "      <td>B</td>\n",
       "    </tr>\n",
       "    <tr>\n",
       "      <th>51768</th>\n",
       "      <td>1.139752</td>\n",
       "      <td>B</td>\n",
       "    </tr>\n",
       "    <tr>\n",
       "      <th>51769</th>\n",
       "      <td>1.155926</td>\n",
       "      <td>B</td>\n",
       "    </tr>\n",
       "    <tr>\n",
       "      <th>51770</th>\n",
       "      <td>1.346294</td>\n",
       "      <td>B</td>\n",
       "    </tr>\n",
       "    <tr>\n",
       "      <th>51771</th>\n",
       "      <td>1.519066</td>\n",
       "      <td>B</td>\n",
       "    </tr>\n",
       "    <tr>\n",
       "      <th>51772</th>\n",
       "      <td>1.557985</td>\n",
       "      <td>B</td>\n",
       "    </tr>\n",
       "    <tr>\n",
       "      <th>51773</th>\n",
       "      <td>1.757667</td>\n",
       "      <td>B</td>\n",
       "    </tr>\n",
       "    <tr>\n",
       "      <th>51774</th>\n",
       "      <td>1.802795</td>\n",
       "      <td>B</td>\n",
       "    </tr>\n",
       "    <tr>\n",
       "      <th>51775</th>\n",
       "      <td>1.999618</td>\n",
       "      <td>B</td>\n",
       "    </tr>\n",
       "    <tr>\n",
       "      <th>51776</th>\n",
       "      <td>2.228970</td>\n",
       "      <td>B</td>\n",
       "    </tr>\n",
       "    <tr>\n",
       "      <th>51777</th>\n",
       "      <td>2.249326</td>\n",
       "      <td>B</td>\n",
       "    </tr>\n",
       "    <tr>\n",
       "      <th>0</th>\n",
       "      <td>2.391357</td>\n",
       "      <td>A</td>\n",
       "    </tr>\n",
       "    <tr>\n",
       "      <th>51778</th>\n",
       "      <td>2.474907</td>\n",
       "      <td>B</td>\n",
       "    </tr>\n",
       "    <tr>\n",
       "      <th>51779</th>\n",
       "      <td>2.631208</td>\n",
       "      <td>B</td>\n",
       "    </tr>\n",
       "    <tr>\n",
       "      <th>51780</th>\n",
       "      <td>2.637824</td>\n",
       "      <td>B</td>\n",
       "    </tr>\n",
       "    <tr>\n",
       "      <th>1</th>\n",
       "      <td>2.647837</td>\n",
       "      <td>A</td>\n",
       "    </tr>\n",
       "    <tr>\n",
       "      <th>51781</th>\n",
       "      <td>2.678656</td>\n",
       "      <td>B</td>\n",
       "    </tr>\n",
       "    <tr>\n",
       "      <th>2</th>\n",
       "      <td>2.685430</td>\n",
       "      <td>A</td>\n",
       "    </tr>\n",
       "    <tr>\n",
       "      <th>3</th>\n",
       "      <td>2.687848</td>\n",
       "      <td>A</td>\n",
       "    </tr>\n",
       "    <tr>\n",
       "      <th>4</th>\n",
       "      <td>2.698983</td>\n",
       "      <td>A</td>\n",
       "    </tr>\n",
       "    <tr>\n",
       "      <th>5</th>\n",
       "      <td>2.712406</td>\n",
       "      <td>A</td>\n",
       "    </tr>\n",
       "    <tr>\n",
       "      <th>6</th>\n",
       "      <td>2.775907</td>\n",
       "      <td>A</td>\n",
       "    </tr>\n",
       "    <tr>\n",
       "      <th>51782</th>\n",
       "      <td>2.819849</td>\n",
       "      <td>B</td>\n",
       "    </tr>\n",
       "    <tr>\n",
       "      <th>51783</th>\n",
       "      <td>2.894802</td>\n",
       "      <td>B</td>\n",
       "    </tr>\n",
       "    <tr>\n",
       "      <th>7</th>\n",
       "      <td>2.912870</td>\n",
       "      <td>A</td>\n",
       "    </tr>\n",
       "    <tr>\n",
       "      <th>51784</th>\n",
       "      <td>2.914676</td>\n",
       "      <td>B</td>\n",
       "    </tr>\n",
       "    <tr>\n",
       "      <th>51785</th>\n",
       "      <td>3.077390</td>\n",
       "      <td>B</td>\n",
       "    </tr>\n",
       "    <tr>\n",
       "      <th>51786</th>\n",
       "      <td>3.116880</td>\n",
       "      <td>B</td>\n",
       "    </tr>\n",
       "    <tr>\n",
       "      <th>51787</th>\n",
       "      <td>3.345280</td>\n",
       "      <td>B</td>\n",
       "    </tr>\n",
       "    <tr>\n",
       "      <th>...</th>\n",
       "      <td>...</td>\n",
       "      <td>...</td>\n",
       "    </tr>\n",
       "    <tr>\n",
       "      <th>51736</th>\n",
       "      <td>9993.889506</td>\n",
       "      <td>A</td>\n",
       "    </tr>\n",
       "    <tr>\n",
       "      <th>51737</th>\n",
       "      <td>9993.960807</td>\n",
       "      <td>A</td>\n",
       "    </tr>\n",
       "    <tr>\n",
       "      <th>51738</th>\n",
       "      <td>9994.731991</td>\n",
       "      <td>A</td>\n",
       "    </tr>\n",
       "    <tr>\n",
       "      <th>51739</th>\n",
       "      <td>9994.785214</td>\n",
       "      <td>A</td>\n",
       "    </tr>\n",
       "    <tr>\n",
       "      <th>51740</th>\n",
       "      <td>9995.034556</td>\n",
       "      <td>A</td>\n",
       "    </tr>\n",
       "    <tr>\n",
       "      <th>51741</th>\n",
       "      <td>9995.576327</td>\n",
       "      <td>A</td>\n",
       "    </tr>\n",
       "    <tr>\n",
       "      <th>51742</th>\n",
       "      <td>9995.659044</td>\n",
       "      <td>A</td>\n",
       "    </tr>\n",
       "    <tr>\n",
       "      <th>51743</th>\n",
       "      <td>9995.697513</td>\n",
       "      <td>A</td>\n",
       "    </tr>\n",
       "    <tr>\n",
       "      <th>51744</th>\n",
       "      <td>9995.781304</td>\n",
       "      <td>A</td>\n",
       "    </tr>\n",
       "    <tr>\n",
       "      <th>51745</th>\n",
       "      <td>9995.809669</td>\n",
       "      <td>A</td>\n",
       "    </tr>\n",
       "    <tr>\n",
       "      <th>51746</th>\n",
       "      <td>9996.153629</td>\n",
       "      <td>A</td>\n",
       "    </tr>\n",
       "    <tr>\n",
       "      <th>51747</th>\n",
       "      <td>9996.179886</td>\n",
       "      <td>A</td>\n",
       "    </tr>\n",
       "    <tr>\n",
       "      <th>51748</th>\n",
       "      <td>9996.247558</td>\n",
       "      <td>A</td>\n",
       "    </tr>\n",
       "    <tr>\n",
       "      <th>51749</th>\n",
       "      <td>9996.277276</td>\n",
       "      <td>A</td>\n",
       "    </tr>\n",
       "    <tr>\n",
       "      <th>51750</th>\n",
       "      <td>9996.786353</td>\n",
       "      <td>A</td>\n",
       "    </tr>\n",
       "    <tr>\n",
       "      <th>51751</th>\n",
       "      <td>9996.896190</td>\n",
       "      <td>A</td>\n",
       "    </tr>\n",
       "    <tr>\n",
       "      <th>51752</th>\n",
       "      <td>9996.929146</td>\n",
       "      <td>A</td>\n",
       "    </tr>\n",
       "    <tr>\n",
       "      <th>51753</th>\n",
       "      <td>9997.188491</td>\n",
       "      <td>A</td>\n",
       "    </tr>\n",
       "    <tr>\n",
       "      <th>51754</th>\n",
       "      <td>9997.239116</td>\n",
       "      <td>A</td>\n",
       "    </tr>\n",
       "    <tr>\n",
       "      <th>51755</th>\n",
       "      <td>9997.278154</td>\n",
       "      <td>A</td>\n",
       "    </tr>\n",
       "    <tr>\n",
       "      <th>51756</th>\n",
       "      <td>9997.291563</td>\n",
       "      <td>A</td>\n",
       "    </tr>\n",
       "    <tr>\n",
       "      <th>51757</th>\n",
       "      <td>9997.494828</td>\n",
       "      <td>A</td>\n",
       "    </tr>\n",
       "    <tr>\n",
       "      <th>51758</th>\n",
       "      <td>9997.604920</td>\n",
       "      <td>A</td>\n",
       "    </tr>\n",
       "    <tr>\n",
       "      <th>51759</th>\n",
       "      <td>9997.715189</td>\n",
       "      <td>A</td>\n",
       "    </tr>\n",
       "    <tr>\n",
       "      <th>51760</th>\n",
       "      <td>9997.947829</td>\n",
       "      <td>A</td>\n",
       "    </tr>\n",
       "    <tr>\n",
       "      <th>51761</th>\n",
       "      <td>9998.197983</td>\n",
       "      <td>A</td>\n",
       "    </tr>\n",
       "    <tr>\n",
       "      <th>51762</th>\n",
       "      <td>9998.216146</td>\n",
       "      <td>A</td>\n",
       "    </tr>\n",
       "    <tr>\n",
       "      <th>51763</th>\n",
       "      <td>9998.356491</td>\n",
       "      <td>A</td>\n",
       "    </tr>\n",
       "    <tr>\n",
       "      <th>51764</th>\n",
       "      <td>9998.732807</td>\n",
       "      <td>A</td>\n",
       "    </tr>\n",
       "    <tr>\n",
       "      <th>51765</th>\n",
       "      <td>9999.573748</td>\n",
       "      <td>A</td>\n",
       "    </tr>\n",
       "  </tbody>\n",
       "</table>\n",
       "<p>52142 rows × 2 columns</p>\n",
       "</div>"
      ],
      "text/plain": [
       "              time event\n",
       "51766     0.415894     B\n",
       "51767     0.938064     B\n",
       "51768     1.139752     B\n",
       "51769     1.155926     B\n",
       "51770     1.346294     B\n",
       "51771     1.519066     B\n",
       "51772     1.557985     B\n",
       "51773     1.757667     B\n",
       "51774     1.802795     B\n",
       "51775     1.999618     B\n",
       "51776     2.228970     B\n",
       "51777     2.249326     B\n",
       "0         2.391357     A\n",
       "51778     2.474907     B\n",
       "51779     2.631208     B\n",
       "51780     2.637824     B\n",
       "1         2.647837     A\n",
       "51781     2.678656     B\n",
       "2         2.685430     A\n",
       "3         2.687848     A\n",
       "4         2.698983     A\n",
       "5         2.712406     A\n",
       "6         2.775907     A\n",
       "51782     2.819849     B\n",
       "51783     2.894802     B\n",
       "7         2.912870     A\n",
       "51784     2.914676     B\n",
       "51785     3.077390     B\n",
       "51786     3.116880     B\n",
       "51787     3.345280     B\n",
       "...            ...   ...\n",
       "51736  9993.889506     A\n",
       "51737  9993.960807     A\n",
       "51738  9994.731991     A\n",
       "51739  9994.785214     A\n",
       "51740  9995.034556     A\n",
       "51741  9995.576327     A\n",
       "51742  9995.659044     A\n",
       "51743  9995.697513     A\n",
       "51744  9995.781304     A\n",
       "51745  9995.809669     A\n",
       "51746  9996.153629     A\n",
       "51747  9996.179886     A\n",
       "51748  9996.247558     A\n",
       "51749  9996.277276     A\n",
       "51750  9996.786353     A\n",
       "51751  9996.896190     A\n",
       "51752  9996.929146     A\n",
       "51753  9997.188491     A\n",
       "51754  9997.239116     A\n",
       "51755  9997.278154     A\n",
       "51756  9997.291563     A\n",
       "51757  9997.494828     A\n",
       "51758  9997.604920     A\n",
       "51759  9997.715189     A\n",
       "51760  9997.947829     A\n",
       "51761  9998.197983     A\n",
       "51762  9998.216146     A\n",
       "51763  9998.356491     A\n",
       "51764  9998.732807     A\n",
       "51765  9999.573748     A\n",
       "\n",
       "[52142 rows x 2 columns]"
      ]
     },
     "execution_count": 238,
     "metadata": {},
     "output_type": "execute_result"
    }
   ],
   "source": [
    "sampled_data"
   ]
  },
  {
   "cell_type": "code",
   "execution_count": null,
   "metadata": {},
   "outputs": [],
   "source": []
  },
  {
   "cell_type": "code",
   "execution_count": 175,
   "metadata": {
    "scrolled": false
   },
   "outputs": [],
   "source": [
    "set_pcv_lambda_t(model=rtgem_model, data=sampled_data, t_max=t_max)"
   ]
  },
  {
   "cell_type": "code",
   "execution_count": 176,
   "metadata": {
    "scrolled": true
   },
   "outputs": [],
   "source": [
    "count_duration_df = get_count_duration_df(model=rtgem_model, data=sampled_data, t_max=t_max)"
   ]
  },
  {
   "cell_type": "markdown",
   "metadata": {},
   "source": [
    "## Likelihood"
   ]
  },
  {
   "cell_type": "code",
   "execution_count": 177,
   "metadata": {},
   "outputs": [
    {
     "data": {
      "text/plain": [
       "66116.10348264658"
      ]
     },
     "execution_count": 177,
     "metadata": {},
     "output_type": "execute_result"
    }
   ],
   "source": [
    "compute_logLikelihood(count_duration_df)"
   ]
  },
  {
   "cell_type": "code",
   "execution_count": 178,
   "metadata": {},
   "outputs": [
    {
     "data": {
      "text/plain": [
       "66116.10348264658"
      ]
     },
     "execution_count": 178,
     "metadata": {},
     "output_type": "execute_result"
    }
   ],
   "source": [
    "LogLikelihood(model=rtgem_model, observed_data=sampled_data, t_max=t_max)"
   ]
  },
  {
   "cell_type": "markdown",
   "metadata": {},
   "source": [
    "## Parameters learning (lambdas)"
   ]
  },
  {
   "cell_type": "code",
   "execution_count": 179,
   "metadata": {
    "scrolled": true
   },
   "outputs": [
    {
     "data": {
      "text/html": [
       "<div>\n",
       "<style scoped>\n",
       "    .dataframe tbody tr th:only-of-type {\n",
       "        vertical-align: middle;\n",
       "    }\n",
       "\n",
       "    .dataframe tbody tr th {\n",
       "        vertical-align: top;\n",
       "    }\n",
       "\n",
       "    .dataframe thead th {\n",
       "        text-align: right;\n",
       "    }\n",
       "</style>\n",
       "<table border=\"1\" class=\"dataframe\">\n",
       "  <thead>\n",
       "    <tr style=\"text-align: right;\">\n",
       "      <th></th>\n",
       "      <th>event</th>\n",
       "      <th>pcv</th>\n",
       "      <th>lambda_t</th>\n",
       "      <th>duration</th>\n",
       "      <th>count</th>\n",
       "    </tr>\n",
       "  </thead>\n",
       "  <tbody>\n",
       "    <tr>\n",
       "      <th>0</th>\n",
       "      <td>B</td>\n",
       "      <td>(0, 0)</td>\n",
       "      <td>11.320692</td>\n",
       "      <td>1.501675</td>\n",
       "      <td>17</td>\n",
       "    </tr>\n",
       "    <tr>\n",
       "      <th>1</th>\n",
       "      <td>B</td>\n",
       "      <td>(0, 1)</td>\n",
       "      <td>1.114463</td>\n",
       "      <td>36.789005</td>\n",
       "      <td>41</td>\n",
       "    </tr>\n",
       "    <tr>\n",
       "      <th>2</th>\n",
       "      <td>B</td>\n",
       "      <td>(1, 0)</td>\n",
       "      <td>1.838731</td>\n",
       "      <td>40.789005</td>\n",
       "      <td>75</td>\n",
       "    </tr>\n",
       "    <tr>\n",
       "      <th>3</th>\n",
       "      <td>B</td>\n",
       "      <td>(1, 1)</td>\n",
       "      <td>1.056656</td>\n",
       "      <td>9920.920316</td>\n",
       "      <td>10483</td>\n",
       "    </tr>\n",
       "    <tr>\n",
       "      <th>4</th>\n",
       "      <td>A</td>\n",
       "      <td>(0, 0)</td>\n",
       "      <td>0.719203</td>\n",
       "      <td>16.685140</td>\n",
       "      <td>12</td>\n",
       "    </tr>\n",
       "    <tr>\n",
       "      <th>5</th>\n",
       "      <td>A</td>\n",
       "      <td>(0, 1)</td>\n",
       "      <td>3.968393</td>\n",
       "      <td>3374.917949</td>\n",
       "      <td>13393</td>\n",
       "    </tr>\n",
       "    <tr>\n",
       "      <th>6</th>\n",
       "      <td>A</td>\n",
       "      <td>(1, 0)</td>\n",
       "      <td>5.085521</td>\n",
       "      <td>37.360969</td>\n",
       "      <td>190</td>\n",
       "    </tr>\n",
       "    <tr>\n",
       "      <th>7</th>\n",
       "      <td>A</td>\n",
       "      <td>(1, 1)</td>\n",
       "      <td>9.008321</td>\n",
       "      <td>6571.035942</td>\n",
       "      <td>59194</td>\n",
       "    </tr>\n",
       "  </tbody>\n",
       "</table>\n",
       "</div>"
      ],
      "text/plain": [
       "  event     pcv   lambda_t     duration  count\n",
       "0     B  (0, 0)  11.320692     1.501675     17\n",
       "1     B  (0, 1)   1.114463    36.789005     41\n",
       "2     B  (1, 0)   1.838731    40.789005     75\n",
       "3     B  (1, 1)   1.056656  9920.920316  10483\n",
       "4     A  (0, 0)   0.719203    16.685140     12\n",
       "5     A  (0, 1)   3.968393  3374.917949  13393\n",
       "6     A  (1, 0)   5.085521    37.360969    190\n",
       "7     A  (1, 1)   9.008321  6571.035942  59194"
      ]
     },
     "execution_count": 179,
     "metadata": {},
     "output_type": "execute_result"
    }
   ],
   "source": [
    "mle_lambdas(rtgem_model, count_duration_df)"
   ]
  },
  {
   "cell_type": "markdown",
   "metadata": {},
   "source": [
    "## Structure learning"
   ]
  },
  {
   "cell_type": "markdown",
   "metadata": {},
   "source": [
    "### Modèle de référence"
   ]
  },
  {
   "cell_type": "code",
   "execution_count": 180,
   "metadata": {
    "scrolled": true
   },
   "outputs": [],
   "source": [
    "rtgem_model = RTGEM(empty_nodes(['A', 'B']), default_end_timescale=1)"
   ]
  },
  {
   "cell_type": "code",
   "execution_count": 181,
   "metadata": {},
   "outputs": [],
   "source": [
    "rtgem_model.add_edge_operator(('A', 'A'))\n",
    "rtgem_model.add_edge_operator(('A', 'B'))\n",
    "rtgem_model.add_edge_operator(('B', 'A'))"
   ]
  },
  {
   "cell_type": "code",
   "execution_count": 182,
   "metadata": {},
   "outputs": [],
   "source": [
    "rtgem_model.split_operator(edge=('A', 'A'), timescale=[0,1])"
   ]
  },
  {
   "cell_type": "code",
   "execution_count": 183,
   "metadata": {},
   "outputs": [],
   "source": [
    "rtgem_model.extend_operator(edge=('A', 'B'))"
   ]
  },
  {
   "cell_type": "code",
   "execution_count": 184,
   "metadata": {},
   "outputs": [
    {
     "data": {
      "application/vnd.jupyter.widget-view+json": {
       "model_id": "ffd5df0d73df42c6b512bfb81c3e243a",
       "version_major": 2,
       "version_minor": 0
      },
      "text/html": [
       "<p>Failed to display Jupyter Widget of type <code>HBox</code>.</p>\n",
       "<p>\n",
       "  If you're reading this message in the Jupyter Notebook or JupyterLab Notebook, it may mean\n",
       "  that the widgets JavaScript is still loading. If this message persists, it\n",
       "  likely means that the widgets JavaScript library is either not installed or\n",
       "  not enabled. See the <a href=\"https://ipywidgets.readthedocs.io/en/stable/user_install.html\">Jupyter\n",
       "  Widgets Documentation</a> for setup instructions.\n",
       "</p>\n",
       "<p>\n",
       "  If you're reading this message in another frontend (for example, a static\n",
       "  rendering on GitHub or <a href=\"https://nbviewer.jupyter.org/\">NBViewer</a>),\n",
       "  it may mean that your frontend doesn't currently support widgets.\n",
       "</p>\n"
      ],
      "text/plain": [
       "HBox(children=(IntProgress(value=0, description='Sampled Nodes: ', max=1, style=ProgressStyle(description_width='initial')), HTML(value='')))"
      ]
     },
     "metadata": {},
     "output_type": "display_data"
    },
    {
     "data": {
      "application/vnd.jupyter.widget-view+json": {
       "model_id": "4f7e7e28b4d54897b8fc587d6d88f90f",
       "version_major": 2,
       "version_minor": 0
      },
      "text/html": [
       "<p>Failed to display Jupyter Widget of type <code>HBox</code>.</p>\n",
       "<p>\n",
       "  If you're reading this message in the Jupyter Notebook or JupyterLab Notebook, it may mean\n",
       "  that the widgets JavaScript is still loading. If this message persists, it\n",
       "  likely means that the widgets JavaScript library is either not installed or\n",
       "  not enabled. See the <a href=\"https://ipywidgets.readthedocs.io/en/stable/user_install.html\">Jupyter\n",
       "  Widgets Documentation</a> for setup instructions.\n",
       "</p>\n",
       "<p>\n",
       "  If you're reading this message in another frontend (for example, a static\n",
       "  rendering on GitHub or <a href=\"https://nbviewer.jupyter.org/\">NBViewer</a>),\n",
       "  it may mean that your frontend doesn't currently support widgets.\n",
       "</p>\n"
      ],
      "text/plain": [
       "HBox(children=(IntProgress(value=0, description='Sampling A, B:', style=ProgressStyle(description_width='initial')), HTML(value='')))"
      ]
     },
     "metadata": {},
     "output_type": "display_data"
    },
    {
     "name": "stdout",
     "output_type": "stream",
     "text": [
      "\r"
     ]
    },
    {
     "data": {
      "application/vnd.jupyter.widget-view+json": {
       "model_id": "9d00af4e96a84687872f3d803d6add49",
       "version_major": 2,
       "version_minor": 0
      },
      "text/html": [
       "<p>Failed to display Jupyter Widget of type <code>HBox</code>.</p>\n",
       "<p>\n",
       "  If you're reading this message in the Jupyter Notebook or JupyterLab Notebook, it may mean\n",
       "  that the widgets JavaScript is still loading. If this message persists, it\n",
       "  likely means that the widgets JavaScript library is either not installed or\n",
       "  not enabled. See the <a href=\"https://ipywidgets.readthedocs.io/en/stable/user_install.html\">Jupyter\n",
       "  Widgets Documentation</a> for setup instructions.\n",
       "</p>\n",
       "<p>\n",
       "  If you're reading this message in another frontend (for example, a static\n",
       "  rendering on GitHub or <a href=\"https://nbviewer.jupyter.org/\">NBViewer</a>),\n",
       "  it may mean that your frontend doesn't currently support widgets.\n",
       "</p>\n"
      ],
      "text/plain": [
       "HBox(children=(IntProgress(value=0, description='exporting data to DF', max=2, style=ProgressStyle(description_width='initial')), HTML(value='')))"
      ]
     },
     "metadata": {},
     "output_type": "display_data"
    },
    {
     "name": "stdout",
     "output_type": "stream",
     "text": [
      "\r"
     ]
    }
   ],
   "source": [
    "sampled_data = sample_from_tgem(rtgem_model, t_min=0, t_max=10000)"
   ]
  },
  {
   "cell_type": "code",
   "execution_count": 185,
   "metadata": {},
   "outputs": [],
   "source": [
    "t_max = 100\n",
    "data = sampled_data[sampled_data['time'] < t_max]"
   ]
  },
  {
   "cell_type": "code",
   "execution_count": 186,
   "metadata": {
    "scrolled": true
   },
   "outputs": [
    {
     "data": {
      "text/plain": [
       "<rtgemlib.rtgem.RTGEM at 0x1a2bb48ae80>"
      ]
     },
     "execution_count": 186,
     "metadata": {},
     "output_type": "execute_result"
    }
   ],
   "source": [
    "initModelFromData(model=rtgem_model, observed_data=data, t_max=t_max)"
   ]
  },
  {
   "cell_type": "code",
   "execution_count": 187,
   "metadata": {},
   "outputs": [],
   "source": [
    "count_duration_df = get_count_duration_df(model=rtgem_model, data=data, t_max=t_max)"
   ]
  },
  {
   "cell_type": "code",
   "execution_count": 188,
   "metadata": {},
   "outputs": [
    {
     "data": {
      "text/plain": [
       "279.6152126641211"
      ]
     },
     "execution_count": 188,
     "metadata": {},
     "output_type": "execute_result"
    }
   ],
   "source": [
    "compute_logLikelihood(count_duration_df) - rtgem_model.size() * np.log(t_max)"
   ]
  },
  {
   "cell_type": "code",
   "execution_count": 189,
   "metadata": {},
   "outputs": [],
   "source": [
    "score_bic_reference = scoreBic(rtgem_model, data, t_max)"
   ]
  },
  {
   "cell_type": "code",
   "execution_count": 190,
   "metadata": {},
   "outputs": [
    {
     "data": {
      "text/plain": [
       "279.6152126641211"
      ]
     },
     "execution_count": 190,
     "metadata": {},
     "output_type": "execute_result"
    }
   ],
   "source": [
    "score_bic_reference"
   ]
  },
  {
   "cell_type": "markdown",
   "metadata": {},
   "source": [
    "### Forward Search"
   ]
  },
  {
   "cell_type": "code",
   "execution_count": 191,
   "metadata": {},
   "outputs": [],
   "source": [
    "import itertools\n",
    "import random\n",
    "import copy"
   ]
  },
  {
   "cell_type": "code",
   "execution_count": 192,
   "metadata": {},
   "outputs": [],
   "source": [
    "def empty_nodes(nodes):\n",
    "    return dict(zip(nodes, [{'timescales': {}, 'lambdas': {(): 1}}] * len(nodes)))"
   ]
  },
  {
   "cell_type": "code",
   "execution_count": 193,
   "metadata": {},
   "outputs": [],
   "source": [
    "model = RTGEM(empty_nodes(['A', 'B']),  default_end_timescale=1)"
   ]
  },
  {
   "cell_type": "markdown",
   "metadata": {},
   "source": [
    "#### Initialisation "
   ]
  },
  {
   "cell_type": "code",
   "execution_count": 194,
   "metadata": {},
   "outputs": [
    {
     "data": {
      "text/plain": [
       "<rtgemlib.rtgem.RTGEM at 0x1a2bbce7cf8>"
      ]
     },
     "execution_count": 194,
     "metadata": {},
     "output_type": "execute_result"
    }
   ],
   "source": [
    "initModelFromData(model, data, t_max)"
   ]
  },
  {
   "cell_type": "code",
   "execution_count": 195,
   "metadata": {},
   "outputs": [],
   "source": [
    "count_duration_df = get_count_duration_df(model=model, data=data, t_max=t_max)"
   ]
  },
  {
   "cell_type": "code",
   "execution_count": 196,
   "metadata": {
    "scrolled": true
   },
   "outputs": [],
   "source": [
    "lambdas_count_duration_df = mle_lambdas(model=model, count_and_duration=count_duration_df)"
   ]
  },
  {
   "cell_type": "code",
   "execution_count": 197,
   "metadata": {
    "scrolled": true
   },
   "outputs": [
    {
     "data": {
      "text/plain": [
       "NodeDataView({'A': {(): 5.15}, 'B': {(): 0.24}}, data='lambdas')"
      ]
     },
     "execution_count": 197,
     "metadata": {},
     "output_type": "execute_result"
    }
   ],
   "source": [
    "model.dpd_graph.nodes.data('lambdas')"
   ]
  },
  {
   "cell_type": "code",
   "execution_count": 198,
   "metadata": {},
   "outputs": [],
   "source": [
    "LogL = compute_logLikelihood(lambdas_count_duration_df)\n",
    "log_td = np.log(t_max)\n",
    "\n",
    "size_log_td = model.size() * log_td\n",
    "\n",
    "score = LogL - size_log_td\n",
    "nodes = list(model.dpd_graph.nodes)\n",
    "possible_edges = list(itertools.product(nodes, repeat = 2))\n",
    "\n",
    "random.shuffle(possible_edges)"
   ]
  },
  {
   "cell_type": "code",
   "execution_count": 199,
   "metadata": {
    "scrolled": true
   },
   "outputs": [
    {
     "data": {
      "text/plain": [
       "261.62217515061735"
      ]
     },
     "execution_count": 199,
     "metadata": {},
     "output_type": "execute_result"
    }
   ],
   "source": [
    "scoreBic(model=model, observed_data=data, t_max=t_max)"
   ]
  },
  {
   "cell_type": "code",
   "execution_count": 200,
   "metadata": {
    "scrolled": false
   },
   "outputs": [
    {
     "name": "stdout",
     "output_type": "stream",
     "text": [
      "iteration number: 0: scoreBIC = 261.62217515061735\n",
      "max ngbr <bound method RTGEM.add_edge_operator of <rtgemlib.rtgem.RTGEM object at 0x000001A2BBCE7CF8>>, args=[('B', 'B')], max_scoreBIC = 324.82299590707123\n",
      "iteration number: 1: scoreBIC = 324.82299590707123\n",
      "max ngbr <bound method RTGEM.add_edge_operator of <rtgemlib.rtgem.RTGEM object at 0x000001A2BBCE7CF8>>, args=[('A', 'A')], max_scoreBIC = 332.68295803682736\n",
      "iteration number: 2: scoreBIC = 332.68295803682736\n",
      "max ngbr <bound method RTGEM.split_operator of <rtgemlib.rtgem.RTGEM object at 0x000001A2BBCE7CF8>>, args=[('A', 'A'), [0, 1]], max_scoreBIC = 351.86993413431645\n",
      "iteration number: 3: scoreBIC = 351.86993413431645\n",
      "max ngbr <bound method RTGEM.split_operator of <rtgemlib.rtgem.RTGEM object at 0x000001A2BBCE7CF8>>, args=[('A', 'A'), [0, 0.5]], max_scoreBIC = 459.01114140158245\n",
      "iteration number: 4: scoreBIC = 459.01114140158245\n",
      "max ngbr <bound method RTGEM.split_operator of <rtgemlib.rtgem.RTGEM object at 0x000001A2BBCE7CF8>>, args=[('A', 'A'), [0, 0.25]], max_scoreBIC = 644.3987936228403\n",
      "iteration number: 5: scoreBIC = 644.3987936228403\n",
      "max ngbr <bound method RTGEM.split_operator of <rtgemlib.rtgem.RTGEM object at 0x000001A2BBCE7CF8>>, args=[('A', 'A'), [0, 0.125]], max_scoreBIC = 856.6266060118205\n",
      "iteration number: 6: scoreBIC = 856.6266060118205\n",
      "max ngbr <bound method RTGEM.split_operator of <rtgemlib.rtgem.RTGEM object at 0x000001A2BBCE7CF8>>, args=[('A', 'A'), [0, 0.0625]], max_scoreBIC = 1027.9650334719217\n",
      "iteration number: 7: scoreBIC = 1027.9650334719217\n",
      "max ngbr <bound method RTGEM.split_operator of <rtgemlib.rtgem.RTGEM object at 0x000001A2BBCE7CF8>>, args=[('A', 'A'), [0, 0.03125]], max_scoreBIC = 1076.3441676861464\n",
      "iteration number: 8: scoreBIC = 1076.3441676861464\n",
      "max ngbr <bound method RTGEM.split_operator of <rtgemlib.rtgem.RTGEM object at 0x000001A2BBCE7CF8>>, args=[('B', 'B'), [0, 1]], max_scoreBIC = 1077.298663730266\n",
      "iteration number: 9: scoreBIC = 1077.298663730266\n",
      "max ngbr <bound method RTGEM.split_operator of <rtgemlib.rtgem.RTGEM object at 0x000001A2BBCE7CF8>>, args=[('B', 'B'), [0, 0.5]], max_scoreBIC = 1063.1523051260951\n"
     ]
    }
   ],
   "source": [
    "it = 0\n",
    "forward_logs = []\n",
    "local_maximum = False\n",
    "\n",
    "bic_scores_forward = []\n",
    "\n",
    "while not local_maximum:\n",
    "    #     max_ngbr_score = -np.inf\n",
    "    local_maximum = True\n",
    "    max_score_ngbr = -np.inf\n",
    "    max_op = None\n",
    "    max_args = None\n",
    "    max_changed_node_cnt_drt_df = None\n",
    "    max_size_log_td_ngbr = None\n",
    "    max_LogL_ngbr = None\n",
    "    print('iteration number: {}: scoreBIC = {}'.format(it, score))\n",
    "    for ngbr_info in forward_neighbors_gen(model, data, t_max, lambdas_count_duration_df,LogL, size_log_td, log_td,\\\n",
    "                                           possible_edges):\n",
    "\n",
    "        op, args, LogL_ngbr, size_log_td_ngbr, changed_node_cnt_drt_df = ngbr_info\n",
    "        score_ngbr = LogL_ngbr - size_log_td_ngbr\n",
    "\n",
    "        if score_ngbr > max_score_ngbr:\n",
    "            max_score_ngbr = score_ngbr\n",
    "            max_op = op\n",
    "            max_args = args\n",
    "            max_changed_node_cnt_drt_df = changed_node_cnt_drt_df\n",
    "            max_size_log_td_ngbr = size_log_td_ngbr\n",
    "            max_LogL_ngbr = LogL_ngbr\n",
    "    print('max ngbr {}, args={}, max_scoreBIC = {}'.format(max_op, max_args, max_score_ngbr))\n",
    " \n",
    "    if max_score_ngbr > score:\n",
    "        max_op(*max_args)\n",
    "        LogL = max_LogL_ngbr\n",
    "        size_log_td = max_size_log_td_ngbr\n",
    "        changed_node = max_changed_node_cnt_drt_df.iloc[0]['event']\n",
    "        lambdas_count_duration_df = lambdas_count_duration_df[lambdas_count_duration_df['event'] != changed_node]\n",
    "        lambdas_count_duration_df = pd.concat([lambdas_count_duration_df, max_changed_node_cnt_drt_df])\n",
    "\n",
    "        local_maximum = False\n",
    "        score = max_score_ngbr\n",
    "        op_name = 'étendreIntervalle'\n",
    "\n",
    "        # removes added edge from possible edges\n",
    "        if max_op == model.add_edge_operator:\n",
    "            possible_edges.remove(max_args[0])\n",
    "        # pd.Dataframe(columns=['it', 'T_A', 'T_B', 'edges', 'max_ngbr', 'scoreBic'])\n",
    "            op_name = 'ajouterArc'\n",
    "        if max_op == model.split_operator:\n",
    "            op_name = 'diviserIntervalle'\n",
    "\n",
    "        forward_logs.append([it, copy.deepcopy(model.get_node_parents_timescales('A')),\\\n",
    "                             copy.deepcopy(model.get_node_parents_timescales('B')),\\\n",
    "                             list(model.dpd_graph.edges()),\\\n",
    "                             op_name,\\\n",
    "                             max_args,\\\n",
    "                             score])\n",
    "    \n",
    "    bic_scores_forward.append(score)\n",
    "    \n",
    "    it += 1"
   ]
  },
  {
   "cell_type": "code",
   "execution_count": 201,
   "metadata": {},
   "outputs": [
    {
     "data": {
      "text/plain": [
       "<rtgemlib.rtgem.RTGEM at 0x1a2bbce7cf8>"
      ]
     },
     "execution_count": 201,
     "metadata": {},
     "output_type": "execute_result"
    }
   ],
   "source": [
    "initModelFromData(model=model, observed_data=data, t_max=t_max)"
   ]
  },
  {
   "cell_type": "code",
   "execution_count": 203,
   "metadata": {},
   "outputs": [],
   "source": [
    "forwardLogs = open(\"forward.logs\", \"a\")\n",
    "forwardLogs.write(str(list(forward_logs)))\n",
    "forwardLogs.close()"
   ]
  },
  {
   "cell_type": "code",
   "execution_count": 204,
   "metadata": {},
   "outputs": [],
   "source": [
    "count_duration_df = get_count_duration_df(model=model, data=data, t_max=t_max)"
   ]
  },
  {
   "cell_type": "code",
   "execution_count": 205,
   "metadata": {
    "scrolled": true
   },
   "outputs": [
    {
     "data": {
      "text/html": [
       "<div>\n",
       "<style scoped>\n",
       "    .dataframe tbody tr th:only-of-type {\n",
       "        vertical-align: middle;\n",
       "    }\n",
       "\n",
       "    .dataframe tbody tr th {\n",
       "        vertical-align: top;\n",
       "    }\n",
       "\n",
       "    .dataframe thead th {\n",
       "        text-align: right;\n",
       "    }\n",
       "</style>\n",
       "<table border=\"1\" class=\"dataframe\">\n",
       "  <thead>\n",
       "    <tr style=\"text-align: right;\">\n",
       "      <th></th>\n",
       "      <th>event</th>\n",
       "      <th>pcv</th>\n",
       "      <th>lambda_t</th>\n",
       "      <th>duration</th>\n",
       "      <th>count</th>\n",
       "    </tr>\n",
       "  </thead>\n",
       "  <tbody>\n",
       "    <tr>\n",
       "      <th>0</th>\n",
       "      <td>A</td>\n",
       "      <td>(0, 0, 0, 0, 0, 0, 0)</td>\n",
       "      <td>0.000000</td>\n",
       "      <td>2.391357</td>\n",
       "      <td>0</td>\n",
       "    </tr>\n",
       "    <tr>\n",
       "      <th>1</th>\n",
       "      <td>A</td>\n",
       "      <td>(0, 0, 0, 0, 0, 0, 1)</td>\n",
       "      <td>0.000000</td>\n",
       "      <td>4.578248</td>\n",
       "      <td>0</td>\n",
       "    </tr>\n",
       "    <tr>\n",
       "      <th>2</th>\n",
       "      <td>A</td>\n",
       "      <td>(0, 0, 0, 0, 0, 1, 0)</td>\n",
       "      <td>0.000000</td>\n",
       "      <td>0.797795</td>\n",
       "      <td>0</td>\n",
       "    </tr>\n",
       "    <tr>\n",
       "      <th>3</th>\n",
       "      <td>A</td>\n",
       "      <td>(0, 0, 0, 0, 0, 1, 1)</td>\n",
       "      <td>0.000000</td>\n",
       "      <td>19.406791</td>\n",
       "      <td>0</td>\n",
       "    </tr>\n",
       "    <tr>\n",
       "      <th>4</th>\n",
       "      <td>A</td>\n",
       "      <td>(0, 0, 0, 0, 1, 0, 0)</td>\n",
       "      <td>0.000000</td>\n",
       "      <td>0.318100</td>\n",
       "      <td>0</td>\n",
       "    </tr>\n",
       "    <tr>\n",
       "      <th>5</th>\n",
       "      <td>A</td>\n",
       "      <td>(0, 0, 0, 0, 1, 0, 1)</td>\n",
       "      <td>0.000000</td>\n",
       "      <td>6.092734</td>\n",
       "      <td>0</td>\n",
       "    </tr>\n",
       "    <tr>\n",
       "      <th>6</th>\n",
       "      <td>A</td>\n",
       "      <td>(0, 0, 0, 0, 1, 1, 0)</td>\n",
       "      <td>0.000000</td>\n",
       "      <td>1.085642</td>\n",
       "      <td>0</td>\n",
       "    </tr>\n",
       "    <tr>\n",
       "      <th>7</th>\n",
       "      <td>A</td>\n",
       "      <td>(0, 0, 0, 0, 1, 1, 1)</td>\n",
       "      <td>0.000000</td>\n",
       "      <td>17.942635</td>\n",
       "      <td>0</td>\n",
       "    </tr>\n",
       "    <tr>\n",
       "      <th>8</th>\n",
       "      <td>A</td>\n",
       "      <td>(0, 0, 0, 1, 0, 0, 0)</td>\n",
       "      <td>0.000000</td>\n",
       "      <td>0.119889</td>\n",
       "      <td>0</td>\n",
       "    </tr>\n",
       "    <tr>\n",
       "      <th>9</th>\n",
       "      <td>A</td>\n",
       "      <td>(0, 0, 0, 1, 0, 0, 1)</td>\n",
       "      <td>0.000000</td>\n",
       "      <td>2.447419</td>\n",
       "      <td>0</td>\n",
       "    </tr>\n",
       "    <tr>\n",
       "      <th>10</th>\n",
       "      <td>A</td>\n",
       "      <td>(0, 0, 0, 1, 0, 1, 0)</td>\n",
       "      <td>0.000000</td>\n",
       "      <td>0.386697</td>\n",
       "      <td>0</td>\n",
       "    </tr>\n",
       "    <tr>\n",
       "      <th>11</th>\n",
       "      <td>A</td>\n",
       "      <td>(0, 0, 0, 1, 0, 1, 1)</td>\n",
       "      <td>0.000000</td>\n",
       "      <td>7.269681</td>\n",
       "      <td>0</td>\n",
       "    </tr>\n",
       "    <tr>\n",
       "      <th>12</th>\n",
       "      <td>A</td>\n",
       "      <td>(0, 0, 0, 1, 1, 0, 0)</td>\n",
       "      <td>0.000000</td>\n",
       "      <td>0.116260</td>\n",
       "      <td>0</td>\n",
       "    </tr>\n",
       "    <tr>\n",
       "      <th>13</th>\n",
       "      <td>A</td>\n",
       "      <td>(0, 0, 0, 1, 1, 0, 1)</td>\n",
       "      <td>0.000000</td>\n",
       "      <td>3.155473</td>\n",
       "      <td>0</td>\n",
       "    </tr>\n",
       "    <tr>\n",
       "      <th>14</th>\n",
       "      <td>A</td>\n",
       "      <td>(0, 0, 0, 1, 1, 1, 0)</td>\n",
       "      <td>0.000000</td>\n",
       "      <td>0.348256</td>\n",
       "      <td>0</td>\n",
       "    </tr>\n",
       "    <tr>\n",
       "      <th>15</th>\n",
       "      <td>A</td>\n",
       "      <td>(0, 0, 0, 1, 1, 1, 1)</td>\n",
       "      <td>0.000000</td>\n",
       "      <td>6.107184</td>\n",
       "      <td>0</td>\n",
       "    </tr>\n",
       "    <tr>\n",
       "      <th>16</th>\n",
       "      <td>A</td>\n",
       "      <td>(0, 0, 1, 0, 0, 0, 0)</td>\n",
       "      <td>0.000000</td>\n",
       "      <td>0.031828</td>\n",
       "      <td>0</td>\n",
       "    </tr>\n",
       "    <tr>\n",
       "      <th>17</th>\n",
       "      <td>A</td>\n",
       "      <td>(0, 0, 1, 0, 0, 0, 1)</td>\n",
       "      <td>0.000000</td>\n",
       "      <td>1.237959</td>\n",
       "      <td>0</td>\n",
       "    </tr>\n",
       "    <tr>\n",
       "      <th>18</th>\n",
       "      <td>A</td>\n",
       "      <td>(0, 0, 1, 0, 0, 1, 0)</td>\n",
       "      <td>0.000000</td>\n",
       "      <td>0.288527</td>\n",
       "      <td>0</td>\n",
       "    </tr>\n",
       "    <tr>\n",
       "      <th>19</th>\n",
       "      <td>A</td>\n",
       "      <td>(0, 0, 1, 0, 0, 1, 1)</td>\n",
       "      <td>0.000000</td>\n",
       "      <td>3.130508</td>\n",
       "      <td>0</td>\n",
       "    </tr>\n",
       "    <tr>\n",
       "      <th>20</th>\n",
       "      <td>A</td>\n",
       "      <td>(0, 0, 1, 0, 1, 0, 0)</td>\n",
       "      <td>0.000000</td>\n",
       "      <td>0.069709</td>\n",
       "      <td>0</td>\n",
       "    </tr>\n",
       "    <tr>\n",
       "      <th>21</th>\n",
       "      <td>A</td>\n",
       "      <td>(0, 0, 1, 0, 1, 0, 1)</td>\n",
       "      <td>0.000000</td>\n",
       "      <td>1.359632</td>\n",
       "      <td>0</td>\n",
       "    </tr>\n",
       "    <tr>\n",
       "      <th>22</th>\n",
       "      <td>A</td>\n",
       "      <td>(0, 0, 1, 0, 1, 1, 0)</td>\n",
       "      <td>0.000000</td>\n",
       "      <td>0.202170</td>\n",
       "      <td>0</td>\n",
       "    </tr>\n",
       "    <tr>\n",
       "      <th>23</th>\n",
       "      <td>A</td>\n",
       "      <td>(0, 0, 1, 0, 1, 1, 1)</td>\n",
       "      <td>0.000000</td>\n",
       "      <td>2.605126</td>\n",
       "      <td>0</td>\n",
       "    </tr>\n",
       "    <tr>\n",
       "      <th>24</th>\n",
       "      <td>A</td>\n",
       "      <td>(0, 0, 1, 1, 0, 0, 0)</td>\n",
       "      <td>0.000000</td>\n",
       "      <td>0.030672</td>\n",
       "      <td>0</td>\n",
       "    </tr>\n",
       "    <tr>\n",
       "      <th>25</th>\n",
       "      <td>A</td>\n",
       "      <td>(0, 0, 1, 1, 0, 0, 1)</td>\n",
       "      <td>0.000000</td>\n",
       "      <td>0.739837</td>\n",
       "      <td>0</td>\n",
       "    </tr>\n",
       "    <tr>\n",
       "      <th>26</th>\n",
       "      <td>A</td>\n",
       "      <td>(0, 0, 1, 1, 0, 1, 0)</td>\n",
       "      <td>0.000000</td>\n",
       "      <td>0.126829</td>\n",
       "      <td>0</td>\n",
       "    </tr>\n",
       "    <tr>\n",
       "      <th>27</th>\n",
       "      <td>A</td>\n",
       "      <td>(0, 0, 1, 1, 0, 1, 1)</td>\n",
       "      <td>0.000000</td>\n",
       "      <td>1.387172</td>\n",
       "      <td>0</td>\n",
       "    </tr>\n",
       "    <tr>\n",
       "      <th>28</th>\n",
       "      <td>A</td>\n",
       "      <td>(0, 0, 1, 1, 1, 0, 0)</td>\n",
       "      <td>0.000000</td>\n",
       "      <td>0.024041</td>\n",
       "      <td>0</td>\n",
       "    </tr>\n",
       "    <tr>\n",
       "      <th>29</th>\n",
       "      <td>A</td>\n",
       "      <td>(0, 0, 1, 1, 1, 0, 1)</td>\n",
       "      <td>0.000000</td>\n",
       "      <td>0.321784</td>\n",
       "      <td>0</td>\n",
       "    </tr>\n",
       "    <tr>\n",
       "      <th>...</th>\n",
       "      <td>...</td>\n",
       "      <td>...</td>\n",
       "      <td>...</td>\n",
       "      <td>...</td>\n",
       "      <td>...</td>\n",
       "    </tr>\n",
       "    <tr>\n",
       "      <th>102</th>\n",
       "      <td>A</td>\n",
       "      <td>(1, 1, 0, 0, 1, 1, 0)</td>\n",
       "      <td>45.653084</td>\n",
       "      <td>0.021904</td>\n",
       "      <td>1</td>\n",
       "    </tr>\n",
       "    <tr>\n",
       "      <th>103</th>\n",
       "      <td>A</td>\n",
       "      <td>(1, 1, 0, 0, 1, 1, 1)</td>\n",
       "      <td>134.882002</td>\n",
       "      <td>0.059311</td>\n",
       "      <td>8</td>\n",
       "    </tr>\n",
       "    <tr>\n",
       "      <th>104</th>\n",
       "      <td>A</td>\n",
       "      <td>(1, 1, 0, 1, 0, 0, 0)</td>\n",
       "      <td>NaN</td>\n",
       "      <td>0.000000</td>\n",
       "      <td>0</td>\n",
       "    </tr>\n",
       "    <tr>\n",
       "      <th>105</th>\n",
       "      <td>A</td>\n",
       "      <td>(1, 1, 0, 1, 0, 0, 1)</td>\n",
       "      <td>101.653530</td>\n",
       "      <td>0.009837</td>\n",
       "      <td>1</td>\n",
       "    </tr>\n",
       "    <tr>\n",
       "      <th>106</th>\n",
       "      <td>A</td>\n",
       "      <td>(1, 1, 0, 1, 0, 1, 0)</td>\n",
       "      <td>157.645496</td>\n",
       "      <td>0.006343</td>\n",
       "      <td>1</td>\n",
       "    </tr>\n",
       "    <tr>\n",
       "      <th>107</th>\n",
       "      <td>A</td>\n",
       "      <td>(1, 1, 0, 1, 0, 1, 1)</td>\n",
       "      <td>26.896481</td>\n",
       "      <td>0.037180</td>\n",
       "      <td>1</td>\n",
       "    </tr>\n",
       "    <tr>\n",
       "      <th>108</th>\n",
       "      <td>A</td>\n",
       "      <td>(1, 1, 0, 1, 1, 0, 0)</td>\n",
       "      <td>NaN</td>\n",
       "      <td>0.000000</td>\n",
       "      <td>0</td>\n",
       "    </tr>\n",
       "    <tr>\n",
       "      <th>109</th>\n",
       "      <td>A</td>\n",
       "      <td>(1, 1, 0, 1, 1, 0, 1)</td>\n",
       "      <td>0.000000</td>\n",
       "      <td>0.033471</td>\n",
       "      <td>0</td>\n",
       "    </tr>\n",
       "    <tr>\n",
       "      <th>110</th>\n",
       "      <td>A</td>\n",
       "      <td>(1, 1, 0, 1, 1, 1, 0)</td>\n",
       "      <td>NaN</td>\n",
       "      <td>0.000000</td>\n",
       "      <td>0</td>\n",
       "    </tr>\n",
       "    <tr>\n",
       "      <th>111</th>\n",
       "      <td>A</td>\n",
       "      <td>(1, 1, 0, 1, 1, 1, 1)</td>\n",
       "      <td>76.489677</td>\n",
       "      <td>0.026147</td>\n",
       "      <td>2</td>\n",
       "    </tr>\n",
       "    <tr>\n",
       "      <th>112</th>\n",
       "      <td>A</td>\n",
       "      <td>(1, 1, 1, 0, 0, 0, 0)</td>\n",
       "      <td>NaN</td>\n",
       "      <td>0.000000</td>\n",
       "      <td>0</td>\n",
       "    </tr>\n",
       "    <tr>\n",
       "      <th>113</th>\n",
       "      <td>A</td>\n",
       "      <td>(1, 1, 1, 0, 0, 0, 1)</td>\n",
       "      <td>0.000000</td>\n",
       "      <td>0.012339</td>\n",
       "      <td>0</td>\n",
       "    </tr>\n",
       "    <tr>\n",
       "      <th>114</th>\n",
       "      <td>A</td>\n",
       "      <td>(1, 1, 1, 0, 0, 1, 0)</td>\n",
       "      <td>0.000000</td>\n",
       "      <td>0.009282</td>\n",
       "      <td>0</td>\n",
       "    </tr>\n",
       "    <tr>\n",
       "      <th>115</th>\n",
       "      <td>A</td>\n",
       "      <td>(1, 1, 1, 0, 0, 1, 1)</td>\n",
       "      <td>137.746631</td>\n",
       "      <td>0.014519</td>\n",
       "      <td>2</td>\n",
       "    </tr>\n",
       "    <tr>\n",
       "      <th>116</th>\n",
       "      <td>A</td>\n",
       "      <td>(1, 1, 1, 0, 1, 0, 0)</td>\n",
       "      <td>NaN</td>\n",
       "      <td>0.000000</td>\n",
       "      <td>0</td>\n",
       "    </tr>\n",
       "    <tr>\n",
       "      <th>117</th>\n",
       "      <td>A</td>\n",
       "      <td>(1, 1, 1, 0, 1, 0, 1)</td>\n",
       "      <td>0.000000</td>\n",
       "      <td>0.000828</td>\n",
       "      <td>0</td>\n",
       "    </tr>\n",
       "    <tr>\n",
       "      <th>118</th>\n",
       "      <td>A</td>\n",
       "      <td>(1, 1, 1, 0, 1, 1, 0)</td>\n",
       "      <td>NaN</td>\n",
       "      <td>0.000000</td>\n",
       "      <td>0</td>\n",
       "    </tr>\n",
       "    <tr>\n",
       "      <th>119</th>\n",
       "      <td>A</td>\n",
       "      <td>(1, 1, 1, 0, 1, 1, 1)</td>\n",
       "      <td>0.000000</td>\n",
       "      <td>0.003586</td>\n",
       "      <td>0</td>\n",
       "    </tr>\n",
       "    <tr>\n",
       "      <th>120</th>\n",
       "      <td>A</td>\n",
       "      <td>(1, 1, 1, 1, 0, 0, 0)</td>\n",
       "      <td>NaN</td>\n",
       "      <td>0.000000</td>\n",
       "      <td>0</td>\n",
       "    </tr>\n",
       "    <tr>\n",
       "      <th>121</th>\n",
       "      <td>A</td>\n",
       "      <td>(1, 1, 1, 1, 0, 0, 1)</td>\n",
       "      <td>NaN</td>\n",
       "      <td>0.000000</td>\n",
       "      <td>0</td>\n",
       "    </tr>\n",
       "    <tr>\n",
       "      <th>122</th>\n",
       "      <td>A</td>\n",
       "      <td>(1, 1, 1, 1, 0, 1, 0)</td>\n",
       "      <td>0.000000</td>\n",
       "      <td>0.011351</td>\n",
       "      <td>0</td>\n",
       "    </tr>\n",
       "    <tr>\n",
       "      <th>123</th>\n",
       "      <td>A</td>\n",
       "      <td>(1, 1, 1, 1, 0, 1, 1)</td>\n",
       "      <td>36.425766</td>\n",
       "      <td>0.027453</td>\n",
       "      <td>1</td>\n",
       "    </tr>\n",
       "    <tr>\n",
       "      <th>124</th>\n",
       "      <td>A</td>\n",
       "      <td>(1, 1, 1, 1, 1, 0, 0)</td>\n",
       "      <td>NaN</td>\n",
       "      <td>0.000000</td>\n",
       "      <td>0</td>\n",
       "    </tr>\n",
       "    <tr>\n",
       "      <th>125</th>\n",
       "      <td>A</td>\n",
       "      <td>(1, 1, 1, 1, 1, 0, 1)</td>\n",
       "      <td>NaN</td>\n",
       "      <td>0.000000</td>\n",
       "      <td>0</td>\n",
       "    </tr>\n",
       "    <tr>\n",
       "      <th>126</th>\n",
       "      <td>A</td>\n",
       "      <td>(1, 1, 1, 1, 1, 1, 0)</td>\n",
       "      <td>NaN</td>\n",
       "      <td>0.000000</td>\n",
       "      <td>0</td>\n",
       "    </tr>\n",
       "    <tr>\n",
       "      <th>127</th>\n",
       "      <td>A</td>\n",
       "      <td>(1, 1, 1, 1, 1, 1, 1)</td>\n",
       "      <td>0.000000</td>\n",
       "      <td>0.004617</td>\n",
       "      <td>0</td>\n",
       "    </tr>\n",
       "    <tr>\n",
       "      <th>128</th>\n",
       "      <td>B</td>\n",
       "      <td>(0, 0)</td>\n",
       "      <td>0.000000</td>\n",
       "      <td>94.070615</td>\n",
       "      <td>0</td>\n",
       "    </tr>\n",
       "    <tr>\n",
       "      <th>129</th>\n",
       "      <td>B</td>\n",
       "      <td>(0, 1)</td>\n",
       "      <td>0.000000</td>\n",
       "      <td>1.522169</td>\n",
       "      <td>0</td>\n",
       "    </tr>\n",
       "    <tr>\n",
       "      <th>130</th>\n",
       "      <td>B</td>\n",
       "      <td>(1, 0)</td>\n",
       "      <td>1.970871</td>\n",
       "      <td>1.522169</td>\n",
       "      <td>3</td>\n",
       "    </tr>\n",
       "    <tr>\n",
       "      <th>131</th>\n",
       "      <td>B</td>\n",
       "      <td>(1, 1)</td>\n",
       "      <td>7.278911</td>\n",
       "      <td>2.885047</td>\n",
       "      <td>21</td>\n",
       "    </tr>\n",
       "  </tbody>\n",
       "</table>\n",
       "<p>132 rows × 5 columns</p>\n",
       "</div>"
      ],
      "text/plain": [
       "    event                    pcv    lambda_t   duration  count\n",
       "0       A  (0, 0, 0, 0, 0, 0, 0)    0.000000   2.391357      0\n",
       "1       A  (0, 0, 0, 0, 0, 0, 1)    0.000000   4.578248      0\n",
       "2       A  (0, 0, 0, 0, 0, 1, 0)    0.000000   0.797795      0\n",
       "3       A  (0, 0, 0, 0, 0, 1, 1)    0.000000  19.406791      0\n",
       "4       A  (0, 0, 0, 0, 1, 0, 0)    0.000000   0.318100      0\n",
       "5       A  (0, 0, 0, 0, 1, 0, 1)    0.000000   6.092734      0\n",
       "6       A  (0, 0, 0, 0, 1, 1, 0)    0.000000   1.085642      0\n",
       "7       A  (0, 0, 0, 0, 1, 1, 1)    0.000000  17.942635      0\n",
       "8       A  (0, 0, 0, 1, 0, 0, 0)    0.000000   0.119889      0\n",
       "9       A  (0, 0, 0, 1, 0, 0, 1)    0.000000   2.447419      0\n",
       "10      A  (0, 0, 0, 1, 0, 1, 0)    0.000000   0.386697      0\n",
       "11      A  (0, 0, 0, 1, 0, 1, 1)    0.000000   7.269681      0\n",
       "12      A  (0, 0, 0, 1, 1, 0, 0)    0.000000   0.116260      0\n",
       "13      A  (0, 0, 0, 1, 1, 0, 1)    0.000000   3.155473      0\n",
       "14      A  (0, 0, 0, 1, 1, 1, 0)    0.000000   0.348256      0\n",
       "15      A  (0, 0, 0, 1, 1, 1, 1)    0.000000   6.107184      0\n",
       "16      A  (0, 0, 1, 0, 0, 0, 0)    0.000000   0.031828      0\n",
       "17      A  (0, 0, 1, 0, 0, 0, 1)    0.000000   1.237959      0\n",
       "18      A  (0, 0, 1, 0, 0, 1, 0)    0.000000   0.288527      0\n",
       "19      A  (0, 0, 1, 0, 0, 1, 1)    0.000000   3.130508      0\n",
       "20      A  (0, 0, 1, 0, 1, 0, 0)    0.000000   0.069709      0\n",
       "21      A  (0, 0, 1, 0, 1, 0, 1)    0.000000   1.359632      0\n",
       "22      A  (0, 0, 1, 0, 1, 1, 0)    0.000000   0.202170      0\n",
       "23      A  (0, 0, 1, 0, 1, 1, 1)    0.000000   2.605126      0\n",
       "24      A  (0, 0, 1, 1, 0, 0, 0)    0.000000   0.030672      0\n",
       "25      A  (0, 0, 1, 1, 0, 0, 1)    0.000000   0.739837      0\n",
       "26      A  (0, 0, 1, 1, 0, 1, 0)    0.000000   0.126829      0\n",
       "27      A  (0, 0, 1, 1, 0, 1, 1)    0.000000   1.387172      0\n",
       "28      A  (0, 0, 1, 1, 1, 0, 0)    0.000000   0.024041      0\n",
       "29      A  (0, 0, 1, 1, 1, 0, 1)    0.000000   0.321784      0\n",
       "..    ...                    ...         ...        ...    ...\n",
       "102     A  (1, 1, 0, 0, 1, 1, 0)   45.653084   0.021904      1\n",
       "103     A  (1, 1, 0, 0, 1, 1, 1)  134.882002   0.059311      8\n",
       "104     A  (1, 1, 0, 1, 0, 0, 0)         NaN   0.000000      0\n",
       "105     A  (1, 1, 0, 1, 0, 0, 1)  101.653530   0.009837      1\n",
       "106     A  (1, 1, 0, 1, 0, 1, 0)  157.645496   0.006343      1\n",
       "107     A  (1, 1, 0, 1, 0, 1, 1)   26.896481   0.037180      1\n",
       "108     A  (1, 1, 0, 1, 1, 0, 0)         NaN   0.000000      0\n",
       "109     A  (1, 1, 0, 1, 1, 0, 1)    0.000000   0.033471      0\n",
       "110     A  (1, 1, 0, 1, 1, 1, 0)         NaN   0.000000      0\n",
       "111     A  (1, 1, 0, 1, 1, 1, 1)   76.489677   0.026147      2\n",
       "112     A  (1, 1, 1, 0, 0, 0, 0)         NaN   0.000000      0\n",
       "113     A  (1, 1, 1, 0, 0, 0, 1)    0.000000   0.012339      0\n",
       "114     A  (1, 1, 1, 0, 0, 1, 0)    0.000000   0.009282      0\n",
       "115     A  (1, 1, 1, 0, 0, 1, 1)  137.746631   0.014519      2\n",
       "116     A  (1, 1, 1, 0, 1, 0, 0)         NaN   0.000000      0\n",
       "117     A  (1, 1, 1, 0, 1, 0, 1)    0.000000   0.000828      0\n",
       "118     A  (1, 1, 1, 0, 1, 1, 0)         NaN   0.000000      0\n",
       "119     A  (1, 1, 1, 0, 1, 1, 1)    0.000000   0.003586      0\n",
       "120     A  (1, 1, 1, 1, 0, 0, 0)         NaN   0.000000      0\n",
       "121     A  (1, 1, 1, 1, 0, 0, 1)         NaN   0.000000      0\n",
       "122     A  (1, 1, 1, 1, 0, 1, 0)    0.000000   0.011351      0\n",
       "123     A  (1, 1, 1, 1, 0, 1, 1)   36.425766   0.027453      1\n",
       "124     A  (1, 1, 1, 1, 1, 0, 0)         NaN   0.000000      0\n",
       "125     A  (1, 1, 1, 1, 1, 0, 1)         NaN   0.000000      0\n",
       "126     A  (1, 1, 1, 1, 1, 1, 0)         NaN   0.000000      0\n",
       "127     A  (1, 1, 1, 1, 1, 1, 1)    0.000000   0.004617      0\n",
       "128     B                 (0, 0)    0.000000  94.070615      0\n",
       "129     B                 (0, 1)    0.000000   1.522169      0\n",
       "130     B                 (1, 0)    1.970871   1.522169      3\n",
       "131     B                 (1, 1)    7.278911   2.885047     21\n",
       "\n",
       "[132 rows x 5 columns]"
      ]
     },
     "execution_count": 205,
     "metadata": {},
     "output_type": "execute_result"
    }
   ],
   "source": [
    "mle_lambdas(model, count_duration_df)"
   ]
  },
  {
   "cell_type": "code",
   "execution_count": 206,
   "metadata": {
    "scrolled": true
   },
   "outputs": [
    {
     "data": {
      "text/plain": [
       "1077.298663730266"
      ]
     },
     "execution_count": 206,
     "metadata": {},
     "output_type": "execute_result"
    }
   ],
   "source": [
    "scoreBic(model, data, t_max)"
   ]
  },
  {
   "cell_type": "code",
   "execution_count": 207,
   "metadata": {},
   "outputs": [],
   "source": [
    "# keep forward result in memory\n",
    "forward_model = copy.deepcopy(model)"
   ]
  },
  {
   "cell_type": "markdown",
   "metadata": {},
   "source": [
    "## BackwardSearch(Forward)"
   ]
  },
  {
   "cell_type": "code",
   "execution_count": 208,
   "metadata": {},
   "outputs": [],
   "source": [
    "initModelFromData(model=model, observed_data=data, t_max=t_max)\n",
    "count_duration_df = get_count_duration_df(model=model, data=data, t_max=t_max)\n",
    "\n",
    "count_duration_df = mle_lambdas(model, count_duration_df)\n",
    "LogL = compute_logLikelihood(lambdas_count_duration_df)\n",
    "log_td = np.log(t_max)\n",
    "\n",
    "size_log_td = model.size() * log_td\n",
    "\n",
    "score = LogL - size_log_td"
   ]
  },
  {
   "cell_type": "code",
   "execution_count": 209,
   "metadata": {},
   "outputs": [
    {
     "data": {
      "text/plain": [
       "1077.298663730266"
      ]
     },
     "execution_count": 209,
     "metadata": {},
     "output_type": "execute_result"
    }
   ],
   "source": [
    "score"
   ]
  },
  {
   "cell_type": "code",
   "execution_count": 210,
   "metadata": {},
   "outputs": [
    {
     "name": "stdout",
     "output_type": "stream",
     "text": [
      "iteration number: 0: scoreBIC = 1077.298663730266\n",
      "max ngbr <bound method RTGEM.inverse_extend_operator of <rtgemlib.rtgem.RTGEM object at 0x000001A2BBCE7CF8>>, args=[('A', 'A')], max_scoreBIC = 1363.9769925844355\n",
      "iteration number: 1: scoreBIC = 1363.9769925844355\n",
      "max ngbr <bound method RTGEM.inverse_extend_operator of <rtgemlib.rtgem.RTGEM object at 0x000001A2BBCE7CF8>>, args=[('A', 'A')], max_scoreBIC = 1505.2410524247598\n",
      "iteration number: 2: scoreBIC = 1505.2410524247598\n",
      "max ngbr <bound method RTGEM.inverse_extend_operator of <rtgemlib.rtgem.RTGEM object at 0x000001A2BBCE7CF8>>, args=[('A', 'A')], max_scoreBIC = 1577.2509154628226\n",
      "iteration number: 3: scoreBIC = 1577.2509154628226\n",
      "max ngbr <bound method RTGEM.inverse_extend_operator of <rtgemlib.rtgem.RTGEM object at 0x000001A2BBCE7CF8>>, args=[('A', 'A')], max_scoreBIC = 1612.796451048257\n",
      "iteration number: 4: scoreBIC = 1612.796451048257\n",
      "max ngbr <bound method RTGEM.inverse_extend_operator of <rtgemlib.rtgem.RTGEM object at 0x000001A2BBCE7CF8>>, args=[('A', 'A')], max_scoreBIC = 1630.3591462845934\n",
      "iteration number: 5: scoreBIC = 1630.3591462845934\n",
      "max ngbr <bound method RTGEM.inverse_extend_operator of <rtgemlib.rtgem.RTGEM object at 0x000001A2BBCE7CF8>>, args=[('A', 'A')], max_scoreBIC = 1639.5692044247803\n",
      "iteration number: 6: scoreBIC = 1639.5692044247803\n",
      "max ngbr <bound method RTGEM.inverse_extend_operator of <rtgemlib.rtgem.RTGEM object at 0x000001A2BBCE7CF8>>, args=[('B', 'B')], max_scoreBIC = 1645.734964546201\n",
      "iteration number: 7: scoreBIC = 1645.734964546201\n"
     ]
    }
   ],
   "source": [
    "it = 0\n",
    "backward_logs = []\n",
    "local_maximum = False\n",
    "\n",
    "bic_scores_backward = []\n",
    "\n",
    "while not local_maximum:\n",
    "    #     max_ngbr_score = -np.inf\n",
    "    local_maximum = True\n",
    "    max_score_ngbr = -np.inf\n",
    "    max_op = None\n",
    "    max_args = None\n",
    "    max_changed_node_cnt_drt_df = None\n",
    "    max_size_log_td_ngbr = None\n",
    "    max_LogL_ngbr = None\n",
    "    print('iteration number: {}: scoreBIC = {}'.format(it, score))\n",
    "    for ngbr_info in backward_neighbors_gen(model, data, t_max, lambdas_count_duration_df,\n",
    "                                            LogL, size_log_td, log_td,):\n",
    "\n",
    "        op, args, LogL_ngbr, size_log_td_ngbr, changed_node_cnt_drt_df = ngbr_info\n",
    "        score_ngbr = LogL_ngbr - size_log_td_ngbr\n",
    "\n",
    "#         if score_ngbr > max_score_ngbr:\n",
    "        max_score_ngbr = score_ngbr\n",
    "        max_op = op\n",
    "        max_args = args\n",
    "        max_changed_node_cnt_drt_df = changed_node_cnt_drt_df\n",
    "        max_size_log_td_ngbr = size_log_td_ngbr\n",
    "        max_LogL_ngbr = LogL_ngbr\n",
    "\n",
    "        if max_score_ngbr > score:\n",
    "            print('max ngbr {}, args={}, max_scoreBIC = {}'.format(max_op, max_args, max_score_ngbr))\n",
    "\n",
    "            max_op(*max_args)\n",
    "            LogL = max_LogL_ngbr\n",
    "            size_log_td = max_size_log_td_ngbr\n",
    "            changed_node = max_changed_node_cnt_drt_df.iloc[0]['event']\n",
    "            lambdas_count_duration_df = lambdas_count_duration_df[lambdas_count_duration_df['event'] != changed_node]\n",
    "            lambdas_count_duration_df = pd.concat([lambdas_count_duration_df, max_changed_node_cnt_drt_df])\n",
    "\n",
    "            local_maximum = False\n",
    "            score = max_score_ngbr\n",
    "            op_name = 'supprimerArc'\n",
    "\n",
    "            if max_op == model.inverse_extend_operator:\n",
    "                op_name = 'reduireIntervalle'\n",
    "            # pd.Dataframe(columns=['it', 'T_A', 'T_B', 'edges', 'max_ngbr', 'scoreBic'])\n",
    "            if max_op == model.inverse_split_operator:\n",
    "                op_name = 'FusionnerIntervalle'\n",
    "\n",
    "            backward_logs.append([it, copy.deepcopy(model.get_node_parents_timescales('A')),\\\n",
    "                                 copy.deepcopy(model.get_node_parents_timescales('B')),\\\n",
    "                                 list(model.dpd_graph.edges()),\\\n",
    "                                 op_name,\\\n",
    "                                 max_args,\\\n",
    "                                 score])\n",
    "            break\n",
    "    \n",
    "    \n",
    "    bic_scores_backward.append(score)\n",
    "    \n",
    "    it += 1"
   ]
  },
  {
   "cell_type": "code",
   "execution_count": 211,
   "metadata": {},
   "outputs": [],
   "source": [
    "backwardLogs = open(\"backward.logs\", \"a\")\n",
    "backwardLogs.write(str(list(backward_logs)))\n",
    "backwardLogs.close()"
   ]
  },
  {
   "cell_type": "code",
   "execution_count": 212,
   "metadata": {},
   "outputs": [
    {
     "data": {
      "text/plain": [
       "OutEdgeView([('A', 'A'), ('B', 'B')])"
      ]
     },
     "execution_count": 212,
     "metadata": {},
     "output_type": "execute_result"
    }
   ],
   "source": [
    "model.dpd_graph.edges"
   ]
  },
  {
   "cell_type": "code",
   "execution_count": 213,
   "metadata": {},
   "outputs": [],
   "source": [
    "nb_it_forward = len(bic_scores_forward)\n",
    "nb_it_backward = len(bic_scores_backward)"
   ]
  },
  {
   "cell_type": "code",
   "execution_count": 232,
   "metadata": {},
   "outputs": [],
   "source": [
    "# abscissa\n",
    "x = [i for i in range(nb_it_forward + nb_it_backward)]\n",
    "\n",
    "# ordinate\n",
    "y_for = bic_scores_forward\n",
    "y_back = bic_scores_backward"
   ]
  },
  {
   "cell_type": "code",
   "execution_count": 233,
   "metadata": {},
   "outputs": [],
   "source": [
    "# ordinate\n",
    "y_ref = [score_bic_reference for i in range(nb_it_forward + nb_it_backward)]"
   ]
  },
  {
   "cell_type": "code",
   "execution_count": 237,
   "metadata": {},
   "outputs": [
    {
     "data": {
      "image/png": "[encoded data removed]",
      "text/plain": [
       "<matplotlib.figure.Figure at 0x1a2bb23ecc0>"
      ]
     },
     "metadata": {},
     "output_type": "display_data"
    }
   ],
   "source": [
    "\n",
    "\n",
    "# plot\n",
    "fig = plt.figure()\n",
    "ax = fig.add_subplot(1, 1, 1)\n",
    "ax.plot(np.array(x)[:nb_it_forward], y_for, 'r', np.array(x)[(nb_it_forward-1):], y_back, \"b\", x, y_ref, \"g\")\n",
    "\n",
    "\n",
    "ax.set(xlabel='iteration', ylabel='BIC score',\n",
    "       title='BIC score evolution for forward and backward searches')\n",
    "ax.grid()\n",
    "\n",
    "fig.savefig(\"images/BICscore.png\")"
   ]
  },
  {
   "cell_type": "code",
   "execution_count": 228,
   "metadata": {},
   "outputs": [
    {
     "data": {
      "text/plain": [
       "<rtgemlib.rtgem.RTGEM at 0x1a2bbce7cf8>"
      ]
     },
     "execution_count": 228,
     "metadata": {},
     "output_type": "execute_result"
    }
   ],
   "source": [
    "initModelFromData(model=model, observed_data=data, t_max=t_max)"
   ]
  },
  {
   "cell_type": "code",
   "execution_count": 229,
   "metadata": {},
   "outputs": [],
   "source": [
    "count_duration_df = get_count_duration_df(model=model, data=data, t_max=t_max)"
   ]
  },
  {
   "cell_type": "code",
   "execution_count": 230,
   "metadata": {},
   "outputs": [
    {
     "data": {
      "text/html": [
       "<div>\n",
       "<style scoped>\n",
       "    .dataframe tbody tr th:only-of-type {\n",
       "        vertical-align: middle;\n",
       "    }\n",
       "\n",
       "    .dataframe tbody tr th {\n",
       "        vertical-align: top;\n",
       "    }\n",
       "\n",
       "    .dataframe thead th {\n",
       "        text-align: right;\n",
       "    }\n",
       "</style>\n",
       "<table border=\"1\" class=\"dataframe\">\n",
       "  <thead>\n",
       "    <tr style=\"text-align: right;\">\n",
       "      <th></th>\n",
       "      <th>event</th>\n",
       "      <th>pcv</th>\n",
       "      <th>lambda_t</th>\n",
       "      <th>duration</th>\n",
       "      <th>count</th>\n",
       "    </tr>\n",
       "  </thead>\n",
       "  <tbody>\n",
       "    <tr>\n",
       "      <th>0</th>\n",
       "      <td>A</td>\n",
       "      <td>(0,)</td>\n",
       "      <td>5.943004</td>\n",
       "      <td>92.269479</td>\n",
       "      <td>0</td>\n",
       "    </tr>\n",
       "    <tr>\n",
       "      <th>1</th>\n",
       "      <td>A</td>\n",
       "      <td>(1,)</td>\n",
       "      <td>4.815429</td>\n",
       "      <td>7.730521</td>\n",
       "      <td>515</td>\n",
       "    </tr>\n",
       "    <tr>\n",
       "      <th>2</th>\n",
       "      <td>B</td>\n",
       "      <td>(0,)</td>\n",
       "      <td>5.682484</td>\n",
       "      <td>95.592784</td>\n",
       "      <td>0</td>\n",
       "    </tr>\n",
       "    <tr>\n",
       "      <th>3</th>\n",
       "      <td>B</td>\n",
       "      <td>(1,)</td>\n",
       "      <td>0.710821</td>\n",
       "      <td>4.407216</td>\n",
       "      <td>24</td>\n",
       "    </tr>\n",
       "  </tbody>\n",
       "</table>\n",
       "</div>"
      ],
      "text/plain": [
       "  event   pcv  lambda_t   duration  count\n",
       "0     A  (0,)  5.943004  92.269479      0\n",
       "1     A  (1,)  4.815429   7.730521    515\n",
       "2     B  (0,)  5.682484  95.592784      0\n",
       "3     B  (1,)  0.710821   4.407216     24"
      ]
     },
     "execution_count": 230,
     "metadata": {},
     "output_type": "execute_result"
    }
   ],
   "source": [
    "count_duration_df"
   ]
  },
  {
   "cell_type": "code",
   "execution_count": 231,
   "metadata": {},
   "outputs": [
    {
     "data": {
      "text/html": [
       "<div>\n",
       "<style scoped>\n",
       "    .dataframe tbody tr th:only-of-type {\n",
       "        vertical-align: middle;\n",
       "    }\n",
       "\n",
       "    .dataframe tbody tr th {\n",
       "        vertical-align: top;\n",
       "    }\n",
       "\n",
       "    .dataframe thead th {\n",
       "        text-align: right;\n",
       "    }\n",
       "</style>\n",
       "<table border=\"1\" class=\"dataframe\">\n",
       "  <thead>\n",
       "    <tr style=\"text-align: right;\">\n",
       "      <th></th>\n",
       "      <th>event</th>\n",
       "      <th>pcv</th>\n",
       "      <th>lambda_t</th>\n",
       "      <th>duration</th>\n",
       "      <th>count</th>\n",
       "    </tr>\n",
       "  </thead>\n",
       "  <tbody>\n",
       "    <tr>\n",
       "      <th>0</th>\n",
       "      <td>A</td>\n",
       "      <td>(0,)</td>\n",
       "      <td>0.000000</td>\n",
       "      <td>92.269479</td>\n",
       "      <td>0</td>\n",
       "    </tr>\n",
       "    <tr>\n",
       "      <th>1</th>\n",
       "      <td>A</td>\n",
       "      <td>(1,)</td>\n",
       "      <td>66.619056</td>\n",
       "      <td>7.730521</td>\n",
       "      <td>515</td>\n",
       "    </tr>\n",
       "    <tr>\n",
       "      <th>2</th>\n",
       "      <td>B</td>\n",
       "      <td>(0,)</td>\n",
       "      <td>0.000000</td>\n",
       "      <td>95.592784</td>\n",
       "      <td>0</td>\n",
       "    </tr>\n",
       "    <tr>\n",
       "      <th>3</th>\n",
       "      <td>B</td>\n",
       "      <td>(1,)</td>\n",
       "      <td>5.445615</td>\n",
       "      <td>4.407216</td>\n",
       "      <td>24</td>\n",
       "    </tr>\n",
       "  </tbody>\n",
       "</table>\n",
       "</div>"
      ],
      "text/plain": [
       "  event   pcv   lambda_t   duration  count\n",
       "0     A  (0,)   0.000000  92.269479      0\n",
       "1     A  (1,)  66.619056   7.730521    515\n",
       "2     B  (0,)   0.000000  95.592784      0\n",
       "3     B  (1,)   5.445615   4.407216     24"
      ]
     },
     "execution_count": 231,
     "metadata": {},
     "output_type": "execute_result"
    }
   ],
   "source": [
    "mle_lambdas(model, count_duration_df)"
   ]
  },
  {
   "cell_type": "code",
   "execution_count": null,
   "metadata": {},
   "outputs": [],
   "source": []
  },
  {
   "cell_type": "code",
   "execution_count": null,
   "metadata": {},
   "outputs": [],
   "source": []
  }
 ],
 "metadata": {
  "kernelspec": {
   "display_name": "Python 3",
   "language": "python",
   "name": "python3"
  },
  "language_info": {
   "codemirror_mode": {
    "name": "ipython",
    "version": 3
   },
   "file_extension": ".py",
   "mimetype": "text/x-python",
   "name": "python",
   "nbconvert_exporter": "python",
   "pygments_lexer": "ipython3",
   "version": "3.6.4"
  }
 },
 "nbformat": 4,
 "nbformat_minor": 2
}
