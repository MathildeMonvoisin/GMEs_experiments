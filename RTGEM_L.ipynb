{
 "cells": [
  {
   "cell_type": "code",
   "execution_count": 2,
   "metadata": {
    "scrolled": false
   },
   "outputs": [
    {
     "name": "stderr",
     "output_type": "stream",
     "text": [
      "C:\\Users\\Mathilde\\Anaconda35\\lib\\site-packages\\tqdm\\autonotebook\\__init__.py:14: TqdmExperimentalWarning: Using `tqdm.autonotebook.tqdm` in notebook mode. Use `tqdm.tqdm` instead to force console mode (e.g. in jupyter console)\n",
      "  \" (e.g. in jupyter console)\", TqdmExperimentalWarning)\n"
     ]
    }
   ],
   "source": [
    "from rtgemlib import RTGEM\n",
    "from rtgemlib import sample_from_tgem, LogLikelihood, scoreBic, mle_lambdas, LocaleLogLikelihood, get_count_duration_df, get_node_LogLikelihood, set_pcv_lambda_t, backward_neighbors_gen,\\\n",
    "compute_logLikelihood, set_nodes_timeseries, set_nodes_parents_counts, duration, get_parents_count_vector, forward_neighbors_gen\n",
    "\n",
    "from tqdm.autonotebook import tqdm\n",
    "import pandas as pd\n",
    "import numpy as np\n",
    "import matplotlib.pyplot as plt\n",
    "import networkx as nx"
   ]
  },
  {
   "cell_type": "code",
   "execution_count": 3,
   "metadata": {},
   "outputs": [],
   "source": [
    "def empty_nodes(nodes):\n",
    "    return dict(zip(nodes, [{'timescales': {}, 'lambdas': {(): 1}}] * len(nodes)))"
   ]
  },
  {
   "cell_type": "code",
   "execution_count": 4,
   "metadata": {},
   "outputs": [],
   "source": [
    "model = {'B': \n",
    "            {\n",
    "            'timescales': {'A' : [[1,2], [5, 6]]},\\\n",
    "            'lambdas': {\n",
    "                       (0,0): 10, \\\n",
    "                       (0,1): 1.6, \\\n",
    "                       (1,0): 3, \\\n",
    "                       (1,1) : 1\n",
    "                      }\n",
    "            },\n",
    "            'A': {\n",
    "                'timescales': {'B': [[0,1], [10,15]]},\\\n",
    "                'lambdas': {\n",
    "                       (0,0): 1, \\\n",
    "                       (0,1): 4, \\\n",
    "                       (1,0): 5, \\\n",
    "                       (1,1) : 9\n",
    "                      }\n",
    "            }\n",
    "        }\n",
    "\n"
   ]
  },
  {
   "cell_type": "code",
   "execution_count": 5,
   "metadata": {},
   "outputs": [],
   "source": [
    "rtgem_model = RTGEM(model)"
   ]
  },
  {
   "cell_type": "code",
   "execution_count": 6,
   "metadata": {},
   "outputs": [],
   "source": [
    "t_max = 10000"
   ]
  },
  {
   "cell_type": "markdown",
   "metadata": {},
   "source": [
    "## Sampling"
   ]
  },
  {
   "cell_type": "code",
   "execution_count": 13,
   "metadata": {
    "scrolled": false
   },
   "outputs": [
    {
     "data": {
      "application/vnd.jupyter.widget-view+json": {
       "model_id": "482786ce13fe43899dcee8ae34d4040b",
       "version_major": 2,
       "version_minor": 0
      },
      "text/html": [
       "<p>Failed to display Jupyter Widget of type <code>HBox</code>.</p>\n",
       "<p>\n",
       "  If you're reading this message in the Jupyter Notebook or JupyterLab Notebook, it may mean\n",
       "  that the widgets JavaScript is still loading. If this message persists, it\n",
       "  likely means that the widgets JavaScript library is either not installed or\n",
       "  not enabled. See the <a href=\"https://ipywidgets.readthedocs.io/en/stable/user_install.html\">Jupyter\n",
       "  Widgets Documentation</a> for setup instructions.\n",
       "</p>\n",
       "<p>\n",
       "  If you're reading this message in another frontend (for example, a static\n",
       "  rendering on GitHub or <a href=\"https://nbviewer.jupyter.org/\">NBViewer</a>),\n",
       "  it may mean that your frontend doesn't currently support widgets.\n",
       "</p>\n"
      ],
      "text/plain": [
       "HBox(children=(IntProgress(value=0, description='Sampled Nodes: ', max=1, style=ProgressStyle(description_width='initial')), HTML(value='')))"
      ]
     },
     "metadata": {},
     "output_type": "display_data"
    },
    {
     "data": {
      "application/vnd.jupyter.widget-view+json": {
       "model_id": "2d26544be0d34e8dae7d00fdef07b137",
       "version_major": 2,
       "version_minor": 0
      },
      "text/html": [
       "<p>Failed to display Jupyter Widget of type <code>HBox</code>.</p>\n",
       "<p>\n",
       "  If you're reading this message in the Jupyter Notebook or JupyterLab Notebook, it may mean\n",
       "  that the widgets JavaScript is still loading. If this message persists, it\n",
       "  likely means that the widgets JavaScript library is either not installed or\n",
       "  not enabled. See the <a href=\"https://ipywidgets.readthedocs.io/en/stable/user_install.html\">Jupyter\n",
       "  Widgets Documentation</a> for setup instructions.\n",
       "</p>\n",
       "<p>\n",
       "  If you're reading this message in another frontend (for example, a static\n",
       "  rendering on GitHub or <a href=\"https://nbviewer.jupyter.org/\">NBViewer</a>),\n",
       "  it may mean that your frontend doesn't currently support widgets.\n",
       "</p>\n"
      ],
      "text/plain": [
       "HBox(children=(IntProgress(value=0, description='Sampling B, A:', style=ProgressStyle(description_width='initial')), HTML(value='')))"
      ]
     },
     "metadata": {},
     "output_type": "display_data"
    },
    {
     "name": "stdout",
     "output_type": "stream",
     "text": [
      "\r"
     ]
    },
    {
     "data": {
      "application/vnd.jupyter.widget-view+json": {
       "model_id": "ef6dec6b3dfe4bfbafe6b3f5068dda59",
       "version_major": 2,
       "version_minor": 0
      },
      "text/html": [
       "<p>Failed to display Jupyter Widget of type <code>HBox</code>.</p>\n",
       "<p>\n",
       "  If you're reading this message in the Jupyter Notebook or JupyterLab Notebook, it may mean\n",
       "  that the widgets JavaScript is still loading. If this message persists, it\n",
       "  likely means that the widgets JavaScript library is either not installed or\n",
       "  not enabled. See the <a href=\"https://ipywidgets.readthedocs.io/en/stable/user_install.html\">Jupyter\n",
       "  Widgets Documentation</a> for setup instructions.\n",
       "</p>\n",
       "<p>\n",
       "  If you're reading this message in another frontend (for example, a static\n",
       "  rendering on GitHub or <a href=\"https://nbviewer.jupyter.org/\">NBViewer</a>),\n",
       "  it may mean that your frontend doesn't currently support widgets.\n",
       "</p>\n"
      ],
      "text/plain": [
       "HBox(children=(IntProgress(value=0, description='exporting data to DF', max=2, style=ProgressStyle(description_width='initial')), HTML(value='')))"
      ]
     },
     "metadata": {},
     "output_type": "display_data"
    },
    {
     "name": "stdout",
     "output_type": "stream",
     "text": [
      "\r"
     ]
    }
   ],
   "source": [
    "sampled_data = sample_from_tgem(rtgem_model, t_min=0, t_max=t_max)"
   ]
  },
  {
   "cell_type": "code",
   "execution_count": 14,
   "metadata": {
    "scrolled": false
   },
   "outputs": [],
   "source": [
    "set_pcv_lambda_t(model=rtgem_model, data=sampled_data, t_max=t_max)"
   ]
  },
  {
   "cell_type": "code",
   "execution_count": 15,
   "metadata": {
    "scrolled": true
   },
   "outputs": [],
   "source": [
    "count_duration_df = get_count_duration_df(model=rtgem_model, data=sampled_data, t_max=t_max)"
   ]
  },
  {
   "cell_type": "code",
   "execution_count": 16,
   "metadata": {
    "scrolled": true
   },
   "outputs": [
    {
     "data": {
      "text/html": [
       "<div>\n",
       "<style scoped>\n",
       "    .dataframe tbody tr th:only-of-type {\n",
       "        vertical-align: middle;\n",
       "    }\n",
       "\n",
       "    .dataframe tbody tr th {\n",
       "        vertical-align: top;\n",
       "    }\n",
       "\n",
       "    .dataframe thead th {\n",
       "        text-align: right;\n",
       "    }\n",
       "</style>\n",
       "<table border=\"1\" class=\"dataframe\">\n",
       "  <thead>\n",
       "    <tr style=\"text-align: right;\">\n",
       "      <th></th>\n",
       "      <th>event</th>\n",
       "      <th>pcv</th>\n",
       "      <th>lambda_t</th>\n",
       "      <th>duration</th>\n",
       "      <th>count</th>\n",
       "    </tr>\n",
       "  </thead>\n",
       "  <tbody>\n",
       "    <tr>\n",
       "      <th>0</th>\n",
       "      <td>B</td>\n",
       "      <td>(0, 0)</td>\n",
       "      <td>10.0</td>\n",
       "      <td>1.287303</td>\n",
       "      <td>10</td>\n",
       "    </tr>\n",
       "    <tr>\n",
       "      <th>1</th>\n",
       "      <td>B</td>\n",
       "      <td>(0, 1)</td>\n",
       "      <td>1.6</td>\n",
       "      <td>47.214842</td>\n",
       "      <td>59</td>\n",
       "    </tr>\n",
       "    <tr>\n",
       "      <th>2</th>\n",
       "      <td>B</td>\n",
       "      <td>(1, 0)</td>\n",
       "      <td>3.0</td>\n",
       "      <td>51.214842</td>\n",
       "      <td>99</td>\n",
       "    </tr>\n",
       "    <tr>\n",
       "      <th>3</th>\n",
       "      <td>B</td>\n",
       "      <td>(1, 1)</td>\n",
       "      <td>1.0</td>\n",
       "      <td>9900.283014</td>\n",
       "      <td>10092</td>\n",
       "    </tr>\n",
       "    <tr>\n",
       "      <th>4</th>\n",
       "      <td>A</td>\n",
       "      <td>(0, 0)</td>\n",
       "      <td>1.0</td>\n",
       "      <td>25.464509</td>\n",
       "      <td>23</td>\n",
       "    </tr>\n",
       "    <tr>\n",
       "      <th>5</th>\n",
       "      <td>A</td>\n",
       "      <td>(0, 1)</td>\n",
       "      <td>4.0</td>\n",
       "      <td>3505.191253</td>\n",
       "      <td>13752</td>\n",
       "    </tr>\n",
       "    <tr>\n",
       "      <th>6</th>\n",
       "      <td>A</td>\n",
       "      <td>(1, 0)</td>\n",
       "      <td>5.0</td>\n",
       "      <td>66.152066</td>\n",
       "      <td>324</td>\n",
       "    </tr>\n",
       "    <tr>\n",
       "      <th>7</th>\n",
       "      <td>A</td>\n",
       "      <td>(1, 1)</td>\n",
       "      <td>9.0</td>\n",
       "      <td>6403.192171</td>\n",
       "      <td>57783</td>\n",
       "    </tr>\n",
       "  </tbody>\n",
       "</table>\n",
       "</div>"
      ],
      "text/plain": [
       "  event     pcv  lambda_t     duration  count\n",
       "0     B  (0, 0)      10.0     1.287303     10\n",
       "1     B  (0, 1)       1.6    47.214842     59\n",
       "2     B  (1, 0)       3.0    51.214842     99\n",
       "3     B  (1, 1)       1.0  9900.283014  10092\n",
       "4     A  (0, 0)       1.0    25.464509     23\n",
       "5     A  (0, 1)       4.0  3505.191253  13752\n",
       "6     A  (1, 0)       5.0    66.152066    324\n",
       "7     A  (1, 1)       9.0  6403.192171  57783"
      ]
     },
     "execution_count": 16,
     "metadata": {},
     "output_type": "execute_result"
    }
   ],
   "source": [
    "count_duration_df"
   ]
  },
  {
   "cell_type": "markdown",
   "metadata": {},
   "source": [
    "## Likelihood"
   ]
  },
  {
   "cell_type": "code",
   "execution_count": 17,
   "metadata": {},
   "outputs": [
    {
     "data": {
      "text/plain": [
       "64559.46066459998"
      ]
     },
     "execution_count": 17,
     "metadata": {},
     "output_type": "execute_result"
    }
   ],
   "source": [
    "compute_logLikelihood(count_duration_df)"
   ]
  },
  {
   "cell_type": "code",
   "execution_count": 18,
   "metadata": {},
   "outputs": [
    {
     "data": {
      "text/plain": [
       "64559.46066459998"
      ]
     },
     "execution_count": 18,
     "metadata": {},
     "output_type": "execute_result"
    }
   ],
   "source": [
    "LogLikelihood(model=rtgem_model, observed_data=sampled_data, t_max=t_max)"
   ]
  },
  {
   "cell_type": "markdown",
   "metadata": {},
   "source": [
    "## Parameters learning (lambdas)"
   ]
  },
  {
   "cell_type": "code",
   "execution_count": 19,
   "metadata": {},
   "outputs": [
    {
     "data": {
      "text/html": [
       "<div>\n",
       "<style scoped>\n",
       "    .dataframe tbody tr th:only-of-type {\n",
       "        vertical-align: middle;\n",
       "    }\n",
       "\n",
       "    .dataframe tbody tr th {\n",
       "        vertical-align: top;\n",
       "    }\n",
       "\n",
       "    .dataframe thead th {\n",
       "        text-align: right;\n",
       "    }\n",
       "</style>\n",
       "<table border=\"1\" class=\"dataframe\">\n",
       "  <thead>\n",
       "    <tr style=\"text-align: right;\">\n",
       "      <th></th>\n",
       "      <th>event</th>\n",
       "      <th>pcv</th>\n",
       "      <th>lambda_t</th>\n",
       "      <th>duration</th>\n",
       "      <th>count</th>\n",
       "    </tr>\n",
       "  </thead>\n",
       "  <tbody>\n",
       "    <tr>\n",
       "      <th>0</th>\n",
       "      <td>B</td>\n",
       "      <td>(0, 0)</td>\n",
       "      <td>7.768181</td>\n",
       "      <td>1.287303</td>\n",
       "      <td>10</td>\n",
       "    </tr>\n",
       "    <tr>\n",
       "      <th>1</th>\n",
       "      <td>B</td>\n",
       "      <td>(0, 1)</td>\n",
       "      <td>1.249607</td>\n",
       "      <td>47.214842</td>\n",
       "      <td>59</td>\n",
       "    </tr>\n",
       "    <tr>\n",
       "      <th>2</th>\n",
       "      <td>B</td>\n",
       "      <td>(1, 0)</td>\n",
       "      <td>1.933033</td>\n",
       "      <td>51.214842</td>\n",
       "      <td>99</td>\n",
       "    </tr>\n",
       "    <tr>\n",
       "      <th>3</th>\n",
       "      <td>B</td>\n",
       "      <td>(1, 1)</td>\n",
       "      <td>1.019365</td>\n",
       "      <td>9900.283014</td>\n",
       "      <td>10092</td>\n",
       "    </tr>\n",
       "    <tr>\n",
       "      <th>4</th>\n",
       "      <td>A</td>\n",
       "      <td>(0, 0)</td>\n",
       "      <td>0.903218</td>\n",
       "      <td>25.464509</td>\n",
       "      <td>23</td>\n",
       "    </tr>\n",
       "    <tr>\n",
       "      <th>5</th>\n",
       "      <td>A</td>\n",
       "      <td>(0, 1)</td>\n",
       "      <td>3.923324</td>\n",
       "      <td>3505.191253</td>\n",
       "      <td>13752</td>\n",
       "    </tr>\n",
       "    <tr>\n",
       "      <th>6</th>\n",
       "      <td>A</td>\n",
       "      <td>(1, 0)</td>\n",
       "      <td>4.897806</td>\n",
       "      <td>66.152066</td>\n",
       "      <td>324</td>\n",
       "    </tr>\n",
       "    <tr>\n",
       "      <th>7</th>\n",
       "      <td>A</td>\n",
       "      <td>(1, 1)</td>\n",
       "      <td>9.024093</td>\n",
       "      <td>6403.192171</td>\n",
       "      <td>57783</td>\n",
       "    </tr>\n",
       "  </tbody>\n",
       "</table>\n",
       "</div>"
      ],
      "text/plain": [
       "  event     pcv  lambda_t     duration  count\n",
       "0     B  (0, 0)  7.768181     1.287303     10\n",
       "1     B  (0, 1)  1.249607    47.214842     59\n",
       "2     B  (1, 0)  1.933033    51.214842     99\n",
       "3     B  (1, 1)  1.019365  9900.283014  10092\n",
       "4     A  (0, 0)  0.903218    25.464509     23\n",
       "5     A  (0, 1)  3.923324  3505.191253  13752\n",
       "6     A  (1, 0)  4.897806    66.152066    324\n",
       "7     A  (1, 1)  9.024093  6403.192171  57783"
      ]
     },
     "execution_count": 19,
     "metadata": {},
     "output_type": "execute_result"
    }
   ],
   "source": [
    "mle_lambdas(data=sampled_data, model=rtgem_model, t_max=t_max)"
   ]
  },
  {
   "cell_type": "markdown",
   "metadata": {},
   "source": [
    "## Structure learning"
   ]
  },
  {
   "cell_type": "markdown",
   "metadata": {},
   "source": [
    "### Modèle de référence"
   ]
  },
  {
   "cell_type": "code",
   "execution_count": 20,
   "metadata": {
    "scrolled": true
   },
   "outputs": [],
   "source": [
    "rtgem_model = RTGEM(empty_nodes(['A', 'B']), default_end_timescale=1)"
   ]
  },
  {
   "cell_type": "code",
   "execution_count": 21,
   "metadata": {},
   "outputs": [],
   "source": [
    "rtgem_model.add_edge_operator(('A', 'A'))\n",
    "rtgem_model.add_edge_operator(('A', 'B'))\n",
    "rtgem_model.add_edge_operator(('B', 'A'))"
   ]
  },
  {
   "cell_type": "code",
   "execution_count": 22,
   "metadata": {},
   "outputs": [],
   "source": [
    "rtgem_model.split_operator(edge=('A', 'A'), timescale=[0,1])"
   ]
  },
  {
   "cell_type": "code",
   "execution_count": 23,
   "metadata": {},
   "outputs": [],
   "source": [
    "rtgem_model.extend_operator(edge=('A', 'B'))"
   ]
  },
  {
   "cell_type": "code",
   "execution_count": 24,
   "metadata": {},
   "outputs": [
    {
     "data": {
      "application/vnd.jupyter.widget-view+json": {
       "model_id": "a968a512975f41da841146a792a53726",
       "version_major": 2,
       "version_minor": 0
      },
      "text/html": [
       "<p>Failed to display Jupyter Widget of type <code>HBox</code>.</p>\n",
       "<p>\n",
       "  If you're reading this message in the Jupyter Notebook or JupyterLab Notebook, it may mean\n",
       "  that the widgets JavaScript is still loading. If this message persists, it\n",
       "  likely means that the widgets JavaScript library is either not installed or\n",
       "  not enabled. See the <a href=\"https://ipywidgets.readthedocs.io/en/stable/user_install.html\">Jupyter\n",
       "  Widgets Documentation</a> for setup instructions.\n",
       "</p>\n",
       "<p>\n",
       "  If you're reading this message in another frontend (for example, a static\n",
       "  rendering on GitHub or <a href=\"https://nbviewer.jupyter.org/\">NBViewer</a>),\n",
       "  it may mean that your frontend doesn't currently support widgets.\n",
       "</p>\n"
      ],
      "text/plain": [
       "HBox(children=(IntProgress(value=0, description='Sampled Nodes: ', max=1, style=ProgressStyle(description_width='initial')), HTML(value='')))"
      ]
     },
     "metadata": {},
     "output_type": "display_data"
    },
    {
     "data": {
      "application/vnd.jupyter.widget-view+json": {
       "model_id": "0187e868ac9442a5811e9dd3ed3ca170",
       "version_major": 2,
       "version_minor": 0
      },
      "text/html": [
       "<p>Failed to display Jupyter Widget of type <code>HBox</code>.</p>\n",
       "<p>\n",
       "  If you're reading this message in the Jupyter Notebook or JupyterLab Notebook, it may mean\n",
       "  that the widgets JavaScript is still loading. If this message persists, it\n",
       "  likely means that the widgets JavaScript library is either not installed or\n",
       "  not enabled. See the <a href=\"https://ipywidgets.readthedocs.io/en/stable/user_install.html\">Jupyter\n",
       "  Widgets Documentation</a> for setup instructions.\n",
       "</p>\n",
       "<p>\n",
       "  If you're reading this message in another frontend (for example, a static\n",
       "  rendering on GitHub or <a href=\"https://nbviewer.jupyter.org/\">NBViewer</a>),\n",
       "  it may mean that your frontend doesn't currently support widgets.\n",
       "</p>\n"
      ],
      "text/plain": [
       "HBox(children=(IntProgress(value=0, description='Sampling A, B:', style=ProgressStyle(description_width='initial')), HTML(value='')))"
      ]
     },
     "metadata": {},
     "output_type": "display_data"
    },
    {
     "name": "stdout",
     "output_type": "stream",
     "text": [
      "\r"
     ]
    },
    {
     "data": {
      "application/vnd.jupyter.widget-view+json": {
       "model_id": "560f3953276046108aa40b23fd8f3ff4",
       "version_major": 2,
       "version_minor": 0
      },
      "text/html": [
       "<p>Failed to display Jupyter Widget of type <code>HBox</code>.</p>\n",
       "<p>\n",
       "  If you're reading this message in the Jupyter Notebook or JupyterLab Notebook, it may mean\n",
       "  that the widgets JavaScript is still loading. If this message persists, it\n",
       "  likely means that the widgets JavaScript library is either not installed or\n",
       "  not enabled. See the <a href=\"https://ipywidgets.readthedocs.io/en/stable/user_install.html\">Jupyter\n",
       "  Widgets Documentation</a> for setup instructions.\n",
       "</p>\n",
       "<p>\n",
       "  If you're reading this message in another frontend (for example, a static\n",
       "  rendering on GitHub or <a href=\"https://nbviewer.jupyter.org/\">NBViewer</a>),\n",
       "  it may mean that your frontend doesn't currently support widgets.\n",
       "</p>\n"
      ],
      "text/plain": [
       "HBox(children=(IntProgress(value=0, description='exporting data to DF', max=2, style=ProgressStyle(description_width='initial')), HTML(value='')))"
      ]
     },
     "metadata": {},
     "output_type": "display_data"
    },
    {
     "name": "stdout",
     "output_type": "stream",
     "text": [
      "\r"
     ]
    }
   ],
   "source": [
    "sampled_data = sample_from_tgem(rtgem_model, t_min=0, t_max=10000)"
   ]
  },
  {
   "cell_type": "code",
   "execution_count": 25,
   "metadata": {},
   "outputs": [],
   "source": [
    "t_max = 1000\n",
    "data = sampled_data[sampled_data['time'] < t_max]"
   ]
  },
  {
   "cell_type": "code",
   "execution_count": 28,
   "metadata": {},
   "outputs": [],
   "source": [
    "score_bic_reference = scoreBic(model=rtgem_model, observed_data=data, t_max=t_max)"
   ]
  },
  {
   "cell_type": "markdown",
   "metadata": {},
   "source": [
    "### Forward Search"
   ]
  },
  {
   "cell_type": "code",
   "execution_count": 27,
   "metadata": {},
   "outputs": [],
   "source": [
    "import itertools\n",
    "import random\n",
    "import copy"
   ]
  },
  {
   "cell_type": "code",
   "execution_count": 27,
   "metadata": {},
   "outputs": [],
   "source": [
    "def empty_nodes(nodes):\n",
    "    return dict(zip(nodes, [{'timescales': {}, 'lambdas': {(): 1}}] * len(nodes)))"
   ]
  },
  {
   "cell_type": "code",
   "execution_count": 33,
   "metadata": {},
   "outputs": [],
   "source": [
    "model = RTGEM(empty_nodes(['A', 'B']),  default_end_timescale=1)"
   ]
  },
  {
   "cell_type": "markdown",
   "metadata": {},
   "source": [
    "#### Initialisation "
   ]
  },
  {
   "cell_type": "code",
   "execution_count": 34,
   "metadata": {},
   "outputs": [],
   "source": [
    "model = set_nodes_timeseries(model, data)\n",
    "model = set_nodes_parents_counts(model, model.dpd_graph.nodes, t_max)\n",
    "set_pcv_lambda_t(model, data, t_max)\n",
    "\n",
    "lambdas_count_duration_df = get_count_duration_df(data, model, t_max)\n",
    "\n",
    "LogL = compute_logLikelihood(lambdas_count_duration_df)\n",
    "log_td = np.log(t_max)\n",
    "\n",
    "size_log_td = model.size() * log_td\n",
    "\n",
    "score = LogL - size_log_td\n",
    "local_maximum = False\n",
    "nodes = list(model.dpd_graph.nodes)\n",
    "possible_edges = list(itertools.product(nodes, repeat = 2))\n",
    "\n",
    "random.shuffle(possible_edges)"
   ]
  },
  {
   "cell_type": "code",
   "execution_count": 35,
   "metadata": {
    "scrolled": false
   },
   "outputs": [
    {
     "name": "stdout",
     "output_type": "stream",
     "text": [
      "iteration number: 0: scoreBIC = -2013.8155105579642\n",
      "max ngbr <bound method RTGEM.add_edge_operator of <rtgemlib.rtgem.RTGEM object at 0x000001BD6E7D6320>>, args=[('A', 'A')], max_scoreBIC = 4317.0729533041085\n",
      "iteration number: 1: scoreBIC = 4317.0729533041085\n",
      "max ngbr <bound method RTGEM.add_edge_operator of <rtgemlib.rtgem.RTGEM object at 0x000001BD6E7D6320>>, args=[('B', 'A')], max_scoreBIC = 9641.795062714784\n",
      "iteration number: 2: scoreBIC = 9641.795062714784\n",
      "max ngbr <bound method RTGEM.add_edge_operator of <rtgemlib.rtgem.RTGEM object at 0x000001BD6E7D6320>>, args=[('B', 'B')], max_scoreBIC = 13293.528892231472\n",
      "iteration number: 3: scoreBIC = 13293.528892231472\n",
      "max ngbr <bound method RTGEM.extend_operator of <rtgemlib.rtgem.RTGEM object at 0x000001BD6E7D6320>>, args=[('B', 'B')], max_scoreBIC = 16938.69582156432\n",
      "iteration number: 4: scoreBIC = 16938.69582156432\n",
      "max ngbr <bound method RTGEM.extend_operator of <rtgemlib.rtgem.RTGEM object at 0x000001BD6E7D6320>>, args=[('B', 'B')], max_scoreBIC = 20571.27855869783\n",
      "iteration number: 5: scoreBIC = 20571.27855869783\n",
      "max ngbr <bound method RTGEM.extend_operator of <rtgemlib.rtgem.RTGEM object at 0x000001BD6E7D6320>>, args=[('B', 'B')], max_scoreBIC = 24176.23325376854\n",
      "iteration number: 6: scoreBIC = 24176.23325376854\n",
      "max ngbr <bound method RTGEM.extend_operator of <rtgemlib.rtgem.RTGEM object at 0x000001BD6E7D6320>>, args=[('B', 'B')], max_scoreBIC = 27726.06751925075\n",
      "iteration number: 7: scoreBIC = 27726.06751925075\n",
      "max ngbr <bound method RTGEM.extend_operator of <rtgemlib.rtgem.RTGEM object at 0x000001BD6E7D6320>>, args=[('B', 'B')], max_scoreBIC = 31166.092742638913\n",
      "iteration number: 8: scoreBIC = 31166.092742638913\n",
      "max ngbr <bound method RTGEM.extend_operator of <rtgemlib.rtgem.RTGEM object at 0x000001BD6E7D6320>>, args=[('B', 'B')], max_scoreBIC = 34385.664257994795\n",
      "iteration number: 9: scoreBIC = 34385.664257994795\n",
      "max ngbr <bound method RTGEM.extend_operator of <rtgemlib.rtgem.RTGEM object at 0x000001BD6E7D6320>>, args=[('B', 'B')], max_scoreBIC = 37164.70124336609\n",
      "iteration number: 10: scoreBIC = 37164.70124336609\n",
      "max ngbr <bound method RTGEM.extend_operator of <rtgemlib.rtgem.RTGEM object at 0x000001BD6E7D6320>>, args=[('B', 'B')], max_scoreBIC = 39059.54555409683\n",
      "iteration number: 11: scoreBIC = 39059.54555409683\n",
      "max ngbr <bound method RTGEM.split_operator of <rtgemlib.rtgem.RTGEM object at 0x000001BD6E7D6320>>, args=[('A', 'A'), [0, 1]], max_scoreBIC = 39458.659676927135\n",
      "iteration number: 12: scoreBIC = 39458.659676927135\n",
      "max ngbr <bound method RTGEM.split_operator of <rtgemlib.rtgem.RTGEM object at 0x000001BD6E7D6320>>, args=[('A', 'A'), [0, 0.5]], max_scoreBIC = 40454.76491192831\n",
      "iteration number: 13: scoreBIC = 40454.76491192831\n",
      "max ngbr <bound method RTGEM.split_operator of <rtgemlib.rtgem.RTGEM object at 0x000001BD6E7D6320>>, args=[('A', 'A'), [0, 0.25]], max_scoreBIC = 42411.75230028433\n",
      "iteration number: 14: scoreBIC = 42411.75230028433\n",
      "max ngbr <bound method RTGEM.split_operator of <rtgemlib.rtgem.RTGEM object at 0x000001BD6E7D6320>>, args=[('A', 'A'), [0, 0.125]], max_scoreBIC = 45141.637574673536\n",
      "iteration number: 15: scoreBIC = 45141.637574673536\n",
      "max ngbr <bound method RTGEM.split_operator of <rtgemlib.rtgem.RTGEM object at 0x000001BD6E7D6320>>, args=[('A', 'A'), [0, 0.0625]], max_scoreBIC = 48308.451623364555\n",
      "iteration number: 16: scoreBIC = 48308.451623364555\n",
      "max ngbr <bound method RTGEM.split_operator of <rtgemlib.rtgem.RTGEM object at 0x000001BD6E7D6320>>, args=[('A', 'A'), [0, 0.03125]], max_scoreBIC = 51395.569700861764\n",
      "iteration number: 17: scoreBIC = 51395.569700861764\n",
      "max ngbr <bound method RTGEM.split_operator of <rtgemlib.rtgem.RTGEM object at 0x000001BD6E7D6320>>, args=[('A', 'A'), [0, 0.015625]], max_scoreBIC = 53811.70269667985\n",
      "iteration number: 18: scoreBIC = 53811.70269667985\n"
     ]
    },
    {
     "ename": "KeyboardInterrupt",
     "evalue": "",
     "output_type": "error",
     "traceback": [
      "\u001b[1;31m---------------------------------------------------------------------------\u001b[0m",
      "\u001b[1;31mKeyboardInterrupt\u001b[0m                         Traceback (most recent call last)",
      "\u001b[1;32m<ipython-input-35-ee5220749f85>\u001b[0m in \u001b[0;36m<module>\u001b[1;34m()\u001b[0m\n\u001b[0;32m     14\u001b[0m     \u001b[0mmax_LogL_ngbr\u001b[0m \u001b[1;33m=\u001b[0m \u001b[1;32mNone\u001b[0m\u001b[1;33m\u001b[0m\u001b[0m\n\u001b[0;32m     15\u001b[0m     \u001b[0mprint\u001b[0m\u001b[1;33m(\u001b[0m\u001b[1;34m'iteration number: {}: scoreBIC = {}'\u001b[0m\u001b[1;33m.\u001b[0m\u001b[0mformat\u001b[0m\u001b[1;33m(\u001b[0m\u001b[0mit\u001b[0m\u001b[1;33m,\u001b[0m \u001b[0mscore\u001b[0m\u001b[1;33m)\u001b[0m\u001b[1;33m)\u001b[0m\u001b[1;33m\u001b[0m\u001b[0m\n\u001b[1;32m---> 16\u001b[1;33m     \u001b[1;32mfor\u001b[0m \u001b[0mngbr_info\u001b[0m \u001b[1;32min\u001b[0m \u001b[0mforward_neighbors_gen\u001b[0m\u001b[1;33m(\u001b[0m\u001b[0mmodel\u001b[0m\u001b[1;33m,\u001b[0m \u001b[0mdata\u001b[0m\u001b[1;33m,\u001b[0m \u001b[0mt_max\u001b[0m\u001b[1;33m,\u001b[0m \u001b[0mlambdas_count_duration_df\u001b[0m\u001b[1;33m,\u001b[0m\u001b[0mLogL\u001b[0m\u001b[1;33m,\u001b[0m \u001b[0msize_log_td\u001b[0m\u001b[1;33m,\u001b[0m \u001b[0mlog_td\u001b[0m\u001b[1;33m,\u001b[0m                                           \u001b[0mpossible_edges\u001b[0m\u001b[1;33m)\u001b[0m\u001b[1;33m:\u001b[0m\u001b[1;33m\u001b[0m\u001b[0m\n\u001b[0m\u001b[0;32m     17\u001b[0m \u001b[1;33m\u001b[0m\u001b[0m\n\u001b[0;32m     18\u001b[0m         \u001b[0mop\u001b[0m\u001b[1;33m,\u001b[0m \u001b[0margs\u001b[0m\u001b[1;33m,\u001b[0m \u001b[0mLogL_ngbr\u001b[0m\u001b[1;33m,\u001b[0m \u001b[0msize_log_td_ngbr\u001b[0m\u001b[1;33m,\u001b[0m \u001b[0mchanged_node_cnt_drt_df\u001b[0m \u001b[1;33m=\u001b[0m \u001b[0mngbr_info\u001b[0m\u001b[1;33m\u001b[0m\u001b[0m\n",
      "\u001b[1;32m~\\Documents\\COURS\\INFO5_S9\\PRED\\GMEs_experiments\\rtgemlib\\learning.py\u001b[0m in \u001b[0;36mforward_neighbors_gen\u001b[1;34m(rtgem, data, t_max, cnt_drt_df, LogL, size_log_td, log_td, possible_edges)\u001b[0m\n\u001b[0;32m    226\u001b[0m             \u001b[0mrtgem\u001b[0m\u001b[1;33m.\u001b[0m\u001b[0msplit_operator\u001b[0m\u001b[1;33m(\u001b[0m\u001b[0medge\u001b[0m\u001b[1;33m,\u001b[0m \u001b[0mtimescale\u001b[0m\u001b[1;33m)\u001b[0m\u001b[1;33m\u001b[0m\u001b[0m\n\u001b[0;32m    227\u001b[0m             logL_ngr, cnt_drt_df = LocaleLogLikelihood(\n\u001b[1;32m--> 228\u001b[1;33m                 rtgem, data, t_max, LogL, node_LogL, edge[1], optimize_lambdas=True)\n\u001b[0m\u001b[0;32m    229\u001b[0m \u001b[1;33m\u001b[0m\u001b[0m\n\u001b[0;32m    230\u001b[0m             \u001b[0mrtgem\u001b[0m\u001b[1;33m.\u001b[0m\u001b[0minverse_split_operator\u001b[0m\u001b[1;33m(\u001b[0m\u001b[0medge\u001b[0m\u001b[1;33m,\u001b[0m \u001b[0mi_tm\u001b[0m\u001b[1;33m)\u001b[0m\u001b[1;33m\u001b[0m\u001b[0m\n",
      "\u001b[1;32m~\\Documents\\COURS\\INFO5_S9\\PRED\\GMEs_experiments\\rtgemlib\\learning.py\u001b[0m in \u001b[0;36mLocaleLogLikelihood\u001b[1;34m(model, data, t_max, baseLogL, nodeLogL, changed_node, optimize_lambdas)\u001b[0m\n\u001b[0;32m    125\u001b[0m     \u001b[0mmodel\u001b[0m \u001b[1;33m=\u001b[0m \u001b[0mset_nodes_parents_counts\u001b[0m\u001b[1;33m(\u001b[0m\u001b[0mmodel\u001b[0m\u001b[1;33m,\u001b[0m \u001b[0mchanged_node\u001b[0m\u001b[1;33m,\u001b[0m \u001b[0mt_max\u001b[0m\u001b[1;33m)\u001b[0m\u001b[1;33m\u001b[0m\u001b[0m\n\u001b[0;32m    126\u001b[0m \u001b[1;33m\u001b[0m\u001b[0m\n\u001b[1;32m--> 127\u001b[1;33m     \u001b[0mset_pcv_lambda_t\u001b[0m\u001b[1;33m(\u001b[0m\u001b[0mmodel\u001b[0m\u001b[1;33m,\u001b[0m \u001b[0mchanged_node_data\u001b[0m\u001b[1;33m,\u001b[0m \u001b[0mt_max\u001b[0m\u001b[1;33m)\u001b[0m\u001b[1;33m\u001b[0m\u001b[0m\n\u001b[0m\u001b[0;32m    128\u001b[0m     \u001b[0mdata\u001b[0m\u001b[1;33m.\u001b[0m\u001b[0mloc\u001b[0m\u001b[1;33m[\u001b[0m\u001b[0mdata\u001b[0m\u001b[1;33m[\u001b[0m\u001b[1;34m'event'\u001b[0m\u001b[1;33m]\u001b[0m \u001b[1;33m==\u001b[0m \u001b[0mchanged_node\u001b[0m\u001b[1;33m,\u001b[0m \u001b[1;33m:\u001b[0m\u001b[1;33m]\u001b[0m \u001b[1;33m=\u001b[0m \u001b[0mchanged_node_data\u001b[0m\u001b[1;33m\u001b[0m\u001b[0m\n\u001b[0;32m    129\u001b[0m \u001b[1;33m\u001b[0m\u001b[0m\n",
      "\u001b[1;32m~\\Documents\\COURS\\INFO5_S9\\PRED\\GMEs_experiments\\rtgemlib\\learning.py\u001b[0m in \u001b[0;36mset_pcv_lambda_t\u001b[1;34m(model, data, t_max, event_col, time_col)\u001b[0m\n\u001b[0;32m     71\u001b[0m \u001b[1;32mdef\u001b[0m \u001b[0mset_pcv_lambda_t\u001b[0m\u001b[1;33m(\u001b[0m\u001b[0mmodel\u001b[0m\u001b[1;33m,\u001b[0m \u001b[0mdata\u001b[0m\u001b[1;33m,\u001b[0m \u001b[0mt_max\u001b[0m\u001b[1;33m,\u001b[0m \u001b[0mevent_col\u001b[0m\u001b[1;33m=\u001b[0m\u001b[1;34m'event'\u001b[0m\u001b[1;33m,\u001b[0m \u001b[0mtime_col\u001b[0m\u001b[1;33m=\u001b[0m\u001b[1;34m'time'\u001b[0m\u001b[1;33m)\u001b[0m\u001b[1;33m:\u001b[0m\u001b[1;33m\u001b[0m\u001b[0m\n\u001b[0;32m     72\u001b[0m     data['pcv'] = data[['event', 'time']].apply(lambda row: get_parents_count_vector(\n\u001b[1;32m---> 73\u001b[1;33m         model.get_parents_count(row['event']), row['time'], t_max)[0], axis=1)\n\u001b[0m\u001b[0;32m     74\u001b[0m \u001b[1;33m\u001b[0m\u001b[0m\n\u001b[0;32m     75\u001b[0m     data.loc[:, 'lambda_t'] = data[['event', 'pcv']].apply(\n",
      "\u001b[1;32m~\\Anaconda35\\lib\\site-packages\\pandas\\core\\frame.py\u001b[0m in \u001b[0;36mapply\u001b[1;34m(self, func, axis, broadcast, raw, reduce, result_type, args, **kwds)\u001b[0m\n\u001b[0;32m   6012\u001b[0m                          \u001b[0margs\u001b[0m\u001b[1;33m=\u001b[0m\u001b[0margs\u001b[0m\u001b[1;33m,\u001b[0m\u001b[1;33m\u001b[0m\u001b[0m\n\u001b[0;32m   6013\u001b[0m                          kwds=kwds)\n\u001b[1;32m-> 6014\u001b[1;33m         \u001b[1;32mreturn\u001b[0m \u001b[0mop\u001b[0m\u001b[1;33m.\u001b[0m\u001b[0mget_result\u001b[0m\u001b[1;33m(\u001b[0m\u001b[1;33m)\u001b[0m\u001b[1;33m\u001b[0m\u001b[0m\n\u001b[0m\u001b[0;32m   6015\u001b[0m \u001b[1;33m\u001b[0m\u001b[0m\n\u001b[0;32m   6016\u001b[0m     \u001b[1;32mdef\u001b[0m \u001b[0mapplymap\u001b[0m\u001b[1;33m(\u001b[0m\u001b[0mself\u001b[0m\u001b[1;33m,\u001b[0m \u001b[0mfunc\u001b[0m\u001b[1;33m)\u001b[0m\u001b[1;33m:\u001b[0m\u001b[1;33m\u001b[0m\u001b[0m\n",
      "\u001b[1;32m~\\Anaconda35\\lib\\site-packages\\pandas\\core\\apply.py\u001b[0m in \u001b[0;36mget_result\u001b[1;34m(self)\u001b[0m\n\u001b[0;32m    140\u001b[0m             \u001b[1;32mreturn\u001b[0m \u001b[0mself\u001b[0m\u001b[1;33m.\u001b[0m\u001b[0mapply_raw\u001b[0m\u001b[1;33m(\u001b[0m\u001b[1;33m)\u001b[0m\u001b[1;33m\u001b[0m\u001b[0m\n\u001b[0;32m    141\u001b[0m \u001b[1;33m\u001b[0m\u001b[0m\n\u001b[1;32m--> 142\u001b[1;33m         \u001b[1;32mreturn\u001b[0m \u001b[0mself\u001b[0m\u001b[1;33m.\u001b[0m\u001b[0mapply_standard\u001b[0m\u001b[1;33m(\u001b[0m\u001b[1;33m)\u001b[0m\u001b[1;33m\u001b[0m\u001b[0m\n\u001b[0m\u001b[0;32m    143\u001b[0m \u001b[1;33m\u001b[0m\u001b[0m\n\u001b[0;32m    144\u001b[0m     \u001b[1;32mdef\u001b[0m \u001b[0mapply_empty_result\u001b[0m\u001b[1;33m(\u001b[0m\u001b[0mself\u001b[0m\u001b[1;33m)\u001b[0m\u001b[1;33m:\u001b[0m\u001b[1;33m\u001b[0m\u001b[0m\n",
      "\u001b[1;32m~\\Anaconda35\\lib\\site-packages\\pandas\\core\\apply.py\u001b[0m in \u001b[0;36mapply_standard\u001b[1;34m(self)\u001b[0m\n\u001b[0;32m    240\u001b[0m                                           \u001b[0maxis\u001b[0m\u001b[1;33m=\u001b[0m\u001b[0mself\u001b[0m\u001b[1;33m.\u001b[0m\u001b[0maxis\u001b[0m\u001b[1;33m,\u001b[0m\u001b[1;33m\u001b[0m\u001b[0m\n\u001b[0;32m    241\u001b[0m                                           \u001b[0mdummy\u001b[0m\u001b[1;33m=\u001b[0m\u001b[0mdummy\u001b[0m\u001b[1;33m,\u001b[0m\u001b[1;33m\u001b[0m\u001b[0m\n\u001b[1;32m--> 242\u001b[1;33m                                           labels=labels)\n\u001b[0m\u001b[0;32m    243\u001b[0m                 \u001b[1;32mreturn\u001b[0m \u001b[0mself\u001b[0m\u001b[1;33m.\u001b[0m\u001b[0mobj\u001b[0m\u001b[1;33m.\u001b[0m\u001b[0m_constructor_sliced\u001b[0m\u001b[1;33m(\u001b[0m\u001b[0mresult\u001b[0m\u001b[1;33m,\u001b[0m \u001b[0mindex\u001b[0m\u001b[1;33m=\u001b[0m\u001b[0mlabels\u001b[0m\u001b[1;33m)\u001b[0m\u001b[1;33m\u001b[0m\u001b[0m\n\u001b[0;32m    244\u001b[0m             \u001b[1;32mexcept\u001b[0m \u001b[0mException\u001b[0m\u001b[1;33m:\u001b[0m\u001b[1;33m\u001b[0m\u001b[0m\n",
      "\u001b[1;32mpandas\\_libs\\reduction.pyx\u001b[0m in \u001b[0;36mpandas._libs.reduction.reduce\u001b[1;34m()\u001b[0m\n",
      "\u001b[1;32mpandas\\_libs\\reduction.pyx\u001b[0m in \u001b[0;36mpandas._libs.reduction.Reducer.get_result\u001b[1;34m()\u001b[0m\n",
      "\u001b[1;32m~\\Documents\\COURS\\INFO5_S9\\PRED\\GMEs_experiments\\rtgemlib\\learning.py\u001b[0m in \u001b[0;36m<lambda>\u001b[1;34m(row)\u001b[0m\n\u001b[0;32m     71\u001b[0m \u001b[1;32mdef\u001b[0m \u001b[0mset_pcv_lambda_t\u001b[0m\u001b[1;33m(\u001b[0m\u001b[0mmodel\u001b[0m\u001b[1;33m,\u001b[0m \u001b[0mdata\u001b[0m\u001b[1;33m,\u001b[0m \u001b[0mt_max\u001b[0m\u001b[1;33m,\u001b[0m \u001b[0mevent_col\u001b[0m\u001b[1;33m=\u001b[0m\u001b[1;34m'event'\u001b[0m\u001b[1;33m,\u001b[0m \u001b[0mtime_col\u001b[0m\u001b[1;33m=\u001b[0m\u001b[1;34m'time'\u001b[0m\u001b[1;33m)\u001b[0m\u001b[1;33m:\u001b[0m\u001b[1;33m\u001b[0m\u001b[0m\n\u001b[0;32m     72\u001b[0m     data['pcv'] = data[['event', 'time']].apply(lambda row: get_parents_count_vector(\n\u001b[1;32m---> 73\u001b[1;33m         model.get_parents_count(row['event']), row['time'], t_max)[0], axis=1)\n\u001b[0m\u001b[0;32m     74\u001b[0m \u001b[1;33m\u001b[0m\u001b[0m\n\u001b[0;32m     75\u001b[0m     data.loc[:, 'lambda_t'] = data[['event', 'pcv']].apply(\n",
      "\u001b[1;32m~\\Documents\\COURS\\INFO5_S9\\PRED\\GMEs_experiments\\rtgemlib\\parentCount.py\u001b[0m in \u001b[0;36mget_parents_count_vector\u001b[1;34m(parents_count, t, t_max)\u001b[0m\n\u001b[0;32m     10\u001b[0m     \u001b[1;32mfor\u001b[0m \u001b[0mi\u001b[0m\u001b[1;33m,\u001b[0m \u001b[0mparent_count\u001b[0m \u001b[1;32min\u001b[0m \u001b[0menumerate\u001b[0m\u001b[1;33m(\u001b[0m\u001b[0mparents_count\u001b[0m\u001b[1;33m)\u001b[0m\u001b[1;33m:\u001b[0m\u001b[1;33m\u001b[0m\u001b[0m\n\u001b[0;32m     11\u001b[0m         cv, t_e = get_parent_count_vector(\n\u001b[1;32m---> 12\u001b[1;33m             parent_count, t, t_max)\n\u001b[0m\u001b[0;32m     13\u001b[0m \u001b[1;33m\u001b[0m\u001b[0m\n\u001b[0;32m     14\u001b[0m         \u001b[0mpcv\u001b[0m \u001b[1;33m+=\u001b[0m \u001b[0mcv\u001b[0m\u001b[1;33m\u001b[0m\u001b[0m\n",
      "\u001b[1;32m~\\Documents\\COURS\\INFO5_S9\\PRED\\GMEs_experiments\\rtgemlib\\parentCount.py\u001b[0m in \u001b[0;36mget_parent_count_vector\u001b[1;34m(parent_count, t, t_max)\u001b[0m\n\u001b[0;32m     25\u001b[0m         \u001b[1;32mif\u001b[0m \u001b[0mpar_act_expr\u001b[0m\u001b[1;33m.\u001b[0m\u001b[0mshape\u001b[0m\u001b[1;33m[\u001b[0m\u001b[1;36m0\u001b[0m\u001b[1;33m]\u001b[0m \u001b[1;33m>\u001b[0m \u001b[1;36m0\u001b[0m\u001b[1;33m:\u001b[0m\u001b[1;33m\u001b[0m\u001b[0m\n\u001b[0;32m     26\u001b[0m \u001b[1;33m\u001b[0m\u001b[0m\n\u001b[1;32m---> 27\u001b[1;33m             res = par_act_expr[(t >= par_act_expr[:, 0]) &\n\u001b[0m\u001b[0;32m     28\u001b[0m                                (t < par_act_expr[:, 1])]\n\u001b[0;32m     29\u001b[0m             \u001b[1;32mif\u001b[0m \u001b[0mres\u001b[0m\u001b[1;33m.\u001b[0m\u001b[0mshape\u001b[0m\u001b[1;33m[\u001b[0m\u001b[1;36m0\u001b[0m\u001b[1;33m]\u001b[0m \u001b[1;33m>\u001b[0m \u001b[1;36m0\u001b[0m\u001b[1;33m:\u001b[0m\u001b[1;33m\u001b[0m\u001b[0m\n",
      "\u001b[1;31mKeyboardInterrupt\u001b[0m: "
     ]
    }
   ],
   "source": [
    "it = 0\n",
    "forward_logs = []\n",
    "\n",
    "bic_scores_forward = []\n",
    "\n",
    "while not local_maximum:\n",
    "    #     max_ngbr_score = -np.inf\n",
    "    local_maximum = True\n",
    "    max_score_ngbr = -np.inf\n",
    "    max_op = None\n",
    "    max_args = None\n",
    "    max_changed_node_cnt_drt_df = None\n",
    "    max_size_log_td_ngbr = None\n",
    "    max_LogL_ngbr = None\n",
    "    print('iteration number: {}: scoreBIC = {}'.format(it, score))\n",
    "    for ngbr_info in forward_neighbors_gen(model, data, t_max, lambdas_count_duration_df,LogL, size_log_td, log_td,\\\n",
    "                                           possible_edges):\n",
    "\n",
    "        op, args, LogL_ngbr, size_log_td_ngbr, changed_node_cnt_drt_df = ngbr_info\n",
    "        score_ngbr = LogL_ngbr - size_log_td_ngbr\n",
    "\n",
    "        if score_ngbr > max_score_ngbr:\n",
    "            max_score_ngbr = score_ngbr\n",
    "            max_op = op\n",
    "            max_args = args\n",
    "            max_changed_node_cnt_drt_df = changed_node_cnt_drt_df\n",
    "            max_size_log_td_ngbr = size_log_td_ngbr\n",
    "            max_LogL_ngbr = LogL_ngbr\n",
    "    print('max ngbr {}, args={}, max_scoreBIC = {}'.format(max_op, max_args, max_score_ngbr))\n",
    " \n",
    "    if max_score_ngbr > score:\n",
    "        max_op(*max_args)\n",
    "        LogL = max_LogL_ngbr\n",
    "        size_log_td = max_size_log_td_ngbr\n",
    "        changed_node = max_changed_node_cnt_drt_df.iloc[0]['event']\n",
    "        lambdas_count_duration_df = lambdas_count_duration_df[lambdas_count_duration_df['event'] != changed_node]\n",
    "        lambdas_count_duration_df = pd.concat([lambdas_count_duration_df, max_changed_node_cnt_drt_df])\n",
    "\n",
    "        local_maximum = False\n",
    "        score = max_score_ngbr\n",
    "        op_name = 'étendreIntervalle'\n",
    "\n",
    "        # removes added edge from possible edges\n",
    "        if max_op == model.add_edge_operator:\n",
    "            possible_edges.remove(max_args[0])\n",
    "        # pd.Dataframe(columns=['it', 'T_A', 'T_B', 'edges', 'max_ngbr', 'scoreBic'])\n",
    "            op_name = 'ajouterArc'\n",
    "        if max_op == model.split_operator:\n",
    "            op_name = 'diviserIntervalle'\n",
    "\n",
    "        forward_logs.append([it, copy.deepcopy(model.get_node_parents_timescales('A')),\\\n",
    "                             copy.deepcopy(model.get_node_parents_timescales('B')),\\\n",
    "                             list(model.dpd_graph.edges()),\\\n",
    "                             op_name,\\\n",
    "                             max_args,\\\n",
    "                             score])\n",
    "    \n",
    "    bic_scores_forward.append(score) # stores the bic score for each iteration\n",
    "    \n",
    "    it += 1"
   ]
  },
  {
   "cell_type": "code",
   "execution_count": 36,
   "metadata": {},
   "outputs": [],
   "source": [
    "model = set_nodes_timeseries(model, data)\n",
    "model = set_nodes_parents_counts(model, model.dpd_graph.nodes, t_max)"
   ]
  },
  {
   "cell_type": "code",
   "execution_count": 37,
   "metadata": {
    "collapsed": true
   },
   "outputs": [
    {
     "data": {
      "text/html": [
       "<div>\n",
       "<style scoped>\n",
       "    .dataframe tbody tr th:only-of-type {\n",
       "        vertical-align: middle;\n",
       "    }\n",
       "\n",
       "    .dataframe tbody tr th {\n",
       "        vertical-align: top;\n",
       "    }\n",
       "\n",
       "    .dataframe thead th {\n",
       "        text-align: right;\n",
       "    }\n",
       "</style>\n",
       "<table border=\"1\" class=\"dataframe\">\n",
       "  <thead>\n",
       "    <tr style=\"text-align: right;\">\n",
       "      <th></th>\n",
       "      <th>event</th>\n",
       "      <th>pcv</th>\n",
       "      <th>lambda_t</th>\n",
       "      <th>duration</th>\n",
       "      <th>count</th>\n",
       "    </tr>\n",
       "  </thead>\n",
       "  <tbody>\n",
       "    <tr>\n",
       "      <th>0</th>\n",
       "      <td>A</td>\n",
       "      <td>(0, 0, 0, 0, 0, 0, 0, 0, 0, 0)</td>\n",
       "      <td>0.000000</td>\n",
       "      <td>0.256949</td>\n",
       "      <td>0</td>\n",
       "    </tr>\n",
       "    <tr>\n",
       "      <th>1</th>\n",
       "      <td>A</td>\n",
       "      <td>(0, 0, 0, 0, 0, 0, 0, 0, 0, 1)</td>\n",
       "      <td>0.000000</td>\n",
       "      <td>0.774529</td>\n",
       "      <td>0</td>\n",
       "    </tr>\n",
       "    <tr>\n",
       "      <th>2</th>\n",
       "      <td>A</td>\n",
       "      <td>(0, 0, 0, 0, 0, 0, 0, 0, 1, 0)</td>\n",
       "      <td>0.000000</td>\n",
       "      <td>0.080890</td>\n",
       "      <td>0</td>\n",
       "    </tr>\n",
       "    <tr>\n",
       "      <th>3</th>\n",
       "      <td>A</td>\n",
       "      <td>(0, 0, 0, 0, 0, 0, 0, 0, 1, 1)</td>\n",
       "      <td>0.000000</td>\n",
       "      <td>47.506103</td>\n",
       "      <td>0</td>\n",
       "    </tr>\n",
       "    <tr>\n",
       "      <th>4</th>\n",
       "      <td>A</td>\n",
       "      <td>(0, 0, 0, 0, 0, 0, 0, 1, 0, 0)</td>\n",
       "      <td>0.000000</td>\n",
       "      <td>0.000000</td>\n",
       "      <td>0</td>\n",
       "    </tr>\n",
       "    <tr>\n",
       "      <th>5</th>\n",
       "      <td>A</td>\n",
       "      <td>(0, 0, 0, 0, 0, 0, 0, 1, 0, 1)</td>\n",
       "      <td>0.000000</td>\n",
       "      <td>5.053514</td>\n",
       "      <td>0</td>\n",
       "    </tr>\n",
       "    <tr>\n",
       "      <th>6</th>\n",
       "      <td>A</td>\n",
       "      <td>(0, 0, 0, 0, 0, 0, 0, 1, 1, 0)</td>\n",
       "      <td>0.000000</td>\n",
       "      <td>0.218888</td>\n",
       "      <td>0</td>\n",
       "    </tr>\n",
       "    <tr>\n",
       "      <th>7</th>\n",
       "      <td>A</td>\n",
       "      <td>(0, 0, 0, 0, 0, 0, 0, 1, 1, 1)</td>\n",
       "      <td>0.000000</td>\n",
       "      <td>51.247001</td>\n",
       "      <td>0</td>\n",
       "    </tr>\n",
       "    <tr>\n",
       "      <th>8</th>\n",
       "      <td>A</td>\n",
       "      <td>(0, 0, 0, 0, 0, 0, 1, 0, 0, 0)</td>\n",
       "      <td>0.000000</td>\n",
       "      <td>0.000000</td>\n",
       "      <td>0</td>\n",
       "    </tr>\n",
       "    <tr>\n",
       "      <th>9</th>\n",
       "      <td>A</td>\n",
       "      <td>(0, 0, 0, 0, 0, 0, 1, 0, 0, 1)</td>\n",
       "      <td>0.000000</td>\n",
       "      <td>4.927416</td>\n",
       "      <td>0</td>\n",
       "    </tr>\n",
       "    <tr>\n",
       "      <th>10</th>\n",
       "      <td>A</td>\n",
       "      <td>(0, 0, 0, 0, 0, 0, 1, 0, 1, 0)</td>\n",
       "      <td>0.000000</td>\n",
       "      <td>0.148258</td>\n",
       "      <td>0</td>\n",
       "    </tr>\n",
       "    <tr>\n",
       "      <th>11</th>\n",
       "      <td>A</td>\n",
       "      <td>(0, 0, 0, 0, 0, 0, 1, 0, 1, 1)</td>\n",
       "      <td>0.000000</td>\n",
       "      <td>47.920117</td>\n",
       "      <td>0</td>\n",
       "    </tr>\n",
       "    <tr>\n",
       "      <th>12</th>\n",
       "      <td>A</td>\n",
       "      <td>(0, 0, 0, 0, 0, 0, 1, 1, 0, 0)</td>\n",
       "      <td>0.000000</td>\n",
       "      <td>0.000000</td>\n",
       "      <td>0</td>\n",
       "    </tr>\n",
       "    <tr>\n",
       "      <th>13</th>\n",
       "      <td>A</td>\n",
       "      <td>(0, 0, 0, 0, 0, 0, 1, 1, 0, 1)</td>\n",
       "      <td>0.000000</td>\n",
       "      <td>5.752214</td>\n",
       "      <td>0</td>\n",
       "    </tr>\n",
       "    <tr>\n",
       "      <th>14</th>\n",
       "      <td>A</td>\n",
       "      <td>(0, 0, 0, 0, 0, 0, 1, 1, 1, 0)</td>\n",
       "      <td>0.000000</td>\n",
       "      <td>0.241933</td>\n",
       "      <td>0</td>\n",
       "    </tr>\n",
       "    <tr>\n",
       "      <th>15</th>\n",
       "      <td>A</td>\n",
       "      <td>(0, 0, 0, 0, 0, 0, 1, 1, 1, 1)</td>\n",
       "      <td>0.000000</td>\n",
       "      <td>58.264467</td>\n",
       "      <td>0</td>\n",
       "    </tr>\n",
       "    <tr>\n",
       "      <th>16</th>\n",
       "      <td>A</td>\n",
       "      <td>(0, 0, 0, 0, 0, 1, 0, 0, 0, 0)</td>\n",
       "      <td>0.000000</td>\n",
       "      <td>0.000000</td>\n",
       "      <td>0</td>\n",
       "    </tr>\n",
       "    <tr>\n",
       "      <th>17</th>\n",
       "      <td>A</td>\n",
       "      <td>(0, 0, 0, 0, 0, 1, 0, 0, 0, 1)</td>\n",
       "      <td>0.000000</td>\n",
       "      <td>3.651419</td>\n",
       "      <td>0</td>\n",
       "    </tr>\n",
       "    <tr>\n",
       "      <th>18</th>\n",
       "      <td>A</td>\n",
       "      <td>(0, 0, 0, 0, 0, 1, 0, 0, 1, 0)</td>\n",
       "      <td>0.000000</td>\n",
       "      <td>0.213853</td>\n",
       "      <td>0</td>\n",
       "    </tr>\n",
       "    <tr>\n",
       "      <th>19</th>\n",
       "      <td>A</td>\n",
       "      <td>(0, 0, 0, 0, 0, 1, 0, 0, 1, 1)</td>\n",
       "      <td>0.000000</td>\n",
       "      <td>50.144743</td>\n",
       "      <td>0</td>\n",
       "    </tr>\n",
       "    <tr>\n",
       "      <th>20</th>\n",
       "      <td>A</td>\n",
       "      <td>(0, 0, 0, 0, 0, 1, 0, 1, 0, 0)</td>\n",
       "      <td>0.000000</td>\n",
       "      <td>0.000000</td>\n",
       "      <td>0</td>\n",
       "    </tr>\n",
       "    <tr>\n",
       "      <th>21</th>\n",
       "      <td>A</td>\n",
       "      <td>(0, 0, 0, 0, 0, 1, 0, 1, 0, 1)</td>\n",
       "      <td>0.000000</td>\n",
       "      <td>4.386798</td>\n",
       "      <td>0</td>\n",
       "    </tr>\n",
       "    <tr>\n",
       "      <th>22</th>\n",
       "      <td>A</td>\n",
       "      <td>(0, 0, 0, 0, 0, 1, 0, 1, 1, 0)</td>\n",
       "      <td>0.000000</td>\n",
       "      <td>0.103710</td>\n",
       "      <td>0</td>\n",
       "    </tr>\n",
       "    <tr>\n",
       "      <th>23</th>\n",
       "      <td>A</td>\n",
       "      <td>(0, 0, 0, 0, 0, 1, 0, 1, 1, 1)</td>\n",
       "      <td>0.000000</td>\n",
       "      <td>53.858460</td>\n",
       "      <td>0</td>\n",
       "    </tr>\n",
       "    <tr>\n",
       "      <th>24</th>\n",
       "      <td>A</td>\n",
       "      <td>(0, 0, 0, 0, 0, 1, 1, 0, 0, 0)</td>\n",
       "      <td>0.000000</td>\n",
       "      <td>0.000000</td>\n",
       "      <td>0</td>\n",
       "    </tr>\n",
       "    <tr>\n",
       "      <th>25</th>\n",
       "      <td>A</td>\n",
       "      <td>(0, 0, 0, 0, 0, 1, 1, 0, 0, 1)</td>\n",
       "      <td>0.000000</td>\n",
       "      <td>3.749201</td>\n",
       "      <td>0</td>\n",
       "    </tr>\n",
       "    <tr>\n",
       "      <th>26</th>\n",
       "      <td>A</td>\n",
       "      <td>(0, 0, 0, 0, 0, 1, 1, 0, 1, 0)</td>\n",
       "      <td>0.000000</td>\n",
       "      <td>0.227624</td>\n",
       "      <td>0</td>\n",
       "    </tr>\n",
       "    <tr>\n",
       "      <th>27</th>\n",
       "      <td>A</td>\n",
       "      <td>(0, 0, 0, 0, 0, 1, 1, 0, 1, 1)</td>\n",
       "      <td>0.000000</td>\n",
       "      <td>54.274324</td>\n",
       "      <td>0</td>\n",
       "    </tr>\n",
       "    <tr>\n",
       "      <th>28</th>\n",
       "      <td>A</td>\n",
       "      <td>(0, 0, 0, 0, 0, 1, 1, 1, 0, 0)</td>\n",
       "      <td>0.000000</td>\n",
       "      <td>0.000000</td>\n",
       "      <td>0</td>\n",
       "    </tr>\n",
       "    <tr>\n",
       "      <th>29</th>\n",
       "      <td>A</td>\n",
       "      <td>(0, 0, 0, 0, 0, 1, 1, 1, 0, 1)</td>\n",
       "      <td>0.000000</td>\n",
       "      <td>4.754888</td>\n",
       "      <td>0</td>\n",
       "    </tr>\n",
       "    <tr>\n",
       "      <th>...</th>\n",
       "      <td>...</td>\n",
       "      <td>...</td>\n",
       "      <td>...</td>\n",
       "      <td>...</td>\n",
       "      <td>...</td>\n",
       "    </tr>\n",
       "    <tr>\n",
       "      <th>1506</th>\n",
       "      <td>B</td>\n",
       "      <td>(1, 1, 1, 1, 0, 0, 0, 1, 0)</td>\n",
       "      <td>0.000000</td>\n",
       "      <td>0.000000</td>\n",
       "      <td>0</td>\n",
       "    </tr>\n",
       "    <tr>\n",
       "      <th>1507</th>\n",
       "      <td>B</td>\n",
       "      <td>(1, 1, 1, 1, 0, 0, 0, 1, 1)</td>\n",
       "      <td>0.000000</td>\n",
       "      <td>0.000000</td>\n",
       "      <td>0</td>\n",
       "    </tr>\n",
       "    <tr>\n",
       "      <th>1508</th>\n",
       "      <td>B</td>\n",
       "      <td>(1, 1, 1, 1, 0, 0, 1, 0, 0)</td>\n",
       "      <td>0.000000</td>\n",
       "      <td>0.000000</td>\n",
       "      <td>0</td>\n",
       "    </tr>\n",
       "    <tr>\n",
       "      <th>1509</th>\n",
       "      <td>B</td>\n",
       "      <td>(1, 1, 1, 1, 0, 0, 1, 0, 1)</td>\n",
       "      <td>0.000000</td>\n",
       "      <td>0.000000</td>\n",
       "      <td>0</td>\n",
       "    </tr>\n",
       "    <tr>\n",
       "      <th>1510</th>\n",
       "      <td>B</td>\n",
       "      <td>(1, 1, 1, 1, 0, 0, 1, 1, 0)</td>\n",
       "      <td>0.000000</td>\n",
       "      <td>0.000000</td>\n",
       "      <td>0</td>\n",
       "    </tr>\n",
       "    <tr>\n",
       "      <th>1511</th>\n",
       "      <td>B</td>\n",
       "      <td>(1, 1, 1, 1, 0, 0, 1, 1, 1)</td>\n",
       "      <td>0.000000</td>\n",
       "      <td>0.000000</td>\n",
       "      <td>0</td>\n",
       "    </tr>\n",
       "    <tr>\n",
       "      <th>1512</th>\n",
       "      <td>B</td>\n",
       "      <td>(1, 1, 1, 1, 0, 1, 0, 0, 0)</td>\n",
       "      <td>0.000000</td>\n",
       "      <td>0.000000</td>\n",
       "      <td>0</td>\n",
       "    </tr>\n",
       "    <tr>\n",
       "      <th>1513</th>\n",
       "      <td>B</td>\n",
       "      <td>(1, 1, 1, 1, 0, 1, 0, 0, 1)</td>\n",
       "      <td>0.000000</td>\n",
       "      <td>0.000000</td>\n",
       "      <td>0</td>\n",
       "    </tr>\n",
       "    <tr>\n",
       "      <th>1514</th>\n",
       "      <td>B</td>\n",
       "      <td>(1, 1, 1, 1, 0, 1, 0, 1, 0)</td>\n",
       "      <td>0.000000</td>\n",
       "      <td>0.000000</td>\n",
       "      <td>0</td>\n",
       "    </tr>\n",
       "    <tr>\n",
       "      <th>1515</th>\n",
       "      <td>B</td>\n",
       "      <td>(1, 1, 1, 1, 0, 1, 0, 1, 1)</td>\n",
       "      <td>0.000000</td>\n",
       "      <td>0.000000</td>\n",
       "      <td>0</td>\n",
       "    </tr>\n",
       "    <tr>\n",
       "      <th>1516</th>\n",
       "      <td>B</td>\n",
       "      <td>(1, 1, 1, 1, 0, 1, 1, 0, 0)</td>\n",
       "      <td>0.000000</td>\n",
       "      <td>0.000000</td>\n",
       "      <td>0</td>\n",
       "    </tr>\n",
       "    <tr>\n",
       "      <th>1517</th>\n",
       "      <td>B</td>\n",
       "      <td>(1, 1, 1, 1, 0, 1, 1, 0, 1)</td>\n",
       "      <td>0.000000</td>\n",
       "      <td>0.000000</td>\n",
       "      <td>0</td>\n",
       "    </tr>\n",
       "    <tr>\n",
       "      <th>1518</th>\n",
       "      <td>B</td>\n",
       "      <td>(1, 1, 1, 1, 0, 1, 1, 1, 0)</td>\n",
       "      <td>0.000000</td>\n",
       "      <td>0.000000</td>\n",
       "      <td>0</td>\n",
       "    </tr>\n",
       "    <tr>\n",
       "      <th>1519</th>\n",
       "      <td>B</td>\n",
       "      <td>(1, 1, 1, 1, 0, 1, 1, 1, 1)</td>\n",
       "      <td>0.000000</td>\n",
       "      <td>0.000000</td>\n",
       "      <td>0</td>\n",
       "    </tr>\n",
       "    <tr>\n",
       "      <th>1520</th>\n",
       "      <td>B</td>\n",
       "      <td>(1, 1, 1, 1, 1, 0, 0, 0, 0)</td>\n",
       "      <td>6.375000</td>\n",
       "      <td>8.000000</td>\n",
       "      <td>51</td>\n",
       "    </tr>\n",
       "    <tr>\n",
       "      <th>1521</th>\n",
       "      <td>B</td>\n",
       "      <td>(1, 1, 1, 1, 1, 0, 0, 0, 1)</td>\n",
       "      <td>0.000000</td>\n",
       "      <td>0.000000</td>\n",
       "      <td>0</td>\n",
       "    </tr>\n",
       "    <tr>\n",
       "      <th>1522</th>\n",
       "      <td>B</td>\n",
       "      <td>(1, 1, 1, 1, 1, 0, 0, 1, 0)</td>\n",
       "      <td>0.000000</td>\n",
       "      <td>0.000000</td>\n",
       "      <td>0</td>\n",
       "    </tr>\n",
       "    <tr>\n",
       "      <th>1523</th>\n",
       "      <td>B</td>\n",
       "      <td>(1, 1, 1, 1, 1, 0, 0, 1, 1)</td>\n",
       "      <td>0.000000</td>\n",
       "      <td>0.000000</td>\n",
       "      <td>0</td>\n",
       "    </tr>\n",
       "    <tr>\n",
       "      <th>1524</th>\n",
       "      <td>B</td>\n",
       "      <td>(1, 1, 1, 1, 1, 0, 1, 0, 0)</td>\n",
       "      <td>0.000000</td>\n",
       "      <td>0.000000</td>\n",
       "      <td>0</td>\n",
       "    </tr>\n",
       "    <tr>\n",
       "      <th>1525</th>\n",
       "      <td>B</td>\n",
       "      <td>(1, 1, 1, 1, 1, 0, 1, 0, 1)</td>\n",
       "      <td>0.000000</td>\n",
       "      <td>0.000000</td>\n",
       "      <td>0</td>\n",
       "    </tr>\n",
       "    <tr>\n",
       "      <th>1526</th>\n",
       "      <td>B</td>\n",
       "      <td>(1, 1, 1, 1, 1, 0, 1, 1, 0)</td>\n",
       "      <td>0.000000</td>\n",
       "      <td>0.000000</td>\n",
       "      <td>0</td>\n",
       "    </tr>\n",
       "    <tr>\n",
       "      <th>1527</th>\n",
       "      <td>B</td>\n",
       "      <td>(1, 1, 1, 1, 1, 0, 1, 1, 1)</td>\n",
       "      <td>0.000000</td>\n",
       "      <td>0.000000</td>\n",
       "      <td>0</td>\n",
       "    </tr>\n",
       "    <tr>\n",
       "      <th>1528</th>\n",
       "      <td>B</td>\n",
       "      <td>(1, 1, 1, 1, 1, 1, 0, 0, 0)</td>\n",
       "      <td>6.000000</td>\n",
       "      <td>16.000000</td>\n",
       "      <td>96</td>\n",
       "    </tr>\n",
       "    <tr>\n",
       "      <th>1529</th>\n",
       "      <td>B</td>\n",
       "      <td>(1, 1, 1, 1, 1, 1, 0, 0, 1)</td>\n",
       "      <td>0.000000</td>\n",
       "      <td>0.000000</td>\n",
       "      <td>0</td>\n",
       "    </tr>\n",
       "    <tr>\n",
       "      <th>1530</th>\n",
       "      <td>B</td>\n",
       "      <td>(1, 1, 1, 1, 1, 1, 0, 1, 0)</td>\n",
       "      <td>0.000000</td>\n",
       "      <td>0.000000</td>\n",
       "      <td>0</td>\n",
       "    </tr>\n",
       "    <tr>\n",
       "      <th>1531</th>\n",
       "      <td>B</td>\n",
       "      <td>(1, 1, 1, 1, 1, 1, 0, 1, 1)</td>\n",
       "      <td>0.000000</td>\n",
       "      <td>0.000000</td>\n",
       "      <td>0</td>\n",
       "    </tr>\n",
       "    <tr>\n",
       "      <th>1532</th>\n",
       "      <td>B</td>\n",
       "      <td>(1, 1, 1, 1, 1, 1, 1, 0, 0)</td>\n",
       "      <td>4.656250</td>\n",
       "      <td>32.000000</td>\n",
       "      <td>149</td>\n",
       "    </tr>\n",
       "    <tr>\n",
       "      <th>1533</th>\n",
       "      <td>B</td>\n",
       "      <td>(1, 1, 1, 1, 1, 1, 1, 0, 1)</td>\n",
       "      <td>0.000000</td>\n",
       "      <td>0.000000</td>\n",
       "      <td>0</td>\n",
       "    </tr>\n",
       "    <tr>\n",
       "      <th>1534</th>\n",
       "      <td>B</td>\n",
       "      <td>(1, 1, 1, 1, 1, 1, 1, 1, 0)</td>\n",
       "      <td>5.375000</td>\n",
       "      <td>64.000000</td>\n",
       "      <td>344</td>\n",
       "    </tr>\n",
       "    <tr>\n",
       "      <th>1535</th>\n",
       "      <td>B</td>\n",
       "      <td>(1, 1, 1, 1, 1, 1, 1, 1, 1)</td>\n",
       "      <td>5.375439</td>\n",
       "      <td>866.347821</td>\n",
       "      <td>4657</td>\n",
       "    </tr>\n",
       "  </tbody>\n",
       "</table>\n",
       "<p>1536 rows × 5 columns</p>\n",
       "</div>"
      ],
      "text/plain": [
       "     event                             pcv  lambda_t    duration  count\n",
       "0        A  (0, 0, 0, 0, 0, 0, 0, 0, 0, 0)  0.000000    0.256949      0\n",
       "1        A  (0, 0, 0, 0, 0, 0, 0, 0, 0, 1)  0.000000    0.774529      0\n",
       "2        A  (0, 0, 0, 0, 0, 0, 0, 0, 1, 0)  0.000000    0.080890      0\n",
       "3        A  (0, 0, 0, 0, 0, 0, 0, 0, 1, 1)  0.000000   47.506103      0\n",
       "4        A  (0, 0, 0, 0, 0, 0, 0, 1, 0, 0)  0.000000    0.000000      0\n",
       "5        A  (0, 0, 0, 0, 0, 0, 0, 1, 0, 1)  0.000000    5.053514      0\n",
       "6        A  (0, 0, 0, 0, 0, 0, 0, 1, 1, 0)  0.000000    0.218888      0\n",
       "7        A  (0, 0, 0, 0, 0, 0, 0, 1, 1, 1)  0.000000   51.247001      0\n",
       "8        A  (0, 0, 0, 0, 0, 0, 1, 0, 0, 0)  0.000000    0.000000      0\n",
       "9        A  (0, 0, 0, 0, 0, 0, 1, 0, 0, 1)  0.000000    4.927416      0\n",
       "10       A  (0, 0, 0, 0, 0, 0, 1, 0, 1, 0)  0.000000    0.148258      0\n",
       "11       A  (0, 0, 0, 0, 0, 0, 1, 0, 1, 1)  0.000000   47.920117      0\n",
       "12       A  (0, 0, 0, 0, 0, 0, 1, 1, 0, 0)  0.000000    0.000000      0\n",
       "13       A  (0, 0, 0, 0, 0, 0, 1, 1, 0, 1)  0.000000    5.752214      0\n",
       "14       A  (0, 0, 0, 0, 0, 0, 1, 1, 1, 0)  0.000000    0.241933      0\n",
       "15       A  (0, 0, 0, 0, 0, 0, 1, 1, 1, 1)  0.000000   58.264467      0\n",
       "16       A  (0, 0, 0, 0, 0, 1, 0, 0, 0, 0)  0.000000    0.000000      0\n",
       "17       A  (0, 0, 0, 0, 0, 1, 0, 0, 0, 1)  0.000000    3.651419      0\n",
       "18       A  (0, 0, 0, 0, 0, 1, 0, 0, 1, 0)  0.000000    0.213853      0\n",
       "19       A  (0, 0, 0, 0, 0, 1, 0, 0, 1, 1)  0.000000   50.144743      0\n",
       "20       A  (0, 0, 0, 0, 0, 1, 0, 1, 0, 0)  0.000000    0.000000      0\n",
       "21       A  (0, 0, 0, 0, 0, 1, 0, 1, 0, 1)  0.000000    4.386798      0\n",
       "22       A  (0, 0, 0, 0, 0, 1, 0, 1, 1, 0)  0.000000    0.103710      0\n",
       "23       A  (0, 0, 0, 0, 0, 1, 0, 1, 1, 1)  0.000000   53.858460      0\n",
       "24       A  (0, 0, 0, 0, 0, 1, 1, 0, 0, 0)  0.000000    0.000000      0\n",
       "25       A  (0, 0, 0, 0, 0, 1, 1, 0, 0, 1)  0.000000    3.749201      0\n",
       "26       A  (0, 0, 0, 0, 0, 1, 1, 0, 1, 0)  0.000000    0.227624      0\n",
       "27       A  (0, 0, 0, 0, 0, 1, 1, 0, 1, 1)  0.000000   54.274324      0\n",
       "28       A  (0, 0, 0, 0, 0, 1, 1, 1, 0, 0)  0.000000    0.000000      0\n",
       "29       A  (0, 0, 0, 0, 0, 1, 1, 1, 0, 1)  0.000000    4.754888      0\n",
       "...    ...                             ...       ...         ...    ...\n",
       "1506     B     (1, 1, 1, 1, 0, 0, 0, 1, 0)  0.000000    0.000000      0\n",
       "1507     B     (1, 1, 1, 1, 0, 0, 0, 1, 1)  0.000000    0.000000      0\n",
       "1508     B     (1, 1, 1, 1, 0, 0, 1, 0, 0)  0.000000    0.000000      0\n",
       "1509     B     (1, 1, 1, 1, 0, 0, 1, 0, 1)  0.000000    0.000000      0\n",
       "1510     B     (1, 1, 1, 1, 0, 0, 1, 1, 0)  0.000000    0.000000      0\n",
       "1511     B     (1, 1, 1, 1, 0, 0, 1, 1, 1)  0.000000    0.000000      0\n",
       "1512     B     (1, 1, 1, 1, 0, 1, 0, 0, 0)  0.000000    0.000000      0\n",
       "1513     B     (1, 1, 1, 1, 0, 1, 0, 0, 1)  0.000000    0.000000      0\n",
       "1514     B     (1, 1, 1, 1, 0, 1, 0, 1, 0)  0.000000    0.000000      0\n",
       "1515     B     (1, 1, 1, 1, 0, 1, 0, 1, 1)  0.000000    0.000000      0\n",
       "1516     B     (1, 1, 1, 1, 0, 1, 1, 0, 0)  0.000000    0.000000      0\n",
       "1517     B     (1, 1, 1, 1, 0, 1, 1, 0, 1)  0.000000    0.000000      0\n",
       "1518     B     (1, 1, 1, 1, 0, 1, 1, 1, 0)  0.000000    0.000000      0\n",
       "1519     B     (1, 1, 1, 1, 0, 1, 1, 1, 1)  0.000000    0.000000      0\n",
       "1520     B     (1, 1, 1, 1, 1, 0, 0, 0, 0)  6.375000    8.000000     51\n",
       "1521     B     (1, 1, 1, 1, 1, 0, 0, 0, 1)  0.000000    0.000000      0\n",
       "1522     B     (1, 1, 1, 1, 1, 0, 0, 1, 0)  0.000000    0.000000      0\n",
       "1523     B     (1, 1, 1, 1, 1, 0, 0, 1, 1)  0.000000    0.000000      0\n",
       "1524     B     (1, 1, 1, 1, 1, 0, 1, 0, 0)  0.000000    0.000000      0\n",
       "1525     B     (1, 1, 1, 1, 1, 0, 1, 0, 1)  0.000000    0.000000      0\n",
       "1526     B     (1, 1, 1, 1, 1, 0, 1, 1, 0)  0.000000    0.000000      0\n",
       "1527     B     (1, 1, 1, 1, 1, 0, 1, 1, 1)  0.000000    0.000000      0\n",
       "1528     B     (1, 1, 1, 1, 1, 1, 0, 0, 0)  6.000000   16.000000     96\n",
       "1529     B     (1, 1, 1, 1, 1, 1, 0, 0, 1)  0.000000    0.000000      0\n",
       "1530     B     (1, 1, 1, 1, 1, 1, 0, 1, 0)  0.000000    0.000000      0\n",
       "1531     B     (1, 1, 1, 1, 1, 1, 0, 1, 1)  0.000000    0.000000      0\n",
       "1532     B     (1, 1, 1, 1, 1, 1, 1, 0, 0)  4.656250   32.000000    149\n",
       "1533     B     (1, 1, 1, 1, 1, 1, 1, 0, 1)  0.000000    0.000000      0\n",
       "1534     B     (1, 1, 1, 1, 1, 1, 1, 1, 0)  5.375000   64.000000    344\n",
       "1535     B     (1, 1, 1, 1, 1, 1, 1, 1, 1)  5.375439  866.347821   4657\n",
       "\n",
       "[1536 rows x 5 columns]"
      ]
     },
     "execution_count": 37,
     "metadata": {},
     "output_type": "execute_result"
    }
   ],
   "source": [
    "mle_lambdas(model, data, t_max)"
   ]
  },
  {
   "cell_type": "code",
   "execution_count": 38,
   "metadata": {
    "scrolled": true
   },
   "outputs": [
    {
     "data": {
      "text/plain": [
       "16681.693106105904"
      ]
     },
     "execution_count": 38,
     "metadata": {},
     "output_type": "execute_result"
    }
   ],
   "source": [
    "scoreBic(model, data, t_max)"
   ]
  },
  {
   "cell_type": "code",
   "execution_count": 39,
   "metadata": {},
   "outputs": [],
   "source": [
    "# keep forward result in memory\n",
    "forward_model = copy.deepcopy(model)"
   ]
  },
  {
   "cell_type": "markdown",
   "metadata": {},
   "source": [
    "## BackwardSearch(Forward)"
   ]
  },
  {
   "cell_type": "code",
   "execution_count": 34,
   "metadata": {},
   "outputs": [],
   "source": [
    "model = set_nodes_timeseries(model, data)\n",
    "model = set_nodes_parents_counts(model, model.dpd_graph.nodes, t_max)\n",
    "set_pcv_lambda_t(model, data, t_max)\n",
    "\n",
    "lambdas_count_duration_df = get_count_duration_df(data, model, t_max)\n",
    "\n",
    "LogL = compute_logLikelihood(lambdas_count_duration_df)\n",
    "log_td = np.log(t_max)\n",
    "\n",
    "size_log_td = model.size() * log_td\n",
    "\n",
    "score = LogL - size_log_td\n",
    "local_maximum = False"
   ]
  },
  {
   "cell_type": "code",
   "execution_count": 35,
   "metadata": {},
   "outputs": [
    {
     "data": {
      "text/plain": [
       "-1897.0277331403577"
      ]
     },
     "execution_count": 35,
     "metadata": {},
     "output_type": "execute_result"
    }
   ],
   "source": [
    "score"
   ]
  },
  {
   "cell_type": "code",
   "execution_count": 36,
   "metadata": {
    "collapsed": true
   },
   "outputs": [
    {
     "name": "stdout",
     "output_type": "stream",
     "text": [
      "iteration number: 0: scoreBIC = -1897.0277331403577\n",
      "max ngbr <bound method RTGEM.inverse_add_edge_operator of <rtgemlib.rtgem.RTGEM object at 0x00000160F0256898>>, args=[('A', 'B')], max_scoreBIC = -160.12474173196279\n",
      "iteration number: 1: scoreBIC = -160.12474173196279\n",
      "max ngbr <bound method RTGEM.inverse_extend_operator of <rtgemlib.rtgem.RTGEM object at 0x00000160F0256898>>, args=[('A', 'A')], max_scoreBIC = 1608.1398232544834\n",
      "iteration number: 2: scoreBIC = 1608.1398232544834\n",
      "max ngbr <bound method RTGEM.inverse_extend_operator of <rtgemlib.rtgem.RTGEM object at 0x00000160F0256898>>, args=[('A', 'A')], max_scoreBIC = 2492.0021361774925\n",
      "iteration number: 3: scoreBIC = 2492.0021361774925\n",
      "max ngbr <bound method RTGEM.inverse_extend_operator of <rtgemlib.rtgem.RTGEM object at 0x00000160F0256898>>, args=[('A', 'A')], max_scoreBIC = 2933.927177722613\n",
      "iteration number: 4: scoreBIC = 2933.927177722613\n",
      "max ngbr <bound method RTGEM.inverse_extend_operator of <rtgemlib.rtgem.RTGEM object at 0x00000160F0256898>>, args=[('A', 'A')], max_scoreBIC = 3153.3693882689777\n",
      "iteration number: 5: scoreBIC = 3153.3693882689777\n",
      "max ngbr <bound method RTGEM.inverse_add_edge_operator of <rtgemlib.rtgem.RTGEM object at 0x00000160F0256898>>, args=[('A', 'A')], max_scoreBIC = 3225.5231041678194\n",
      "iteration number: 6: scoreBIC = 3225.5231041678194\n",
      "max ngbr <bound method RTGEM.inverse_extend_operator of <rtgemlib.rtgem.RTGEM object at 0x00000160F0256898>>, args=[('B', 'B')], max_scoreBIC = 4108.363966570354\n",
      "iteration number: 7: scoreBIC = 4108.363966570354\n",
      "max ngbr <bound method RTGEM.inverse_extend_operator of <rtgemlib.rtgem.RTGEM object at 0x00000160F0256898>>, args=[('B', 'B')], max_scoreBIC = 4549.605200235625\n",
      "iteration number: 8: scoreBIC = 4549.605200235625\n",
      "max ngbr <bound method RTGEM.inverse_extend_operator of <rtgemlib.rtgem.RTGEM object at 0x00000160F0256898>>, args=[('B', 'B')], max_scoreBIC = 4769.461487745022\n",
      "iteration number: 9: scoreBIC = 4769.461487745022\n",
      "max ngbr <bound method RTGEM.inverse_extend_operator of <rtgemlib.rtgem.RTGEM object at 0x00000160F0256898>>, args=[('B', 'B')], max_scoreBIC = 4879.20131543661\n",
      "iteration number: 10: scoreBIC = 4879.20131543661\n",
      "max ngbr <bound method RTGEM.inverse_extend_operator of <rtgemlib.rtgem.RTGEM object at 0x00000160F0256898>>, args=[('B', 'B')], max_scoreBIC = 4933.903473293166\n",
      "iteration number: 11: scoreBIC = 4933.903473293166\n",
      "max ngbr <bound method RTGEM.inverse_extend_operator of <rtgemlib.rtgem.RTGEM object at 0x00000160F0256898>>, args=[('B', 'B')], max_scoreBIC = 4957.6863461496105\n",
      "iteration number: 12: scoreBIC = 4957.6863461496105\n",
      "max ngbr <bound method RTGEM.inverse_extend_operator of <rtgemlib.rtgem.RTGEM object at 0x00000160F0256898>>, args=[('B', 'B')], max_scoreBIC = 4971.402594883431\n",
      "iteration number: 13: scoreBIC = 4971.402594883431\n",
      "max ngbr <bound method RTGEM.inverse_extend_operator of <rtgemlib.rtgem.RTGEM object at 0x00000160F0256898>>, args=[('B', 'A')], max_scoreBIC = 6953.594713349928\n",
      "iteration number: 14: scoreBIC = 6953.594713349928\n",
      "max ngbr <bound method RTGEM.inverse_extend_operator of <rtgemlib.rtgem.RTGEM object at 0x00000160F0256898>>, args=[('B', 'A')], max_scoreBIC = 6979.4480614153445\n",
      "iteration number: 15: scoreBIC = 6979.4480614153445\n",
      "max ngbr <bound method RTGEM.inverse_extend_operator of <rtgemlib.rtgem.RTGEM object at 0x00000160F0256898>>, args=[('B', 'A')], max_scoreBIC = 6992.2138533105335\n",
      "iteration number: 16: scoreBIC = 6992.2138533105335\n",
      "max ngbr <bound method RTGEM.inverse_add_edge_operator of <rtgemlib.rtgem.RTGEM object at 0x00000160F0256898>>, args=[('B', 'A')], max_scoreBIC = 6996.154825792797\n",
      "iteration number: 17: scoreBIC = 6996.154825792797\n"
     ]
    }
   ],
   "source": [
    "it = 0\n",
    "backward_logs = []\n",
    "local_maximum = False\n",
    "\n",
    "bic_scores_backward = []\n",
    "\n",
    "while not local_maximum:\n",
    "    #     max_ngbr_score = -np.inf\n",
    "    local_maximum = True\n",
    "    max_score_ngbr = -np.inf\n",
    "    max_op = None\n",
    "    max_args = None\n",
    "    max_changed_node_cnt_drt_df = None\n",
    "    max_size_log_td_ngbr = None\n",
    "    max_LogL_ngbr = None\n",
    "    print('iteration number: {}: scoreBIC = {}'.format(it, score))\n",
    "    for ngbr_info in backward_neighbors_gen(model, data, t_max, lambdas_count_duration_df,LogL, size_log_td, log_td,):\n",
    "\n",
    "        op, args, LogL_ngbr, size_log_td_ngbr, changed_node_cnt_drt_df = ngbr_info\n",
    "        score_ngbr = LogL_ngbr - size_log_td_ngbr\n",
    "\n",
    "#         if score_ngbr > max_score_ngbr:\n",
    "        max_score_ngbr = score_ngbr\n",
    "        max_op = op\n",
    "        max_args = args\n",
    "        max_changed_node_cnt_drt_df = changed_node_cnt_drt_df\n",
    "        max_size_log_td_ngbr = size_log_td_ngbr\n",
    "        max_LogL_ngbr = LogL_ngbr\n",
    "\n",
    "        if max_score_ngbr > score:\n",
    "            print('max ngbr {}, args={}, max_scoreBIC = {}'.format(max_op, max_args, max_score_ngbr))\n",
    "\n",
    "            max_op(*max_args)\n",
    "            LogL = max_LogL_ngbr\n",
    "            size_log_td = max_size_log_td_ngbr\n",
    "            changed_node = max_changed_node_cnt_drt_df.iloc[0]['event']\n",
    "            lambdas_count_duration_df = lambdas_count_duration_df[lambdas_count_duration_df['event'] != changed_node]\n",
    "            lambdas_count_duration_df = pd.concat([lambdas_count_duration_df, max_changed_node_cnt_drt_df])\n",
    "\n",
    "            local_maximum = False\n",
    "            score = max_score_ngbr\n",
    "            op_name = 'supprimerArc'\n",
    "\n",
    "            if max_op == model.inverse_extend_operator:\n",
    "                op_name = 'reduireIntervalle'\n",
    "            # pd.Dataframe(columns=['it', 'T_A', 'T_B', 'edges', 'max_ngbr', 'scoreBic'])\n",
    "            if max_op == model.inverse_split_operator:\n",
    "                op_name = 'FusionnerIntervalle'\n",
    "\n",
    "            backward_logs.append([it, copy.deepcopy(model.get_node_parents_timescales('A')),\\\n",
    "                                 copy.deepcopy(model.get_node_parents_timescales('B')),\\\n",
    "                                 list(model.dpd_graph.edges()),\\\n",
    "                                 op_name,\\\n",
    "                                 max_args,\\\n",
    "                                 score])\n",
    "            \n",
    "            break\n",
    "    \n",
    "    bic_scores_backward.append(score)\n",
    "    \n",
    "    it += 1"
   ]
  },
  {
   "cell_type": "code",
   "execution_count": null,
   "metadata": {},
   "outputs": [],
   "source": []
  },
  {
   "cell_type": "code",
   "execution_count": null,
   "metadata": {},
   "outputs": [],
   "source": [
    "\n",
    "# Fixing random state for reproducibility\n",
    "np.random.seed(19680801)\n",
    "\n",
    "# create random data\n",
    "xdata = np.random.random([2, 10])\n"
   ]
  },
  {
   "cell_type": "code",
   "execution_count": null,
   "metadata": {},
   "outputs": [],
   "source": [
    "xdata"
   ]
  },
  {
   "cell_type": "code",
   "execution_count": null,
   "metadata": {},
   "outputs": [],
   "source": [
    "\n",
    "# split the data into two parts\n",
    "xdata1 = xdata[0, :]\n",
    "xdata2 = xdata[1, :]\n",
    "\n",
    "# sort the data so it makes clean curves\n",
    "xdata1.sort()\n",
    "xdata2.sort()"
   ]
  },
  {
   "cell_type": "code",
   "execution_count": null,
   "metadata": {},
   "outputs": [],
   "source": [
    "# create some y data points\n",
    "ydata1 = xdata1 ** 2\n",
    "ydata2 = 1 - xdata2 ** 3\n",
    "\n",
    "# plot the data\n",
    "fig = plt.figure()\n",
    "ax = fig.add_subplot(1, 1, 1)\n",
    "ax.plot(xdata1, ydata1, 'r', xdata2, ydata2, 'b')"
   ]
  },
  {
   "cell_type": "code",
   "execution_count": null,
   "metadata": {},
   "outputs": [],
   "source": [
    "\n",
    "\n",
    "\n",
    "\n",
    "# create the events marking the x data points\n",
    "xevents1 = EventCollection(xdata1, color=[1, 0, 0], linelength=0.05)\n",
    "xevents2 = EventCollection(xdata2, color=[0, 0, 1], linelength=0.05)\n",
    "\n",
    "# create the events marking the y data points\n",
    "yevents1 = EventCollection(ydata1, color=[1, 0, 0], linelength=0.05,\n",
    "                           orientation='vertical')\n",
    "yevents2 = EventCollection(ydata2, color=[0, 0, 1], linelength=0.05,\n",
    "                           orientation='vertical')\n",
    "\n",
    "# add the events to the axis\n",
    "ax.add_collection(xevents1)\n",
    "ax.add_collection(xevents2)\n",
    "ax.add_collection(yevents1)\n",
    "ax.add_collection(yevents2)\n",
    "\n",
    "# set the limits\n",
    "ax.set_xlim([0, 1])\n",
    "ax.set_ylim([0, 1])\n",
    "\n",
    "ax.set_title('line plot with data points')\n",
    "\n",
    "# display the plot\n",
    "plt.show()"
   ]
  },
  {
   "cell_type": "code",
   "execution_count": null,
   "metadata": {},
   "outputs": [],
   "source": []
  }
 ],
 "metadata": {
  "kernelspec": {
   "display_name": "Python 3",
   "language": "python",
   "name": "python3"
  },
  "language_info": {
   "codemirror_mode": {
    "name": "ipython",
    "version": 3
   },
   "file_extension": ".py",
   "mimetype": "text/x-python",
   "name": "python",
   "nbconvert_exporter": "python",
   "pygments_lexer": "ipython3",
   "version": "3.6.4"
  }
 },
 "nbformat": 4,
 "nbformat_minor": 2
}
