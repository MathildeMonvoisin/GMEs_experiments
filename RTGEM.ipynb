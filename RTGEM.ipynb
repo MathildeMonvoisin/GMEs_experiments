{
 "cells": [
  {
   "cell_type": "code",
   "execution_count": 1,
   "metadata": {
    "collapsed": true
   },
   "outputs": [],
   "source": [
    "from rtgemlib import RTGEM\n",
    "from rtgemlib import sample_from_tgem, LogLikelihood, scoreBic, mle_lambdas, LocaleLogLikelihood, get_count_duration_df,\\\n",
    "get_nodes_pcv_from_data, get_node_pcv_from_data, get_node_LogLikelihood, set_pcv_lambda_t, backward_neighbors_gen,\\\n",
    "compute_logLikelihood, backwardSearch\n",
    "\n",
    "from tqdm import tqdm\n",
    "import pandas as pd\n",
    "import numpy as np\n",
    "import matplotlib.pyplot as plt\n",
    "import networkx as nx"
   ]
  },
  {
   "cell_type": "code",
   "execution_count": 2,
   "metadata": {
    "collapsed": true
   },
   "outputs": [],
   "source": [
    "# first key is the child, second key is ur moma\n",
    "model_AB = {\n",
    "    'B':\n",
    "    {\n",
    "        'timescales': {'A': [[1, 2]], 'B': [[5, 6]]},\n",
    "        'lambdas': {\n",
    "            (0, 0): 0.6,\n",
    "            (0, 1): 1.6,\n",
    "            (1, 0): 3,\n",
    "            (1, 1): 1\n",
    "        }\n",
    "    },\n",
    "    'A': {\n",
    "        'timescales': {'B': [[2, 3]]},\n",
    "        'lambdas': {\n",
    "            (0,): 0.5,\n",
    "            (1,): 1\n",
    "        }\n",
    "    }\n",
    "#     'C': {\n",
    "#         'timescales': {'C': [[2, 3]]},\n",
    "#         'lambdas': {\n",
    "#             (0,): 0.5,\n",
    "#             (1,): 1\n",
    "#         }\n",
    "#     },\n",
    "#     'D': {\n",
    "#         'timescales': {},\n",
    "#         'lambdas': {(): 2}\n",
    "#     }\n",
    "}"
   ]
  },
  {
   "cell_type": "code",
   "execution_count": 3,
   "metadata": {
    "collapsed": true
   },
   "outputs": [],
   "source": [
    "def empty_nodes(nodes):\n",
    "    return dict(zip(nodes, [{'timescales': {}, 'lambdas': {(): 1}}] * len(nodes)))"
   ]
  },
  {
   "cell_type": "code",
   "execution_count": 4,
   "metadata": {},
   "outputs": [
    {
     "name": "stderr",
     "output_type": "stream",
     "text": [
      "100%|████████████████████████████████████████████████████████████████████████████████████| 1/1 [00:05<00:00,  5.08s/it]\n"
     ]
    }
   ],
   "source": [
    "gms = RTGEM(model_AB)\n",
    "sampled_data = sample_from_tgem(gms, t_min=0, t_max=50)"
   ]
  },
  {
   "cell_type": "code",
   "execution_count": 5,
   "metadata": {
    "scrolled": true
   },
   "outputs": [
    {
     "name": "stderr",
     "output_type": "stream",
     "text": [
      "100%|█████████████████████████████████████████████████████████████████████████████████| 29/29 [00:00<00:00, 243.84it/s]\n"
     ]
    },
    {
     "data": {
      "text/html": [
       "<div>\n",
       "<style scoped>\n",
       "    .dataframe tbody tr th:only-of-type {\n",
       "        vertical-align: middle;\n",
       "    }\n",
       "\n",
       "    .dataframe tbody tr th {\n",
       "        vertical-align: top;\n",
       "    }\n",
       "\n",
       "    .dataframe thead th {\n",
       "        text-align: right;\n",
       "    }\n",
       "</style>\n",
       "<table border=\"1\" class=\"dataframe\">\n",
       "  <thead>\n",
       "    <tr style=\"text-align: right;\">\n",
       "      <th></th>\n",
       "      <th>event</th>\n",
       "      <th>pcv</th>\n",
       "      <th>lambda_t</th>\n",
       "      <th>duration</th>\n",
       "      <th>count</th>\n",
       "    </tr>\n",
       "  </thead>\n",
       "  <tbody>\n",
       "    <tr>\n",
       "      <th>0</th>\n",
       "      <td>A</td>\n",
       "      <td>(1, 0, 0, 0, 0, 0, 0, 0, 0, 0)</td>\n",
       "      <td>0.349675</td>\n",
       "      <td>48.616529</td>\n",
       "      <td>17</td>\n",
       "    </tr>\n",
       "    <tr>\n",
       "      <th>0</th>\n",
       "      <td>B</td>\n",
       "      <td>(1, 0, 0, 0, 0, 0, 0, 0, 0, 1, 0, 0, 0, 0, 0, 0)</td>\n",
       "      <td>0.628116</td>\n",
       "      <td>49.353922</td>\n",
       "      <td>31</td>\n",
       "    </tr>\n",
       "    <tr>\n",
       "      <th>1</th>\n",
       "      <td>B</td>\n",
       "      <td>(1, 0, 0, 0, 0, 0, 0, 0, 0, 0, 0, 0, 0, 0, 0, 0)</td>\n",
       "      <td>0.628116</td>\n",
       "      <td>49.353922</td>\n",
       "      <td>31</td>\n",
       "    </tr>\n",
       "    <tr>\n",
       "      <th>1</th>\n",
       "      <td>A</td>\n",
       "      <td>(1, 0, 0, 0, 0, 1, 0, 0, 0, 0)</td>\n",
       "      <td>0.349675</td>\n",
       "      <td>48.616529</td>\n",
       "      <td>17</td>\n",
       "    </tr>\n",
       "    <tr>\n",
       "      <th>4</th>\n",
       "      <td>B</td>\n",
       "      <td>(1, 1, 0, 0, 0, 0, 0, 0, 0, 1, 0, 1, 0, 0, 0, 0)</td>\n",
       "      <td>0.628116</td>\n",
       "      <td>49.353922</td>\n",
       "      <td>31</td>\n",
       "    </tr>\n",
       "    <tr>\n",
       "      <th>2</th>\n",
       "      <td>A</td>\n",
       "      <td>(1, 0, 0, 0, 0, 1, 1, 0, 0, 0)</td>\n",
       "      <td>0.349675</td>\n",
       "      <td>48.616529</td>\n",
       "      <td>17</td>\n",
       "    </tr>\n",
       "    <tr>\n",
       "      <th>6</th>\n",
       "      <td>B</td>\n",
       "      <td>(1, 0, 1, 1, 1, 0, 0, 0, 0, 0, 0, 0, 0, 0, 0, 0)</td>\n",
       "      <td>0.628116</td>\n",
       "      <td>49.353922</td>\n",
       "      <td>31</td>\n",
       "    </tr>\n",
       "    <tr>\n",
       "      <th>4</th>\n",
       "      <td>A</td>\n",
       "      <td>(1, 1, 0, 0, 0, 1, 1, 1, 0, 0)</td>\n",
       "      <td>0.349675</td>\n",
       "      <td>48.616529</td>\n",
       "      <td>17</td>\n",
       "    </tr>\n",
       "    <tr>\n",
       "      <th>7</th>\n",
       "      <td>B</td>\n",
       "      <td>(1, 0, 1, 1, 1, 0, 0, 0, 0, 1, 1, 1, 0, 0, 1, 0)</td>\n",
       "      <td>0.628116</td>\n",
       "      <td>49.353922</td>\n",
       "      <td>31</td>\n",
       "    </tr>\n",
       "    <tr>\n",
       "      <th>8</th>\n",
       "      <td>B</td>\n",
       "      <td>(1, 0, 0, 0, 1, 0, 0, 0, 0, 0, 0, 0, 0, 0, 0, 0)</td>\n",
       "      <td>0.628116</td>\n",
       "      <td>49.353922</td>\n",
       "      <td>31</td>\n",
       "    </tr>\n",
       "    <tr>\n",
       "      <th>5</th>\n",
       "      <td>A</td>\n",
       "      <td>(1, 1, 1, 0, 0, 1, 0, 1, 1, 0)</td>\n",
       "      <td>0.349675</td>\n",
       "      <td>48.616529</td>\n",
       "      <td>17</td>\n",
       "    </tr>\n",
       "    <tr>\n",
       "      <th>10</th>\n",
       "      <td>B</td>\n",
       "      <td>(1, 1, 0, 1, 1, 1, 0, 0, 0, 1, 0, 0, 1, 0, 1, 1)</td>\n",
       "      <td>0.628116</td>\n",
       "      <td>49.353922</td>\n",
       "      <td>31</td>\n",
       "    </tr>\n",
       "    <tr>\n",
       "      <th>11</th>\n",
       "      <td>B</td>\n",
       "      <td>(1, 0, 1, 0, 1, 1, 0, 0, 0, 0, 0, 0, 0, 0, 0, 0)</td>\n",
       "      <td>0.628116</td>\n",
       "      <td>49.353922</td>\n",
       "      <td>31</td>\n",
       "    </tr>\n",
       "    <tr>\n",
       "      <th>7</th>\n",
       "      <td>A</td>\n",
       "      <td>(1, 1, 1, 0, 0, 1, 1, 1, 1, 1)</td>\n",
       "      <td>0.349675</td>\n",
       "      <td>48.616529</td>\n",
       "      <td>17</td>\n",
       "    </tr>\n",
       "    <tr>\n",
       "      <th>12</th>\n",
       "      <td>B</td>\n",
       "      <td>(1, 0, 1, 1, 1, 1, 0, 0, 0, 1, 1, 0, 0, 0, 1, 1)</td>\n",
       "      <td>0.628116</td>\n",
       "      <td>49.353922</td>\n",
       "      <td>31</td>\n",
       "    </tr>\n",
       "    <tr>\n",
       "      <th>13</th>\n",
       "      <td>B</td>\n",
       "      <td>(1, 0, 0, 1, 1, 1, 1, 0, 0, 0, 0, 0, 0, 0, 0, 0)</td>\n",
       "      <td>0.628116</td>\n",
       "      <td>49.353922</td>\n",
       "      <td>31</td>\n",
       "    </tr>\n",
       "    <tr>\n",
       "      <th>15</th>\n",
       "      <td>B</td>\n",
       "      <td>(1, 1, 0, 0, 1, 1, 1, 0, 0, 0, 0, 0, 0, 0, 0, 0)</td>\n",
       "      <td>0.628116</td>\n",
       "      <td>49.353922</td>\n",
       "      <td>31</td>\n",
       "    </tr>\n",
       "    <tr>\n",
       "      <th>16</th>\n",
       "      <td>B</td>\n",
       "      <td>(1, 0, 1, 0, 1, 1, 1, 0, 0, 0, 0, 0, 0, 0, 0, 0)</td>\n",
       "      <td>0.628116</td>\n",
       "      <td>49.353922</td>\n",
       "      <td>31</td>\n",
       "    </tr>\n",
       "    <tr>\n",
       "      <th>8</th>\n",
       "      <td>A</td>\n",
       "      <td>(1, 1, 1, 1, 0, 0, 0, 0, 0, 0)</td>\n",
       "      <td>0.349675</td>\n",
       "      <td>48.616529</td>\n",
       "      <td>17</td>\n",
       "    </tr>\n",
       "    <tr>\n",
       "      <th>17</th>\n",
       "      <td>B</td>\n",
       "      <td>(1, 1, 1, 0, 1, 1, 1, 0, 0, 1, 1, 0, 1, 0, 1, 1)</td>\n",
       "      <td>0.628116</td>\n",
       "      <td>49.353922</td>\n",
       "      <td>31</td>\n",
       "    </tr>\n",
       "    <tr>\n",
       "      <th>18</th>\n",
       "      <td>B</td>\n",
       "      <td>(1, 1, 1, 0, 1, 1, 1, 0, 0, 1, 0, 1, 1, 0, 1, 1)</td>\n",
       "      <td>0.628116</td>\n",
       "      <td>49.353922</td>\n",
       "      <td>31</td>\n",
       "    </tr>\n",
       "    <tr>\n",
       "      <th>19</th>\n",
       "      <td>B</td>\n",
       "      <td>(1, 1, 0, 1, 1, 1, 1, 0, 0, 1, 0, 1, 1, 0, 1, 1)</td>\n",
       "      <td>0.628116</td>\n",
       "      <td>49.353922</td>\n",
       "      <td>31</td>\n",
       "    </tr>\n",
       "    <tr>\n",
       "      <th>10</th>\n",
       "      <td>A</td>\n",
       "      <td>(1, 1, 1, 1, 1, 0, 0, 0, 0, 0)</td>\n",
       "      <td>0.349675</td>\n",
       "      <td>48.616529</td>\n",
       "      <td>17</td>\n",
       "    </tr>\n",
       "    <tr>\n",
       "      <th>20</th>\n",
       "      <td>B</td>\n",
       "      <td>(1, 0, 1, 1, 1, 0, 1, 1, 0, 1, 0, 1, 0, 1, 1, 1)</td>\n",
       "      <td>0.628116</td>\n",
       "      <td>49.353922</td>\n",
       "      <td>31</td>\n",
       "    </tr>\n",
       "    <tr>\n",
       "      <th>21</th>\n",
       "      <td>B</td>\n",
       "      <td>(1, 1, 0, 1, 1, 1, 1, 1, 0, 1, 1, 0, 1, 0, 1, 1)</td>\n",
       "      <td>0.628116</td>\n",
       "      <td>49.353922</td>\n",
       "      <td>31</td>\n",
       "    </tr>\n",
       "    <tr>\n",
       "      <th>22</th>\n",
       "      <td>B</td>\n",
       "      <td>(1, 0, 1, 1, 1, 1, 1, 1, 1, 1, 1, 1, 0, 0, 1, 1)</td>\n",
       "      <td>0.628116</td>\n",
       "      <td>49.353922</td>\n",
       "      <td>31</td>\n",
       "    </tr>\n",
       "    <tr>\n",
       "      <th>23</th>\n",
       "      <td>B</td>\n",
       "      <td>(1, 1, 1, 1, 1, 1, 1, 1, 1, 1, 1, 1, 0, 0, 1, 1)</td>\n",
       "      <td>0.628116</td>\n",
       "      <td>49.353922</td>\n",
       "      <td>31</td>\n",
       "    </tr>\n",
       "    <tr>\n",
       "      <th>25</th>\n",
       "      <td>B</td>\n",
       "      <td>(1, 1, 0, 1, 1, 1, 1, 1, 1, 0, 0, 0, 0, 0, 0, 0)</td>\n",
       "      <td>0.628116</td>\n",
       "      <td>49.353922</td>\n",
       "      <td>31</td>\n",
       "    </tr>\n",
       "    <tr>\n",
       "      <th>26</th>\n",
       "      <td>B</td>\n",
       "      <td>(1, 0, 1, 1, 1, 1, 1, 1, 1, 0, 0, 0, 0, 0, 0, 0)</td>\n",
       "      <td>0.628116</td>\n",
       "      <td>49.353922</td>\n",
       "      <td>31</td>\n",
       "    </tr>\n",
       "    <tr>\n",
       "      <th>14</th>\n",
       "      <td>A</td>\n",
       "      <td>(1, 1, 1, 0, 1, 0, 0, 0, 0, 0)</td>\n",
       "      <td>0.349675</td>\n",
       "      <td>48.616529</td>\n",
       "      <td>17</td>\n",
       "    </tr>\n",
       "    <tr>\n",
       "      <th>28</th>\n",
       "      <td>B</td>\n",
       "      <td>(1, 0, 1, 1, 1, 1, 1, 1, 0, 0, 0, 0, 0, 0, 0, 0)</td>\n",
       "      <td>0.628116</td>\n",
       "      <td>49.353922</td>\n",
       "      <td>31</td>\n",
       "    </tr>\n",
       "    <tr>\n",
       "      <th>16</th>\n",
       "      <td>A</td>\n",
       "      <td>(0, 0, 0, 0, 0, 0, 0, 0, 0, 0)</td>\n",
       "      <td>0.349675</td>\n",
       "      <td>48.616529</td>\n",
       "      <td>17</td>\n",
       "    </tr>\n",
       "    <tr>\n",
       "      <th>29</th>\n",
       "      <td>B</td>\n",
       "      <td>(0, 0, 0, 0, 0, 0, 0, 0, 0, 0, 0, 0, 0, 0, 0, 0)</td>\n",
       "      <td>0.628116</td>\n",
       "      <td>49.353922</td>\n",
       "      <td>31</td>\n",
       "    </tr>\n",
       "  </tbody>\n",
       "</table>\n",
       "</div>"
      ],
      "text/plain": [
       "   event                                               pcv  lambda_t  \\\n",
       "0      A                    (1, 0, 0, 0, 0, 0, 0, 0, 0, 0)  0.349675   \n",
       "0      B  (1, 0, 0, 0, 0, 0, 0, 0, 0, 1, 0, 0, 0, 0, 0, 0)  0.628116   \n",
       "1      B  (1, 0, 0, 0, 0, 0, 0, 0, 0, 0, 0, 0, 0, 0, 0, 0)  0.628116   \n",
       "1      A                    (1, 0, 0, 0, 0, 1, 0, 0, 0, 0)  0.349675   \n",
       "4      B  (1, 1, 0, 0, 0, 0, 0, 0, 0, 1, 0, 1, 0, 0, 0, 0)  0.628116   \n",
       "2      A                    (1, 0, 0, 0, 0, 1, 1, 0, 0, 0)  0.349675   \n",
       "6      B  (1, 0, 1, 1, 1, 0, 0, 0, 0, 0, 0, 0, 0, 0, 0, 0)  0.628116   \n",
       "4      A                    (1, 1, 0, 0, 0, 1, 1, 1, 0, 0)  0.349675   \n",
       "7      B  (1, 0, 1, 1, 1, 0, 0, 0, 0, 1, 1, 1, 0, 0, 1, 0)  0.628116   \n",
       "8      B  (1, 0, 0, 0, 1, 0, 0, 0, 0, 0, 0, 0, 0, 0, 0, 0)  0.628116   \n",
       "5      A                    (1, 1, 1, 0, 0, 1, 0, 1, 1, 0)  0.349675   \n",
       "10     B  (1, 1, 0, 1, 1, 1, 0, 0, 0, 1, 0, 0, 1, 0, 1, 1)  0.628116   \n",
       "11     B  (1, 0, 1, 0, 1, 1, 0, 0, 0, 0, 0, 0, 0, 0, 0, 0)  0.628116   \n",
       "7      A                    (1, 1, 1, 0, 0, 1, 1, 1, 1, 1)  0.349675   \n",
       "12     B  (1, 0, 1, 1, 1, 1, 0, 0, 0, 1, 1, 0, 0, 0, 1, 1)  0.628116   \n",
       "13     B  (1, 0, 0, 1, 1, 1, 1, 0, 0, 0, 0, 0, 0, 0, 0, 0)  0.628116   \n",
       "15     B  (1, 1, 0, 0, 1, 1, 1, 0, 0, 0, 0, 0, 0, 0, 0, 0)  0.628116   \n",
       "16     B  (1, 0, 1, 0, 1, 1, 1, 0, 0, 0, 0, 0, 0, 0, 0, 0)  0.628116   \n",
       "8      A                    (1, 1, 1, 1, 0, 0, 0, 0, 0, 0)  0.349675   \n",
       "17     B  (1, 1, 1, 0, 1, 1, 1, 0, 0, 1, 1, 0, 1, 0, 1, 1)  0.628116   \n",
       "18     B  (1, 1, 1, 0, 1, 1, 1, 0, 0, 1, 0, 1, 1, 0, 1, 1)  0.628116   \n",
       "19     B  (1, 1, 0, 1, 1, 1, 1, 0, 0, 1, 0, 1, 1, 0, 1, 1)  0.628116   \n",
       "10     A                    (1, 1, 1, 1, 1, 0, 0, 0, 0, 0)  0.349675   \n",
       "20     B  (1, 0, 1, 1, 1, 0, 1, 1, 0, 1, 0, 1, 0, 1, 1, 1)  0.628116   \n",
       "21     B  (1, 1, 0, 1, 1, 1, 1, 1, 0, 1, 1, 0, 1, 0, 1, 1)  0.628116   \n",
       "22     B  (1, 0, 1, 1, 1, 1, 1, 1, 1, 1, 1, 1, 0, 0, 1, 1)  0.628116   \n",
       "23     B  (1, 1, 1, 1, 1, 1, 1, 1, 1, 1, 1, 1, 0, 0, 1, 1)  0.628116   \n",
       "25     B  (1, 1, 0, 1, 1, 1, 1, 1, 1, 0, 0, 0, 0, 0, 0, 0)  0.628116   \n",
       "26     B  (1, 0, 1, 1, 1, 1, 1, 1, 1, 0, 0, 0, 0, 0, 0, 0)  0.628116   \n",
       "14     A                    (1, 1, 1, 0, 1, 0, 0, 0, 0, 0)  0.349675   \n",
       "28     B  (1, 0, 1, 1, 1, 1, 1, 1, 0, 0, 0, 0, 0, 0, 0, 0)  0.628116   \n",
       "16     A                    (0, 0, 0, 0, 0, 0, 0, 0, 0, 0)  0.349675   \n",
       "29     B  (0, 0, 0, 0, 0, 0, 0, 0, 0, 0, 0, 0, 0, 0, 0, 0)  0.628116   \n",
       "\n",
       "     duration  count  \n",
       "0   48.616529     17  \n",
       "0   49.353922     31  \n",
       "1   49.353922     31  \n",
       "1   48.616529     17  \n",
       "4   49.353922     31  \n",
       "2   48.616529     17  \n",
       "6   49.353922     31  \n",
       "4   48.616529     17  \n",
       "7   49.353922     31  \n",
       "8   49.353922     31  \n",
       "5   48.616529     17  \n",
       "10  49.353922     31  \n",
       "11  49.353922     31  \n",
       "7   48.616529     17  \n",
       "12  49.353922     31  \n",
       "13  49.353922     31  \n",
       "15  49.353922     31  \n",
       "16  49.353922     31  \n",
       "8   48.616529     17  \n",
       "17  49.353922     31  \n",
       "18  49.353922     31  \n",
       "19  49.353922     31  \n",
       "10  48.616529     17  \n",
       "20  49.353922     31  \n",
       "21  49.353922     31  \n",
       "22  49.353922     31  \n",
       "23  49.353922     31  \n",
       "25  49.353922     31  \n",
       "26  49.353922     31  \n",
       "14  48.616529     17  \n",
       "28  49.353922     31  \n",
       "16  48.616529     17  \n",
       "29  49.353922     31  "
      ]
     },
     "execution_count": 5,
     "metadata": {},
     "output_type": "execute_result"
    }
   ],
   "source": [
    "gms_rd = RTGEM(empty_nodes(list(model_AB.keys())))\n",
    "gms_rd.random_walk(max_depth=30, t_n=50)\n",
    "mle_lambdas(model=gms_rd, data=sampled_data)"
   ]
  },
  {
   "cell_type": "code",
   "execution_count": 6,
   "metadata": {},
   "outputs": [
    {
     "data": {
      "text/plain": [
       "[('B',\n",
       "  'B',\n",
       "  {'timescales': [[0, 5.0],\n",
       "    [5.0, 6.25],\n",
       "    [6.25, 7.5],\n",
       "    [7.5, 10],\n",
       "    [10, 20],\n",
       "    [20, 25.0],\n",
       "    [25.0, 30.0],\n",
       "    [30.0, 35.0],\n",
       "    [35.0, 40]]}),\n",
       " ('B',\n",
       "  'A',\n",
       "  {'timescales': [[0, 5.0], [5.0, 10], [10, 15.0], [15.0, 20], [20, 40]]}),\n",
       " ('A',\n",
       "  'A',\n",
       "  {'timescales': [[0, 10], [10, 20], [20, 25.0], [25.0, 30.0], [30.0, 40]]}),\n",
       " ('A',\n",
       "  'B',\n",
       "  {'timescales': [[0, 2.5],\n",
       "    [2.5, 5.0],\n",
       "    [5.0, 7.5],\n",
       "    [7.5, 8.75],\n",
       "    [8.75, 10],\n",
       "    [10, 20],\n",
       "    [20, 40]]})]"
      ]
     },
     "execution_count": 6,
     "metadata": {},
     "output_type": "execute_result"
    }
   ],
   "source": [
    "list(gms_rd.dpd_graph.edges.data())"
   ]
  },
  {
   "cell_type": "code",
   "execution_count": 7,
   "metadata": {
    "scrolled": true
   },
   "outputs": [
    {
     "data": {
      "image/png": "[encoded data removed]",
      "text/plain": [
       "<matplotlib.figure.Figure at 0x1ad6eca5198>"
      ]
     },
     "metadata": {},
     "output_type": "display_data"
    }
   ],
   "source": [
    "nx.draw(gms_rd.dpd_graph, with_labels=True)\n",
    "plt.show()"
   ]
  },
  {
   "cell_type": "code",
   "execution_count": 8,
   "metadata": {},
   "outputs": [
    {
     "data": {
      "text/plain": [
       "[('B', 'B', {'timescales': [[5, 6]]}),\n",
       " ('B', 'A', {'timescales': [[2, 3]]}),\n",
       " ('A', 'B', {'timescales': [[1, 2]]})]"
      ]
     },
     "execution_count": 8,
     "metadata": {},
     "output_type": "execute_result"
    }
   ],
   "source": [
    "list(gms.dpd_graph.edges.data())"
   ]
  },
  {
   "cell_type": "code",
   "execution_count": 9,
   "metadata": {
    "scrolled": true
   },
   "outputs": [
    {
     "data": {
      "image/png": "[encoded data removed]",
      "text/plain": [
       "<matplotlib.figure.Figure at 0x1ad706f15c0>"
      ]
     },
     "metadata": {},
     "output_type": "display_data"
    }
   ],
   "source": [
    "nx.draw(gms.dpd_graph, with_labels=True)\n",
    "plt.show()"
   ]
  },
  {
   "cell_type": "code",
   "execution_count": 10,
   "metadata": {},
   "outputs": [
    {
     "name": "stderr",
     "output_type": "stream",
     "text": [
      "C:\\Users\\MOTALY\\Anaconda3\\lib\\site-packages\\pandas\\core\\indexing.py:1472: PerformanceWarning: indexing past lexsort depth may impact performance.\n",
      "  return self._getitem_tuple(key)\n",
      "C:\\Users\\MOTALY\\Desktop\\pred\\dev\\GMEs_experiments\\rtgemlib\\learning.py:24: PerformanceWarning: indexing past lexsort depth may impact performance.\n",
      "  lambda lm: data_idx.loc[(lm['event'], lm[lambda_col])].shape[0], axis=1)\n"
     ]
    },
    {
     "data": {
      "text/plain": [
       "-288.52978662826166"
      ]
     },
     "execution_count": 10,
     "metadata": {},
     "output_type": "execute_result"
    }
   ],
   "source": [
    "scoreBic(model=gms, observed_data=sampled_data)"
   ]
  },
  {
   "cell_type": "code",
   "execution_count": 11,
   "metadata": {
    "scrolled": false
   },
   "outputs": [
    {
     "data": {
      "text/plain": [
       "-258578.72786330784"
      ]
     },
     "execution_count": 11,
     "metadata": {},
     "output_type": "execute_result"
    }
   ],
   "source": [
    "scoreBic(model=gms_rd, observed_data=sampled_data)"
   ]
  },
  {
   "cell_type": "code",
   "execution_count": 12,
   "metadata": {
    "collapsed": true,
    "scrolled": true
   },
   "outputs": [],
   "source": [
    "# def backwardSearch(model, data):\n",
    "#     set_pcv_lambda_t(model, data)\n",
    "#     lambdas_count_duration_df = get_count_duration_df(data)\n",
    "\n",
    "#     LogL = compute_logLikelihood(lambdas_count_duration_df)\n",
    "#     log_td = np.log(data.iloc[-1]['time'] - data.iloc[0]['time'])\n",
    "\n",
    "#     size_log_td = model.size() * log_td\n",
    "    \n",
    "#     score = LogL - size_log_td\n",
    "#     local_maximum = False\n",
    "    \n",
    "#     it = 0\n",
    "#     while not local_maximum:\n",
    "#     #     max_ngbr_score = -np.inf\n",
    "#         local_maximum = True\n",
    "#         print('iteration number: {}: scoreBIC = {}'.format(it, score))\n",
    "\n",
    "#         for ngbr_info in tqdm(backward_neighbors_gen(model, data, lambdas_count_duration_df,\\\n",
    "#                                                  LogL, size_log_td, log_td)):\n",
    "\n",
    "#             inverse_op, args, LogL_ngbr, size_log_td_ngbr, changed_node_cnt_drt_df = ngbr_info\n",
    "#             score_ngbr = LogL_ngbr - size_log_td_ngbr\n",
    "\n",
    "#             if score_ngbr > score:\n",
    "#                 print('max ngbr {}, args={} '.format(inverse_op, args))\n",
    "#                 inverse_op(*args)\n",
    "#                 LogL = LogL_ngbr\n",
    "#                 size_log_td = size_log_td_ngbr\n",
    "#                 changed_node = changed_node_cnt_drt_df.iloc[0]['event']\n",
    "#                 lambdas_count_duration_df = lambdas_count_duration_df[lambdas_count_duration_df['event'] != changed_node]\n",
    "#                 lambdas_count_duration_df = pd.concat([lambdas_count_duration_df, changed_node_cnt_drt_df])\n",
    "                \n",
    "#                 local_maximum = False\n",
    "#                 score = LogL - size_log_td\n",
    "\n",
    "#                 break\n",
    "#         it += 1\n",
    "#     #initialisation des lambdas, et opti\n",
    "#     for nd in model.dpd_graph.nodes:\n",
    "#         model.initLambdas(nd)\n",
    "        \n",
    "#     mle_lambdas(model, data)\n",
    "    \n",
    "#     return model, score"
   ]
  },
  {
   "cell_type": "code",
   "execution_count": 13,
   "metadata": {},
   "outputs": [
    {
     "name": "stdout",
     "output_type": "stream",
     "text": [
      "iteration number: 0: scoreBIC = -258578.72786330784\n"
     ]
    },
    {
     "name": "stderr",
     "output_type": "stream",
     "text": [
      "\r",
      "0it [00:00, ?it/s]"
     ]
    },
    {
     "name": "stdout",
     "output_type": "stream",
     "text": [
      "max ngbr <bound method RTGEM.inverse_split_operator of <rtgemlib.rtgem.RTGEM object at 0x000001AD6FD44978>>, args=[('B', 'B'), 1] \n"
     ]
    },
    {
     "name": "stderr",
     "output_type": "stream",
     "text": [
      "\n"
     ]
    },
    {
     "name": "stdout",
     "output_type": "stream",
     "text": [
      "iteration number: 1: scoreBIC = -131828.06337678328\n"
     ]
    },
    {
     "name": "stderr",
     "output_type": "stream",
     "text": [
      "\r",
      "0it [00:00, ?it/s]"
     ]
    },
    {
     "name": "stdout",
     "output_type": "stream",
     "text": [
      "max ngbr <bound method RTGEM.inverse_split_operator of <rtgemlib.rtgem.RTGEM object at 0x000001AD6FD44978>>, args=[('B', 'B'), 1] \n"
     ]
    },
    {
     "name": "stderr",
     "output_type": "stream",
     "text": [
      "\n"
     ]
    },
    {
     "name": "stdout",
     "output_type": "stream",
     "text": [
      "iteration number: 2: scoreBIC = -68430.0231679894\n"
     ]
    },
    {
     "name": "stderr",
     "output_type": "stream",
     "text": [
      "\r",
      "0it [00:00, ?it/s]"
     ]
    },
    {
     "name": "stdout",
     "output_type": "stream",
     "text": [
      "max ngbr <bound method RTGEM.inverse_split_operator of <rtgemlib.rtgem.RTGEM object at 0x000001AD6FD44978>>, args=[('B', 'B'), 0] \n"
     ]
    },
    {
     "name": "stderr",
     "output_type": "stream",
     "text": [
      "\n"
     ]
    },
    {
     "name": "stdout",
     "output_type": "stream",
     "text": [
      "iteration number: 3: scoreBIC = -36731.003063592485\n"
     ]
    },
    {
     "name": "stderr",
     "output_type": "stream",
     "text": [
      "\r",
      "0it [00:00, ?it/s]"
     ]
    },
    {
     "name": "stdout",
     "output_type": "stream",
     "text": [
      "max ngbr <bound method RTGEM.inverse_split_operator of <rtgemlib.rtgem.RTGEM object at 0x000001AD6FD44978>>, args=[('B', 'B'), 0] \n"
     ]
    },
    {
     "name": "stderr",
     "output_type": "stream",
     "text": [
      "\n"
     ]
    },
    {
     "name": "stdout",
     "output_type": "stream",
     "text": [
      "iteration number: 4: scoreBIC = -20858.785045862445\n"
     ]
    },
    {
     "name": "stderr",
     "output_type": "stream",
     "text": [
      "\r",
      "0it [00:00, ?it/s]"
     ]
    },
    {
     "name": "stdout",
     "output_type": "stream",
     "text": [
      "max ngbr <bound method RTGEM.inverse_split_operator of <rtgemlib.rtgem.RTGEM object at 0x000001AD6FD44978>>, args=[('B', 'B'), 1] \n"
     ]
    },
    {
     "name": "stderr",
     "output_type": "stream",
     "text": [
      "\n"
     ]
    },
    {
     "name": "stdout",
     "output_type": "stream",
     "text": [
      "iteration number: 5: scoreBIC = -12899.96807146585\n"
     ]
    },
    {
     "name": "stderr",
     "output_type": "stream",
     "text": [
      "\r",
      "0it [00:00, ?it/s]"
     ]
    },
    {
     "name": "stdout",
     "output_type": "stream",
     "text": [
      "max ngbr <bound method RTGEM.inverse_split_operator of <rtgemlib.rtgem.RTGEM object at 0x000001AD6FD44978>>, args=[('B', 'B'), 2] \n"
     ]
    },
    {
     "name": "stderr",
     "output_type": "stream",
     "text": [
      "\n"
     ]
    },
    {
     "name": "stdout",
     "output_type": "stream",
     "text": [
      "iteration number: 6: scoreBIC = -8852.435687672827\n"
     ]
    },
    {
     "name": "stderr",
     "output_type": "stream",
     "text": [
      "\r",
      "0it [00:00, ?it/s]"
     ]
    },
    {
     "name": "stdout",
     "output_type": "stream",
     "text": [
      "max ngbr <bound method RTGEM.inverse_split_operator of <rtgemlib.rtgem.RTGEM object at 0x000001AD6FD44978>>, args=[('B', 'B'), 1] \n"
     ]
    },
    {
     "name": "stderr",
     "output_type": "stream",
     "text": [
      "\n"
     ]
    },
    {
     "name": "stdout",
     "output_type": "stream",
     "text": [
      "iteration number: 7: scoreBIC = -6783.253564713166\n"
     ]
    },
    {
     "name": "stderr",
     "output_type": "stream",
     "text": [
      "\r",
      "0it [00:00, ?it/s]"
     ]
    },
    {
     "name": "stdout",
     "output_type": "stream",
     "text": [
      "max ngbr <bound method RTGEM.inverse_extend_operator of <rtgemlib.rtgem.RTGEM object at 0x000001AD6FD44978>>, args=[('B', 'B')] \n"
     ]
    },
    {
     "name": "stderr",
     "output_type": "stream",
     "text": [
      "\n"
     ]
    },
    {
     "name": "stdout",
     "output_type": "stream",
     "text": [
      "iteration number: 8: scoreBIC = -5748.662503233336\n"
     ]
    },
    {
     "name": "stderr",
     "output_type": "stream",
     "text": [
      "\r",
      "0it [00:00, ?it/s]"
     ]
    },
    {
     "name": "stdout",
     "output_type": "stream",
     "text": [
      "max ngbr <bound method RTGEM.inverse_extend_operator of <rtgemlib.rtgem.RTGEM object at 0x000001AD6FD44978>>, args=[('B', 'A')] \n"
     ]
    },
    {
     "name": "stderr",
     "output_type": "stream",
     "text": [
      "\n"
     ]
    },
    {
     "name": "stdout",
     "output_type": "stream",
     "text": [
      "iteration number: 9: scoreBIC = -3770.312242399975\n"
     ]
    },
    {
     "name": "stderr",
     "output_type": "stream",
     "text": [
      "\r",
      "0it [00:00, ?it/s]"
     ]
    },
    {
     "name": "stdout",
     "output_type": "stream",
     "text": [
      "max ngbr <bound method RTGEM.inverse_split_operator of <rtgemlib.rtgem.RTGEM object at 0x000001AD6FD44978>>, args=[('B', 'A'), 0] \n"
     ]
    },
    {
     "name": "stderr",
     "output_type": "stream",
     "text": [
      "\n"
     ]
    },
    {
     "name": "stdout",
     "output_type": "stream",
     "text": [
      "iteration number: 10: scoreBIC = -2711.411603879609\n"
     ]
    },
    {
     "name": "stderr",
     "output_type": "stream",
     "text": [
      "\r",
      "0it [00:00, ?it/s]"
     ]
    },
    {
     "name": "stdout",
     "output_type": "stream",
     "text": [
      "max ngbr <bound method RTGEM.inverse_split_operator of <rtgemlib.rtgem.RTGEM object at 0x000001AD6FD44978>>, args=[('B', 'A'), 1] \n"
     ]
    },
    {
     "name": "stderr",
     "output_type": "stream",
     "text": [
      "\n"
     ]
    },
    {
     "name": "stdout",
     "output_type": "stream",
     "text": [
      "iteration number: 11: scoreBIC = -2216.824038671269\n"
     ]
    },
    {
     "name": "stderr",
     "output_type": "stream",
     "text": [
      "\r",
      "0it [00:00, ?it/s]"
     ]
    },
    {
     "name": "stdout",
     "output_type": "stream",
     "text": [
      "max ngbr <bound method RTGEM.inverse_extend_operator of <rtgemlib.rtgem.RTGEM object at 0x000001AD6FD44978>>, args=[('B', 'A')] \n"
     ]
    },
    {
     "name": "stderr",
     "output_type": "stream",
     "text": [
      "\n"
     ]
    },
    {
     "name": "stdout",
     "output_type": "stream",
     "text": [
      "iteration number: 12: scoreBIC = -1934.6675020152563\n"
     ]
    },
    {
     "name": "stderr",
     "output_type": "stream",
     "text": [
      "\r",
      "0it [00:00, ?it/s]"
     ]
    },
    {
     "name": "stdout",
     "output_type": "stream",
     "text": [
      "max ngbr <bound method RTGEM.inverse_add_edge_operator of <rtgemlib.rtgem.RTGEM object at 0x000001AD6FD44978>>, args=[('B', 'A')] \n"
     ]
    },
    {
     "name": "stderr",
     "output_type": "stream",
     "text": [
      "\n"
     ]
    },
    {
     "name": "stdout",
     "output_type": "stream",
     "text": [
      "iteration number: 13: scoreBIC = -1811.0206107131712\n"
     ]
    },
    {
     "name": "stderr",
     "output_type": "stream",
     "text": [
      "\r",
      "0it [00:00, ?it/s]"
     ]
    },
    {
     "name": "stdout",
     "output_type": "stream",
     "text": [
      "max ngbr <bound method RTGEM.inverse_split_operator of <rtgemlib.rtgem.RTGEM object at 0x000001AD6FD44978>>, args=[('A', 'A'), 0] \n"
     ]
    },
    {
     "name": "stderr",
     "output_type": "stream",
     "text": [
      "\n"
     ]
    },
    {
     "name": "stdout",
     "output_type": "stream",
     "text": [
      "iteration number: 14: scoreBIC = -1714.3344110102864\n"
     ]
    },
    {
     "name": "stderr",
     "output_type": "stream",
     "text": [
      "\r",
      "0it [00:00, ?it/s]"
     ]
    },
    {
     "name": "stdout",
     "output_type": "stream",
     "text": [
      "max ngbr <bound method RTGEM.inverse_split_operator of <rtgemlib.rtgem.RTGEM object at 0x000001AD6FD44978>>, args=[('A', 'A'), 1] \n"
     ]
    },
    {
     "name": "stderr",
     "output_type": "stream",
     "text": [
      "\n"
     ]
    },
    {
     "name": "stdout",
     "output_type": "stream",
     "text": [
      "iteration number: 15: scoreBIC = -1578.8344260292379\n"
     ]
    },
    {
     "name": "stderr",
     "output_type": "stream",
     "text": [
      "\r",
      "0it [00:00, ?it/s]"
     ]
    },
    {
     "name": "stdout",
     "output_type": "stream",
     "text": [
      "max ngbr <bound method RTGEM.inverse_split_operator of <rtgemlib.rtgem.RTGEM object at 0x000001AD6FD44978>>, args=[('A', 'A'), 1] \n"
     ]
    },
    {
     "name": "stderr",
     "output_type": "stream",
     "text": [
      "\n"
     ]
    },
    {
     "name": "stdout",
     "output_type": "stream",
     "text": [
      "iteration number: 16: scoreBIC = -1528.515810564635\n"
     ]
    },
    {
     "name": "stderr",
     "output_type": "stream",
     "text": [
      "\r",
      "0it [00:00, ?it/s]"
     ]
    },
    {
     "name": "stdout",
     "output_type": "stream",
     "text": [
      "max ngbr <bound method RTGEM.inverse_extend_operator of <rtgemlib.rtgem.RTGEM object at 0x000001AD6FD44978>>, args=[('A', 'A')] \n"
     ]
    },
    {
     "name": "stderr",
     "output_type": "stream",
     "text": [
      "\n"
     ]
    },
    {
     "name": "stdout",
     "output_type": "stream",
     "text": [
      "iteration number: 17: scoreBIC = -1485.9251258064123\n"
     ]
    },
    {
     "name": "stderr",
     "output_type": "stream",
     "text": [
      "\r",
      "0it [00:00, ?it/s]"
     ]
    },
    {
     "name": "stdout",
     "output_type": "stream",
     "text": [
      "max ngbr <bound method RTGEM.inverse_extend_operator of <rtgemlib.rtgem.RTGEM object at 0x000001AD6FD44978>>, args=[('A', 'B')] \n"
     ]
    },
    {
     "name": "stderr",
     "output_type": "stream",
     "text": [
      "\n"
     ]
    },
    {
     "name": "stdout",
     "output_type": "stream",
     "text": [
      "iteration number: 18: scoreBIC = -945.9216295349219\n"
     ]
    },
    {
     "name": "stderr",
     "output_type": "stream",
     "text": [
      "\r",
      "0it [00:00, ?it/s]"
     ]
    },
    {
     "name": "stdout",
     "output_type": "stream",
     "text": [
      "max ngbr <bound method RTGEM.inverse_extend_operator of <rtgemlib.rtgem.RTGEM object at 0x000001AD6FD44978>>, args=[('A', 'B')] \n"
     ]
    },
    {
     "name": "stderr",
     "output_type": "stream",
     "text": [
      "\n"
     ]
    },
    {
     "name": "stdout",
     "output_type": "stream",
     "text": [
      "iteration number: 19: scoreBIC = -698.6278469307517\n"
     ]
    },
    {
     "name": "stderr",
     "output_type": "stream",
     "text": [
      "\r",
      "0it [00:00, ?it/s]"
     ]
    },
    {
     "name": "stdout",
     "output_type": "stream",
     "text": [
      "max ngbr <bound method RTGEM.inverse_split_operator of <rtgemlib.rtgem.RTGEM object at 0x000001AD6FD44978>>, args=[('A', 'B'), 0] \n"
     ]
    },
    {
     "name": "stderr",
     "output_type": "stream",
     "text": [
      "\n"
     ]
    },
    {
     "name": "stdout",
     "output_type": "stream",
     "text": [
      "iteration number: 20: scoreBIC = -438.7331624392164\n"
     ]
    },
    {
     "name": "stderr",
     "output_type": "stream",
     "text": [
      "\r",
      "0it [00:00, ?it/s]"
     ]
    },
    {
     "name": "stdout",
     "output_type": "stream",
     "text": [
      "max ngbr <bound method RTGEM.inverse_split_operator of <rtgemlib.rtgem.RTGEM object at 0x000001AD6FD44978>>, args=[('A', 'B'), 2] \n"
     ]
    },
    {
     "name": "stderr",
     "output_type": "stream",
     "text": [
      "\n"
     ]
    },
    {
     "name": "stdout",
     "output_type": "stream",
     "text": [
      "iteration number: 21: scoreBIC = -331.4937857250238\n"
     ]
    },
    {
     "name": "stderr",
     "output_type": "stream",
     "text": [
      "\r",
      "0it [00:00, ?it/s]"
     ]
    },
    {
     "name": "stdout",
     "output_type": "stream",
     "text": [
      "max ngbr <bound method RTGEM.inverse_split_operator of <rtgemlib.rtgem.RTGEM object at 0x000001AD6FD44978>>, args=[('A', 'B'), 1] \n"
     ]
    },
    {
     "name": "stderr",
     "output_type": "stream",
     "text": [
      "\n"
     ]
    },
    {
     "name": "stdout",
     "output_type": "stream",
     "text": [
      "iteration number: 22: scoreBIC = -209.75020077320244\n"
     ]
    },
    {
     "name": "stderr",
     "output_type": "stream",
     "text": [
      "\r",
      "0it [00:00, ?it/s]"
     ]
    },
    {
     "name": "stdout",
     "output_type": "stream",
     "text": [
      "max ngbr <bound method RTGEM.inverse_extend_operator of <rtgemlib.rtgem.RTGEM object at 0x000001AD6FD44978>>, args=[('A', 'B')] \n"
     ]
    },
    {
     "name": "stderr",
     "output_type": "stream",
     "text": [
      "\n"
     ]
    },
    {
     "name": "stdout",
     "output_type": "stream",
     "text": [
      "iteration number: 23: scoreBIC = -103.46247723414169\n"
     ]
    },
    {
     "name": "stderr",
     "output_type": "stream",
     "text": [
      "0it [00:00, ?it/s]\n"
     ]
    }
   ],
   "source": [
    "m_learned, score = backwardSearch(gms_rd, sampled_data)"
   ]
  },
  {
   "cell_type": "code",
   "execution_count": 14,
   "metadata": {},
   "outputs": [
    {
     "data": {
      "text/plain": [
       "(<rtgemlib.rtgem.RTGEM at 0x1ad6fd44978>, -103.46247723414169)"
      ]
     },
     "execution_count": 14,
     "metadata": {},
     "output_type": "execute_result"
    }
   ],
   "source": [
    "m_learned, score"
   ]
  },
  {
   "cell_type": "code",
   "execution_count": 15,
   "metadata": {
    "scrolled": true
   },
   "outputs": [
    {
     "data": {
      "text/plain": [
       "-103.46247723413339"
      ]
     },
     "execution_count": 15,
     "metadata": {},
     "output_type": "execute_result"
    }
   ],
   "source": [
    "scoreBic(m_learned, sampled_data)"
   ]
  },
  {
   "cell_type": "code",
   "execution_count": 16,
   "metadata": {},
   "outputs": [
    {
     "data": {
      "text/plain": [
       "[('B', 'B', {'timescales': [[0, 20]]}),\n",
       " ('A', 'A', {'timescales': [[0, 20]]}),\n",
       " ('A', 'B', {'timescales': [[0, 5.0]]})]"
      ]
     },
     "execution_count": 16,
     "metadata": {},
     "output_type": "execute_result"
    }
   ],
   "source": [
    "list(m_learned.dpd_graph.edges.data())"
   ]
  },
  {
   "cell_type": "code",
   "execution_count": 17,
   "metadata": {},
   "outputs": [
    {
     "data": {
      "image/png": "[encoded data removed]",
      "text/plain": [
       "<matplotlib.figure.Figure at 0x1ad71f84668>"
      ]
     },
     "metadata": {},
     "output_type": "display_data"
    }
   ],
   "source": [
    "nx.draw(m_learned.dpd_graph, with_labels=True)\n",
    "plt.show()"
   ]
  },
  {
   "cell_type": "code",
   "execution_count": 18,
   "metadata": {
    "scrolled": true
   },
   "outputs": [
    {
     "name": "stderr",
     "output_type": "stream",
     "text": [
      "C:\\Users\\MOTALY\\Anaconda3\\lib\\site-packages\\pandas\\core\\indexing.py:1472: PerformanceWarning: indexing past lexsort depth may impact performance.\n",
      "  return self._getitem_tuple(key)\n",
      "C:\\Users\\MOTALY\\Desktop\\pred\\dev\\GMEs_experiments\\rtgemlib\\learning.py:24: PerformanceWarning: indexing past lexsort depth may impact performance.\n",
      "  lambda lm: data_idx.loc[(lm['event'], lm[lambda_col])].shape[0], axis=1)\n"
     ]
    },
    {
     "data": {
      "text/plain": [
       "-288.52978662826166"
      ]
     },
     "execution_count": 18,
     "metadata": {},
     "output_type": "execute_result"
    }
   ],
   "source": [
    "scoreBic(gms, sampled_data)"
   ]
  },
  {
   "cell_type": "code",
   "execution_count": 19,
   "metadata": {
    "scrolled": true
   },
   "outputs": [
    {
     "data": {
      "text/plain": [
       "[('B', 'B', {'timescales': [[5, 6]]}),\n",
       " ('B', 'A', {'timescales': [[2, 3]]}),\n",
       " ('A', 'B', {'timescales': [[1, 2]]})]"
      ]
     },
     "execution_count": 19,
     "metadata": {},
     "output_type": "execute_result"
    }
   ],
   "source": [
    "list(gms.dpd_graph.edges.data())"
   ]
  },
  {
   "cell_type": "code",
   "execution_count": 20,
   "metadata": {},
   "outputs": [
    {
     "data": {
      "image/png": "[encoded data removed]",
      "text/plain": [
       "<matplotlib.figure.Figure at 0x23901f11a20>"
      ]
     },
     "metadata": {},
     "output_type": "display_data"
    }
   ],
   "source": [
    "nx.draw(gms.dpd_graph, with_labels=True)\n",
    "plt.show()"
   ]
  }
 ],
 "metadata": {
  "kernelspec": {
   "display_name": "Python 3",
   "language": "python",
   "name": "python3"
  },
  "language_info": {
   "codemirror_mode": {
    "name": "ipython",
    "version": 3
   },
   "file_extension": ".py",
   "mimetype": "text/x-python",
   "name": "python",
   "nbconvert_exporter": "python",
   "pygments_lexer": "ipython3",
   "version": "3.6.3"
  }
 },
 "nbformat": 4,
 "nbformat_minor": 2
}
