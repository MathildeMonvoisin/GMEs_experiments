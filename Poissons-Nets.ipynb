{
 "cells": [
  {
   "cell_type": "code",
   "execution_count": 215,
   "metadata": {},
   "outputs": [
    {
     "name": "stdout",
     "output_type": "stream",
     "text": [
      "Requirement already satisfied: tqdm in c:\\users\\motaly\\anaconda3\\lib\\site-packages (4.28.1)\n"
     ]
    }
   ],
   "source": [
    "#pour installer les packages manquants, exemple:\n",
    "!pip install tqdm"
   ]
  },
  {
   "cell_type": "code",
   "execution_count": 8,
   "metadata": {
    "collapsed": true
   },
   "outputs": [],
   "source": [
    "import numpy as np"
   ]
  },
  {
   "cell_type": "code",
   "execution_count": 9,
   "metadata": {
    "collapsed": true
   },
   "outputs": [],
   "source": [
    "import pandas as pd"
   ]
  },
  {
   "cell_type": "code",
   "execution_count": 10,
   "metadata": {
    "collapsed": true
   },
   "outputs": [],
   "source": [
    "import matplotlib.pyplot as pp"
   ]
  },
  {
   "cell_type": "code",
   "execution_count": 219,
   "metadata": {},
   "outputs": [],
   "source": [
    "from tqdm import tqdm"
   ]
  },
  {
   "cell_type": "markdown",
   "metadata": {},
   "source": [
    "## 0. Sampling from Poisson Distribution"
   ]
  },
  {
   "cell_type": "code",
   "execution_count": 11,
   "metadata": {
    "scrolled": false
   },
   "outputs": [
    {
     "data": {
      "text/latex": [
       "\\begin{align}\n",
       "\\text{Average succes rate per unit of time} \\space \\lambda = \\frac{1}{40} \\\\\n",
       "\\end{align}"
      ],
      "text/plain": [
       "<IPython.core.display.Latex object>"
      ]
     },
     "metadata": {},
     "output_type": "display_data"
    }
   ],
   "source": [
    "%%latex\n",
    "\\begin{align}\n",
    "\\text{Average succes rate per unit of time} \\space \\lambda = \\frac{1}{40} \\\\\n",
    "\\end{align}"
   ]
  },
  {
   "cell_type": "code",
   "execution_count": 12,
   "metadata": {
    "collapsed": true
   },
   "outputs": [],
   "source": [
    "lambda_ = 1/40\n",
    "N = 100"
   ]
  },
  {
   "cell_type": "code",
   "execution_count": 13,
   "metadata": {
    "collapsed": true,
    "scrolled": true
   },
   "outputs": [],
   "source": [
    "#waiting time between two events is given by the exp. distribution.\n",
    "#the cumulitative exp. distribution compute is used to compute the probability of \n",
    "#an occurence of an events within the next x units of times.\n",
    "\n",
    "#source: https://preshing.com/20111007/how-to-generate-random-timings-for-a-poisson-process/ \n",
    "def F(x):\n",
    "    return 1 - np.exp(x/40*-lambda_)"
   ]
  },
  {
   "cell_type": "code",
   "execution_count": 14,
   "metadata": {},
   "outputs": [
    {
     "name": "stdout",
     "output_type": "stream",
     "text": [
      "0.0246900879717\n",
      "0.000124992187825\n"
     ]
    }
   ],
   "source": [
    "#after 40mins we highly expect a succes.\n",
    "print(F(40))\n",
    "#after 2secs, we are less likely to have any succes.\n",
    "print(F(0.2))"
   ]
  },
  {
   "cell_type": "code",
   "execution_count": 15,
   "metadata": {
    "collapsed": true
   },
   "outputs": [],
   "source": [
    "#random points from the y-axis (probabilities)\n",
    "Y = np.random.uniform(size=N)"
   ]
  },
  {
   "cell_type": "code",
   "execution_count": 16,
   "metadata": {
    "collapsed": true
   },
   "outputs": [],
   "source": [
    "#corresponding x-values, waiting times\n",
    "T = -np.log(1-Y) / lambda_"
   ]
  },
  {
   "cell_type": "code",
   "execution_count": 17,
   "metadata": {},
   "outputs": [
    {
     "data": {
      "image/png": "[encoded data removed]",
      "text/plain": [
       "<matplotlib.figure.Figure at 0x183947cd9b0>"
      ]
     },
     "metadata": {},
     "output_type": "display_data"
    },
    {
     "data": {
      "text/plain": [
       "Text(0,0.5,'probabily')"
      ]
     },
     "execution_count": 17,
     "metadata": {},
     "output_type": "execute_result"
    }
   ],
   "source": [
    "pp.plot(T[np.argsort(T)], Y[np.argsort(T)])\n",
    "pp.show()\n",
    "pp.xlabel('time in minutes')\n",
    "pp.ylabel('probabily')"
   ]
  },
  {
   "cell_type": "code",
   "execution_count": 18,
   "metadata": {},
   "outputs": [
    {
     "name": "stdout",
     "output_type": "stream",
     "text": [
      "35.9128874338\n"
     ]
    }
   ],
   "source": [
    "#notice how the observed average rate is almost equal to lambda_\n",
    "print(T.mean())"
   ]
  },
  {
   "cell_type": "code",
   "execution_count": 19,
   "metadata": {
    "collapsed": true
   },
   "outputs": [],
   "source": [
    "#we sampled waiting times, the corresponding time serie is:\n",
    "Ts = np.cumsum(T)"
   ]
  },
  {
   "cell_type": "code",
   "execution_count": 20,
   "metadata": {
    "collapsed": true
   },
   "outputs": [],
   "source": [
    "events = np.repeat('A', N)"
   ]
  },
  {
   "cell_type": "code",
   "execution_count": 21,
   "metadata": {
    "collapsed": true
   },
   "outputs": [],
   "source": [
    "sampled_data = pd.DataFrame(data={'time': Ts, 'event': events})"
   ]
  },
  {
   "cell_type": "markdown",
   "metadata": {},
   "source": [
    "# Sampling from Poisson Nets"
   ]
  },
  {
   "cell_type": "markdown",
   "metadata": {},
   "source": [
    "![alt text](./PoissonNets_examples.PNG)"
   ]
  },
  {
   "cell_type": "markdown",
   "metadata": {},
   "source": [
    "## a. Sampling from a Single Node Poisson Nets"
   ]
  },
  {
   "cell_type": "markdown",
   "metadata": {},
   "source": [
    "### Model description"
   ]
  },
  {
   "cell_type": "code",
   "execution_count": 22,
   "metadata": {
    "scrolled": true
   },
   "outputs": [
    {
     "data": {
      "text/latex": [
       "\\begin{align}\n",
       "nodes = A \\\\\n",
       "edges = \\emptyset \\\\\n",
       "w_{A,0} = \\frac{1}{40} \\\\\n",
       "\\lambda_{A}(t) = exp(w_{A,0}) = exp(\\frac{1}{40}) \\\\\n",
       "\\end{align}"
      ],
      "text/plain": [
       "<IPython.core.display.Latex object>"
      ]
     },
     "metadata": {},
     "output_type": "display_data"
    }
   ],
   "source": [
    "%%latex\n",
    "\\begin{align}\n",
    "nodes = A \\\\\n",
    "edges = \\emptyset \\\\\n",
    "w_{A,0} = \\frac{1}{40} \\\\\n",
    "\\lambda_{A}(t) = exp(w_{A,0}) = exp(\\frac{1}{40}) \\\\\n",
    "\\end{align}"
   ]
  },
  {
   "cell_type": "code",
   "execution_count": 23,
   "metadata": {
    "collapsed": true
   },
   "outputs": [],
   "source": [
    "W0 = 2.5\n",
    "lambda_ = np.exp(W0)\n",
    "time_serie_length = 100"
   ]
  },
  {
   "cell_type": "markdown",
   "metadata": {},
   "source": [
    "The waiting times between two adjecents events are iid and distributed exponentially with rate lambda"
   ]
  },
  {
   "cell_type": "code",
   "execution_count": 24,
   "metadata": {},
   "outputs": [
    {
     "data": {
      "text/plain": [
       "12.182493960703473"
      ]
     },
     "execution_count": 24,
     "metadata": {},
     "output_type": "execute_result"
    }
   ],
   "source": [
    "lambda_"
   ]
  },
  {
   "cell_type": "code",
   "execution_count": 25,
   "metadata": {
    "collapsed": true
   },
   "outputs": [],
   "source": [
    "def sample_from_poisson(lambda_, N):\n",
    "    Y = np.random.uniform(size=N)\n",
    "    X_waitingTimes = -np.log(1-Y) / lambda_\n",
    "    Time_serie = np.cumsum(X_waitingTimes)\n",
    "    return Time_serie, X_waitingTimes, Y"
   ]
  },
  {
   "cell_type": "code",
   "execution_count": 26,
   "metadata": {
    "collapsed": true
   },
   "outputs": [],
   "source": [
    "A_time_serie, waiting_times, probs = sample_from_poisson(lambda_, 100)"
   ]
  },
  {
   "cell_type": "code",
   "execution_count": 27,
   "metadata": {},
   "outputs": [
    {
     "data": {
      "text/plain": [
       "0.0820849986238988"
      ]
     },
     "execution_count": 27,
     "metadata": {},
     "output_type": "execute_result"
    }
   ],
   "source": [
    "1/lambda_"
   ]
  },
  {
   "cell_type": "code",
   "execution_count": 28,
   "metadata": {
    "scrolled": true
   },
   "outputs": [
    {
     "data": {
      "text/plain": [
       "0.08842920029605647"
      ]
     },
     "execution_count": 28,
     "metadata": {},
     "output_type": "execute_result"
    }
   ],
   "source": [
    "#sampled data, as expected the average waiting time is lambda^-1.\n",
    "waiting_times.mean()"
   ]
  },
  {
   "cell_type": "markdown",
   "metadata": {},
   "source": [
    "## Likelihood"
   ]
  },
  {
   "cell_type": "code",
   "execution_count": 29,
   "metadata": {},
   "outputs": [
    {
     "data": {
      "text/latex": [
       "\\begin{align}\n",
       "\\text{general formula:} \\space\n",
       "\\mathcal{L}(\\textbf{W}, M \\mid T) = p(T \\mid W, M) = \\prod_{i=1}^{V} p(\\textbf{t}_i \\mid \\{ \\textbf{t}_j \\mid j \\in \\pi(i)\\})\n",
       "\\end{align}"
      ],
      "text/plain": [
       "<IPython.core.display.Latex object>"
      ]
     },
     "metadata": {},
     "output_type": "display_data"
    }
   ],
   "source": [
    "%%latex\n",
    "\\begin{align}\n",
    "\\text{general formula:} \\space\n",
    "\\mathcal{L}(\\textbf{W}, M \\mid T) = p(T \\mid W, M) = \\prod_{i=1}^{V} p(\\textbf{t}_i \\mid \\{ \\textbf{t}_j \\mid j \\in \\pi(i)\\})\n",
    "\\end{align}"
   ]
  },
  {
   "cell_type": "code",
   "execution_count": 30,
   "metadata": {},
   "outputs": [
    {
     "data": {
      "text/latex": [
       "\\begin{align}\n",
       "\\text{general formula:} \\space\n",
       "\\mathcal{L}(W_{A,0}, {A} \\mid Sampled Data) = p(\\textbf{t}_A) \\\\\n",
       "= \\prod_{l=1}^{100} p(t_{l} \\mid t_{l-1}, W_{A,0}, M) \\\\\n",
       "= \\prod_{l=1}^{100} \\lambda_{l, 1} \\times exp(-\\lambda_{l, 1} \\tau_{l, 1}) \\\\\n",
       "\\tau_{l, 1} = t_{l} - t_{l-1}, \\space (k{_l} = 0) \\\\\n",
       "\\lambda_{l, 1} = exp(W_{A, 0}), \\space \\pi(A) = \\emptyset \\\\\n",
       "\\Rightarrow \\mathcal{L}(W_{A,0}, {A} \\mid Sampled Data) = exp(W_{A, 0})^{100} \\times exp(-\\lambda_{l, 1} \\times (t_1 - t_{100}))\n",
       "\\end{align}"
      ],
      "text/plain": [
       "<IPython.core.display.Latex object>"
      ]
     },
     "metadata": {},
     "output_type": "display_data"
    }
   ],
   "source": [
    "%%latex\n",
    "\\begin{align}\n",
    "\\text{general formula:} \\space\n",
    "\\mathcal{L}(W_{A,0}, {A} \\mid Sampled Data) = p(\\textbf{t}_A) \\\\\n",
    "= \\prod_{l=1}^{100} p(t_{l} \\mid t_{l-1}, W_{A,0}, M) \\\\\n",
    "= \\prod_{l=1}^{100} \\lambda_{l, 1} \\times exp(-\\lambda_{l, 1} \\tau_{l, 1}) \\\\\n",
    "\\tau_{l, 1} = t_{l} - t_{l-1}, \\space (k{_l} = 0) \\\\\n",
    "\\lambda_{l, 1} = exp(W_{A, 0}), \\space \\pi(A) = \\emptyset \\\\\n",
    "\\Rightarrow \\mathcal{L}(W_{A,0}, {A} \\mid Sampled Data) = exp(W_{A, 0})^{100} \\times exp(-\\lambda_{l, 1} \\times (t_1 - t_{100}))\n",
    "\\end{align}"
   ]
  },
  {
   "cell_type": "code",
   "execution_count": 31,
   "metadata": {
    "collapsed": true
   },
   "outputs": [],
   "source": [
    "A_time_serie_shifted_right = np.roll(A_time_serie, 1)\n",
    "A_time_serie_shifted_right[0] = 0"
   ]
  },
  {
   "cell_type": "code",
   "execution_count": 32,
   "metadata": {
    "collapsed": true
   },
   "outputs": [],
   "source": [
    "taus = A_time_serie - A_time_serie_shifted_right"
   ]
  },
  {
   "cell_type": "code",
   "execution_count": 33,
   "metadata": {},
   "outputs": [
    {
     "data": {
      "text/plain": [
       "array([ 0.02087315,  0.09414696,  0.13549076,  0.00334016,  0.11633503,\n",
       "        0.07315775,  0.23627293,  0.01423804,  0.07219587,  0.00384316,\n",
       "        0.07051402,  0.09080718,  0.29985512,  0.06521275,  0.00529261,\n",
       "        0.03904808,  0.01434947,  0.13751235,  0.03642878,  0.04092569,\n",
       "        0.02387409,  0.19673861,  0.04011973,  0.08818848,  0.11055688,\n",
       "        0.02596411,  0.12331475,  0.01743714,  0.45284016,  0.01501594,\n",
       "        0.02808856,  0.03868533,  0.00634978,  0.04093471,  0.0206691 ,\n",
       "        0.05700558,  0.00523621,  0.01803752,  0.16996097,  0.23636438,\n",
       "        0.23304194,  0.02508357,  0.00652873,  0.06616435,  0.10535268,\n",
       "        0.00574438,  0.19401857,  0.1537024 ,  0.27137363,  0.00266909,\n",
       "        0.06697263,  0.02814325,  0.05138633,  0.2171792 ,  0.05936852,\n",
       "        0.05962807,  0.07465361,  0.27418916,  0.24348789,  0.47808207,\n",
       "        0.08714705,  0.25829144,  0.02204656,  0.0528393 ,  0.08302498,\n",
       "        0.18283689,  0.05815883,  0.03271333,  0.05739108,  0.01903007,\n",
       "        0.00083264,  0.04482685,  0.16803994,  0.06447927,  0.11878807,\n",
       "        0.05676797,  0.09636439,  0.01048191,  0.10621874,  0.01116735,\n",
       "        0.05408153,  0.01713573,  0.00112263,  0.06269244,  0.00097635,\n",
       "        0.14115228,  0.15254441,  0.093965  ,  0.08624062,  0.19098471,\n",
       "        0.09069115,  0.00825483,  0.00891932,  0.00976111,  0.0585112 ,\n",
       "        0.11310994,  0.0186501 ,  0.0780358 ,  0.18298145,  0.03967082])"
      ]
     },
     "execution_count": 33,
     "metadata": {},
     "output_type": "execute_result"
    }
   ],
   "source": [
    "taus"
   ]
  },
  {
   "cell_type": "code",
   "execution_count": 34,
   "metadata": {
    "scrolled": true
   },
   "outputs": [
    {
     "data": {
      "text/plain": [
       "6.131806910647094e+61"
      ]
     },
     "execution_count": 34,
     "metadata": {},
     "output_type": "execute_result"
    }
   ],
   "source": [
    "np.prod(lambda_ * np.exp(-lambda_ * (taus))) #<- likelihood >> 1 :("
   ]
  },
  {
   "cell_type": "code",
   "execution_count": 35,
   "metadata": {},
   "outputs": [
    {
     "data": {
      "text/plain": [
       "array([  9.44714845,   3.86922896,   2.3382076 ,  11.69672094,\n",
       "         2.95278608,   4.99659207,   0.68496091,  10.24249434,\n",
       "         5.05548739,  11.62526472,   5.16013802,   4.02990198,\n",
       "         0.31569359,   5.50439049,  11.42178909,   7.57078649,\n",
       "        10.2285997 ,   2.28132557,   7.81626311,   7.39957838,\n",
       "         9.10800778,   1.10874979,   7.47258957,   4.160538  ,\n",
       "         3.16812988,   8.87903116,   2.71208782,   9.8509913 ,\n",
       "         0.04896143,  10.14588663,   8.65217926,   7.60431741,\n",
       "        11.27563156,   7.39876576,   9.47066228,   6.08319384,\n",
       "        11.429639  ,   9.7792038 ,   1.53641465,   0.68419819,\n",
       "         0.71245959,   8.97479068,  11.25107614,   5.44094761,\n",
       "         3.37549366,  11.35909911,   1.14610583,   1.87296251,\n",
       "         0.44663768,  11.79273723,   5.38763413,   8.64641702,\n",
       "         6.51421256,   0.86434413,   5.91057643,   5.89191698,\n",
       "         4.90636284,   0.43157767,   0.62732548,   0.03600016,\n",
       "         4.21366001,   0.52380597,   9.31306206,   6.39992053,\n",
       "         4.43066036,   1.3133625 ,   5.99832608,   8.17818385,\n",
       "         6.05469239,   9.66166755,  12.05954414,   7.05613321,\n",
       "         1.57279531,   5.55379628,   2.86585018,   6.10082836,\n",
       "         3.76610532,  10.72206998,   3.34006708,  10.63290894,\n",
       "         6.30379628,   9.88723024,  12.01701529,   5.67601661,\n",
       "        12.03844972,   2.18237377,   1.89957204,   3.87781519,\n",
       "         4.26044739,   1.18925845,   4.0356026 ,  11.01695674,\n",
       "        10.92813197,  10.81663626,   5.97263161,   3.07110924,\n",
       "         9.70649493,   4.70831139,   1.3110517 ,   7.51356861])"
      ]
     },
     "execution_count": 35,
     "metadata": {},
     "output_type": "execute_result"
    }
   ],
   "source": [
    "lambda_ * np.exp(-lambda_ * (taus)) #problem each element is a proba in [0, 1]"
   ]
  },
  {
   "cell_type": "code",
   "execution_count": 36,
   "metadata": {
    "collapsed": true
   },
   "outputs": [],
   "source": [
    "#same as :\n",
    "L = (lambda_ ** 100) * np.exp(-lambda_ * (A_time_serie[99] - 0))"
   ]
  },
  {
   "cell_type": "code",
   "execution_count": 37,
   "metadata": {},
   "outputs": [
    {
     "data": {
      "text/plain": [
       "6.1318069106470746e+61"
      ]
     },
     "execution_count": 37,
     "metadata": {},
     "output_type": "execute_result"
    }
   ],
   "source": [
    "L"
   ]
  },
  {
   "cell_type": "markdown",
   "metadata": {},
   "source": [
    "# **likelihood is >> 1, bad.**"
   ]
  },
  {
   "cell_type": "markdown",
   "metadata": {},
   "source": [
    "## b. Sampling from a two Nodes Poisson Nodes"
   ]
  },
  {
   "cell_type": "markdown",
   "metadata": {},
   "source": [
    "### Model description"
   ]
  },
  {
   "cell_type": "code",
   "execution_count": 44,
   "metadata": {
    "scrolled": true
   },
   "outputs": [
    {
     "data": {
      "text/latex": [
       "\\begin{align}\n",
       "nodes = A, B\\\\\n",
       "edges = (A, B) \\\\\n",
       "w_{A,0} = \\frac{1}{40} \\\\\n",
       "w_{B,0} = 2.3, \\space w_{B,1} = 0.45 \\\\\n",
       "\\phi = 1\n",
       "\\end{align}"
      ],
      "text/plain": [
       "<IPython.core.display.Latex object>"
      ]
     },
     "metadata": {},
     "output_type": "display_data"
    }
   ],
   "source": [
    "%%latex\n",
    "\\begin{align}\n",
    "nodes = A, B\\\\\n",
    "edges = (A, B) \\\\\n",
    "w_{A,0} = \\frac{1}{40} \\\\\n",
    "w_{B,0} = 2.3, \\space w_{B,1} = 0.45 \\\\\n",
    "\\phi = 1\n",
    "\\end{align}"
   ]
  },
  {
   "cell_type": "code",
   "execution_count": 227,
   "metadata": {},
   "outputs": [],
   "source": [
    "#model parameters\n",
    "W_A0 = 1/40\n",
    "W_B0 = 2.3\n",
    "W_B1 = 0.45\n",
    "\n",
    "phi = 1 #time window [t-phi, t)\n",
    "lambda_A = np.exp(W_A0)"
   ]
  },
  {
   "cell_type": "markdown",
   "metadata": {
    "collapsed": true
   },
   "source": [
    "First, lets sample A"
   ]
  },
  {
   "cell_type": "code",
   "execution_count": 75,
   "metadata": {
    "collapsed": true
   },
   "outputs": [],
   "source": [
    "A_t,_,_ = sample_from_poisson(lambda_A, N)"
   ]
  },
  {
   "cell_type": "code",
   "execution_count": 77,
   "metadata": {
    "scrolled": true
   },
   "outputs": [],
   "source": [
    "A_t = pd.Series(A_t)"
   ]
  },
  {
   "cell_type": "markdown",
   "metadata": {},
   "source": [
    "Now, lets compute the rate function of B"
   ]
  },
  {
   "cell_type": "code",
   "execution_count": 78,
   "metadata": {
    "scrolled": true
   },
   "outputs": [],
   "source": [
    "#parent event count function of node B, rolling group values within 1 sec window time, \n",
    "#count is applied to compute the number of events in the time window.\n",
    "n_B = A_t.rolling(1).count()"
   ]
  },
  {
   "cell_type": "code",
   "execution_count": 81,
   "metadata": {},
   "outputs": [],
   "source": [
    "lambda_emp_B_A = n_B/phi #emperical rate of node B w.r.t parent node A."
   ]
  },
  {
   "cell_type": "code",
   "execution_count": 83,
   "metadata": {
    "scrolled": true
   },
   "outputs": [],
   "source": [
    "lambda_B = np.exp(W_B0) * ((1+lambda_emp_B_A) ** W_B1) #rate function of Node B, see formula (1)"
   ]
  },
  {
   "cell_type": "code",
   "execution_count": 84,
   "metadata": {
    "scrolled": true
   },
   "outputs": [
    {
     "data": {
      "text/plain": [
       "0     13.625135\n",
       "1     13.625135\n",
       "2     13.625135\n",
       "3     13.625135\n",
       "4     13.625135\n",
       "5     13.625135\n",
       "6     13.625135\n",
       "7     13.625135\n",
       "8     13.625135\n",
       "9     13.625135\n",
       "10    13.625135\n",
       "11    13.625135\n",
       "12    13.625135\n",
       "13    13.625135\n",
       "14    13.625135\n",
       "15    13.625135\n",
       "16    13.625135\n",
       "17    13.625135\n",
       "18    13.625135\n",
       "19    13.625135\n",
       "20    13.625135\n",
       "21    13.625135\n",
       "22    13.625135\n",
       "23    13.625135\n",
       "24    13.625135\n",
       "25    13.625135\n",
       "26    13.625135\n",
       "27    13.625135\n",
       "28    13.625135\n",
       "29    13.625135\n",
       "        ...    \n",
       "70    13.625135\n",
       "71    13.625135\n",
       "72    13.625135\n",
       "73    13.625135\n",
       "74    13.625135\n",
       "75    13.625135\n",
       "76    13.625135\n",
       "77    13.625135\n",
       "78    13.625135\n",
       "79    13.625135\n",
       "80    13.625135\n",
       "81    13.625135\n",
       "82    13.625135\n",
       "83    13.625135\n",
       "84    13.625135\n",
       "85    13.625135\n",
       "86    13.625135\n",
       "87    13.625135\n",
       "88    13.625135\n",
       "89    13.625135\n",
       "90    13.625135\n",
       "91    13.625135\n",
       "92    13.625135\n",
       "93    13.625135\n",
       "94    13.625135\n",
       "95    13.625135\n",
       "96    13.625135\n",
       "97    13.625135\n",
       "98    13.625135\n",
       "99    13.625135\n",
       "Length: 100, dtype: float64"
      ]
     },
     "execution_count": 84,
     "metadata": {},
     "output_type": "execute_result"
    }
   ],
   "source": [
    "#since the parent count function is constant, the rate function\n",
    "#of B is constant.\n",
    "lambda_B"
   ]
  },
  {
   "cell_type": "code",
   "execution_count": 85,
   "metadata": {
    "scrolled": true
   },
   "outputs": [
    {
     "data": {
      "text/plain": [
       "0       0.105450\n",
       "1       1.312323\n",
       "2       1.486367\n",
       "3       2.001767\n",
       "4       2.141780\n",
       "5       2.245169\n",
       "6       2.801867\n",
       "7       3.664100\n",
       "8       4.398672\n",
       "9       4.631350\n",
       "10      4.913800\n",
       "11      5.550322\n",
       "12      7.376507\n",
       "13      9.052990\n",
       "14     10.288371\n",
       "15     10.636662\n",
       "16     13.960707\n",
       "17     16.613847\n",
       "18     17.246911\n",
       "19     18.235729\n",
       "20     19.746054\n",
       "21     21.796659\n",
       "22     21.799301\n",
       "23     23.133212\n",
       "24     24.033939\n",
       "25     26.174445\n",
       "26     26.194560\n",
       "27     26.254710\n",
       "28     27.897125\n",
       "29     29.323153\n",
       "         ...    \n",
       "70     78.377681\n",
       "71     81.051937\n",
       "72     81.766412\n",
       "73     83.504281\n",
       "74     84.500359\n",
       "75     84.962152\n",
       "76     85.791706\n",
       "77     86.419272\n",
       "78     87.046141\n",
       "79     87.330873\n",
       "80     90.339412\n",
       "81     92.231990\n",
       "82     96.656127\n",
       "83     99.565390\n",
       "84    100.100947\n",
       "85    102.311372\n",
       "86    103.279461\n",
       "87    105.433436\n",
       "88    105.541243\n",
       "89    105.691657\n",
       "90    106.277003\n",
       "91    108.041693\n",
       "92    110.593404\n",
       "93    111.030200\n",
       "94    111.433726\n",
       "95    113.663615\n",
       "96    113.824265\n",
       "97    113.973353\n",
       "98    113.999199\n",
       "99    114.388119\n",
       "Length: 100, dtype: float64"
      ]
     },
     "execution_count": 85,
     "metadata": {},
     "output_type": "execute_result"
    }
   ],
   "source": [
    "A_t"
   ]
  },
  {
   "cell_type": "code",
   "execution_count": 221,
   "metadata": {},
   "outputs": [],
   "source": [
    "#lets sample B using reject sampling, as described §3.(b)\n",
    "t = A_t[0]\n",
    "t_end = A_t.values[-1]\n",
    "B_t = np.array([])\n",
    "while t < t_end:\n",
    "    Y = np.random.uniform()\n",
    "    #sample waiting time\n",
    "    tau = -np.log(1-Y) / lambda_B[0]\n",
    "    if t + tau <= t_end:\n",
    "        t += tau\n",
    "        B_t = np.append(B_t, t)\n",
    "    else:\n",
    "        break\n",
    "        "
   ]
  },
  {
   "cell_type": "code",
   "execution_count": 222,
   "metadata": {
    "collapsed": true
   },
   "outputs": [],
   "source": [
    "B_t = pd.Series(B_t)\n",
    "t = pd.concat([A_t, B_t])"
   ]
  },
  {
   "cell_type": "code",
   "execution_count": 223,
   "metadata": {},
   "outputs": [],
   "source": [
    "sampled_data = pd.DataFrame(data={'time': t, 'event': 'B'})"
   ]
  },
  {
   "cell_type": "code",
   "execution_count": 224,
   "metadata": {},
   "outputs": [],
   "source": [
    "sampled_data.set_index('time', inplace = True)\n",
    "sampled_data.sort_index(inplace=True)\n",
    "sampled_data.loc[A_t.values, 'event'] = 'A'"
   ]
  },
  {
   "cell_type": "code",
   "execution_count": 225,
   "metadata": {
    "scrolled": true
   },
   "outputs": [
    {
     "data": {
      "text/html": [
       "<div>\n",
       "<style>\n",
       "    .dataframe thead tr:only-child th {\n",
       "        text-align: right;\n",
       "    }\n",
       "\n",
       "    .dataframe thead th {\n",
       "        text-align: left;\n",
       "    }\n",
       "\n",
       "    .dataframe tbody tr th {\n",
       "        vertical-align: top;\n",
       "    }\n",
       "</style>\n",
       "<table border=\"1\" class=\"dataframe\">\n",
       "  <thead>\n",
       "    <tr style=\"text-align: right;\">\n",
       "      <th></th>\n",
       "      <th>event</th>\n",
       "    </tr>\n",
       "    <tr>\n",
       "      <th>time</th>\n",
       "      <th></th>\n",
       "    </tr>\n",
       "  </thead>\n",
       "  <tbody>\n",
       "    <tr>\n",
       "      <th>0.105450</th>\n",
       "      <td>A</td>\n",
       "    </tr>\n",
       "    <tr>\n",
       "      <th>0.122037</th>\n",
       "      <td>B</td>\n",
       "    </tr>\n",
       "    <tr>\n",
       "      <th>0.153372</th>\n",
       "      <td>B</td>\n",
       "    </tr>\n",
       "    <tr>\n",
       "      <th>0.161667</th>\n",
       "      <td>B</td>\n",
       "    </tr>\n",
       "    <tr>\n",
       "      <th>0.223371</th>\n",
       "      <td>B</td>\n",
       "    </tr>\n",
       "    <tr>\n",
       "      <th>0.254557</th>\n",
       "      <td>B</td>\n",
       "    </tr>\n",
       "    <tr>\n",
       "      <th>0.272702</th>\n",
       "      <td>B</td>\n",
       "    </tr>\n",
       "    <tr>\n",
       "      <th>0.320636</th>\n",
       "      <td>B</td>\n",
       "    </tr>\n",
       "    <tr>\n",
       "      <th>0.357456</th>\n",
       "      <td>B</td>\n",
       "    </tr>\n",
       "    <tr>\n",
       "      <th>0.414859</th>\n",
       "      <td>B</td>\n",
       "    </tr>\n",
       "    <tr>\n",
       "      <th>0.418104</th>\n",
       "      <td>B</td>\n",
       "    </tr>\n",
       "    <tr>\n",
       "      <th>0.446283</th>\n",
       "      <td>B</td>\n",
       "    </tr>\n",
       "    <tr>\n",
       "      <th>0.467441</th>\n",
       "      <td>B</td>\n",
       "    </tr>\n",
       "    <tr>\n",
       "      <th>0.504395</th>\n",
       "      <td>B</td>\n",
       "    </tr>\n",
       "    <tr>\n",
       "      <th>0.536553</th>\n",
       "      <td>B</td>\n",
       "    </tr>\n",
       "    <tr>\n",
       "      <th>0.600067</th>\n",
       "      <td>B</td>\n",
       "    </tr>\n",
       "    <tr>\n",
       "      <th>0.665451</th>\n",
       "      <td>B</td>\n",
       "    </tr>\n",
       "    <tr>\n",
       "      <th>0.679388</th>\n",
       "      <td>B</td>\n",
       "    </tr>\n",
       "    <tr>\n",
       "      <th>0.701271</th>\n",
       "      <td>B</td>\n",
       "    </tr>\n",
       "    <tr>\n",
       "      <th>0.740213</th>\n",
       "      <td>B</td>\n",
       "    </tr>\n",
       "    <tr>\n",
       "      <th>0.847978</th>\n",
       "      <td>B</td>\n",
       "    </tr>\n",
       "    <tr>\n",
       "      <th>0.934081</th>\n",
       "      <td>B</td>\n",
       "    </tr>\n",
       "    <tr>\n",
       "      <th>0.951380</th>\n",
       "      <td>B</td>\n",
       "    </tr>\n",
       "    <tr>\n",
       "      <th>1.019524</th>\n",
       "      <td>B</td>\n",
       "    </tr>\n",
       "    <tr>\n",
       "      <th>1.034761</th>\n",
       "      <td>B</td>\n",
       "    </tr>\n",
       "    <tr>\n",
       "      <th>1.090078</th>\n",
       "      <td>B</td>\n",
       "    </tr>\n",
       "    <tr>\n",
       "      <th>1.100248</th>\n",
       "      <td>B</td>\n",
       "    </tr>\n",
       "    <tr>\n",
       "      <th>1.218489</th>\n",
       "      <td>B</td>\n",
       "    </tr>\n",
       "    <tr>\n",
       "      <th>1.312323</th>\n",
       "      <td>A</td>\n",
       "    </tr>\n",
       "    <tr>\n",
       "      <th>1.320548</th>\n",
       "      <td>B</td>\n",
       "    </tr>\n",
       "    <tr>\n",
       "      <th>...</th>\n",
       "      <td>...</td>\n",
       "    </tr>\n",
       "    <tr>\n",
       "      <th>113.192551</th>\n",
       "      <td>B</td>\n",
       "    </tr>\n",
       "    <tr>\n",
       "      <th>113.206016</th>\n",
       "      <td>B</td>\n",
       "    </tr>\n",
       "    <tr>\n",
       "      <th>113.300283</th>\n",
       "      <td>B</td>\n",
       "    </tr>\n",
       "    <tr>\n",
       "      <th>113.300700</th>\n",
       "      <td>B</td>\n",
       "    </tr>\n",
       "    <tr>\n",
       "      <th>113.352700</th>\n",
       "      <td>B</td>\n",
       "    </tr>\n",
       "    <tr>\n",
       "      <th>113.402660</th>\n",
       "      <td>B</td>\n",
       "    </tr>\n",
       "    <tr>\n",
       "      <th>113.479780</th>\n",
       "      <td>B</td>\n",
       "    </tr>\n",
       "    <tr>\n",
       "      <th>113.599066</th>\n",
       "      <td>B</td>\n",
       "    </tr>\n",
       "    <tr>\n",
       "      <th>113.610705</th>\n",
       "      <td>B</td>\n",
       "    </tr>\n",
       "    <tr>\n",
       "      <th>113.663615</th>\n",
       "      <td>A</td>\n",
       "    </tr>\n",
       "    <tr>\n",
       "      <th>113.715642</th>\n",
       "      <td>B</td>\n",
       "    </tr>\n",
       "    <tr>\n",
       "      <th>113.725506</th>\n",
       "      <td>B</td>\n",
       "    </tr>\n",
       "    <tr>\n",
       "      <th>113.789013</th>\n",
       "      <td>B</td>\n",
       "    </tr>\n",
       "    <tr>\n",
       "      <th>113.815553</th>\n",
       "      <td>B</td>\n",
       "    </tr>\n",
       "    <tr>\n",
       "      <th>113.824265</th>\n",
       "      <td>A</td>\n",
       "    </tr>\n",
       "    <tr>\n",
       "      <th>113.892444</th>\n",
       "      <td>B</td>\n",
       "    </tr>\n",
       "    <tr>\n",
       "      <th>113.973353</th>\n",
       "      <td>A</td>\n",
       "    </tr>\n",
       "    <tr>\n",
       "      <th>113.999199</th>\n",
       "      <td>A</td>\n",
       "    </tr>\n",
       "    <tr>\n",
       "      <th>114.072143</th>\n",
       "      <td>B</td>\n",
       "    </tr>\n",
       "    <tr>\n",
       "      <th>114.104368</th>\n",
       "      <td>B</td>\n",
       "    </tr>\n",
       "    <tr>\n",
       "      <th>114.118367</th>\n",
       "      <td>B</td>\n",
       "    </tr>\n",
       "    <tr>\n",
       "      <th>114.180586</th>\n",
       "      <td>B</td>\n",
       "    </tr>\n",
       "    <tr>\n",
       "      <th>114.200244</th>\n",
       "      <td>B</td>\n",
       "    </tr>\n",
       "    <tr>\n",
       "      <th>114.209326</th>\n",
       "      <td>B</td>\n",
       "    </tr>\n",
       "    <tr>\n",
       "      <th>114.229365</th>\n",
       "      <td>B</td>\n",
       "    </tr>\n",
       "    <tr>\n",
       "      <th>114.245183</th>\n",
       "      <td>B</td>\n",
       "    </tr>\n",
       "    <tr>\n",
       "      <th>114.277921</th>\n",
       "      <td>B</td>\n",
       "    </tr>\n",
       "    <tr>\n",
       "      <th>114.349617</th>\n",
       "      <td>B</td>\n",
       "    </tr>\n",
       "    <tr>\n",
       "      <th>114.374152</th>\n",
       "      <td>B</td>\n",
       "    </tr>\n",
       "    <tr>\n",
       "      <th>114.388119</th>\n",
       "      <td>A</td>\n",
       "    </tr>\n",
       "  </tbody>\n",
       "</table>\n",
       "<p>1694 rows × 1 columns</p>\n",
       "</div>"
      ],
      "text/plain": [
       "           event\n",
       "time            \n",
       "0.105450       A\n",
       "0.122037       B\n",
       "0.153372       B\n",
       "0.161667       B\n",
       "0.223371       B\n",
       "0.254557       B\n",
       "0.272702       B\n",
       "0.320636       B\n",
       "0.357456       B\n",
       "0.414859       B\n",
       "0.418104       B\n",
       "0.446283       B\n",
       "0.467441       B\n",
       "0.504395       B\n",
       "0.536553       B\n",
       "0.600067       B\n",
       "0.665451       B\n",
       "0.679388       B\n",
       "0.701271       B\n",
       "0.740213       B\n",
       "0.847978       B\n",
       "0.934081       B\n",
       "0.951380       B\n",
       "1.019524       B\n",
       "1.034761       B\n",
       "1.090078       B\n",
       "1.100248       B\n",
       "1.218489       B\n",
       "1.312323       A\n",
       "1.320548       B\n",
       "...          ...\n",
       "113.192551     B\n",
       "113.206016     B\n",
       "113.300283     B\n",
       "113.300700     B\n",
       "113.352700     B\n",
       "113.402660     B\n",
       "113.479780     B\n",
       "113.599066     B\n",
       "113.610705     B\n",
       "113.663615     A\n",
       "113.715642     B\n",
       "113.725506     B\n",
       "113.789013     B\n",
       "113.815553     B\n",
       "113.824265     A\n",
       "113.892444     B\n",
       "113.973353     A\n",
       "113.999199     A\n",
       "114.072143     B\n",
       "114.104368     B\n",
       "114.118367     B\n",
       "114.180586     B\n",
       "114.200244     B\n",
       "114.209326     B\n",
       "114.229365     B\n",
       "114.245183     B\n",
       "114.277921     B\n",
       "114.349617     B\n",
       "114.374152     B\n",
       "114.388119     A\n",
       "\n",
       "[1694 rows x 1 columns]"
      ]
     },
     "execution_count": 225,
     "metadata": {},
     "output_type": "execute_result"
    }
   ],
   "source": [
    "sampled_data"
   ]
  },
  {
   "cell_type": "code",
   "execution_count": 226,
   "metadata": {
    "scrolled": true
   },
   "outputs": [
    {
     "data": {
      "text/plain": [
       "B    1594\n",
       "A     100\n",
       "Name: event, dtype: int64"
      ]
     },
     "execution_count": 226,
     "metadata": {},
     "output_type": "execute_result"
    }
   ],
   "source": [
    "sampled_data['event'].value_counts()"
   ]
  },
  {
   "cell_type": "markdown",
   "metadata": {},
   "source": [
    "### Likelihood, plis halp"
   ]
  }
 ],
 "metadata": {
  "kernelspec": {
   "display_name": "Python 3",
   "language": "python",
   "name": "python3"
  },
  "language_info": {
   "codemirror_mode": {
    "name": "ipython",
    "version": 3
   },
   "file_extension": ".py",
   "mimetype": "text/x-python",
   "name": "python",
   "nbconvert_exporter": "python",
   "pygments_lexer": "ipython3",
   "version": "3.6.3"
  }
 },
 "nbformat": 4,
 "nbformat_minor": 2
}
