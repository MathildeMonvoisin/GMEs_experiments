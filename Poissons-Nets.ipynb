{
 "cells": [
  {
   "cell_type": "code",
   "execution_count": 28,
   "metadata": {
    "collapsed": true
   },
   "outputs": [],
   "source": [
    "import numpy as np"
   ]
  },
  {
   "cell_type": "code",
   "execution_count": 225,
   "metadata": {
    "collapsed": true
   },
   "outputs": [],
   "source": [
    "import pandas as pd"
   ]
  },
  {
   "cell_type": "code",
   "execution_count": 182,
   "metadata": {
    "collapsed": true
   },
   "outputs": [],
   "source": [
    "import matplotlib.pyplot as pp"
   ]
  },
  {
   "cell_type": "markdown",
   "metadata": {},
   "source": [
    "## 0. Sampling from Poisson Distribution"
   ]
  },
  {
   "cell_type": "code",
   "execution_count": 254,
   "metadata": {
    "scrolled": false
   },
   "outputs": [
    {
     "data": {
      "text/latex": [
       "\\begin{align}\n",
       "\\text{Average succes rate per unit of time} \\space \\lambda = \\frac{1}{40} \\\\\n",
       "\\end{align}"
      ],
      "text/plain": [
       "<IPython.core.display.Latex object>"
      ]
     },
     "metadata": {},
     "output_type": "display_data"
    }
   ],
   "source": [
    "%%latex\n",
    "\\begin{align}\n",
    "\\text{Average succes rate per unit of time} \\space \\lambda = \\frac{1}{40} \\\\\n",
    "\\end{align}"
   ]
  },
  {
   "cell_type": "code",
   "execution_count": 173,
   "metadata": {
    "collapsed": true
   },
   "outputs": [],
   "source": [
    "lambda_ = 1/40\n",
    "N = 100"
   ]
  },
  {
   "cell_type": "code",
   "execution_count": 174,
   "metadata": {
    "scrolled": true
   },
   "outputs": [],
   "source": [
    "#waiting time between two events is given by the exp. distribution.\n",
    "#the cumulitative exp. distribution compute is used to compute the probability of \n",
    "#an occurence of an events within the next x units of times.\n",
    "\n",
    "#source: https://preshing.com/20111007/how-to-generate-random-timings-for-a-poisson-process/ \n",
    "def F(x):\n",
    "    return 1 - np.exp(x/40*-lambda_)"
   ]
  },
  {
   "cell_type": "code",
   "execution_count": 175,
   "metadata": {},
   "outputs": [
    {
     "name": "stdout",
     "output_type": "stream",
     "text": [
      "0.0246900879717\n",
      "0.000124992187825\n"
     ]
    }
   ],
   "source": [
    "#after 40mins we highly expect a succes.\n",
    "print(F(40))\n",
    "#after 2secs, we are less likely to have any succes.\n",
    "print(F(0.2))"
   ]
  },
  {
   "cell_type": "code",
   "execution_count": 176,
   "metadata": {},
   "outputs": [],
   "source": [
    "#random points from the y-axis (probabilities)\n",
    "Y = np.random.uniform(size=N)"
   ]
  },
  {
   "cell_type": "code",
   "execution_count": 177,
   "metadata": {
    "collapsed": true
   },
   "outputs": [],
   "source": [
    "#corresponding x-values, waiting times\n",
    "T = -np.log(1-Y) / lambda_"
   ]
  },
  {
   "cell_type": "code",
   "execution_count": 199,
   "metadata": {},
   "outputs": [
    {
     "data": {
      "image/png": "[encoded data removed]",
      "text/plain": [
       "<matplotlib.figure.Figure at 0x24984fa0f98>"
      ]
     },
     "metadata": {},
     "output_type": "display_data"
    },
    {
     "data": {
      "text/plain": [
       "Text(0,0.5,'probabily')"
      ]
     },
     "execution_count": 199,
     "metadata": {},
     "output_type": "execute_result"
    }
   ],
   "source": [
    "pp.plot(T[np.argsort(T)], Y[np.argsort(T)])\n",
    "pp.show()\n",
    "pp.xlabel('time in minutes')\n",
    "pp.ylabel('probabily')"
   ]
  },
  {
   "cell_type": "code",
   "execution_count": 181,
   "metadata": {},
   "outputs": [
    {
     "name": "stdout",
     "output_type": "stream",
     "text": [
      "40.7359999055\n"
     ]
    }
   ],
   "source": [
    "#notice how the observed average rate is almost equal to lambda_\n",
    "print(T.mean())"
   ]
  },
  {
   "cell_type": "code",
   "execution_count": 205,
   "metadata": {},
   "outputs": [],
   "source": [
    "#we sampled waiting times, the corresponding time serie is:\n",
    "Ts = np.cumsum(T)"
   ]
  },
  {
   "cell_type": "code",
   "execution_count": 236,
   "metadata": {
    "collapsed": true
   },
   "outputs": [],
   "source": [
    "events = np.repeat('A', N)"
   ]
  },
  {
   "cell_type": "code",
   "execution_count": 247,
   "metadata": {},
   "outputs": [],
   "source": [
    "sampled_data = pd.DataFrame(data={'time': Ts, 'event': events})"
   ]
  },
  {
   "cell_type": "markdown",
   "metadata": {},
   "source": [
    "# Sampling from Poisson Nets"
   ]
  },
  {
   "cell_type": "markdown",
   "metadata": {},
   "source": [
    "![alt text](./PoissonNets_examples.PNG)"
   ]
  },
  {
   "cell_type": "markdown",
   "metadata": {},
   "source": [
    "## a. Sampling from a Single Node Poisson Nets"
   ]
  },
  {
   "cell_type": "markdown",
   "metadata": {},
   "source": [
    "### Model description"
   ]
  },
  {
   "cell_type": "code",
   "execution_count": 264,
   "metadata": {
    "scrolled": true
   },
   "outputs": [
    {
     "data": {
      "text/latex": [
       "\\begin{align}\n",
       "nodes = A \\\\\n",
       "w_{A,0} = \\frac{1}{40} \\\\\n",
       "\\lambda_{A}(t) = exp(w_{A,0}) = exp(\\frac{1}{40}) \\\\\n",
       "\\end{align}"
      ],
      "text/plain": [
       "<IPython.core.display.Latex object>"
      ]
     },
     "metadata": {},
     "output_type": "display_data"
    }
   ],
   "source": [
    "%%latex\n",
    "\\begin{align}\n",
    "nodes = A \\\\\n",
    "w_{A,0} = \\frac{1}{40} \\\\\n",
    "\\lambda_{A}(t) = exp(w_{A,0}) = exp(\\frac{1}{40}) \\\\\n",
    "\\end{align}"
   ]
  },
  {
   "cell_type": "code",
   "execution_count": 391,
   "metadata": {},
   "outputs": [],
   "source": [
    "W0 = 1/40\n",
    "lambda_ = np.exp(W0)\n",
    "time_serie_length = 100"
   ]
  },
  {
   "cell_type": "markdown",
   "metadata": {},
   "source": [
    "The waiting times between two adjecents events are iid and distributed exponentially with rate lambda"
   ]
  },
  {
   "cell_type": "code",
   "execution_count": 403,
   "metadata": {},
   "outputs": [
    {
     "data": {
      "text/plain": [
       "1.0253151205244289"
      ]
     },
     "execution_count": 403,
     "metadata": {},
     "output_type": "execute_result"
    }
   ],
   "source": [
    "lambda_"
   ]
  },
  {
   "cell_type": "code",
   "execution_count": 452,
   "metadata": {
    "collapsed": true
   },
   "outputs": [],
   "source": [
    "def sample_from_poisson(lambda_, N):\n",
    "    Y = np.random.uniform(size=N)\n",
    "    X_waitingTimes = -np.log(1-Y) / lambda_\n",
    "    Time_serie = np.cumsum(X_waitingTimes)\n",
    "    return Time_serie, X_waitingTimes, Y"
   ]
  },
  {
   "cell_type": "code",
   "execution_count": 456,
   "metadata": {},
   "outputs": [],
   "source": [
    "A_time_serie, waiting_times, probs = sample_from_poisson(lambda_, 100)"
   ]
  },
  {
   "cell_type": "code",
   "execution_count": 458,
   "metadata": {
    "scrolled": true
   },
   "outputs": [
    {
     "data": {
      "text/plain": [
       "array([   1.52049252,    2.48906064,    3.36438648,    4.96517294,\n",
       "          5.30945603,    5.46890582,    6.41612751,    7.41798703,\n",
       "         10.28345217,   12.01170362,   12.15196162,   13.03132223,\n",
       "         14.49105345,   15.34328662,   15.5350295 ,   16.15938638,\n",
       "         16.66537109,   17.46448481,   18.422718  ,   21.42655134,\n",
       "         22.63476184,   23.96148939,   25.55272795,   25.72174189,\n",
       "         25.74684359,   27.54494793,   32.41949314,   33.5504318 ,\n",
       "         34.3105335 ,   34.79942266,   36.27801627,   38.07045539,\n",
       "         38.21086502,   38.45708312,   39.02655181,   39.13605995,\n",
       "         39.57196233,   39.96434309,   40.98828783,   42.76965313,\n",
       "         42.77461085,   44.92654893,   48.90822658,   49.74931345,\n",
       "         49.9484575 ,   50.37898765,   50.59471224,   51.15221824,\n",
       "         53.64408755,   54.5616974 ,   56.55444174,   56.98743287,\n",
       "         57.44006091,   57.86622531,   58.23348297,   58.97204661,\n",
       "         61.39493171,   62.11690058,   62.60187262,   66.04594247,\n",
       "         66.32115855,   66.91287475,   68.2263836 ,   70.13870616,\n",
       "         70.31302915,   70.46772983,   70.86683566,   70.99013456,\n",
       "         72.80130717,   73.07594013,   73.30831155,   75.36011757,\n",
       "         75.94504072,   76.51200206,   76.5140729 ,   77.04701739,\n",
       "         77.94414786,   78.75349295,   78.85230511,   79.71880728,\n",
       "         80.52475228,   81.09938628,   84.82524646,   85.57180242,\n",
       "         86.59338794,   87.06803114,   87.4068558 ,   89.08620782,\n",
       "         90.16577713,   90.33105464,   90.88581049,   91.02526079,\n",
       "         94.77255267,   95.45254391,   96.90250593,   98.36895611,\n",
       "         99.41722447,  101.13179904,  102.55479285,  102.59107887])"
      ]
     },
     "execution_count": 458,
     "metadata": {},
     "output_type": "execute_result"
    }
   ],
   "source": [
    "#sampled data\n",
    "A_time_serie"
   ]
  },
  {
   "cell_type": "markdown",
   "metadata": {},
   "source": [
    "## Likelihood"
   ]
  },
  {
   "cell_type": "code",
   "execution_count": 504,
   "metadata": {},
   "outputs": [
    {
     "data": {
      "text/latex": [
       "\\begin{align}\n",
       "\\text{general formula:} \\space\n",
       "\\mathcal{L}(\\textbf{W}, M \\mid T) = p(T \\mid W, M) = \\prod_{i=1}^{V} p(\\textbf{t}_i \\mid \\{ \\textbf{t}_j \\mid j \\in \\pi(i)\\})\n",
       "\\end{align}"
      ],
      "text/plain": [
       "<IPython.core.display.Latex object>"
      ]
     },
     "metadata": {},
     "output_type": "display_data"
    }
   ],
   "source": [
    "%%latex\n",
    "\\begin{align}\n",
    "\\text{general formula:} \\space\n",
    "\\mathcal{L}(\\textbf{W}, M \\mid T) = p(T \\mid W, M) = \\prod_{i=1}^{V} p(\\textbf{t}_i \\mid \\{ \\textbf{t}_j \\mid j \\in \\pi(i)\\})\n",
    "\\end{align}"
   ]
  },
  {
   "cell_type": "code",
   "execution_count": 559,
   "metadata": {},
   "outputs": [
    {
     "data": {
      "text/latex": [
       "\\begin{align}\n",
       "\\text{general formula:} \\space\n",
       "\\mathcal{L}(W_{A,0}, {A} \\mid Sampled Data) = p(\\textbf{t}_A) \\\\\n",
       "= \\prod_{l=1}^{100} p(t_{l} \\mid t_{l-1}, W_{A,0}, M) \\\\\n",
       "= \\prod_{l=1}^{100} \\lambda_{l, 1} \\times exp(-\\lambda_{l, 1} \\tau_{l, 1}) \\\\\n",
       "\\tau_{l, 1} = t_{l} - t_{l-1}, \\space (k{_l} = 0) \\\\\n",
       "\\lambda_{l, 1} = exp(W_{A, 0}), \\space \\pi(A) = \\emptyset \\\\\n",
       "\\Rightarrow \\mathcal{L}(W_{A,0}, {A} \\mid Sampled Data) = exp(W_{A, 0})^{100} \\times exp(-\\lambda_{l, 1} \\times (t_1 - t_{100}))\n",
       "\\end{align}"
      ],
      "text/plain": [
       "<IPython.core.display.Latex object>"
      ]
     },
     "metadata": {},
     "output_type": "display_data"
    }
   ],
   "source": [
    "%%latex\n",
    "\\begin{align}\n",
    "\\text{general formula:} \\space\n",
    "\\mathcal{L}(W_{A,0}, {A} \\mid Sampled Data) = p(\\textbf{t}_A) \\\\\n",
    "= \\prod_{l=1}^{100} p(t_{l} \\mid t_{l-1}, W_{A,0}, M) \\\\\n",
    "= \\prod_{l=1}^{100} \\lambda_{l, 1} \\times exp(-\\lambda_{l, 1} \\tau_{l, 1}) \\\\\n",
    "\\tau_{l, 1} = t_{l} - t_{l-1}, \\space (k{_l} = 0) \\\\\n",
    "\\lambda_{l, 1} = exp(W_{A, 0}), \\space \\pi(A) = \\emptyset \\\\\n",
    "\\Rightarrow \\mathcal{L}(W_{A,0}, {A} \\mid Sampled Data) = exp(W_{A, 0})^{100} \\times exp(-\\lambda_{l, 1} \\times (t_1 - t_{100}))\n",
    "\\end{align}"
   ]
  },
  {
   "cell_type": "code",
   "execution_count": 571,
   "metadata": {},
   "outputs": [],
   "source": [
    "L = (lambda_ ** 100) * np.exp(-lambda_ * (A_time_serie[99] - A_time_serie[0]))"
   ]
  },
  {
   "cell_type": "code",
   "execution_count": 572,
   "metadata": {},
   "outputs": [
    {
     "data": {
      "text/plain": [
       "1.2026694871619545e-44"
      ]
     },
     "execution_count": 572,
     "metadata": {},
     "output_type": "execute_result"
    }
   ],
   "source": [
    "L"
   ]
  },
  {
   "cell_type": "markdown",
   "metadata": {},
   "source": [
    "**likelihood is very smal ~ 0, which is not normale.**"
   ]
  }
 ],
 "metadata": {
  "kernelspec": {
   "display_name": "Python 3",
   "language": "python",
   "name": "python3"
  },
  "language_info": {
   "codemirror_mode": {
    "name": "ipython",
    "version": 3
   },
   "file_extension": ".py",
   "mimetype": "text/x-python",
   "name": "python",
   "nbconvert_exporter": "python",
   "pygments_lexer": "ipython3",
   "version": "3.6.3"
  }
 },
 "nbformat": 4,
 "nbformat_minor": 2
}
